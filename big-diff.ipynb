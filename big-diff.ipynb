{
 "cells": [
  {
   "cell_type": "code",
   "execution_count": null,
   "id": "df8fc973",
   "metadata": {},
   "outputs": [],
   "source": [
    "# Given an array length 1 or more of ints, \\n\",\n",
    "# return the difference between the largest and smallest \\n\",\n",
    "# values in the array. Note: the built-in min(v1, v2) \\n\",\n",
    "# and max(v1, v2) functions return the smaller or larger of two values.\\n\",\n",
    "\n",
    "# big_diff([10, 3, 5, 6]) → 7\n",
    "# big_diff([7, 2, 10, 9]) → 8\n",
    "# big_diff([2, 10, 7, 2]) → 8"
   ]
  },
  {
   "cell_type": "code",
   "execution_count": 5,
   "id": "04c225dd",
   "metadata": {},
   "outputs": [],
   "source": [
    "def big_diff(nums):\n",
    "    diff_array = nums\n",
    "    print(diff_array)\n",
    "    print(sorted(diff_array))\n",
    "    smallest_num = (min(diff_array))\n",
    "    largest_num = (max(diff_array))\n",
    "    \n",
    "    return(largest_num - smallest_num)"
   ]
  },
  {
   "cell_type": "code",
   "execution_count": 6,
   "id": "d2f27fb6",
   "metadata": {},
   "outputs": [
    {
     "name": "stdout",
     "output_type": "stream",
     "text": [
      "[10, 3, 5, 6]\n",
      "[3, 5, 6, 10]\n"
     ]
    },
    {
     "data": {
      "text/plain": [
       "7"
      ]
     },
     "execution_count": 6,
     "metadata": {},
     "output_type": "execute_result"
    }
   ],
   "source": [
    "big_diff([10, 3, 5, 6])"
   ]
  },
  {
   "cell_type": "code",
   "execution_count": 7,
   "id": "852e4e08",
   "metadata": {},
   "outputs": [
    {
     "name": "stdout",
     "output_type": "stream",
     "text": [
      "[7, 2, 10, 9]\n",
      "[2, 7, 9, 10]\n"
     ]
    },
    {
     "data": {
      "text/plain": [
       "8"
      ]
     },
     "execution_count": 7,
     "metadata": {},
     "output_type": "execute_result"
    }
   ],
   "source": [
    "big_diff([7, 2, 10, 9])"
   ]
  },
  {
   "cell_type": "code",
   "execution_count": 8,
   "id": "ecadec8a",
   "metadata": {},
   "outputs": [
    {
     "name": "stdout",
     "output_type": "stream",
     "text": [
      "[2, 10, 7, 2]\n",
      "[2, 2, 7, 10]\n"
     ]
    },
    {
     "data": {
      "text/plain": [
       "8"
      ]
     },
     "execution_count": 8,
     "metadata": {},
     "output_type": "execute_result"
    }
   ],
   "source": [
    "big_diff([2, 10, 7, 2])"
   ]
  },
  {
   "cell_type": "code",
   "execution_count": null,
   "id": "bd98e41f",
   "metadata": {},
   "outputs": [],
   "source": []
  }
 ],
 "metadata": {
  "kernelspec": {
   "display_name": "Python 3",
   "language": "python",
   "name": "python3"
  },
  "language_info": {
   "codemirror_mode": {
    "name": "ipython",
    "version": 3
   },
   "file_extension": ".py",
   "mimetype": "text/x-python",
   "name": "python",
   "nbconvert_exporter": "python",
   "pygments_lexer": "ipython3",
   "version": "3.8.8"
  }
 },
 "nbformat": 4,
 "nbformat_minor": 5
}

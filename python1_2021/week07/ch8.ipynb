{
 "cells": [
  {
   "cell_type": "code",
   "execution_count": 13,
   "id": "061d1919",
   "metadata": {},
   "outputs": [],
   "source": [
    "class Point:\n",
    "    'class that represents a point in the plane'\n",
    "\n",
    "#    Added in section 8.2\n",
    "#    def __init__(self, xcoord=0, ycoord=0):\n",
    "#        'initialize point coordinates to (xcoord, ycoord)'\n",
    "#        self.x = xcoord\n",
    "#        self.y = ycoord\n",
    "\n",
    "    def setx(self, xcoord):\n",
    "        'set x coordinate of point to xcoord'\n",
    "        self.x = xcoord\n",
    "\n",
    "    def sety(self, ycoord):\n",
    "        'set y coordinate of point to ycoord'\n",
    "        self.y = ycoord\n",
    "\n",
    "    def get(self):\n",
    "        'return a tuple with x and y coordinates of the point'\n",
    "        return (self.x, self.y)\n",
    "    \n",
    "    # practice problem 8.1, p.243\n",
    "    def getx(self):\n",
    "        # get the x coordinate\n",
    "        return (self.x)\n",
    "\n",
    "    def move(self, dx, dy):\n",
    "        'change the x and y coordinates by dx and dy'\n",
    "        self.x += dx\n",
    "        self.y += dy"
   ]
  },
  {
   "cell_type": "code",
   "execution_count": 14,
   "id": "7a729453",
   "metadata": {},
   "outputs": [],
   "source": [
    "a = Point()"
   ]
  },
  {
   "cell_type": "code",
   "execution_count": 15,
   "id": "f4a79365",
   "metadata": {},
   "outputs": [],
   "source": [
    "a.setx(3)\n",
    "a.sety(4)"
   ]
  },
  {
   "cell_type": "code",
   "execution_count": 16,
   "id": "cc43d385",
   "metadata": {},
   "outputs": [
    {
     "data": {
      "text/plain": [
       "(3, 4)"
      ]
     },
     "execution_count": 16,
     "metadata": {},
     "output_type": "execute_result"
    }
   ],
   "source": [
    "a.get()"
   ]
  },
  {
   "cell_type": "code",
   "execution_count": 17,
   "id": "e37258ba",
   "metadata": {},
   "outputs": [
    {
     "data": {
      "text/plain": [
       "3"
      ]
     },
     "execution_count": 17,
     "metadata": {},
     "output_type": "execute_result"
    }
   ],
   "source": [
    "a.getx()"
   ]
  },
  {
   "cell_type": "code",
   "execution_count": 18,
   "id": "d1a9d10c",
   "metadata": {},
   "outputs": [],
   "source": [
    "class Test:\n",
    "    version = 1.02"
   ]
  },
  {
   "cell_type": "code",
   "execution_count": 19,
   "id": "34fda502",
   "metadata": {},
   "outputs": [],
   "source": [
    "a = Test()\n",
    "b = Test()"
   ]
  },
  {
   "cell_type": "code",
   "execution_count": 20,
   "id": "f21758a1",
   "metadata": {},
   "outputs": [
    {
     "data": {
      "text/plain": [
       "1.02"
      ]
     },
     "execution_count": 20,
     "metadata": {},
     "output_type": "execute_result"
    }
   ],
   "source": [
    "Test.version"
   ]
  },
  {
   "cell_type": "code",
   "execution_count": 21,
   "id": "e6285411",
   "metadata": {},
   "outputs": [
    {
     "data": {
      "text/plain": [
       "1.02"
      ]
     },
     "execution_count": 21,
     "metadata": {},
     "output_type": "execute_result"
    }
   ],
   "source": [
    "a.version"
   ]
  },
  {
   "cell_type": "code",
   "execution_count": 22,
   "id": "43f3545a",
   "metadata": {},
   "outputs": [
    {
     "data": {
      "text/plain": [
       "1.02"
      ]
     },
     "execution_count": 22,
     "metadata": {},
     "output_type": "execute_result"
    }
   ],
   "source": [
    "b.version"
   ]
  },
  {
   "cell_type": "code",
   "execution_count": 23,
   "id": "f01c0bc9",
   "metadata": {},
   "outputs": [],
   "source": [
    "Test.version = 1.03"
   ]
  },
  {
   "cell_type": "code",
   "execution_count": 24,
   "id": "aa015263",
   "metadata": {},
   "outputs": [
    {
     "data": {
      "text/plain": [
       "1.03"
      ]
     },
     "execution_count": 24,
     "metadata": {},
     "output_type": "execute_result"
    }
   ],
   "source": [
    "a.version"
   ]
  },
  {
   "cell_type": "code",
   "execution_count": 25,
   "id": "b437151a",
   "metadata": {},
   "outputs": [],
   "source": [
    "a.version = 'Latest!!'"
   ]
  },
  {
   "cell_type": "code",
   "execution_count": 26,
   "id": "7a810f59",
   "metadata": {},
   "outputs": [
    {
     "data": {
      "text/plain": [
       "'Latest!!'"
      ]
     },
     "execution_count": 26,
     "metadata": {},
     "output_type": "execute_result"
    }
   ],
   "source": [
    "a.version"
   ]
  },
  {
   "cell_type": "code",
   "execution_count": 27,
   "id": "5bd89c23",
   "metadata": {},
   "outputs": [
    {
     "data": {
      "text/plain": [
       "1.03"
      ]
     },
     "execution_count": 27,
     "metadata": {},
     "output_type": "execute_result"
    }
   ],
   "source": [
    "b.version"
   ]
  },
  {
   "cell_type": "code",
   "execution_count": 28,
   "id": "06b8587d",
   "metadata": {},
   "outputs": [
    {
     "data": {
      "text/plain": [
       "1.03"
      ]
     },
     "execution_count": 28,
     "metadata": {},
     "output_type": "execute_result"
    }
   ],
   "source": [
    "b.version"
   ]
  },
  {
   "cell_type": "code",
   "execution_count": 29,
   "id": "46dc514c",
   "metadata": {},
   "outputs": [
    {
     "data": {
      "text/plain": [
       "'Latest!!'"
      ]
     },
     "execution_count": 29,
     "metadata": {},
     "output_type": "execute_result"
    }
   ],
   "source": [
    "a.version"
   ]
  },
  {
   "cell_type": "code",
   "execution_count": 30,
   "id": "59e24bdc",
   "metadata": {},
   "outputs": [],
   "source": [
    "#help(Point)"
   ]
  },
  {
   "cell_type": "code",
   "execution_count": 31,
   "id": "7447336c",
   "metadata": {},
   "outputs": [],
   "source": [
    "class Animal:\n",
    "    'represents an animal'\n",
    "\n",
    "#    Solution to Practice Problem 8.4\n",
    "#    def __init__(self, species='animal', language='make sounds'):\n",
    "#        self.spec = species\n",
    "#        self.lang = language\n",
    "\n",
    "    def setSpecies(self, species):\n",
    "        'sets the animal species'\n",
    "        self.spec = species\n",
    "\n",
    "    def setLanguage(self, language):\n",
    "        'sets the animal language'\n",
    "        self.lang = language\n",
    "\n",
    "    def speak(self):\n",
    "        'prints a sentence by the animal'\n",
    "        print('I am a {} and I {}.'.format(self.spec, self.lang))\n",
    "        "
   ]
  },
  {
   "cell_type": "code",
   "execution_count": 32,
   "id": "0a1b2b33",
   "metadata": {},
   "outputs": [],
   "source": [
    "#help(Animal)"
   ]
  },
  {
   "cell_type": "code",
   "execution_count": 60,
   "id": "ebc2af11",
   "metadata": {},
   "outputs": [],
   "source": [
    "class Rectangle:\n",
    "    ' class that represents rectangles'\n",
    "    def __init__(self, width, length):\n",
    "        self.width = width\n",
    "        self.length = length\n",
    "    def setSize(self, width, length):\n",
    "        'constructor set width and length'\n",
    "        self.width = width\n",
    "        self.length = length\n",
    "    def getSize(self):\n",
    "        return self.width, self.length\n",
    "    def perimeter(self):\n",
    "        ' returns perimeter of the rectangle '\n",
    "        return 2*(self.width + self.length) \n",
    "    def area(self):\n",
    "        ' returns area of a rectangle'\n",
    "        return self.width * self.length "
   ]
  },
  {
   "cell_type": "code",
   "execution_count": 61,
   "id": "22418e8b",
   "metadata": {},
   "outputs": [
    {
     "ename": "TypeError",
     "evalue": "Rectangle() takes no arguments",
     "output_type": "error",
     "traceback": [
      "\u001b[1;31m---------------------------------------------------------------------------\u001b[0m",
      "\u001b[1;31mTypeError\u001b[0m                                 Traceback (most recent call last)",
      "\u001b[1;32m<ipython-input-61-7626e4cc0147>\u001b[0m in \u001b[0;36m<module>\u001b[1;34m\u001b[0m\n\u001b[1;32m----> 1\u001b[1;33m \u001b[0mfoo\u001b[0m \u001b[1;33m=\u001b[0m \u001b[0mRectangle\u001b[0m\u001b[1;33m(\u001b[0m\u001b[1;36m3\u001b[0m\u001b[1;33m,\u001b[0m\u001b[1;36m4\u001b[0m\u001b[1;33m)\u001b[0m\u001b[1;33m\u001b[0m\u001b[1;33m\u001b[0m\u001b[0m\n\u001b[0m\u001b[0;32m      2\u001b[0m \u001b[0mprint\u001b[0m\u001b[1;33m(\u001b[0m\u001b[0mfoo\u001b[0m\u001b[1;33m)\u001b[0m\u001b[1;33m\u001b[0m\u001b[1;33m\u001b[0m\u001b[0m\n",
      "\u001b[1;31mTypeError\u001b[0m: Rectangle() takes no arguments"
     ]
    }
   ],
   "source": [
    "foo = Rectangle(3,4)\n",
    "print(foo)"
   ]
  },
  {
   "cell_type": "raw",
   "id": "aa8c4cc5",
   "metadata": {},
   "source": [
    "foo.setSize(3,4)"
   ]
  },
  {
   "cell_type": "code",
   "execution_count": 62,
   "id": "15cfc569",
   "metadata": {},
   "outputs": [
    {
     "data": {
      "text/plain": [
       "14"
      ]
     },
     "execution_count": 62,
     "metadata": {},
     "output_type": "execute_result"
    }
   ],
   "source": [
    "foo.perimeter()"
   ]
  },
  {
   "cell_type": "code",
   "execution_count": 63,
   "id": "3dea613f",
   "metadata": {},
   "outputs": [
    {
     "data": {
      "text/plain": [
       "(3, 4)"
      ]
     },
     "execution_count": 63,
     "metadata": {},
     "output_type": "execute_result"
    }
   ],
   "source": [
    "foo.getSize()"
   ]
  },
  {
   "cell_type": "code",
   "execution_count": 76,
   "id": "e8270eca",
   "metadata": {},
   "outputs": [
    {
     "name": "stdout",
     "output_type": "stream",
     "text": [
      "silver\n",
      "gray\n"
     ]
    }
   ],
   "source": [
    "class Vehicle:\n",
    "    'Represents a drive-able vehicle'\n",
    "\n",
    "    def __init__(self, color, wheels, make, model):\n",
    "        'initializes the vehicle, the color, number of wheels, make, and model'\n",
    "        self.color = color\n",
    "        self.wheels = wheels\n",
    "        self.make = make\n",
    "        self.model = model\n",
    "\n",
    "    def getcolor(self):\n",
    "        'returns the color of the vehicle'\n",
    "        return self.color\n",
    "\n",
    "    def setcolor(self, color):\n",
    "        'sets the vehicle color'\n",
    "        self.color = color     ## we need to refer to self.color to actually set the color\n",
    "\n",
    "    def getmake(self):\n",
    "        'returns the make of the vehicle'\n",
    "        return self.make\n",
    "\n",
    "    def getmodel(self):\n",
    "        'returns the model of the vehicle'\n",
    "        return self.model\n",
    "\n",
    "firstCar = Vehicle('silver',4,'Toyota','Corolla')\n",
    "newCar = Vehicle('black',4,'Honda','Accord')\n",
    "\n",
    "print(firstCar.getcolor())\n",
    "firstCar.setcolor('gray')\n",
    "print(firstCar.getcolor())"
   ]
  },
  {
   "cell_type": "code",
   "execution_count": 77,
   "id": "16f69cc0",
   "metadata": {},
   "outputs": [
    {
     "data": {
      "text/plain": [
       "'black'"
      ]
     },
     "execution_count": 77,
     "metadata": {},
     "output_type": "execute_result"
    }
   ],
   "source": [
    "newCar.getcolor()"
   ]
  },
  {
   "cell_type": "code",
   "execution_count": 80,
   "id": "f949bd9a",
   "metadata": {},
   "outputs": [],
   "source": [
    "newCar.setcolor(firstCar.getcolor())"
   ]
  },
  {
   "cell_type": "code",
   "execution_count": 81,
   "id": "5369ac99",
   "metadata": {},
   "outputs": [
    {
     "data": {
      "text/plain": [
       "'gray'"
      ]
     },
     "execution_count": 81,
     "metadata": {},
     "output_type": "execute_result"
    }
   ],
   "source": [
    "newCar.getcolor()"
   ]
  },
  {
   "cell_type": "code",
   "execution_count": null,
   "id": "af82cecf",
   "metadata": {},
   "outputs": [],
   "source": []
  }
 ],
 "metadata": {
  "kernelspec": {
   "display_name": "Python 3",
   "language": "python",
   "name": "python3"
  },
  "language_info": {
   "codemirror_mode": {
    "name": "ipython",
    "version": 3
   },
   "file_extension": ".py",
   "mimetype": "text/x-python",
   "name": "python",
   "nbconvert_exporter": "python",
   "pygments_lexer": "ipython3",
   "version": "3.8.8"
  }
 },
 "nbformat": 4,
 "nbformat_minor": 5
}

{
 "cells": [
  {
   "cell_type": "code",
   "execution_count": null,
   "id": "98eead39",
   "metadata": {},
   "outputs": [],
   "source": [
    "import sys, traceback"
   ]
  },
  {
   "cell_type": "code",
   "execution_count": null,
   "id": "b6b888f7",
   "metadata": {},
   "outputs": [],
   "source": [
    "# p. 205   module ch7.py\n",
    "def double(y):\n",
    "    x = 2\n",
    "    print('x = {}, y = {}'.format(x,y))\n",
    "    return x*y"
   ]
  },
  {
   "cell_type": "code",
   "execution_count": null,
   "id": "f89b1857",
   "metadata": {},
   "outputs": [],
   "source": [
    "res = double(3)"
   ]
  },
  {
   "cell_type": "code",
   "execution_count": null,
   "id": "82c31bfd",
   "metadata": {},
   "outputs": [],
   "source": [
    "traceback"
   ]
  },
  {
   "cell_type": "code",
   "execution_count": null,
   "id": "840a5210",
   "metadata": {},
   "outputs": [],
   "source": [
    "x"
   ]
  },
  {
   "cell_type": "code",
   "execution_count": null,
   "id": "f82b54e9",
   "metadata": {},
   "outputs": [],
   "source": [
    "y"
   ]
  },
  {
   "cell_type": "code",
   "execution_count": null,
   "id": "86d03706",
   "metadata": {},
   "outputs": [],
   "source": [
    "# practice problem 1\n",
    "def f(y):\n",
    "    x = 2\n",
    "    print('In f(): x = {}, y = {}'.format(x,y))\n",
    "    g(3)\n",
    "    print('In f(): x = {}, y = {}'.format(x,y))\n",
    "\n",
    "def g(y):\n",
    "    x = 4\n",
    "    print('In g(): x = {}, y = {}'.format(x,y))"
   ]
  },
  {
   "cell_type": "code",
   "execution_count": null,
   "id": "e90b17cc",
   "metadata": {},
   "outputs": [],
   "source": [
    "f(1)"
   ]
  },
  {
   "cell_type": "code",
   "execution_count": null,
   "id": "34fc311c",
   "metadata": {},
   "outputs": [],
   "source": [
    "x = 10\n",
    "y = 20\n",
    "z = 30\n",
    "def calcVar(x):\n",
    "    y = 100\n",
    "    return x * y * z\n",
    "newVar = calcVar(4)"
   ]
  },
  {
   "cell_type": "code",
   "execution_count": null,
   "id": "02d69c4b",
   "metadata": {},
   "outputs": [],
   "source": [
    "newVar"
   ]
  },
  {
   "cell_type": "code",
   "execution_count": null,
   "id": "5bcc014e",
   "metadata": {},
   "outputs": [],
   "source": [
    "4*100*30"
   ]
  },
  {
   "cell_type": "code",
   "execution_count": null,
   "id": "d364a10c",
   "metadata": {},
   "outputs": [],
   "source": [
    "##### Space 1 #####\n",
    "# x = \"apple\" i\n",
    "x = \"orange\"\n",
    "def outx():\n",
    "    ##### Space 2 #####\n",
    "    print(x)\n",
    "    ##### Space 3 #####\n",
    "##### Space 4 #####\n",
    "outx()\n",
    "##### Space 5 #####"
   ]
  },
  {
   "cell_type": "code",
   "execution_count": null,
   "id": "ac8f698b",
   "metadata": {},
   "outputs": [],
   "source": [
    "def h(x):\n",
    "    print(\"Output 1 \", x)\n",
    "\n",
    "def g(x):\n",
    "    h(x-5)\n",
    "    print(\"Output 2\", x)\n",
    "\n",
    "def f(x):\n",
    "    g(x*2)\n",
    "    print(\"Output 3\", x)\n",
    "    return x%3\n",
    "\n",
    "x = f(7)\n",
    "print(\"Output 4\", x)"
   ]
  },
  {
   "cell_type": "code",
   "execution_count": null,
   "id": "88656b5f",
   "metadata": {},
   "outputs": [],
   "source": [
    "# practice problem 7.2,  p. 215\n",
    "def f(y):\n",
    "    x = 2\n",
    "    return g(x)\n",
    "\n",
    "def g(y):\n",
    "    global x\n",
    "    x = 4\n",
    "    return x*y\n",
    "\n",
    "x = 0\n",
    "res = f(x)\n",
    "print('x = {}, f(0) = {}'.format(x, res))"
   ]
  },
  {
   "cell_type": "code",
   "execution_count": null,
   "id": "c4cafc7e",
   "metadata": {},
   "outputs": [],
   "source": [
    "x = 4\n",
    "y = 10\n",
    "def myfun():\n",
    "    global y\n",
    "    x = 5\n",
    "    y = 21\n",
    "    print(x, y, end = \" \")\n",
    "myfun()\n",
    "print(x, y)"
   ]
  },
  {
   "cell_type": "code",
   "execution_count": null,
   "id": "de1cc317",
   "metadata": {},
   "outputs": [],
   "source": [
    "def yourFun():\n",
    "    pass\n",
    "\n",
    "def herFun():\n",
    "    pass\n",
    "\n",
    "def myFun():\n",
    "    def yourFun():\n",
    "        print('Hello')\n",
    "        def hisFun():\n",
    "            print(\"oops\")\n",
    "    def noFun():\n",
    "        pass\n",
    "    print('Bye')\n",
    "\n",
    "##### Call function here #####\n",
    "print('End')"
   ]
  },
  {
   "cell_type": "code",
   "execution_count": null,
   "id": "6c78fa03",
   "metadata": {},
   "outputs": [],
   "source": [
    "x = 1\n",
    "def outFun():\n",
    "    global x\n",
    "    x = 2\n",
    "    def inFun():\n",
    "        global x\n",
    "        x = 3\n",
    "    inFun()\n",
    "outFun()"
   ]
  },
  {
   "cell_type": "code",
   "execution_count": null,
   "id": "6665802c",
   "metadata": {},
   "outputs": [],
   "source": [
    "x"
   ]
  },
  {
   "cell_type": "code",
   "execution_count": 14,
   "id": "30be74ce",
   "metadata": {},
   "outputs": [
    {
     "name": "stdout",
     "output_type": "stream",
     "text": [
      "Outside functions x is 1\n"
     ]
    },
    {
     "ename": "SyntaxError",
     "evalue": "no binding for nonlocal 'x' found (<ipython-input-14-472df14bb8f6>, line 8)",
     "output_type": "error",
     "traceback": [
      "\u001b[1;36m  File \u001b[1;32m\"<ipython-input-14-472df14bb8f6>\"\u001b[1;36m, line \u001b[1;32m8\u001b[0m\n\u001b[1;33m    nonlocal x\u001b[0m\n\u001b[1;37m    ^\u001b[0m\n\u001b[1;31mSyntaxError\u001b[0m\u001b[1;31m:\u001b[0m no binding for nonlocal 'x' found\n"
     ]
    }
   ],
   "source": [
    "x = 1\n",
    "print(\"Outside functions x is\",x)\n",
    "def outFun():\n",
    "    global x\n",
    "    x = 2\n",
    "    print(\"outFun() x is\", x)\n",
    "    def inFun():\n",
    "        nonlocal x\n",
    "        x = 3\n",
    "        print(\"inFun() x is\",x)\n",
    "    inFun()\n",
    "    print(\"outFun() x is NOW\", x)\n",
    "outFun()\n",
    "print(\"global x is STILL\", x)"
   ]
  },
  {
   "cell_type": "code",
   "execution_count": 15,
   "id": "b5fd76ea",
   "metadata": {},
   "outputs": [
    {
     "ename": "NameError",
     "evalue": "name 'w' is not defined",
     "output_type": "error",
     "traceback": [
      "\u001b[1;31m---------------------------------------------------------------------------\u001b[0m",
      "\u001b[1;31mNameError\u001b[0m                                 Traceback (most recent call last)",
      "\u001b[1;32m<ipython-input-15-14c777ce302b>\u001b[0m in \u001b[0;36m<module>\u001b[1;34m\u001b[0m\n\u001b[0;32m      8\u001b[0m \u001b[1;33m\u001b[0m\u001b[0m\n\u001b[0;32m      9\u001b[0m \u001b[1;31m##### print variables here #####\u001b[0m\u001b[1;33m\u001b[0m\u001b[1;33m\u001b[0m\u001b[1;33m\u001b[0m\u001b[0m\n\u001b[1;32m---> 10\u001b[1;33m \u001b[0mw\u001b[0m\u001b[1;33m\u001b[0m\u001b[1;33m\u001b[0m\u001b[0m\n\u001b[0m",
      "\u001b[1;31mNameError\u001b[0m: name 'w' is not defined"
     ]
    }
   ],
   "source": [
    "x = 1\n",
    "def outFun(y):\n",
    "    z = 3\n",
    "    def inFun(v):\n",
    "        w = 5\n",
    "    inFun(2)\n",
    "outFun(4)\n",
    "\n",
    "##### print variables here #####\n",
    "w"
   ]
  },
  {
   "cell_type": "code",
   "execution_count": null,
   "id": "036ad190",
   "metadata": {},
   "outputs": [],
   "source": [
    "import math"
   ]
  },
  {
   "cell_type": "code",
   "execution_count": null,
   "id": "fdaef2ee",
   "metadata": {},
   "outputs": [],
   "source": [
    "#dir(math)"
   ]
  },
  {
   "cell_type": "code",
   "execution_count": null,
   "id": "bd345974",
   "metadata": {},
   "outputs": [],
   "source": [
    "math.pi"
   ]
  },
  {
   "cell_type": "code",
   "execution_count": null,
   "id": "c3a2ecd5",
   "metadata": {},
   "outputs": [],
   "source": [
    "import sys"
   ]
  },
  {
   "cell_type": "code",
   "execution_count": null,
   "id": "bb84c528",
   "metadata": {},
   "outputs": [],
   "source": [
    "sys.path"
   ]
  },
  {
   "cell_type": "code",
   "execution_count": null,
   "id": "43e8363f",
   "metadata": {},
   "outputs": [],
   "source": [
    "#dir()"
   ]
  },
  {
   "cell_type": "code",
   "execution_count": null,
   "id": "51531b10",
   "metadata": {},
   "outputs": [],
   "source": [
    "# example module\n",
    "def f():\n",
    "    'function f'\n",
    "    print('Executing f()')\n",
    "    \n",
    "def g():\n",
    "    'function g'\n",
    "    print('Executing g()')\n",
    "\n",
    "x = 0 # global var"
   ]
  },
  {
   "cell_type": "code",
   "execution_count": 16,
   "id": "6444efef",
   "metadata": {},
   "outputs": [
    {
     "data": {
      "text/plain": [
       "['In',\n",
       " 'Out',\n",
       " '_',\n",
       " '_10',\n",
       " '_11',\n",
       " '_12',\n",
       " '_13',\n",
       " '_2',\n",
       " '_5',\n",
       " '_6',\n",
       " '_8',\n",
       " '__',\n",
       " '___',\n",
       " '__builtin__',\n",
       " '__builtins__',\n",
       " '__doc__',\n",
       " '__loader__',\n",
       " '__name__',\n",
       " '__package__',\n",
       " '__spec__',\n",
       " '_dh',\n",
       " '_i',\n",
       " '_i1',\n",
       " '_i10',\n",
       " '_i11',\n",
       " '_i12',\n",
       " '_i13',\n",
       " '_i14',\n",
       " '_i15',\n",
       " '_i16',\n",
       " '_i2',\n",
       " '_i3',\n",
       " '_i4',\n",
       " '_i5',\n",
       " '_i6',\n",
       " '_i7',\n",
       " '_i8',\n",
       " '_i9',\n",
       " '_ih',\n",
       " '_ii',\n",
       " '_iii',\n",
       " '_oh',\n",
       " 'example',\n",
       " 'exit',\n",
       " 'f',\n",
       " 'g',\n",
       " 'get_ipython',\n",
       " 'outFun',\n",
       " 'quit',\n",
       " 'sys',\n",
       " 'x']"
      ]
     },
     "execution_count": 16,
     "metadata": {},
     "output_type": "execute_result"
    }
   ],
   "source": [
    "dir()"
   ]
  },
  {
   "cell_type": "code",
   "execution_count": 17,
   "id": "e1c3059f",
   "metadata": {},
   "outputs": [
    {
     "data": {
      "text/plain": [
       "'D:\\\\work-related\\\\python_class\\\\python1_2021\\\\week07'"
      ]
     },
     "execution_count": 17,
     "metadata": {},
     "output_type": "execute_result"
    }
   ],
   "source": [
    "pwd"
   ]
  },
  {
   "cell_type": "code",
   "execution_count": 18,
   "id": "8afb51b1",
   "metadata": {},
   "outputs": [],
   "source": [
    "import sys\n",
    "sys.path.append('D:\\\\work-related\\\\python_class\\\\python1_2021\\\\week07')"
   ]
  },
  {
   "cell_type": "code",
   "execution_count": 19,
   "id": "54b5b5fe",
   "metadata": {},
   "outputs": [
    {
     "data": {
      "text/plain": [
       "['In',\n",
       " 'Out',\n",
       " '_',\n",
       " '_10',\n",
       " '_11',\n",
       " '_12',\n",
       " '_13',\n",
       " '_16',\n",
       " '_17',\n",
       " '_2',\n",
       " '_5',\n",
       " '_6',\n",
       " '_8',\n",
       " '__',\n",
       " '___',\n",
       " '__builtin__',\n",
       " '__builtins__',\n",
       " '__doc__',\n",
       " '__loader__',\n",
       " '__name__',\n",
       " '__package__',\n",
       " '__spec__',\n",
       " '_dh',\n",
       " '_i',\n",
       " '_i1',\n",
       " '_i10',\n",
       " '_i11',\n",
       " '_i12',\n",
       " '_i13',\n",
       " '_i14',\n",
       " '_i15',\n",
       " '_i16',\n",
       " '_i17',\n",
       " '_i18',\n",
       " '_i19',\n",
       " '_i2',\n",
       " '_i3',\n",
       " '_i4',\n",
       " '_i5',\n",
       " '_i6',\n",
       " '_i7',\n",
       " '_i8',\n",
       " '_i9',\n",
       " '_ih',\n",
       " '_ii',\n",
       " '_iii',\n",
       " '_oh',\n",
       " 'example',\n",
       " 'exit',\n",
       " 'f',\n",
       " 'g',\n",
       " 'get_ipython',\n",
       " 'outFun',\n",
       " 'quit',\n",
       " 'sys',\n",
       " 'x']"
      ]
     },
     "execution_count": 19,
     "metadata": {},
     "output_type": "execute_result"
    }
   ],
   "source": [
    "dir()"
   ]
  },
  {
   "cell_type": "code",
   "execution_count": 20,
   "id": "caa78cd7",
   "metadata": {},
   "outputs": [],
   "source": [
    "import example"
   ]
  },
  {
   "cell_type": "code",
   "execution_count": 21,
   "id": "f15a056f",
   "metadata": {},
   "outputs": [
    {
     "data": {
      "text/plain": [
       "<function example.f()>"
      ]
     },
     "execution_count": 21,
     "metadata": {},
     "output_type": "execute_result"
    }
   ],
   "source": [
    "example.f"
   ]
  },
  {
   "cell_type": "code",
   "execution_count": 22,
   "id": "4a273bdd",
   "metadata": {},
   "outputs": [
    {
     "data": {
      "text/plain": [
       "<function example.g()>"
      ]
     },
     "execution_count": 22,
     "metadata": {},
     "output_type": "execute_result"
    }
   ],
   "source": [
    "example.g"
   ]
  },
  {
   "cell_type": "code",
   "execution_count": 23,
   "id": "fce17ad0",
   "metadata": {},
   "outputs": [
    {
     "data": {
      "text/plain": [
       "['__builtins__',\n",
       " '__cached__',\n",
       " '__doc__',\n",
       " '__file__',\n",
       " '__loader__',\n",
       " '__name__',\n",
       " '__package__',\n",
       " '__spec__',\n",
       " 'f',\n",
       " 'g',\n",
       " 'x']"
      ]
     },
     "execution_count": 23,
     "metadata": {},
     "output_type": "execute_result"
    }
   ],
   "source": [
    "dir(example)"
   ]
  },
  {
   "cell_type": "code",
   "execution_count": 24,
   "id": "cc48d56c",
   "metadata": {},
   "outputs": [
    {
     "data": {
      "text/plain": [
       "0"
      ]
     },
     "execution_count": 24,
     "metadata": {},
     "output_type": "execute_result"
    }
   ],
   "source": [
    "example.x"
   ]
  },
  {
   "cell_type": "code",
   "execution_count": 26,
   "id": "cf1ce40c",
   "metadata": {},
   "outputs": [
    {
     "data": {
      "text/plain": [
       "['__add__',\n",
       " '__class__',\n",
       " '__contains__',\n",
       " '__delattr__',\n",
       " '__delitem__',\n",
       " '__dir__',\n",
       " '__doc__',\n",
       " '__eq__',\n",
       " '__format__',\n",
       " '__ge__',\n",
       " '__getattribute__',\n",
       " '__getitem__',\n",
       " '__gt__',\n",
       " '__hash__',\n",
       " '__iadd__',\n",
       " '__imul__',\n",
       " '__init__',\n",
       " '__init_subclass__',\n",
       " '__iter__',\n",
       " '__le__',\n",
       " '__len__',\n",
       " '__lt__',\n",
       " '__mul__',\n",
       " '__ne__',\n",
       " '__new__',\n",
       " '__reduce__',\n",
       " '__reduce_ex__',\n",
       " '__repr__',\n",
       " '__reversed__',\n",
       " '__rmul__',\n",
       " '__setattr__',\n",
       " '__setitem__',\n",
       " '__sizeof__',\n",
       " '__str__',\n",
       " '__subclasshook__',\n",
       " 'append',\n",
       " 'clear',\n",
       " 'copy',\n",
       " 'count',\n",
       " 'extend',\n",
       " 'index',\n",
       " 'insert',\n",
       " 'pop',\n",
       " 'remove',\n",
       " 'reverse',\n",
       " 'sort']"
      ]
     },
     "execution_count": 26,
     "metadata": {},
     "output_type": "execute_result"
    }
   ],
   "source": [
    "dir(list)"
   ]
  },
  {
   "cell_type": "code",
   "execution_count": 31,
   "id": "db0e4e35",
   "metadata": {},
   "outputs": [
    {
     "data": {
      "text/plain": [
       "3.141592653589793"
      ]
     },
     "execution_count": 31,
     "metadata": {},
     "output_type": "execute_result"
    }
   ],
   "source": [
    "import math as m\n",
    "#dir(math)\n",
    "math.pi"
   ]
  },
  {
   "cell_type": "code",
   "execution_count": 34,
   "id": "e67cfb32",
   "metadata": {},
   "outputs": [],
   "source": [
    "import sys\n",
    "sys.path.append('D:\\\\work-related\\\\python_class\\\\python1_2021\\\\week07')"
   ]
  },
  {
   "cell_type": "code",
   "execution_count": 35,
   "id": "a3aaa626",
   "metadata": {},
   "outputs": [],
   "source": [
    "import q23mod"
   ]
  },
  {
   "cell_type": "code",
   "execution_count": 36,
   "id": "b7c4a2ca",
   "metadata": {},
   "outputs": [
    {
     "data": {
      "text/plain": [
       "['__builtins__',\n",
       " '__cached__',\n",
       " '__doc__',\n",
       " '__file__',\n",
       " '__loader__',\n",
       " '__name__',\n",
       " '__package__',\n",
       " '__spec__',\n",
       " 'f',\n",
       " 'g']"
      ]
     },
     "execution_count": 36,
     "metadata": {},
     "output_type": "execute_result"
    }
   ],
   "source": [
    "dir(q23mod)"
   ]
  },
  {
   "cell_type": "code",
   "execution_count": 37,
   "id": "3ba943cc",
   "metadata": {},
   "outputs": [
    {
     "name": "stdout",
     "output_type": "stream",
     "text": [
      "start\n"
     ]
    }
   ],
   "source": [
    "import math as mth\n",
    "from math import sqrt\n",
    "\n",
    "print(\"start\")"
   ]
  },
  {
   "cell_type": "code",
   "execution_count": 38,
   "id": "f9d757b4",
   "metadata": {},
   "outputs": [
    {
     "data": {
      "text/plain": [
       "2.6457513110645907"
      ]
     },
     "execution_count": 38,
     "metadata": {},
     "output_type": "execute_result"
    }
   ],
   "source": [
    "mth.sqrt(7)"
   ]
  },
  {
   "cell_type": "code",
   "execution_count": 39,
   "id": "c2781466",
   "metadata": {},
   "outputs": [
    {
     "data": {
      "text/plain": [
       "2.6457513110645907"
      ]
     },
     "execution_count": 39,
     "metadata": {},
     "output_type": "execute_result"
    }
   ],
   "source": [
    "math.sqrt(7)"
   ]
  },
  {
   "cell_type": "code",
   "execution_count": 40,
   "id": "90753f11",
   "metadata": {},
   "outputs": [
    {
     "data": {
      "text/plain": [
       "2.6457513110645907"
      ]
     },
     "execution_count": 40,
     "metadata": {},
     "output_type": "execute_result"
    }
   ],
   "source": [
    "sqrt(7)"
   ]
  },
  {
   "cell_type": "code",
   "execution_count": 41,
   "id": "9a46a20e",
   "metadata": {},
   "outputs": [
    {
     "data": {
      "text/plain": [
       "2.6457513110645907"
      ]
     },
     "execution_count": 41,
     "metadata": {},
     "output_type": "execute_result"
    }
   ],
   "source": [
    "7**0.5"
   ]
  },
  {
   "cell_type": "code",
   "execution_count": 53,
   "id": "b7cfeeea",
   "metadata": {},
   "outputs": [
    {
     "data": {
      "text/plain": [
       "['cat', 'dog', 'fish', 'hamster']"
      ]
     },
     "execution_count": 53,
     "metadata": {},
     "output_type": "execute_result"
    }
   ],
   "source": [
    "pets = ['dog', 'cat', 'fish', 'hamster']\n",
    "#pets.sort()\n",
    "#sort()\n",
    "pets.sort()\n",
    "pets"
   ]
  },
  {
   "cell_type": "code",
   "execution_count": 43,
   "id": "5521c37f",
   "metadata": {},
   "outputs": [],
   "source": [
    "def pop():\n",
    "    print('corn')\n",
    "pets = ['dog', 'cat', 'fish', 'hamster']"
   ]
  },
  {
   "cell_type": "code",
   "execution_count": 47,
   "id": "fe6203db",
   "metadata": {},
   "outputs": [
    {
     "name": "stdout",
     "output_type": "stream",
     "text": [
      "None\n"
     ]
    }
   ],
   "source": [
    "print(pets.sort())"
   ]
  },
  {
   "cell_type": "code",
   "execution_count": 48,
   "id": "65a99660",
   "metadata": {},
   "outputs": [
    {
     "name": "stdout",
     "output_type": "stream",
     "text": [
      "corn\n"
     ]
    }
   ],
   "source": [
    "pop()"
   ]
  },
  {
   "cell_type": "code",
   "execution_count": 54,
   "id": "b4f1ec20",
   "metadata": {},
   "outputs": [
    {
     "ename": "NameError",
     "evalue": "name 'lst' is not defined",
     "output_type": "error",
     "traceback": [
      "\u001b[1;31m---------------------------------------------------------------------------\u001b[0m",
      "\u001b[1;31mNameError\u001b[0m                                 Traceback (most recent call last)",
      "\u001b[1;32m<ipython-input-54-a1e347685b13>\u001b[0m in \u001b[0;36m<module>\u001b[1;34m\u001b[0m\n\u001b[1;32m----> 1\u001b[1;33m \u001b[0mlst\u001b[0m\u001b[1;33m.\u001b[0m\u001b[0mpop\u001b[0m\u001b[1;33m(\u001b[0m\u001b[1;33m)\u001b[0m\u001b[1;33m\u001b[0m\u001b[1;33m\u001b[0m\u001b[0m\n\u001b[0m",
      "\u001b[1;31mNameError\u001b[0m: name 'lst' is not defined"
     ]
    }
   ],
   "source": [
    "lst.pop()"
   ]
  },
  {
   "cell_type": "code",
   "execution_count": null,
   "id": "b8f55c0e",
   "metadata": {},
   "outputs": [],
   "source": []
  }
 ],
 "metadata": {
  "kernelspec": {
   "display_name": "Python 3",
   "language": "python",
   "name": "python3"
  },
  "language_info": {
   "codemirror_mode": {
    "name": "ipython",
    "version": 3
   },
   "file_extension": ".py",
   "mimetype": "text/x-python",
   "name": "python",
   "nbconvert_exporter": "python",
   "pygments_lexer": "ipython3",
   "version": "3.8.8"
  }
 },
 "nbformat": 4,
 "nbformat_minor": 5
}

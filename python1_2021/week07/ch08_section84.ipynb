{
 "cells": [
  {
   "cell_type": "code",
   "execution_count": 1,
   "id": "c6a9fae3",
   "metadata": {},
   "outputs": [],
   "source": [
    "# section 8.4, p.256-264\n",
    "# Overloaded Operators"
   ]
  },
  {
   "cell_type": "code",
   "execution_count": 2,
   "id": "1d68f4b8",
   "metadata": {},
   "outputs": [
    {
     "data": {
      "text/plain": [
       "(5, [4, 5, 6, 7])"
      ]
     },
     "execution_count": 2,
     "metadata": {},
     "output_type": "execute_result"
    }
   ],
   "source": [
    "2 + 3, [4, 5, 6] + [7]"
   ]
  },
  {
   "cell_type": "code",
   "execution_count": 3,
   "id": "1c208cc4",
   "metadata": {},
   "outputs": [],
   "source": [
    "#yList = []\n",
    "myList = [4, 5, 6, 7]"
   ]
  },
  {
   "cell_type": "raw",
   "id": "98a2d02c",
   "metadata": {},
   "source": [
    "myList"
   ]
  },
  {
   "cell_type": "code",
   "execution_count": 4,
   "id": "e128a85f",
   "metadata": {},
   "outputs": [
    {
     "data": {
      "text/plain": [
       "list"
      ]
     },
     "execution_count": 4,
     "metadata": {},
     "output_type": "execute_result"
    }
   ],
   "source": [
    "type(myList)"
   ]
  },
  {
   "cell_type": "code",
   "execution_count": 5,
   "id": "a940e082",
   "metadata": {},
   "outputs": [
    {
     "data": {
      "text/plain": [
       "[4, 5, 6, 7]"
      ]
     },
     "execution_count": 5,
     "metadata": {},
     "output_type": "execute_result"
    }
   ],
   "source": [
    "eval(repr(myList))"
   ]
  },
  {
   "cell_type": "code",
   "execution_count": 43,
   "id": "f7d0c25f",
   "metadata": {},
   "outputs": [],
   "source": [
    "class EmptyQueueError(Exception):\n",
    "    pass\n",
    "\n",
    "class Queue:\n",
    "    'a classic queue class'\n",
    "\n",
    "    def __init__(self):\n",
    "        'instantiates an empty list'\n",
    "        self.q = []\n",
    "\n",
    "    def isEmpty(self):\n",
    "        'returns True if queue is empty, False otherwise'\n",
    "        return (len(self.q) == 0)\n",
    "\n",
    "    def enqueue (self, item):\n",
    "        'insert item at rear of queue'\n",
    "        return self.q.append(item)\n",
    "\n",
    "    def dequeue(self):\n",
    "        'remove and return item at front of queue'\n",
    "        return self.q.pop(0)\n",
    "\n",
    "#   Added in Section 8.4\n",
    "    def __init__(self, q=None):\n",
    "        'initialize queue based on list q, default is empty queue'\n",
    "        if q == None:\n",
    "            self.q = []\n",
    "        else:\n",
    "            self.q = q\n",
    "#\n",
    "    def __eq__(self, other):\n",
    "        '''return True if queues self and other contain\n",
    "           the same items in the same order'''\n",
    "        return self.q == other.q\n",
    "#\n",
    "    def __len__(self):\n",
    "        'returns number of items in queue'\n",
    "        return len(self.q)\n",
    "\n",
    "    def __repr__(self):\n",
    "        'return canonical string representation of queue'\n",
    "        return 'Queue({})'.format(self.q)\n",
    "#\n",
    "#    Added in Section 8.6\n",
    "#    def dequeue(self):\n",
    "#        'remove and return item at front of queue'\n",
    "#        if len(self) == 0:\n",
    "#            raise EmptyQueueError('dequeue from empty queue')\n",
    "#        return self.q.pop(0)\n",
    "#\n",
    "#    Solution to Problem 8.9\n",
    "#    def dequeue(self):\n",
    "#        '''removes and returns item at front of the queue\n",
    "#           raises KeyboardInterrupt exception if queue is empty'''\n",
    "#        if len(self) == 0:\n",
    "#            raise KeyboardInterrupt('dequeue from empty queue')\n",
    "#\n",
    "#        return self.q.pop(0)\n"
   ]
  },
  {
   "cell_type": "code",
   "execution_count": 24,
   "id": "a4803356",
   "metadata": {},
   "outputs": [
    {
     "data": {
      "text/plain": [
       "__main__.Queue"
      ]
     },
     "execution_count": 24,
     "metadata": {},
     "output_type": "execute_result"
    }
   ],
   "source": [
    "Queue"
   ]
  },
  {
   "cell_type": "code",
   "execution_count": 25,
   "id": "400deede",
   "metadata": {},
   "outputs": [],
   "source": [
    "fruit = Queue()"
   ]
  },
  {
   "cell_type": "code",
   "execution_count": 26,
   "id": "7788fa2e",
   "metadata": {},
   "outputs": [],
   "source": [
    "fruit.enqueue('apple')\n",
    "fruit.enqueue('banana')\n",
    "fruit.enqueue('coconut')"
   ]
  },
  {
   "cell_type": "code",
   "execution_count": 27,
   "id": "1186ccdb",
   "metadata": {},
   "outputs": [
    {
     "data": {
      "text/plain": [
       "Queue(['apple', 'banana', 'coconut'])"
      ]
     },
     "execution_count": 27,
     "metadata": {},
     "output_type": "execute_result"
    }
   ],
   "source": [
    "fruit"
   ]
  },
  {
   "cell_type": "code",
   "execution_count": 28,
   "id": "aa4cbe7d",
   "metadata": {},
   "outputs": [
    {
     "data": {
      "text/plain": [
       "3"
      ]
     },
     "execution_count": 28,
     "metadata": {},
     "output_type": "execute_result"
    }
   ],
   "source": [
    "len(fruit)"
   ]
  },
  {
   "cell_type": "code",
   "execution_count": null,
   "id": "0df4be5a",
   "metadata": {},
   "outputs": [],
   "source": []
  }
 ],
 "metadata": {
  "kernelspec": {
   "display_name": "Python 3",
   "language": "python",
   "name": "python3"
  },
  "language_info": {
   "codemirror_mode": {
    "name": "ipython",
    "version": 3
   },
   "file_extension": ".py",
   "mimetype": "text/x-python",
   "name": "python",
   "nbconvert_exporter": "python",
   "pygments_lexer": "ipython3",
   "version": "3.8.8"
  }
 },
 "nbformat": 4,
 "nbformat_minor": 5
}

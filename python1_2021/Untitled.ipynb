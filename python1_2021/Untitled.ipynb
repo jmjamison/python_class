{
 "cells": [
  {
   "cell_type": "code",
   "execution_count": null,
   "metadata": {},
   "outputs": [],
   "source": [
    "shakespeare = 'Shall I complete thee to a summer's day?\\nThou are more lovely and more temperate:'"
   ]
  },
  {
   "cell_type": "code",
   "execution_count": null,
   "metadata": {},
   "outputs": [],
   "source": [
    "shakespeare = \"Shall I complete thee to a summer's day?\\nThou are more lovely and more temperate:\""
   ]
  },
  {
   "cell_type": "code",
   "execution_count": null,
   "metadata": {},
   "outputs": [],
   "source": [
    "print(shakespeare)"
   ]
  },
  {
   "cell_type": "code",
   "execution_count": null,
   "metadata": {},
   "outputs": [],
   "source": [
    "shakespeare = '''\n",
    "Shall I complete thee to a summer's day?\\n\n",
    "Thou are more lovely and more temperate:'''"
   ]
  },
  {
   "cell_type": "code",
   "execution_count": null,
   "metadata": {},
   "outputs": [],
   "source": [
    "question = 'What do you prefer to drink:\\n\\\\coffee\\n\\\\\\tea'\n",
    "question.replace('prefer', 'like')\n",
    "print(question)"
   ]
  },
  {
   "cell_type": "code",
   "execution_count": null,
   "metadata": {},
   "outputs": [],
   "source": [
    "fishvar = 'one fish two fish red fish blue fish'\n",
    "countvar = fishvar.count('fish')\n",
    "findvar = fishvar.find('fish')"
   ]
  },
  {
   "cell_type": "code",
   "execution_count": null,
   "metadata": {},
   "outputs": [],
   "source": [
    "print(countvar)"
   ]
  },
  {
   "cell_type": "code",
   "execution_count": null,
   "metadata": {},
   "outputs": [],
   "source": [
    "fishvar"
   ]
  },
  {
   "cell_type": "code",
   "execution_count": null,
   "metadata": {},
   "outputs": [],
   "source": [
    "findvar = fishvar.find('fish')"
   ]
  },
  {
   "cell_type": "code",
   "execution_count": null,
   "metadata": {},
   "outputs": [],
   "source": [
    "print(findvar)"
   ]
  },
  {
   "cell_type": "code",
   "execution_count": null,
   "metadata": {},
   "outputs": [],
   "source": [
    "findvar == countvar"
   ]
  },
  {
   "cell_type": "code",
   "execution_count": null,
   "metadata": {},
   "outputs": [],
   "source": [
    "s = 's'\n",
    "s.upper() == s.capitalize()"
   ]
  },
  {
   "cell_type": "code",
   "execution_count": null,
   "metadata": {},
   "outputs": [],
   "source": [
    "newstr = 'chocolate chip ice cream'\n",
    "newcryp = newstr.maketrans('cdenoq', 'Cs3^qo')\n",
    "print(newstr.translate(newcryp))"
   ]
  },
  {
   "cell_type": "code",
   "execution_count": null,
   "metadata": {},
   "outputs": [],
   "source": [
    "thislist = ['dog', 'cow', 'pig']\n",
    "for item in thislist:\n",
    "    for i in item:\n",
    "        print(i, end = \"-\")"
   ]
  },
  {
   "cell_type": "code",
   "execution_count": null,
   "metadata": {},
   "outputs": [],
   "source": [
    "import math as m\n",
    "def areacircle(radius):\n",
    "     calc = math.pi * radius ** 2\n",
    "     return calc\n",
    " \n",
    "r = 3\n",
    "area3 = areacircle(3)\n",
    "print(\"The area of a circle with radius\", r, \"is\", area3)"
   ]
  },
  {
   "cell_type": "code",
   "execution_count": null,
   "metadata": {},
   "outputs": [],
   "source": [
    "'{3}-{2}--{1}---{0}'.format('cow', 'pig', 'cat', 'dog')"
   ]
  },
  {
   "cell_type": "code",
   "execution_count": null,
   "metadata": {},
   "outputs": [],
   "source": [
    "print(x)\n",
    "print(y)\n",
    "print(z)"
   ]
  },
  {
   "cell_type": "code",
   "execution_count": null,
   "metadata": {},
   "outputs": [],
   "source": [
    "a='{3:-<8}{2:->5}--{0:=<3}'.format('on','off', 'up','down')\n",
    "print(a)"
   ]
  },
  {
   "cell_type": "code",
   "execution_count": null,
   "metadata": {},
   "outputs": [],
   "source": [
    "print('{5.3d}':formt(5/3))"
   ]
  },
  {
   "cell_type": "code",
   "execution_count": null,
   "metadata": {},
   "outputs": [],
   "source": [
    "file1 = open('file1.txt', 'r')\n",
    "b = file1.readlines()\n",
    "c = len(b[1])"
   ]
  },
  {
   "cell_type": "code",
   "execution_count": null,
   "metadata": {},
   "outputs": [],
   "source": [
    "print(b)"
   ]
  },
  {
   "cell_type": "code",
   "execution_count": null,
   "metadata": {},
   "outputs": [],
   "source": [
    "print(c)"
   ]
  },
  {
   "cell_type": "code",
   "execution_count": null,
   "metadata": {},
   "outputs": [],
   "source": [
    "file1 = open('file1.txt', 'r')\n",
    "file1.read(5)\n",
    "a = file1.read(5)\n",
    "b = file1.readline()\n",
    "c = file1.readlines()"
   ]
  },
  {
   "cell_type": "code",
   "execution_count": null,
   "metadata": {},
   "outputs": [],
   "source": [
    "print(a)\n",
    "print(b)\n",
    "print(c)"
   ]
  },
  {
   "cell_type": "code",
   "execution_count": null,
   "metadata": {},
   "outputs": [],
   "source": [
    "type(c)"
   ]
  },
  {
   "cell_type": "code",
   "execution_count": null,
   "metadata": {},
   "outputs": [],
   "source": [
    "def sqSum(x,y):\n",
    "    'returns the sum of squares'\n",
    "    return x^2 + y^2\n",
    "\n",
    "z = sqSum(2,3)\n",
    "print(z)"
   ]
  },
  {
   "cell_type": "code",
   "execution_count": 2,
   "metadata": {},
   "outputs": [
    {
     "name": "stdout",
     "output_type": "stream",
     "text": [
      "What year did you graduate high school? 10/10\n",
      "Use a decimal between 0-9\n"
     ]
    }
   ],
   "source": [
    "try:\n",
    "    userinput = int(input('What year did you graduate high school? '))\n",
    "except ValueError:\n",
    "    print('Use a decimal between 0-9')\n",
    "except:\n",
    "    print('Invalid input!')"
   ]
  },
  {
   "cell_type": "code",
   "execution_count": 4,
   "metadata": {},
   "outputs": [
    {
     "name": "stdout",
     "output_type": "stream",
     "text": [
      "Value A: foo\n",
      "Please enter a number\n"
     ]
    }
   ],
   "source": [
    "try:\n",
    "    valueA = eval(input('Value A: '))\n",
    "    valueB = eval(input('Value B: '))\n",
    "    print(\"The quotient of the two numbers is: \" + valueB/valueA)\n",
    "except OverflowError:\n",
    "    print('Overflow error')\n",
    "except ZeroDivisionError:\n",
    "    print('Cannot divide by 0')\n",
    "except NameError:\n",
    "    print('Please enter a number')\n",
    "except TypeError:\n",
    "    print('Type error')\n",
    "except:\n",
    "    print('Something went wrong...')\n"
   ]
  },
  {
   "cell_type": "markdown",
   "metadata": {},
   "source": [
    "# "
   ]
  }
 ],
 "metadata": {
  "kernelspec": {
   "display_name": "Python 3",
   "language": "python",
   "name": "python3"
  },
  "language_info": {
   "codemirror_mode": {
    "name": "ipython",
    "version": 3
   },
   "file_extension": ".py",
   "mimetype": "text/x-python",
   "name": "python",
   "nbconvert_exporter": "python",
   "pygments_lexer": "ipython3",
   "version": "3.6.7"
  }
 },
 "nbformat": 4,
 "nbformat_minor": 2
}

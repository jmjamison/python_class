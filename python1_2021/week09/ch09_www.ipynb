{
 "cells": [
  {
   "cell_type": "code",
   "execution_count": 6,
   "id": "9e82e9a6",
   "metadata": {},
   "outputs": [],
   "source": [
    "# Section 11.2: Python WWW API (p. 379-386)"
   ]
  },
  {
   "cell_type": "code",
   "execution_count": 7,
   "id": "c3d3f6f0",
   "metadata": {},
   "outputs": [],
   "source": [
    "import urllib"
   ]
  },
  {
   "cell_type": "code",
   "execution_count": 8,
   "id": "5e379365",
   "metadata": {},
   "outputs": [],
   "source": [
    "from urllib.request import urlopen"
   ]
  },
  {
   "cell_type": "code",
   "execution_count": 9,
   "id": "41c6eedb",
   "metadata": {},
   "outputs": [],
   "source": [
    "# dir(urlopen)"
   ]
  },
  {
   "cell_type": "code",
   "execution_count": 10,
   "id": "ea08304b",
   "metadata": {},
   "outputs": [],
   "source": [
    "response = urlopen('http://www.w3c.org/Consortium/facts.html')"
   ]
  },
  {
   "cell_type": "code",
   "execution_count": 11,
   "id": "475dd49d",
   "metadata": {},
   "outputs": [
    {
     "data": {
      "text/plain": [
       "http.client.HTTPResponse"
      ]
     },
     "execution_count": 11,
     "metadata": {},
     "output_type": "execute_result"
    }
   ],
   "source": [
    "type(response)"
   ]
  },
  {
   "cell_type": "code",
   "execution_count": 12,
   "id": "6f734658",
   "metadata": {},
   "outputs": [
    {
     "data": {
      "text/plain": [
       "'https://www.w3.org/Consortium/facts.html'"
      ]
     },
     "execution_count": 12,
     "metadata": {},
     "output_type": "execute_result"
    }
   ],
   "source": [
    "response.geturl()"
   ]
  },
  {
   "cell_type": "code",
   "execution_count": 13,
   "id": "3623e203",
   "metadata": {},
   "outputs": [
    {
     "name": "stdout",
     "output_type": "stream",
     "text": [
      "('date', 'Wed, 01 Dec 2021 00:50:47 GMT')\n",
      "('last-modified', 'Mon, 04 Jan 2021 13:50:31 GMT')\n",
      "('etag', '\"63c5-5b8135f9457c0\"')\n",
      "('accept-ranges', 'bytes')\n",
      "('content-length', '25541')\n",
      "('cache-control', 'max-age=21600')\n",
      "('expires', 'Wed, 01 Dec 2021 06:50:47 GMT')\n",
      "('vary', 'Accept-Encoding')\n",
      "('content-type', 'text/html; charset=utf-8')\n",
      "('x-backend', 'ssl-mirrors')\n",
      "('strict-transport-security', 'max-age=15552000; includeSubdomains; preload')\n",
      "('content-security-policy', 'upgrade-insecure-requests')\n",
      "('connection', 'close')\n"
     ]
    }
   ],
   "source": [
    "for field in response.getheaders():\n",
    "    print(field)"
   ]
  },
  {
   "cell_type": "code",
   "execution_count": 14,
   "id": "b01fb904",
   "metadata": {},
   "outputs": [],
   "source": [
    "html = response.read()"
   ]
  },
  {
   "cell_type": "code",
   "execution_count": 15,
   "id": "ea6fb488",
   "metadata": {},
   "outputs": [
    {
     "data": {
      "text/plain": [
       "bytes"
      ]
     },
     "execution_count": 15,
     "metadata": {},
     "output_type": "execute_result"
    }
   ],
   "source": [
    "type(html)"
   ]
  },
  {
   "cell_type": "code",
   "execution_count": 16,
   "id": "08ed6b70",
   "metadata": {},
   "outputs": [],
   "source": [
    "# dir(html)"
   ]
  },
  {
   "cell_type": "code",
   "execution_count": 17,
   "id": "7a12386e",
   "metadata": {},
   "outputs": [
    {
     "data": {
      "text/plain": [
       "26"
      ]
     },
     "execution_count": 17,
     "metadata": {},
     "output_type": "execute_result"
    }
   ],
   "source": [
    "html.count(bytes('Web', 'utf-8'))"
   ]
  },
  {
   "cell_type": "code",
   "execution_count": 18,
   "id": "f88655a2",
   "metadata": {},
   "outputs": [],
   "source": [
    "from urllib.request import urlopen\n",
    "def getSource(url):\n",
    "    'returns the content of resource specified by url as a string'\n",
    "    response =  urlopen(url)\n",
    "    html = response.read()\n",
    "    return html.decode(errors='ignore')     # return codecs.encode(s, 'utf-8'))"
   ]
  },
  {
   "cell_type": "code",
   "execution_count": 19,
   "id": "12e3452f",
   "metadata": {},
   "outputs": [],
   "source": [
    "# dir(html)\n",
    "# no encode"
   ]
  },
  {
   "cell_type": "code",
   "execution_count": 20,
   "id": "76949f47",
   "metadata": {
    "scrolled": true
   },
   "outputs": [],
   "source": [
    "# getSource('http://google.com')"
   ]
  },
  {
   "cell_type": "code",
   "execution_count": 21,
   "id": "c686ae2c",
   "metadata": {},
   "outputs": [],
   "source": [
    "# dir(html)"
   ]
  },
  {
   "cell_type": "code",
   "execution_count": 22,
   "id": "20862482",
   "metadata": {},
   "outputs": [],
   "source": [
    "# practice problem 11.1, p.381\n",
    "'''\n",
    "write method news() that takes a URL of a new web site and a list of topic strings \n",
    "and computes the number of occurrences of each topic in the news\n",
    "'''\n",
    "from urllib.request import urlopen\n",
    "\n",
    "def news(url, topics):\n",
    "    response = urlopen(url)\n",
    "    html = response.read()\n",
    "    content = html.decode().lower()\n",
    "\n",
    "    for topic in topics:\n",
    "        n = content.count(topic)\n",
    "        print(topic, n)"
   ]
  },
  {
   "cell_type": "code",
   "execution_count": 23,
   "id": "eb804be8",
   "metadata": {},
   "outputs": [
    {
     "name": "stdout",
     "output_type": "stream",
     "text": [
      "economy 1\n",
      "sport 51\n",
      "COVID 0\n"
     ]
    }
   ],
   "source": [
    "news('https://www.bbc.com/', ['economy', 'sport', 'COVID'])"
   ]
  },
  {
   "cell_type": "code",
   "execution_count": 24,
   "id": "5b7f3fdd",
   "metadata": {},
   "outputs": [],
   "source": [
    "# module html.parser\n",
    "from html.parser import HTMLParser\n",
    "\n",
    "infile = open('w3c.html')\n",
    "content = infile.read()\n",
    "infile.close()\n",
    "\n",
    "parser = HTMLParser()\n",
    "parser.feed(content)"
   ]
  },
  {
   "cell_type": "code",
   "execution_count": 25,
   "id": "d19d893c",
   "metadata": {},
   "outputs": [],
   "source": [
    "from html.parser import HTMLParser\n",
    "\n",
    "class LinkParser(HTMLParser):   # override\n",
    "    '''\n",
    "    HTML doc parser, prints values of href attributes in anchor start tags\n",
    "    '''\n",
    "    def handle_starttag(self, tag, attributes):\n",
    "        ' print value of href attribute, if any'\n",
    "        \n",
    "        if tag == 'a':\n",
    "            # search for href attribute and print value\n",
    "            for attribute in attributes:\n",
    "                if attribute[0] == 'href':\n",
    "                    print(attribute[1])\n",
    "                    #print(attribute)"
   ]
  },
  {
   "cell_type": "code",
   "execution_count": 26,
   "id": "304dbb75",
   "metadata": {},
   "outputs": [
    {
     "name": "stdout",
     "output_type": "stream",
     "text": [
      "http://www.google.com\n",
      "test.html\n",
      "mailto:me@example.net\n"
     ]
    }
   ],
   "source": [
    "infile = open('links.html')\n",
    "content = infile.read()\n",
    "infile.close()\n",
    "linkparser = LinkParser()\n",
    "linkparser.feed(content)"
   ]
  },
  {
   "cell_type": "code",
   "execution_count": 27,
   "id": "1c1f9275",
   "metadata": {},
   "outputs": [],
   "source": [
    "# practice problem 11.2, p.284-5\n",
    "from html.parser import HTMLParser\n",
    "\n",
    "class MyHTMLParser(HTMLParser):\n",
    "    'HTML doc parser that prints tags indented by depth'\n",
    "    def __init__(self):\n",
    "        'initializes the parser and the initial indentation'\n",
    "        HTMLParser.__init__(self)\n",
    "        self.indent = 0\n",
    "        \n",
    "    def handle_starttag(self, tag, attrs):\n",
    "        '''\n",
    "        prints start tag with an indentation proportional\n",
    "        to the depth of the tags element in the document\n",
    "        '''\n",
    "        if tag not in {'br', 'p'}:\n",
    "            print('{}{} start'.format(self.indent*' ', tag))\n",
    "            self.indent += 4\n",
    "            \n",
    "    def handle_endtag(self, tag):\n",
    "        '''\n",
    "        prints end tag with an indentation proportional\n",
    "        to the dept of the tas element in the document\n",
    "        '''\n",
    "        if tag not in {'br', 'p'}:\n",
    "            self.indent -= 4\n",
    "            print('{}{} end'.format(self.indent*' ', tag))\n",
    "            "
   ]
  },
  {
   "cell_type": "code",
   "execution_count": 28,
   "id": "1ca79d1f",
   "metadata": {},
   "outputs": [
    {
     "name": "stdout",
     "output_type": "stream",
     "text": [
      "html start\n",
      "    head start\n",
      "        title start\n",
      "        title end\n",
      "    head end\n",
      "    body start\n",
      "        h1 start\n",
      "        h1 end\n",
      "        h2 start\n",
      "        h2 end\n",
      "        ul start\n",
      "            li start\n",
      "            li end\n",
      "            li start\n",
      "            li end\n",
      "        ul end\n",
      "        a start\n",
      "        a end\n",
      "    body end\n",
      "html end\n"
     ]
    }
   ],
   "source": [
    "infile = open(\"w3c.html\")\n",
    "content = infile.read()\n",
    "infile.close()\n",
    "myparser = MyHTMLParser()\n",
    "myparser.feed(content)"
   ]
  },
  {
   "cell_type": "code",
   "execution_count": 29,
   "id": "3cf744b7",
   "metadata": {},
   "outputs": [
    {
     "name": "stdout",
     "output_type": "stream",
     "text": [
      "/\n",
      "/standards/\n",
      "/participate/\n",
      "/Consortium/membership\n",
      "/Consortium/\n",
      "/Consortium/\n",
      "/Consortium/facts.html\n",
      "/Consortium/presskit.html\n",
      "/Consortium/sponsor/\n",
      "/Consortium/Recruitment/\n",
      "/Consortium/contact.html\n",
      "/Help/\n",
      "#w3c_content_body\n",
      "/\n",
      "/Consortium/\n",
      "#openstand\n",
      "#principles\n",
      "#vision\n",
      "http://open-stand.org/principles/\n",
      "http://open-stand.org/\n",
      "/WAI/\n",
      "/International/\n",
      "/standards/webofdevices/\n",
      "/Mobile/\n",
      "/standards/agents/Overview.html\n",
      "/standards/webdesign/\n",
      "/standards/webarch/\n",
      "/standards/xml/\n",
      "/standards/semanticweb/\n",
      "/standards/webofservices/\n",
      "/standards/semanticweb/\n",
      "/standards/xml/security\n",
      "/standards/webofservices/security\n",
      "/standards/webdesign/privacy\n",
      "/\n",
      "/standards/\n",
      "/participate/\n",
      "/Consortium/membership\n",
      "/Consortium/\n",
      "/Consortium/contact\n",
      "/Help/\n",
      "/Consortium/sup\n",
      "/Consortium/siteindex\n",
      "http://lists.w3.org/Archives/Public/site-comments/\n",
      "http://twitter.com/W3C\n",
      "http://www.csail.mit.edu/\n",
      "http://www.ercim.org/\n",
      "http://www.keio.ac.jp/\n",
      "http://ev.buaa.edu.cn/\n",
      "/Consortium/Legal/ipr-notice\n"
     ]
    }
   ],
   "source": [
    "# p. 384   urllib.parse\n",
    "rsrce = urlopen('http://www.w3.org/Consortium/mission.html')\n",
    "content = rsrce.read().decode()\n",
    "linkparser = LinkParser()\n",
    "linkparser.feed(content)"
   ]
  },
  {
   "cell_type": "code",
   "execution_count": 32,
   "id": "17be250a",
   "metadata": {},
   "outputs": [],
   "source": [
    "from urllib.parse import urljoin\n",
    "from html.parser import HTMLParser\n",
    "class Collector(HTMLParser):\n",
    "    'collects hyperlink URLs into a list'\n",
    "\n",
    "    def __init__(self, url):\n",
    "        'initializes parser, the url, and a list'\n",
    "        HTMLParser.__init__(self)\n",
    "        self.url = url\n",
    "        self.links = []\n",
    "\n",
    "        # Solution to Practice Problem 11.3        \n",
    "        self.text = ''\n",
    "        \n",
    "    def handle_starttag(self, tag, attrs):\n",
    "        'collects hyperlink URLs in their absolute format'\n",
    "        if tag == 'a':\n",
    "            for attr in attrs:\n",
    "                if attr[0] == 'href':\n",
    "                    # construct absolute URL\n",
    "                    absolute = urljoin(self.url, attr[1])\n",
    "                    if absolute[:4] == 'http': # collect HTTP URLs\n",
    "                        self.links.append(absolute)\n",
    "                        \n",
    "    # Solution to Practice Problem 11.3        \n",
    "    def handle_data(self, data):\n",
    "        'collects and concatenates text data'\n",
    "        self.text += data\n",
    "\n",
    "    def getLinks(self):\n",
    "        'returns hyperlinks URLs in their absolute format'\n",
    "        return self.links\n",
    "\n",
    "    # Solution to Practice Problem 11.3\n",
    "    def getData(self):\n",
    "        'returns the concatenation of all text data'\n",
    "        return self.text\n"
   ]
  },
  {
   "cell_type": "code",
   "execution_count": 33,
   "id": "5aa0039f",
   "metadata": {},
   "outputs": [
    {
     "name": "stdout",
     "output_type": "stream",
     "text": [
      "https://youtu.be/q5ns9m2YIjI\n",
      "http://en.wikipedia.org/wiki/Hongkong\n",
      "http://en.wikipedia.org/wiki/Orient\n",
      "http://dictionary.reference.com/browse/desultory\n",
      "http://dictionary.reference.com/browse/indisposition\n",
      "http://dictionary.reference.com/browse/aversion\n",
      "http://dictionary.reference.com/browse/aristocratic\n",
      "http://dictionary.reference.com/browse/occult\n",
      "http://dictionary.reference.com/browse/renounce\n",
      "http://dictionary.reference.com/browse/certitude\n",
      "http://dictionary.reference.com/browse/destitute\n",
      "http://dictionary.reference.com/browse/dismal\n",
      "http://dictionary.reference.com/browse/rill\n",
      "http://dictionary.reference.com/browse/scuttle\n",
      "http://dictionary.reference.com/browse/inhospitality\n",
      "http://dictionary.reference.com/browse/proffer\n",
      "http://dictionary.reference.com/browse/melancholy\n",
      "http://dictionary.reference.com/browse/prescience\n",
      "http://dictionary.reference.com/browse/dispirit\n",
      "http://dictionary.reference.com/browse/murk\n",
      "http://dictionary.reference.com/browse/torrent\n",
      "http://dictionary.reference.com/browse/proffer\n",
      "http://dictionary.reference.com/browse/resentful\n",
      "http://dictionary.reference.com/browse/monotonous\n",
      "http://dictionary.reference.com/browse/susurration\n",
      "http://dictionary.reference.com/browse/bough\n",
      "http://dictionary.reference.com/browse/monologue\n",
      "http://dictionary.reference.com/browse/impropriety\n",
      "http://dictionary.reference.com/browse/penitence\n",
      "http://dictionary.reference.com/browse/poignant\n",
      "http://dictionary.reference.com/browse/devoid\n",
      "http://dictionary.reference.com/browse/coquetry\n",
      "http://dictionary.reference.com/browse/forbearance\n",
      "http://dictionary.reference.com/browse/aristocrat\n",
      "http://dictionary.reference.com/browse/deprecate\n",
      "http://dictionary.reference.com/browse/imperious\n",
      "http://dictionary.reference.com/browse/mandate\n",
      "http://dictionary.reference.com/browse/globule\n",
      "http://dictionary.reference.com/browse/ancestral\n",
      "http://dictionary.reference.com/browse/irreclaimable\n",
      "http://dictionary.reference.com/browse/sentimentalist\n",
      "http://dictionary.reference.com/browse/subtle\n",
      "http://dictionary.reference.com/browse/vulgarize\n",
      "http://dictionary.reference.com/browse/trance\n",
      "http://dictionary.reference.com/browse/traceable\n",
      "http://dictionary.reference.com/browse/rebuke\n",
      "http://dictionary.reference.com/browse/decency\n",
      "http://dictionary.reference.com/browse/desist\n",
      "http://dictionary.reference.com/browse/elicit\n",
      "http://dictionary.reference.com/browse/perversity\n",
      "http://dictionary.reference.com/browse/persevere\n",
      "http://dictionary.reference.com/browse/timidity\n",
      "http://dictionary.reference.com/browse/inaudible\n",
      "http://dictionary.reference.com/browse/dejection\n",
      "http://dictionary.reference.com/browse/unconquerable\n",
      "http://dictionary.reference.com/browse/aversion\n",
      "http://dictionary.reference.com/browse/reverence\n",
      "http://dictionary.reference.com/browse/irresolution\n",
      "http://dictionary.reference.com/browse/despondency\n",
      "http://dictionary.reference.com/browse/malign\n",
      "http://dictionary.reference.com/browse/Adversary\n",
      "http://dictionary.reference.com/browse/rascally\n",
      "http://dictionary.reference.com/browse/retaliation\n",
      "http://dictionary.reference.com/browse/fatuity\n",
      "http://dictionary.reference.com/browse/obstinacy\n",
      "http://dictionary.reference.com/browse/babble\n",
      "http://dictionary.reference.com/browse/stupor\n",
      "http://dictionary.reference.com/browse/delirium\n",
      "http://dictionary.reference.com/browse/utterance\n",
      "http://dictionary.reference.com/browse/vagary\n",
      "http://dictionary.reference.com/browse/delirium\n",
      "http://dictionary.reference.com/browse/baseness\n",
      "http://dictionary.reference.com/browse/reparation\n",
      "http://dictionary.reference.com/browse/repose\n",
      "http://dictionary.reference.com/browse/portent\n",
      "http://dictionary.reference.com/browse/presage\n",
      "http://dictionary.reference.com/browse/triad\n",
      "http://en.wikipedia.org/wiki/Parapelius Necromantius\n",
      "http://dictionary.reference.com/browse/impertinence\n",
      "http://dictionary.reference.com/browse/bade\n",
      "http://www.normalforms.us\n",
      "http://www.normalforms.us\n"
     ]
    }
   ],
   "source": [
    "# parser collects HTTP Hyperlinks\n",
    "#url = 'http://www.w3.org/Consortium/mission.html'\n",
    "url = 'http://classicshorts.com/stories/btw.html'\n",
    "resource = urlopen(url)\n",
    "content = resource.read().decode()\n",
    "collector = Collector(url)\n",
    "collector.feed(content)\n",
    "for link in collector.getLinks():\n",
    "    print(link)"
   ]
  },
  {
   "cell_type": "code",
   "execution_count": 121,
   "id": "ad9e3725",
   "metadata": {},
   "outputs": [],
   "source": [
    "from urllib.request import urlopen\n",
    "response = urlopen('https://pair.com')\n",
    "read1 = response.read()\n",
    "read2 = read1.decode()"
   ]
  },
  {
   "cell_type": "code",
   "execution_count": 122,
   "id": "789985e2",
   "metadata": {},
   "outputs": [
    {
     "data": {
      "text/plain": [
       "bytes"
      ]
     },
     "execution_count": 122,
     "metadata": {},
     "output_type": "execute_result"
    }
   ],
   "source": [
    "type(read1)"
   ]
  },
  {
   "cell_type": "code",
   "execution_count": 123,
   "id": "ec23191a",
   "metadata": {},
   "outputs": [
    {
     "data": {
      "text/plain": [
       "str"
      ]
     },
     "execution_count": 123,
     "metadata": {},
     "output_type": "execute_result"
    }
   ],
   "source": [
    "type(read2)"
   ]
  },
  {
   "cell_type": "code",
   "execution_count": 125,
   "id": "52e4671b",
   "metadata": {},
   "outputs": [
    {
     "data": {
      "text/plain": [
       "'<!DOCTYPE html>\\n<html class=\"html\" lang=\"en-US\">\\n<head>\\n\\t<meta charset=\"UTF-8\"><link rel=\"preload\" href=\"https://www.pair.com/wp-content/cache/fvm/min/1636482150-css614b240f0ba2be05cec067d887ce1ada8449313b88d402222242587232206.css\" as=\"style\" media=\"all\" />\\n<link rel=\"preload\" href=\"https://www.pair.com/wp-content/cache/fvm/min/1636482150-cssff20a40cfd8e81a9bfe81032a906626137216a753f022f9194bfcfc48ce4d.css\" as=\"style\" media=\"all\" />\\n<link rel=\"preload\" href=\"https://www.pair.com/wp-content/cache/fvm/min/1636482150-css8069b511a8e7fc41175dd55535f0e72f2cc622b1908cfe6abe791252aeee4.css\" as=\"style\" media=\"all\" />\\n<link rel=\"preload\" href=\"https://www.pair.com/wp-content/cache/fvm/min/1636482150-cssa4a8b9c648d11ff7f62de5ee139948d08bd729dd237a3714b05872fbf9bb9.css\" as=\"style\" media=\"all\" />\\n<link rel=\"preload\" href=\"https://www.pair.com/wp-content/cache/fvm/min/1636482150-cssd9ef8c81abb8d536e2f9844e9043e1af0798b8ad89973add774d84a802df4.css\" as=\"style\" media=\"all\" />\\n<link rel=\"preload\" href=\"https://www.pair.com/wp-content/cache/fvm/min/1636482150-css689b164a460f99d63d786cbf5cd3cdaf1781a1f34964e7d8cde55c407a56f.css\" as=\"style\" media=\"all\" />\\n<link rel=\"preload\" href=\"https://www.pair.com/wp-content/cache/fvm/min/1636482150-css57eb74ebaaee69768bcacac65ec95be7320eb61fad43b1c6e7739321ae12d.css\" as=\"style\" media=\"all\" />\\n<link rel=\"preload\" href=\"https://www.pair.com/wp-content/cache/fvm/min/1636482150-css411a6982724394a1ecf49812dcf9b9123308d3bb16a9c6c72c07b9e70ae29.css\" as=\"style\" media=\"all\" />\\n<link rel=\"preload\" href=\"https://www.pair.com/wp-content/cache/fvm/min/1636482150-css25a44e3a860669d11b74650673b835d6f2248774cb1b21a2ee5c6287a0b57.css\" as=\"style\" media=\"all\" />\\n<link rel=\"preload\" href=\"https://www.pair.com/wp-content/cache/fvm/min/1636482150-css854e1528103c1e695ce6138d3a04f517e0d81965393f93daed162c06bd7a9.css\" as=\"style\" media=\"all\" />\\n<link rel=\"preload\" href=\"https://www.pair.com/wp-content/cache/fvm/min/1636482150-cssd8f41e078663c219a3730ab9d39ed3ba003d215a980195bb2a907fff98607.css\" as=\"style\" media=\"all\" />\\n<link rel=\"preload\" href=\"https://www.pair.com/wp-content/cache/fvm/min/1636482150-css060653aa1fd3ee529968fbc89d42a9b457fb244cc34a69a411b6ff1d30b45.css\" as=\"style\" media=\"all\" />\\n<link rel=\"preload\" href=\"https://www.pair.com/wp-content/cache/fvm/min/1636482150-csse67afed098f3a8350d06c9f1a99199dedeec9997b71835d95e12d796758ec.css\" as=\"style\" media=\"all\" />\\n<link rel=\"preload\" href=\"https://www.pair.com/wp-content/cache/fvm/min/1636482150-css274f94b33ff0fefed4b6b3526963f94a4eefeeb1c11d5165b62b9d016fbdb.css\" as=\"style\" media=\"all\" />\\n<link rel=\"preload\" href=\"https://www.pair.com/wp-content/cache/fvm/min/1636482150-cssa22c908a189e0fad4d2a7e8ad7515090bc506b028e1a5015e9eae468cdd71.css\" as=\"style\" media=\"all\" />\\n<link rel=\"preload\" href=\"https://www.pair.com/wp-content/cache/fvm/min/1636482150-css2db727fcc37e3a79974c8ce52d54c3575a446c26bff9253abf1232446d1ce.css\" as=\"style\" media=\"all\" />\\n<link rel=\"preload\" href=\"https://www.pair.com/wp-content/cache/fvm/min/1636482150-csse70152c7d7784679082562dceea54876ccf907813cbeb85313abc8d85b6cd.css\" as=\"style\" media=\"all\" />\\n<link rel=\"preload\" href=\"https://www.pair.com/wp-content/cache/fvm/min/1636482150-css3996703d51a1a9e03a91d756309f5ea8e943d55b4164edf7c795e92c4dea3.css\" as=\"style\" media=\"all\" />\\n<link rel=\"preload\" href=\"https://www.pair.com/wp-content/cache/fvm/min/1636482150-cssca58dbe98edd043662b272666fc9b57fb712053286c19d942c1d534eaf8a9.css\" as=\"style\" media=\"all\" />\\n<link rel=\"preload\" href=\"https://www.pair.com/wp-content/cache/fvm/min/1636482150-cssc715a6d6073f67285753cbf614f8bfd5ac5fd7610dc6f3fa17cc8743aacab.css\" as=\"style\" media=\"all\" />\\n<link rel=\"preload\" href=\"https://www.pair.com/wp-content/cache/fvm/min/1636482150-cssdd14127ae4569facef27fd65724065f12139c1185a5d2c3c1cc75bf6e891e.css\" as=\"style\" media=\"all\" />\\n<link rel=\"preload\" href=\"https://www.pair.com/wp-content/cache/fvm/min/1636482150-cssbb2f6b2dcfd6b74df3e858b5058f044ccf6a6e505197d96285ecf6317ca1a.css\" as=\"style\" media=\"all\" />\\n<link rel=\"preload\" href=\"https://www.pair.com/wp-content/cache/fvm/min/1636482150-css82503dd8932561c18b866a322834f8ad209a8fd495afd6d780b9b51e71cd6.css\" as=\"style\" media=\"all\" />\\n<link rel=\"preload\" href=\"https://www.pair.com/wp-content/cache/fvm/min/1636482150-cssb991dfbeb85afcd928543aea23326d231868c0b3b51bd46df6f291cc991aa.css\" as=\"style\" media=\"all\" />\\n<link rel=\"preload\" href=\"https://www.pair.com/wp-content/cache/fvm/min/1636482150-css49b9208a7326d41b05a5d25c6bf2f6cc3cb25576f07c7cb7852c3e4d676ba.css\" as=\"style\" media=\"all\" />\\n<link rel=\"preload\" href=\"https://www.pair.com/wp-content/cache/fvm/min/1636482150-css53005d6a3f92bcd984f60e066661f8d2b6c47aaa891c2132cc69d2dd8123b.css\" as=\"style\" media=\"all\" />\\n<link rel=\"preload\" href=\"https://www.pair.com/wp-content/cache/fvm/min/1636482150-css95f34e4ad16bdfd7d57c3b36a883efccb1248fbd2f36b173965b347d559a5.css\" as=\"style\" media=\"all\" />\\n<link rel=\"preload\" href=\"https://www.pair.com/wp-content/cache/fvm/min/1636482150-css9833625242d6dbe271a52f6254231f60816bbbd275aeae5a7a69206686de9.css\" as=\"style\" media=\"all\" /><script data-cfasync=\"false\">function fvmuag(){var e=navigator.userAgent;if(e.match(/x11.*ox\\\\/54|id\\\\s4.*us.*ome\\\\/62|oobo|ight|tmet|eadl|ngdo|PTST/i))return!1;if(e.match(/x11.*me\\\\/86\\\\.0/i)){var r=screen.width;if(\"number\"==typeof r&&1367==r)return!1}return!0}</script><meta name=\\'robots\\' content=\\'index, follow, max-image-preview:large, max-snippet:-1, max-video-preview:-1\\' /><meta name=\"viewport\" content=\"width=device-width, initial-scale=1\"><title>Website Hosting | Pair Networks | Shared Hosting, Managed WordPress, &amp; more</title><meta name=\"description\" content=\"Pair is a website hosting company with over 25 years of experience, 99.9% server uptime, and a variety of powerful web hosting plans available, all backed by 24/7, friendly tech support from real employees.\" /><link rel=\"canonical\" href=\"https://www.pair.com/\" /><meta property=\"og:locale\" content=\"en_US\" /><meta property=\"og:type\" content=\"website\" /><meta property=\"og:title\" content=\"Website Hosting | Pair Networks | Shared Hosting, Managed WordPress, &amp; more\" /><meta property=\"og:description\" content=\"Pair is a website hosting company with over 25 years of experience, 99.9% server uptime, and a variety of powerful web hosting plans available, all backed by 24/7, friendly tech support from real employees.\" /><meta property=\"og:url\" content=\"https://www.pair.com/\" /><meta property=\"og:site_name\" content=\"Pair Networks\" /><meta property=\"article:modified_time\" content=\"2021-07-08T14:16:24+00:00\" /><meta property=\"og:image\" content=\"https://www.pair.com/wp-content/uploads/2018/12/pair_logo-e1553290159208.png\" /><meta name=\"twitter:card\" content=\"summary_large_image\" /><meta name=\"twitter:label1\" content=\"Est. reading time\" /><meta name=\"twitter:data1\" content=\"4 minutes\" /><script type=\"application/ld+json\" class=\"yoast-schema-graph\">{\"@context\":\"https://schema.org\",\"@graph\":[{\"@type\":\"Organization\",\"@id\":\"https://www.pair.com/#organization\",\"name\":\"Pair Networks\",\"url\":\"https://www.pair.com/\",\"sameAs\":[],\"logo\":{\"@type\":\"ImageObject\",\"@id\":\"https://www.pair.com/#logo\",\"inLanguage\":\"en-US\",\"url\":\"https://www.pair.com/wp-content/uploads/2019/09/Pair-Logo-COLOR.png\",\"contentUrl\":\"https://www.pair.com/wp-content/uploads/2019/09/Pair-Logo-COLOR.png\",\"width\":1169,\"height\":742,\"caption\":\"Pair Networks\"},\"image\":{\"@id\":\"https://www.pair.com/#logo\"}},{\"@type\":\"WebSite\",\"@id\":\"https://www.pair.com/#website\",\"url\":\"https://www.pair.com/\",\"name\":\"Pair Networks\",\"description\":\"Pair Networks\",\"publisher\":{\"@id\":\"https://www.pair.com/#organization\"},\"potentialAction\":[{\"@type\":\"SearchAction\",\"target\":{\"@type\":\"EntryPoint\",\"urlTemplate\":\"https://www.pair.com/?s={search_term_string}\"},\"query-input\":\"required name=search_term_string\"}],\"inLanguage\":\"en-US\"},{\"@type\":\"ImageObject\",\"@id\":\"https://www.pair.com/#primaryimage\",\"inLanguage\":\"en-US\",\"url\":\"https://www.pair.com/wp-content/uploads/2018/12/pair_logo-e1553290159208.png\",\"contentUrl\":\"https://www.pair.com/wp-content/uploads/2018/12/pair_logo-e1553290159208.png\",\"width\":130,\"height\":81,\"caption\":\"Pair Networks\"},{\"@type\":\"WebPage\",\"@id\":\"https://www.pair.com/#webpage\",\"url\":\"https://www.pair.com/\",\"name\":\"Website Hosting | Pair Networks | Shared Hosting, Managed WordPress, & more\",\"isPartOf\":{\"@id\":\"https://www.pair.com/#website\"},\"about\":{\"@id\":\"https://www.pair.com/#organization\"},\"primaryImageOfPage\":{\"@id\":\"https://www.pair.com/#primaryimage\"},\"datePublished\":\"2018-10-25T17:39:39+00:00\",\"dateModified\":\"2021-07-08T14:16:24+00:00\",\"description\":\"Pair is a website hosting company with over 25 years of experience, 99.9% server uptime, and a variety of powerful web hosting plans available, all backed by 24/7, friendly tech support from real employees.\",\"breadcrumb\":{\"@id\":\"https://www.pair.com/#breadcrumb\"},\"inLanguage\":\"en-US\",\"potentialAction\":[{\"@type\":\"ReadAction\",\"target\":[\"https://www.pair.com/\"]}]},{\"@type\":\"BreadcrumbList\",\"@id\":\"https://www.pair.com/#breadcrumb\",\"itemListElement\":[{\"@type\":\"ListItem\",\"position\":1,\"name\":\"Home\"}]}]}</script><meta name=\"google-site-verification\" content=\"ci4FbXBTBo69G9fol0RVw3lv7-LxZ2dP8XgVXeQ5gGY\" /><meta name=\"google-site-verification\" content=\"8uNblF4zuM_52lUaX06jq8GVOnBf1A7RAhFUbIT74Dk\" />\\n\\t<link rel=\"profile\" href=\"https://gmpg.org/xfn/11\">\\n\\n\\t\\n\\n\\n\\t\\n\\t\\n\\t\\n\\t\\n\\t\\n\\t\\n\\t\\n\\t\\n\\t\\n\\t\\n\\t\\n\\t\\n\\t\\n\\t\\n\\t\\n\\t\\n\\t\\n\\t\\n\\n\\n\\n\\n\\n<link rel=\\'stylesheet\\' id=\\'wp-block-library-css\\'  href=\\'https://www.pair.com/wp-content/cache/fvm/min/1636482150-css614b240f0ba2be05cec067d887ce1ada8449313b88d402222242587232206.css\\' type=\\'text/css\\' media=\\'all\\' />\\n<style id=\\'wp-block-library-theme-inline-css\\' type=\\'text/css\\' media=\"all\">#start-resizable-editor-section{display:none}.wp-block-audio figcaption{color:#555;font-size:13px;text-align:center}.is-dark-theme .wp-block-audio figcaption{color:hsla(0,0%,100%,.65)}.wp-block-code{font-family:Menlo,Consolas,monaco,monospace;color:#1e1e1e;padding:.8em 1em;border:1px solid #ddd;border-radius:4px}.wp-block-embed figcaption{color:#555;font-size:13px;text-align:center}.is-dark-theme .wp-block-embed figcaption{color:hsla(0,0%,100%,.65)}.blocks-gallery-caption{color:#555;font-size:13px;text-align:center}.is-dark-theme .blocks-gallery-caption{color:hsla(0,0%,100%,.65)}.wp-block-image figcaption{color:#555;font-size:13px;text-align:center}.is-dark-theme .wp-block-image figcaption{color:hsla(0,0%,100%,.65)}.wp-block-pullquote{border-top:4px solid;border-bottom:4px solid;margin-bottom:1.75em;color:currentColor}.wp-block-pullquote__citation,.wp-block-pullquote cite,.wp-block-pullquote footer{color:currentColor;text-transform:uppercase;font-size:.8125em;font-style:normal}.wp-block-quote{border-left:.25em solid;margin:0 0 1.75em;padding-left:1em}.wp-block-quote cite,.wp-block-quote footer{color:currentColor;font-size:.8125em;position:relative;font-style:normal}.wp-block-quote.has-text-align-right{border-left:none;border-right:.25em solid;padding-left:0;padding-right:1em}.wp-block-quote.has-text-align-center{border:none;padding-left:0}.wp-block-quote.is-large,.wp-block-quote.is-style-large{border:none}.wp-block-search .wp-block-search__label{font-weight:700}.wp-block-group.has-background{padding:1.25em 2.375em;margin-top:0;margin-bottom:0}.wp-block-separator{border:none;border-bottom:2px solid;margin-left:auto;margin-right:auto;opacity:.4}.wp-block-separator:not(.is-style-wide):not(.is-style-dots){width:100px}.wp-block-separator.has-background:not(.is-style-dots){border-bottom:none;height:1px}.wp-block-separator.has-background:not(.is-style-wide):not(.is-style-dots){height:2px}.wp-block-table thead{border-bottom:3px solid}.wp-block-table tfoot{border-top:3px solid}.wp-block-table td,.wp-block-table th{padding:.5em;border:1px solid;word-break:normal}.wp-block-table figcaption{color:#555;font-size:13px;text-align:center}.is-dark-theme .wp-block-table figcaption{color:hsla(0,0%,100%,.65)}.wp-block-video figcaption{color:#555;font-size:13px;text-align:center}.is-dark-theme .wp-block-video figcaption{color:hsla(0,0%,100%,.65)}.wp-block-template-part.has-background{padding:1.25em 2.375em;margin-top:0;margin-bottom:0}#end-resizable-editor-section{display:none}</style>\\n<link rel=\\'stylesheet\\' id=\\'wpsm_ac-font-awesome-front-css\\'  href=\\'https://www.pair.com/wp-content/cache/fvm/min/1636482150-cssff20a40cfd8e81a9bfe81032a906626137216a753f022f9194bfcfc48ce4d.css\\' type=\\'text/css\\' media=\\'all\\' />\\n<link rel=\\'stylesheet\\' id=\\'wpsm_ac_bootstrap-front-css\\'  href=\\'https://www.pair.com/wp-content/cache/fvm/min/1636482150-css8069b511a8e7fc41175dd55535f0e72f2cc622b1908cfe6abe791252aeee4.css\\' type=\\'text/css\\' media=\\'all\\' />\\n<link rel=\\'stylesheet\\' id=\\'cookie-law-info-css\\'  href=\\'https://www.pair.com/wp-content/cache/fvm/min/1636482150-cssa4a8b9c648d11ff7f62de5ee139948d08bd729dd237a3714b05872fbf9bb9.css\\' type=\\'text/css\\' media=\\'all\\' />\\n<link rel=\\'stylesheet\\' id=\\'cookie-law-info-gdpr-css\\'  href=\\'https://www.pair.com/wp-content/cache/fvm/min/1636482150-cssd9ef8c81abb8d536e2f9844e9043e1af0798b8ad89973add774d84a802df4.css\\' type=\\'text/css\\' media=\\'all\\' />\\n<style id=\\'cookie-law-info-gdpr-inline-css\\' type=\\'text/css\\' media=\"all\">.cli-modal-content,.cli-tab-content{background-color:#fff}.cli-privacy-content-text,.cli-modal .cli-modal-dialog,.cli-tab-container p,a.cli-privacy-readmore{color:#000}.cli-tab-header{background-color:#f2f2f2}.cli-tab-header,.cli-tab-header a.cli-nav-link,span.cli-necessary-caption,.cli-switch .cli-slider:after{color:#000}.cli-switch .cli-slider:before{background-color:#fff}.cli-switch input:checked+.cli-slider:before{background-color:#fff}.cli-switch .cli-slider{background-color:#e3e1e8}.cli-switch input:checked+.cli-slider{background-color:#28a745}.cli-modal-close svg{fill:#000}.cli-tab-footer .wt-cli-privacy-accept-all-btn{background-color:#00acad;color:#fff}.cli-tab-footer .wt-cli-privacy-accept-btn{background-color:#00acad;color:#fff}.cli-tab-header a:before{border-right:1px solid #000;border-bottom:1px solid #000}</style>\\n<link rel=\\'stylesheet\\' id=\\'font-awesome-css\\'  href=\\'https://www.pair.com/wp-content/cache/fvm/min/1636482150-css689b164a460f99d63d786cbf5cd3cdaf1781a1f34964e7d8cde55c407a56f.css\\' type=\\'text/css\\' media=\\'all\\' />\\n<link rel=\\'stylesheet\\' id=\\'simple-line-icons-css\\'  href=\\'https://www.pair.com/wp-content/cache/fvm/min/1636482150-css57eb74ebaaee69768bcacac65ec95be7320eb61fad43b1c6e7739321ae12d.css\\' type=\\'text/css\\' media=\\'all\\' />\\n<link rel=\\'stylesheet\\' id=\\'magnific-popup-css\\'  href=\\'https://www.pair.com/wp-content/cache/fvm/min/1636482150-css411a6982724394a1ecf49812dcf9b9123308d3bb16a9c6c72c07b9e70ae29.css\\' type=\\'text/css\\' media=\\'all\\' />\\n<link rel=\\'stylesheet\\' id=\\'slick-css\\'  href=\\'https://www.pair.com/wp-content/cache/fvm/min/1636482150-css25a44e3a860669d11b74650673b835d6f2248774cb1b21a2ee5c6287a0b57.css\\' type=\\'text/css\\' media=\\'all\\' />\\n<link rel=\\'stylesheet\\' id=\\'oceanwp-style-css\\'  href=\\'https://www.pair.com/wp-content/cache/fvm/min/1636482150-css854e1528103c1e695ce6138d3a04f517e0d81965393f93daed162c06bd7a9.css\\' type=\\'text/css\\' media=\\'all\\' />\\n<link rel=\\'stylesheet\\' id=\\'oceanwp-google-font-open-sans-css\\'  href=\\'https://www.pair.com/wp-content/cache/fvm/min/1636482150-cssd8f41e078663c219a3730ab9d39ed3ba003d215a980195bb2a907fff98607.css\\' type=\\'text/css\\' media=\\'all\\' />\\n<link rel=\\'stylesheet\\' id=\\'elementor-icons-css\\'  href=\\'https://www.pair.com/wp-content/cache/fvm/min/1636482150-css060653aa1fd3ee529968fbc89d42a9b457fb244cc34a69a411b6ff1d30b45.css\\' type=\\'text/css\\' media=\\'all\\' />\\n<link rel=\\'stylesheet\\' id=\\'elementor-frontend-legacy-css\\'  href=\\'https://www.pair.com/wp-content/cache/fvm/min/1636482150-csse67afed098f3a8350d06c9f1a99199dedeec9997b71835d95e12d796758ec.css\\' type=\\'text/css\\' media=\\'all\\' />\\n<link rel=\\'stylesheet\\' id=\\'elementor-frontend-css\\'  href=\\'https://www.pair.com/wp-content/cache/fvm/min/1636482150-css274f94b33ff0fefed4b6b3526963f94a4eefeeb1c11d5165b62b9d016fbdb.css\\' type=\\'text/css\\' media=\\'all\\' />\\n<style id=\\'elementor-frontend-inline-css\\' type=\\'text/css\\' media=\"all\">@font-face{font-family:eicons;src:url(https://www.pair.com/wp-content/plugins/elementor/assets/lib/eicons/fonts/eicons.woff?5.10.0) format(\"woff\");font-weight:400;font-style:normal}</style>\\n<link rel=\\'stylesheet\\' id=\\'elementor-post-3478-css\\'  href=\\'https://www.pair.com/wp-content/cache/fvm/min/1636482150-cssa22c908a189e0fad4d2a7e8ad7515090bc506b028e1a5015e9eae468cdd71.css\\' type=\\'text/css\\' media=\\'all\\' />\\n<link rel=\\'stylesheet\\' id=\\'elementor-pro-css\\'  href=\\'https://www.pair.com/wp-content/cache/fvm/min/1636482150-css2db727fcc37e3a79974c8ce52d54c3575a446c26bff9253abf1232446d1ce.css\\' type=\\'text/css\\' media=\\'all\\' />\\n<link rel=\\'stylesheet\\' id=\\'font-awesome-5-all-css\\'  href=\\'https://www.pair.com/wp-content/cache/fvm/min/1636482150-csse70152c7d7784679082562dceea54876ccf907813cbeb85313abc8d85b6cd.css\\' type=\\'text/css\\' media=\\'all\\' />\\n<link rel=\\'stylesheet\\' id=\\'font-awesome-4-shim-css\\'  href=\\'https://www.pair.com/wp-content/cache/fvm/min/1636482150-css3996703d51a1a9e03a91d756309f5ea8e943d55b4164edf7c795e92c4dea3.css\\' type=\\'text/css\\' media=\\'all\\' />\\n<link rel=\\'stylesheet\\' id=\\'elementor-global-css\\'  href=\\'https://www.pair.com/wp-content/cache/fvm/min/1636482150-cssca58dbe98edd043662b272666fc9b57fb712053286c19d942c1d534eaf8a9.css\\' type=\\'text/css\\' media=\\'all\\' />\\n<link rel=\\'stylesheet\\' id=\\'elementor-post-2-css\\'  href=\\'https://www.pair.com/wp-content/cache/fvm/min/1636482150-cssc715a6d6073f67285753cbf614f8bfd5ac5fd7610dc6f3fa17cc8743aacab.css\\' type=\\'text/css\\' media=\\'all\\' />\\n<link rel=\\'stylesheet\\' id=\\'elementor-post-57-css\\'  href=\\'https://www.pair.com/wp-content/cache/fvm/min/1636482150-cssdd14127ae4569facef27fd65724065f12139c1185a5d2c3c1cc75bf6e891e.css\\' type=\\'text/css\\' media=\\'all\\' />\\n<link rel=\\'stylesheet\\' id=\\'oe-widgets-style-css\\'  href=\\'https://www.pair.com/wp-content/cache/fvm/min/1636482150-cssbb2f6b2dcfd6b74df3e858b5058f044ccf6a6e505197d96285ecf6317ca1a.css\\' type=\\'text/css\\' media=\\'all\\' />\\n<link rel=\\'stylesheet\\' id=\\'google-fonts-1-css\\'  href=\\'https://www.pair.com/wp-content/cache/fvm/min/1636482150-css82503dd8932561c18b866a322834f8ad209a8fd495afd6d780b9b51e71cd6.css\\' type=\\'text/css\\' media=\\'all\\' />\\n<link rel=\\'stylesheet\\' id=\\'elementor-icons-shared-0-css\\'  href=\\'https://www.pair.com/wp-content/cache/fvm/min/1636482150-cssb991dfbeb85afcd928543aea23326d231868c0b3b51bd46df6f291cc991aa.css\\' type=\\'text/css\\' media=\\'all\\' />\\n<link rel=\\'stylesheet\\' id=\\'elementor-icons-fa-solid-css\\'  href=\\'https://www.pair.com/wp-content/cache/fvm/min/1636482150-css49b9208a7326d41b05a5d25c6bf2f6cc3cb25576f07c7cb7852c3e4d676ba.css\\' type=\\'text/css\\' media=\\'all\\' />\\n<link rel=\\'stylesheet\\' id=\\'elementor-icons-fa-regular-css\\'  href=\\'https://www.pair.com/wp-content/cache/fvm/min/1636482150-css53005d6a3f92bcd984f60e066661f8d2b6c47aaa891c2132cc69d2dd8123b.css\\' type=\\'text/css\\' media=\\'all\\' />\\n<link rel=\\'stylesheet\\' id=\\'elementor-icons-fa-brands-css\\'  href=\\'https://www.pair.com/wp-content/cache/fvm/min/1636482150-css95f34e4ad16bdfd7d57c3b36a883efccb1248fbd2f36b173965b347d559a5.css\\' type=\\'text/css\\' media=\\'all\\' />\\n<script type=\\'text/javascript\\' src=\\'https://www.pair.com/wp-includes/js/jquery/jquery.min.js?ver=3.6.0\\' id=\\'jquery-core-js\\'></script>\\n<script type=\\'text/javascript\\' src=\\'https://www.pair.com/wp-includes/js/jquery/jquery-migrate.min.js?ver=3.3.2\\' id=\\'jquery-migrate-js\\'></script>\\n<script type=\\'text/javascript\\' id=\\'cookie-law-info-js-extra\\'>\\n/* <![CDATA[ */\\nvar Cli_Data = {\"nn_cookie_ids\":[\"test_cookie\"],\"non_necessary_cookies\":{\"non-necessary\":[\"test_cookie\"]},\"cookielist\":{\"necessary\":{\"id\":7,\"status\":true,\"title\":\"Necessary\",\"strict\":true,\"default_state\":false,\"ccpa_optout\":false,\"loadonstart\":false},\"non-necessary\":{\"id\":8,\"status\":true,\"title\":\"Non Necessary\",\"strict\":false,\"default_state\":false,\"ccpa_optout\":false,\"loadonstart\":false}},\"ajax_url\":\"https:\\\\/\\\\/www.pair.com\\\\/wp-admin\\\\/admin-ajax.php\",\"current_lang\":\"en\",\"security\":\"b4cae02ec5\",\"eu_countries\":[\"GB\"],\"geoIP\":\"disabled\",\"use_custom_geolocation_api\":\"\",\"custom_geolocation_api\":\"https:\\\\/\\\\/geoip.cookieyes.com\\\\/geoip\\\\/checker\\\\/result.php\",\"consentVersion\":\"1\",\"strictlyEnabled\":[\"necessary\",\"obligatoire\"],\"cookieDomain\":\"\",\"privacy_length\":\"250\",\"ccpaEnabled\":\"\",\"ccpaRegionBased\":\"\",\"ccpaBarEnabled\":\"\",\"ccpaType\":\"gdpr\",\"triggerDomRefresh\":\"\"};\\nvar log_object = {\"ajax_url\":\"https:\\\\/\\\\/www.pair.com\\\\/wp-admin\\\\/admin-ajax.php\"};\\n/* ]]> */\\n</script>\\n<script type=\\'text/javascript\\' src=\\'https://www.pair.com/wp-content/plugins/webtoffee-gdpr-cookie-consent/public/js/cookie-law-info-public.js?ver=2.3.4\\' id=\\'cookie-law-info-js\\'></script>\\n<script type=\\'text/javascript\\' src=\\'https://www.pair.com/wp-content/plugins/elementor/assets/lib/font-awesome/js/v4-shims.min.js?ver=3.4.7\\' id=\\'font-awesome-4-shim-js\\'></script>\\n\\n\\n\\n\\n\\n\\n<script type=\"text/plain\" data-cli-class=\"cli-blocker-script\" data-cli-label=\"Google Tag Manager\"  data-cli-script-type=\"non-necessary\" data-cli-block=\"true\" data-cli-block-if-ccpa-optout=\"false\" data-cli-element-position=\"head\">(function(w,d,s,l,i){w[l]=w[l]||[];w[l].push({\\'gtm.start\\': new Date().getTime(),event:\\'gtm.js\\'});var f=d.getElementsByTagName(s)[0], j=d.createElement(s),dl=l!=\\'dataLayer\\'?\\'&l=\\'+l:\\'\\';j.async=true;j.src=\\'https://www.googletagmanager.com/gtm.js?id=\\'+i+dl;f.parentNode.insertBefore(j,f); })(window,document,\\'script\\',\\'dataLayer\\',\\'GTM-5PL2JH\\');</script>\\n\\n\\n  \\t  \\n  \\n  <script type=\\'text/javascript\\'>\\n    window.__lo_site_id = 59890;\\n    (function() {\\n        var wa = document.createElement(\\'script\\'); wa.type = \\'text/javascript\\'; wa.async = true;\\n        wa.src = \\'https://d10lpsik1i8c69.cloudfront.net/w.js\\';\\n        var s = document.getElementsByTagName(\\'script\\')[0]; s.parentNode.insertBefore(wa, s);\\n     })();\\n  </script>\\n  \\n\\n<script async src=\"https://www.googleoptimize.com/optimize.js?id=OPT-58LLRLK\"></script>\\n\\n\\n\\t\\t<script>\\n\\t\\t\\tdocument.documentElement.className = document.documentElement.className.replace( \\'no-js\\', \\'js\\' );\\n\\t\\t</script>\\n\\t\\t\\t\\t<style media=\"all\">.no-js img.lazyload{display:none}figure.wp-block-image img.lazyloading{min-width:150px}.lazyload,.lazyloading{opacity:0}.lazyloaded{opacity:1;transition:opacity 400ms;transition-delay:0ms}</style>\\n\\t\\t<style type=\"text/css\" media=\"all\">.recentcomments a{display:inline!important;padding:0!important;margin:0!important}</style>\\n<link rel=\"icon\" href=\"https://www.pair.com/wp-content/uploads/2019/04/cropped-square-infinity-192x192.png\" sizes=\"192x192\" />\\n\\n\\n\\n<style type=\"text/css\" media=\"all\">a:hover,a.light:hover,.theme-heading .text::before,#top-bar-content>a:hover,#top-bar-social li.oceanwp-email a:hover,#site-navigation-wrap .dropdown-menu>li>a:hover,#site-header.medium-header #medium-searchform button:hover,.oceanwp-mobile-menu-icon a:hover,.blog-entry.post .blog-entry-header .entry-title a:hover,.blog-entry.post .blog-entry-readmore a:hover,.blog-entry.thumbnail-entry .blog-entry-category a,ul.meta li a:hover,.dropcap,.single nav.post-navigation .nav-links .title,body .related-post-title a:hover,body #wp-calendar caption,body .contact-info-widget.default i,body .contact-info-widget.big-icons i,body .custom-links-widget .oceanwp-custom-links li a:hover,body .custom-links-widget .oceanwp-custom-links li a:hover:before,body .posts-thumbnails-widget li a:hover,body .social-widget li.oceanwp-email a:hover,.comment-author .comment-meta .comment-reply-link,#respond #cancel-comment-reply-link:hover,#footer-widgets .footer-box a:hover,#footer-bottom a:hover,#footer-bottom #footer-bottom-menu a:hover,.sidr a:hover,.sidr-class-dropdown-toggle:hover,.sidr-class-menu-item-has-children.active>a,.sidr-class-menu-item-has-children.active>a>.sidr-class-dropdown-toggle,input[type=checkbox]:checked:before{color:#f05322}input[type=\"button\"],input[type=\"reset\"],input[type=\"submit\"],button[type=\"submit\"],.button,#site-navigation-wrap .dropdown-menu>li.btn>a>span,.thumbnail:hover i,.post-quote-content,.omw-modal .omw-close-modal,body .contact-info-widget.big-icons li:hover i,body div.wpforms-container-full .wpforms-form input[type=submit],body div.wpforms-container-full .wpforms-form button[type=submit],body div.wpforms-container-full .wpforms-form .wpforms-page-button{background-color:#f05322}.widget-title{border-color:#f05322}blockquote{border-color:#f05322}#searchform-dropdown{border-color:#f05322}.dropdown-menu .sub-menu{border-color:#f05322}.blog-entry.large-entry .blog-entry-readmore a:hover{border-color:#f05322}.oceanwp-newsletter-form-wrap input[type=\"email\"]:focus{border-color:#f05322}.social-widget li.oceanwp-email a:hover{border-color:#f05322}#respond #cancel-comment-reply-link:hover{border-color:#f05322}body .contact-info-widget.big-icons li:hover i{border-color:#f05322}#footer-widgets .oceanwp-newsletter-form-wrap input[type=\"email\"]:focus{border-color:#f05322}input[type=\"button\"]:hover,input[type=\"reset\"]:hover,input[type=\"submit\"]:hover,button[type=\"submit\"]:hover,input[type=\"button\"]:focus,input[type=\"reset\"]:focus,input[type=\"submit\"]:focus,button[type=\"submit\"]:focus,.button:hover,#site-navigation-wrap .dropdown-menu>li.btn>a:hover>span,.post-quote-author,.omw-modal .omw-close-modal:hover,body div.wpforms-container-full .wpforms-form input[type=submit]:hover,body div.wpforms-container-full .wpforms-form button[type=submit]:hover,body div.wpforms-container-full .wpforms-form .wpforms-page-button:hover{background-color:#1a3d6e}a{color:#1b3e6f}a:hover{color:#f05322}#site-header.has-header-media .overlay-header-media{background-color:rgba(0,0,0,.5)}body{font-family:Open Sans;font-style:normal;color:#000}</style></head>\\n\\n<body class=\"home page-template page-template-elementor_header_footer page page-id-2 wp-embed-responsive oceanwp-theme dropdown-mobile no-header-border default-breakpoint content-full-width content-max-width page-header-disabled elementor-default elementor-template-full-width elementor-kit-3478 elementor-page elementor-page-2\" >\\n\\n\\t\\n\\t\\n\\t<div id=\"outer-wrap\" class=\"site clr\">\\n\\n\\t\\t<a class=\"skip-link screen-reader-text\" href=\"#main\">Skip to content</a>\\n\\n\\t\\t\\n\\t\\t<div id=\"wrap\" class=\"clr\">\\n\\n\\t\\t\\t\\n\\t\\t\\t\\n\\t\\t\\t\\n\\t\\t\\t<main id=\"main\" class=\"site-main clr\" role=\"main\">\\n\\n\\t\\t\\t\\t\\t\\t<div data-elementor-type=\"wp-post\" data-elementor-id=\"2\" class=\"elementor elementor-2\" data-elementor-settings=\"[]\">\\n\\t\\t\\t\\t\\t\\t<div class=\"elementor-inner\">\\n\\t\\t\\t\\t\\t\\t\\t<div class=\"elementor-section-wrap\">\\n\\t\\t\\t\\t\\t\\t\\t<section class=\"elementor-section elementor-top-section elementor-element elementor-element-d448720 elementor-section-content-middle elementor-section-boxed elementor-section-height-default elementor-section-height-default\" data-id=\"d448720\" data-element_type=\"section\" data-settings=\"{&quot;background_background&quot;:&quot;classic&quot;}\">\\n\\t\\t\\t\\t\\t\\t<div class=\"elementor-container elementor-column-gap-no\">\\n\\t\\t\\t\\t\\t\\t\\t<div class=\"elementor-row\">\\n\\t\\t\\t\\t\\t<div class=\"elementor-column elementor-col-100 elementor-top-column elementor-element elementor-element-21656a6\" data-id=\"21656a6\" data-element_type=\"column\">\\n\\t\\t\\t<div class=\"elementor-column-wrap elementor-element-populated\">\\n\\t\\t\\t\\t\\t\\t\\t<div class=\"elementor-widget-wrap\">\\n\\t\\t\\t\\t\\t\\t<div class=\"elementor-element elementor-element-ce06017 elementor-widget elementor-widget-heading\" data-id=\"ce06017\" data-element_type=\"widget\" data-widget_type=\"heading.default\">\\n\\t\\t\\t\\t<div class=\"elementor-widget-container\">\\n\\t\\t\\t<h2 class=\"elementor-heading-title elementor-size-default\">World Class 24x7 Support: <span style=\"color:#f05322\">1.877.724.7638</span></h2>\\t\\t</div>\\n\\t\\t\\t\\t</div>\\n\\t\\t\\t\\t\\t\\t</div>\\n\\t\\t\\t\\t\\t</div>\\n\\t\\t</div>\\n\\t\\t\\t\\t\\t\\t\\t\\t</div>\\n\\t\\t\\t\\t\\t</div>\\n\\t\\t</section>\\n\\t\\t\\t\\t<section class=\"elementor-section elementor-top-section elementor-element elementor-element-a066dab elementor-section-height-min-height elementor-section-items-top elementor-section-content-top elementor-section-boxed elementor-section-height-default\" data-id=\"a066dab\" data-element_type=\"section\" data-settings=\"{&quot;background_background&quot;:&quot;classic&quot;}\">\\n\\t\\t\\t\\t\\t\\t<div class=\"elementor-container elementor-column-gap-narrow\">\\n\\t\\t\\t\\t\\t\\t\\t<div class=\"elementor-row\">\\n\\t\\t\\t\\t\\t<div class=\"elementor-column elementor-col-50 elementor-top-column elementor-element elementor-element-dd0cbb4\" data-id=\"dd0cbb4\" data-element_type=\"column\">\\n\\t\\t\\t<div class=\"elementor-column-wrap elementor-element-populated\">\\n\\t\\t\\t\\t\\t\\t\\t<div class=\"elementor-widget-wrap\">\\n\\t\\t\\t\\t\\t\\t<div class=\"elementor-element elementor-element-f242bd2 elementor-widget elementor-widget-image\" data-id=\"f242bd2\" data-element_type=\"widget\" data-widget_type=\"image.default\">\\n\\t\\t\\t\\t<div class=\"elementor-widget-container\">\\n\\t\\t\\t\\t\\t\\t\\t\\t<div class=\"elementor-image\">\\n\\t\\t\\t\\t\\t\\t\\t\\t\\t\\t\\t\\t<img width=\"130\" height=\"81\"   alt=\"Pair Networks\" data-src=\"https://www.pair.com/wp-content/uploads/2018/12/pair_logo-e1553290159208.png\" class=\"attachment-full size-full lazyload\" src=\"data:image/gif;base64,R0lGODlhAQABAAAAACH5BAEKAAEALAAAAAABAAEAAAICTAEAOw==\" /><noscript><img width=\"130\" height=\"81\" src=\"https://www.pair.com/wp-content/uploads/2018/12/pair_logo-e1553290159208.png\" class=\"attachment-full size-full\" alt=\"Pair Networks\" /></noscript>\\t\\t\\t\\t\\t\\t\\t\\t\\t\\t\\t\\t\\t\\t</div>\\n\\t\\t\\t\\t\\t\\t</div>\\n\\t\\t\\t\\t</div>\\n\\t\\t\\t\\t\\t\\t</div>\\n\\t\\t\\t\\t\\t</div>\\n\\t\\t</div>\\n\\t\\t\\t\\t<div class=\"elementor-column elementor-col-50 elementor-top-column elementor-element elementor-element-7643ebf\" data-id=\"7643ebf\" data-element_type=\"column\">\\n\\t\\t\\t<div class=\"elementor-column-wrap elementor-element-populated\">\\n\\t\\t\\t\\t\\t\\t\\t<div class=\"elementor-widget-wrap\">\\n\\t\\t\\t\\t\\t\\t<div class=\"elementor-element elementor-element-6ed0cd3 elementor-nav-menu__align-right elementor-nav-menu--stretch elementor-nav-menu--dropdown-tablet elementor-nav-menu__text-align-aside elementor-nav-menu--toggle elementor-nav-menu--burger elementor-widget elementor-widget-nav-menu\" data-id=\"6ed0cd3\" data-element_type=\"widget\" data-settings=\"{&quot;full_width&quot;:&quot;stretch&quot;,&quot;layout&quot;:&quot;horizontal&quot;,&quot;submenu_icon&quot;:{&quot;value&quot;:&quot;&lt;i class=\\\\&quot;fas fa-caret-down\\\\&quot;&gt;&lt;\\\\/i&gt;&quot;,&quot;library&quot;:&quot;fa-solid&quot;},&quot;toggle&quot;:&quot;burger&quot;}\" data-widget_type=\"nav-menu.default\">\\n\\t\\t\\t\\t<div class=\"elementor-widget-container\">\\n\\t\\t\\t\\t\\t\\t<nav migration_allowed=\"1\" migrated=\"0\" role=\"navigation\" class=\"elementor-nav-menu--main elementor-nav-menu__container elementor-nav-menu--layout-horizontal e--pointer-underline e--animation-fade\">\\n\\t\\t\\t\\t<ul id=\"menu-1-6ed0cd3\" class=\"elementor-nav-menu\"><li class=\"menu-item menu-item-type-custom menu-item-object-custom menu-item-has-children menu-item-330\"><a href=\"#\" class=\"elementor-item elementor-item-anchor\">Plans &#038; Pricing</a>\\n<ul class=\"sub-menu elementor-nav-menu--dropdown\">\\n\\t<li class=\"menu-item menu-item-type-post_type menu-item-object-page menu-item-202\"><a href=\"https://www.pair.com/solutions/shared/\" class=\"elementor-sub-item\">Shared Hosting</a></li>\\n\\t<li class=\"menu-item menu-item-type-custom menu-item-object-custom menu-item-1839\"><a href=\"https://www.pair.com/wordpress/wp-hosting/\" class=\"elementor-sub-item\">Managed WordPress Hosting</a></li>\\n\\t<li class=\"menu-item menu-item-type-post_type menu-item-object-page menu-item-3704\"><a href=\"https://www.pair.com/solutions/podcast-websites/\" class=\"elementor-sub-item\">Podcast Websites</a></li>\\n\\t<li class=\"menu-item menu-item-type-post_type menu-item-object-page menu-item-2928\"><a href=\"https://www.pair.com/solutions/weebly-hosting/\" class=\"elementor-sub-item\">Weebly Hosting</a></li>\\n\\t<li class=\"menu-item menu-item-type-post_type menu-item-object-page menu-item-198\"><a href=\"https://www.pair.com/solutions/dedicated/\" class=\"elementor-sub-item\">Dedicated Servers</a></li>\\n\\t<li class=\"menu-item menu-item-type-custom menu-item-object-custom menu-item-1840\"><a href=\"https://www.pair.com/solutions/vps/\" class=\"elementor-sub-item\">Virtual Private Servers (VPS)</a></li>\\n\\t<li class=\"menu-item menu-item-type-post_type menu-item-object-page menu-item-has-children menu-item-1745\"><a href=\"https://www.pair.com/solutions/shopsite-hosting/\" class=\"elementor-sub-item\">Ecommerce Solutions</a>\\n\\t<ul class=\"sub-menu elementor-nav-menu--dropdown\">\\n\\t\\t<li class=\"menu-item menu-item-type-post_type menu-item-object-page menu-item-2495\"><a href=\"https://www.pair.com/solutions/weebly-ecommerce/\" class=\"elementor-sub-item\">Weebly Ecommerce</a></li>\\n\\t\\t<li class=\"menu-item menu-item-type-custom menu-item-object-custom menu-item-1836\"><a href=\"https://www.pair.com/solutions/shopsite-hosting/\" class=\"elementor-sub-item\">Shopsite Hosting</a></li>\\n\\t</ul>\\n</li>\\n\\t<li class=\"menu-item menu-item-type-custom menu-item-object-custom menu-item-213\"><a href=\"https://www.pairdomains.com/\" class=\"elementor-sub-item\">Domains</a></li>\\n\\t<li class=\"menu-item menu-item-type-custom menu-item-object-custom menu-item-1841\"><a href=\"https://www.pair.com/solutions/move-to-pair/\" class=\"elementor-sub-item\">Move to Pair</a></li>\\n\\t<li class=\"menu-item menu-item-type-custom menu-item-object-custom menu-item-1831\"><a href=\"https://www.pair.com/help-me-choose/\" class=\"elementor-sub-item\">Help Me Choose</a></li>\\n\\t<li class=\"menu-item menu-item-type-post_type menu-item-object-page menu-item-2496\"><a href=\"https://www.pair.com/current-special-offers/\" class=\"elementor-sub-item\">Current Special Offers</a></li>\\n</ul>\\n</li>\\n<li class=\"menu-item menu-item-type-custom menu-item-object-custom menu-item-has-children menu-item-331\"><a href=\"#\" class=\"elementor-item elementor-item-anchor\">Hosting Features</a>\\n<ul class=\"sub-menu elementor-nav-menu--dropdown\">\\n\\t<li class=\"menu-item menu-item-type-custom menu-item-object-custom menu-item-has-children menu-item-1833\"><a href=\"https://www.pair.com/solutions/malware-and-security/\" class=\"elementor-sub-item\">Security</a>\\n\\t<ul class=\"sub-menu elementor-nav-menu--dropdown\">\\n\\t\\t<li class=\"menu-item menu-item-type-post_type menu-item-object-page menu-item-1508\"><a href=\"https://www.pair.com/solutions/automatic-scanning/\" class=\"elementor-sub-item\">Automatic Malware Scanning</a></li>\\n\\t\\t<li class=\"menu-item menu-item-type-custom menu-item-object-custom menu-item-1834\"><a href=\"https://www.pair.com/solutions/malware-and-security/\" class=\"elementor-sub-item\">Malware Cleanup</a></li>\\n\\t</ul>\\n</li>\\n\\t<li class=\"menu-item menu-item-type-custom menu-item-object-custom menu-item-has-children menu-item-1835\"><a href=\"https://www.pair.com/solutions/pairssl/\" class=\"elementor-sub-item\">SSL</a>\\n\\t<ul class=\"sub-menu elementor-nav-menu--dropdown\">\\n\\t\\t<li class=\"menu-item menu-item-type-post_type menu-item-object-page menu-item-199\"><a href=\"https://www.pair.com/solutions/lets-encrypt/\" class=\"elementor-sub-item\">Let’s Encrypt SSL</a></li>\\n\\t\\t<li class=\"menu-item menu-item-type-post_type menu-item-object-page menu-item-201\"><a href=\"https://www.pair.com/solutions/pairssl/\" class=\"elementor-sub-item\">PairSSL</a></li>\\n\\t</ul>\\n</li>\\n\\t<li class=\"menu-item menu-item-type-post_type menu-item-object-page menu-item-837\"><a href=\"https://www.pair.com/solutions/content-delivery-network/\" class=\"elementor-sub-item\">Content Delivery Network</a></li>\\n\\t<li class=\"menu-item menu-item-type-post_type menu-item-object-page menu-item-860\"><a href=\"https://www.pair.com/solutions/software-installation-manager/\" class=\"elementor-sub-item\">Software Installation Manager</a></li>\\n\\t<li class=\"menu-item menu-item-type-post_type menu-item-object-page menu-item-211\"><a href=\"https://www.pair.com/wordpress/wp-hosting/\" class=\"elementor-sub-item\">Fully Managed Hosting for WordPress</a></li>\\n\\t<li class=\"menu-item menu-item-type-post_type menu-item-object-page menu-item-821\"><a href=\"https://www.pair.com/solutions/weebly-site-builder/\" class=\"elementor-sub-item\">Weebly Site Builder</a></li>\\n\\t<li class=\"menu-item menu-item-type-post_type menu-item-object-page menu-item-206\"><a href=\"https://www.pair.com/support/managed-service-levels/\" class=\"elementor-sub-item\">Managed Service Levels</a></li>\\n</ul>\\n</li>\\n<li class=\"menu-item menu-item-type-custom menu-item-object-custom menu-item-has-children menu-item-332\"><a href=\"#\" class=\"elementor-item elementor-item-anchor\">Support</a>\\n<ul class=\"sub-menu elementor-nav-menu--dropdown\">\\n\\t<li class=\"menu-item menu-item-type-custom menu-item-object-custom menu-item-1828\"><a href=\"https://www.pair.com/support/contact-us/\" class=\"elementor-sub-item\">Contact Support</a></li>\\n\\t<li class=\"menu-item menu-item-type-custom menu-item-object-custom menu-item-607\"><a href=\"https://www.pair.com/support/kb/\" class=\"elementor-sub-item\">Knowledge Base</a></li>\\n\\t<li class=\"menu-item menu-item-type-post_type menu-item-object-page menu-item-210\"><a href=\"https://www.pair.com/wordpress/wordpress-support/\" class=\"elementor-sub-item\">WordPress Support</a></li>\\n\\t<li class=\"menu-item menu-item-type-post_type menu-item-object-page menu-item-209\"><a href=\"https://www.pair.com/wordpress/wordpress-community/\" class=\"elementor-sub-item\">WordPress Community</a></li>\\n\\t<li class=\"menu-item menu-item-type-custom menu-item-object-custom menu-item-1205\"><a href=\"http://my.pair.com/payment-form\" class=\"elementor-sub-item\">Make a Payment</a></li>\\n</ul>\\n</li>\\n<li class=\"menu-item menu-item-type-custom menu-item-object-custom menu-item-has-children menu-item-1829\"><a href=\"https://www.pair.com/why-pair/job-postings/\" class=\"elementor-item\">About Pair</a>\\n<ul class=\"sub-menu elementor-nav-menu--dropdown\">\\n\\t<li class=\"menu-item menu-item-type-post_type menu-item-object-page menu-item-1983\"><a href=\"https://www.pair.com/why-pair/\" class=\"elementor-sub-item\">Why Pair?</a></li>\\n\\t<li class=\"menu-item menu-item-type-custom menu-item-object-custom menu-item-1838\"><a href=\"https://www.pair.com/why-pair/job-postings/\" class=\"elementor-sub-item\">Career Opportunities</a></li>\\n</ul>\\n</li>\\n<li class=\"menu-item menu-item-type-post_type menu-item-object-page menu-item-has-children menu-item-1826\"><a href=\"https://www.pair.com/pair-newsletter/\" class=\"elementor-item\">Connect with Us</a>\\n<ul class=\"sub-menu elementor-nav-menu--dropdown\">\\n\\t<li class=\"menu-item menu-item-type-custom menu-item-object-custom menu-item-1837\"><a href=\"https://www.pair.com/support/contact-us/\" class=\"elementor-sub-item\">Contact Pair</a></li>\\n\\t<li class=\"menu-item menu-item-type-custom menu-item-object-custom menu-item-214\"><a href=\"https://blog.pair.com/\" class=\"elementor-sub-item\">Pair Blog</a></li>\\n</ul>\\n</li>\\n</ul>\\t\\t\\t</nav>\\n\\t\\t\\t\\t\\t<div class=\"elementor-menu-toggle\" role=\"button\" tabindex=\"0\" aria-label=\"Menu Toggle\" aria-expanded=\"false\">\\n\\t\\t\\t<i aria-hidden=\"true\" role=\"presentation\" class=\"eicon-menu-bar\"></i>\\t\\t\\t<span class=\"elementor-screen-only\">Menu</span>\\n\\t\\t</div>\\n\\t\\t\\t<nav class=\"elementor-nav-menu--dropdown elementor-nav-menu__container\" role=\"navigation\" aria-hidden=\"true\">\\n\\t\\t\\t\\t<ul id=\"menu-2-6ed0cd3\" class=\"elementor-nav-menu\"><li class=\"menu-item menu-item-type-custom menu-item-object-custom menu-item-has-children menu-item-330\"><a href=\"#\" class=\"elementor-item elementor-item-anchor\" tabindex=\"-1\">Plans &#038; Pricing</a>\\n<ul class=\"sub-menu elementor-nav-menu--dropdown\">\\n\\t<li class=\"menu-item menu-item-type-post_type menu-item-object-page menu-item-202\"><a href=\"https://www.pair.com/solutions/shared/\" class=\"elementor-sub-item\" tabindex=\"-1\">Shared Hosting</a></li>\\n\\t<li class=\"menu-item menu-item-type-custom menu-item-object-custom menu-item-1839\"><a href=\"https://www.pair.com/wordpress/wp-hosting/\" class=\"elementor-sub-item\" tabindex=\"-1\">Managed WordPress Hosting</a></li>\\n\\t<li class=\"menu-item menu-item-type-post_type menu-item-object-page menu-item-3704\"><a href=\"https://www.pair.com/solutions/podcast-websites/\" class=\"elementor-sub-item\" tabindex=\"-1\">Podcast Websites</a></li>\\n\\t<li class=\"menu-item menu-item-type-post_type menu-item-object-page menu-item-2928\"><a href=\"https://www.pair.com/solutions/weebly-hosting/\" class=\"elementor-sub-item\" tabindex=\"-1\">Weebly Hosting</a></li>\\n\\t<li class=\"menu-item menu-item-type-post_type menu-item-object-page menu-item-198\"><a href=\"https://www.pair.com/solutions/dedicated/\" class=\"elementor-sub-item\" tabindex=\"-1\">Dedicated Servers</a></li>\\n\\t<li class=\"menu-item menu-item-type-custom menu-item-object-custom menu-item-1840\"><a href=\"https://www.pair.com/solutions/vps/\" class=\"elementor-sub-item\" tabindex=\"-1\">Virtual Private Servers (VPS)</a></li>\\n\\t<li class=\"menu-item menu-item-type-post_type menu-item-object-page menu-item-has-children menu-item-1745\"><a href=\"https://www.pair.com/solutions/shopsite-hosting/\" class=\"elementor-sub-item\" tabindex=\"-1\">Ecommerce Solutions</a>\\n\\t<ul class=\"sub-menu elementor-nav-menu--dropdown\">\\n\\t\\t<li class=\"menu-item menu-item-type-post_type menu-item-object-page menu-item-2495\"><a href=\"https://www.pair.com/solutions/weebly-ecommerce/\" class=\"elementor-sub-item\" tabindex=\"-1\">Weebly Ecommerce</a></li>\\n\\t\\t<li class=\"menu-item menu-item-type-custom menu-item-object-custom menu-item-1836\"><a href=\"https://www.pair.com/solutions/shopsite-hosting/\" class=\"elementor-sub-item\" tabindex=\"-1\">Shopsite Hosting</a></li>\\n\\t</ul>\\n</li>\\n\\t<li class=\"menu-item menu-item-type-custom menu-item-object-custom menu-item-213\"><a href=\"https://www.pairdomains.com/\" class=\"elementor-sub-item\" tabindex=\"-1\">Domains</a></li>\\n\\t<li class=\"menu-item menu-item-type-custom menu-item-object-custom menu-item-1841\"><a href=\"https://www.pair.com/solutions/move-to-pair/\" class=\"elementor-sub-item\" tabindex=\"-1\">Move to Pair</a></li>\\n\\t<li class=\"menu-item menu-item-type-custom menu-item-object-custom menu-item-1831\"><a href=\"https://www.pair.com/help-me-choose/\" class=\"elementor-sub-item\" tabindex=\"-1\">Help Me Choose</a></li>\\n\\t<li class=\"menu-item menu-item-type-post_type menu-item-object-page menu-item-2496\"><a href=\"https://www.pair.com/current-special-offers/\" class=\"elementor-sub-item\" tabindex=\"-1\">Current Special Offers</a></li>\\n</ul>\\n</li>\\n<li class=\"menu-item menu-item-type-custom menu-item-object-custom menu-item-has-children menu-item-331\"><a href=\"#\" class=\"elementor-item elementor-item-anchor\" tabindex=\"-1\">Hosting Features</a>\\n<ul class=\"sub-menu elementor-nav-menu--dropdown\">\\n\\t<li class=\"menu-item menu-item-type-custom menu-item-object-custom menu-item-has-children menu-item-1833\"><a href=\"https://www.pair.com/solutions/malware-and-security/\" class=\"elementor-sub-item\" tabindex=\"-1\">Security</a>\\n\\t<ul class=\"sub-menu elementor-nav-menu--dropdown\">\\n\\t\\t<li class=\"menu-item menu-item-type-post_type menu-item-object-page menu-item-1508\"><a href=\"https://www.pair.com/solutions/automatic-scanning/\" class=\"elementor-sub-item\" tabindex=\"-1\">Automatic Malware Scanning</a></li>\\n\\t\\t<li class=\"menu-item menu-item-type-custom menu-item-object-custom menu-item-1834\"><a href=\"https://www.pair.com/solutions/malware-and-security/\" class=\"elementor-sub-item\" tabindex=\"-1\">Malware Cleanup</a></li>\\n\\t</ul>\\n</li>\\n\\t<li class=\"menu-item menu-item-type-custom menu-item-object-custom menu-item-has-children menu-item-1835\"><a href=\"https://www.pair.com/solutions/pairssl/\" class=\"elementor-sub-item\" tabindex=\"-1\">SSL</a>\\n\\t<ul class=\"sub-menu elementor-nav-menu--dropdown\">\\n\\t\\t<li class=\"menu-item menu-item-type-post_type menu-item-object-page menu-item-199\"><a href=\"https://www.pair.com/solutions/lets-encrypt/\" class=\"elementor-sub-item\" tabindex=\"-1\">Let’s Encrypt SSL</a></li>\\n\\t\\t<li class=\"menu-item menu-item-type-post_type menu-item-object-page menu-item-201\"><a href=\"https://www.pair.com/solutions/pairssl/\" class=\"elementor-sub-item\" tabindex=\"-1\">PairSSL</a></li>\\n\\t</ul>\\n</li>\\n\\t<li class=\"menu-item menu-item-type-post_type menu-item-object-page menu-item-837\"><a href=\"https://www.pair.com/solutions/content-delivery-network/\" class=\"elementor-sub-item\" tabindex=\"-1\">Content Delivery Network</a></li>\\n\\t<li class=\"menu-item menu-item-type-post_type menu-item-object-page menu-item-860\"><a href=\"https://www.pair.com/solutions/software-installation-manager/\" class=\"elementor-sub-item\" tabindex=\"-1\">Software Installation Manager</a></li>\\n\\t<li class=\"menu-item menu-item-type-post_type menu-item-object-page menu-item-211\"><a href=\"https://www.pair.com/wordpress/wp-hosting/\" class=\"elementor-sub-item\" tabindex=\"-1\">Fully Managed Hosting for WordPress</a></li>\\n\\t<li class=\"menu-item menu-item-type-post_type menu-item-object-page menu-item-821\"><a href=\"https://www.pair.com/solutions/weebly-site-builder/\" class=\"elementor-sub-item\" tabindex=\"-1\">Weebly Site Builder</a></li>\\n\\t<li class=\"menu-item menu-item-type-post_type menu-item-object-page menu-item-206\"><a href=\"https://www.pair.com/support/managed-service-levels/\" class=\"elementor-sub-item\" tabindex=\"-1\">Managed Service Levels</a></li>\\n</ul>\\n</li>\\n<li class=\"menu-item menu-item-type-custom menu-item-object-custom menu-item-has-children menu-item-332\"><a href=\"#\" class=\"elementor-item elementor-item-anchor\" tabindex=\"-1\">Support</a>\\n<ul class=\"sub-menu elementor-nav-menu--dropdown\">\\n\\t<li class=\"menu-item menu-item-type-custom menu-item-object-custom menu-item-1828\"><a href=\"https://www.pair.com/support/contact-us/\" class=\"elementor-sub-item\" tabindex=\"-1\">Contact Support</a></li>\\n\\t<li class=\"menu-item menu-item-type-custom menu-item-object-custom menu-item-607\"><a href=\"https://www.pair.com/support/kb/\" class=\"elementor-sub-item\" tabindex=\"-1\">Knowledge Base</a></li>\\n\\t<li class=\"menu-item menu-item-type-post_type menu-item-object-page menu-item-210\"><a href=\"https://www.pair.com/wordpress/wordpress-support/\" class=\"elementor-sub-item\" tabindex=\"-1\">WordPress Support</a></li>\\n\\t<li class=\"menu-item menu-item-type-post_type menu-item-object-page menu-item-209\"><a href=\"https://www.pair.com/wordpress/wordpress-community/\" class=\"elementor-sub-item\" tabindex=\"-1\">WordPress Community</a></li>\\n\\t<li class=\"menu-item menu-item-type-custom menu-item-object-custom menu-item-1205\"><a href=\"http://my.pair.com/payment-form\" class=\"elementor-sub-item\" tabindex=\"-1\">Make a Payment</a></li>\\n</ul>\\n</li>\\n<li class=\"menu-item menu-item-type-custom menu-item-object-custom menu-item-has-children menu-item-1829\"><a href=\"https://www.pair.com/why-pair/job-postings/\" class=\"elementor-item\" tabindex=\"-1\">About Pair</a>\\n<ul class=\"sub-menu elementor-nav-menu--dropdown\">\\n\\t<li class=\"menu-item menu-item-type-post_type menu-item-object-page menu-item-1983\"><a href=\"https://www.pair.com/why-pair/\" class=\"elementor-sub-item\" tabindex=\"-1\">Why Pair?</a></li>\\n\\t<li class=\"menu-item menu-item-type-custom menu-item-object-custom menu-item-1838\"><a href=\"https://www.pair.com/why-pair/job-postings/\" class=\"elementor-sub-item\" tabindex=\"-1\">Career Opportunities</a></li>\\n</ul>\\n</li>\\n<li class=\"menu-item menu-item-type-post_type menu-item-object-page menu-item-has-children menu-item-1826\"><a href=\"https://www.pair.com/pair-newsletter/\" class=\"elementor-item\" tabindex=\"-1\">Connect with Us</a>\\n<ul class=\"sub-menu elementor-nav-menu--dropdown\">\\n\\t<li class=\"menu-item menu-item-type-custom menu-item-object-custom menu-item-1837\"><a href=\"https://www.pair.com/support/contact-us/\" class=\"elementor-sub-item\" tabindex=\"-1\">Contact Pair</a></li>\\n\\t<li class=\"menu-item menu-item-type-custom menu-item-object-custom menu-item-214\"><a href=\"https://blog.pair.com/\" class=\"elementor-sub-item\" tabindex=\"-1\">Pair Blog</a></li>\\n</ul>\\n</li>\\n</ul>\\t\\t\\t</nav>\\n\\t\\t\\t\\t</div>\\n\\t\\t\\t\\t</div>\\n\\t\\t\\t\\t\\t\\t</div>\\n\\t\\t\\t\\t\\t</div>\\n\\t\\t</div>\\n\\t\\t\\t\\t\\t\\t\\t\\t</div>\\n\\t\\t\\t\\t\\t</div>\\n\\t\\t</section>\\n\\t\\t\\t\\t<section class=\"elementor-section elementor-top-section elementor-element elementor-element-c123cac elementor-section-height-min-height elementor-section-full_width elementor-section-content-top elementor-hidden-tablet elementor-hidden-phone elementor-section-height-default elementor-section-items-middle\" data-id=\"c123cac\" data-element_type=\"section\" data-settings=\"{&quot;background_background&quot;:&quot;classic&quot;}\">\\n\\t\\t\\t\\t\\t\\t<div class=\"elementor-container elementor-column-gap-no\">\\n\\t\\t\\t\\t\\t\\t\\t<div class=\"elementor-row\">\\n\\t\\t\\t\\t\\t<div class=\"elementor-column elementor-col-50 elementor-top-column elementor-element elementor-element-391665e\" data-id=\"391665e\" data-element_type=\"column\">\\n\\t\\t\\t<div class=\"elementor-column-wrap elementor-element-populated\">\\n\\t\\t\\t\\t\\t\\t\\t<div class=\"elementor-widget-wrap\">\\n\\t\\t\\t\\t\\t\\t<div class=\"elementor-element elementor-element-62af123 elementor-widget elementor-widget-spacer\" data-id=\"62af123\" data-element_type=\"widget\" data-widget_type=\"spacer.default\">\\n\\t\\t\\t\\t<div class=\"elementor-widget-container\">\\n\\t\\t\\t\\t\\t<div class=\"elementor-spacer\">\\n\\t\\t\\t<div class=\"elementor-spacer-inner\"></div>\\n\\t\\t</div>\\n\\t\\t\\t\\t</div>\\n\\t\\t\\t\\t</div>\\n\\t\\t\\t\\t<div class=\"elementor-element elementor-element-75dfca5 elementor-widget elementor-widget-heading\" data-id=\"75dfca5\" data-element_type=\"widget\" data-widget_type=\"heading.default\">\\n\\t\\t\\t\\t<div class=\"elementor-widget-container\">\\n\\t\\t\\t<h2 class=\"elementor-heading-title elementor-size-default\">Web Hosting,\\nPerfected.</h2>\\t\\t</div>\\n\\t\\t\\t\\t</div>\\n\\t\\t\\t\\t<div class=\"elementor-element elementor-element-2b39e11 elementor-widget elementor-widget-spacer\" data-id=\"2b39e11\" data-element_type=\"widget\" data-widget_type=\"spacer.default\">\\n\\t\\t\\t\\t<div class=\"elementor-widget-container\">\\n\\t\\t\\t\\t\\t<div class=\"elementor-spacer\">\\n\\t\\t\\t<div class=\"elementor-spacer-inner\"></div>\\n\\t\\t</div>\\n\\t\\t\\t\\t</div>\\n\\t\\t\\t\\t</div>\\n\\t\\t\\t\\t<div class=\"elementor-element elementor-element-60c19b9 elementor-align-center elementor-widget elementor-widget-button\" data-id=\"60c19b9\" data-element_type=\"widget\" data-widget_type=\"button.default\">\\n\\t\\t\\t\\t<div class=\"elementor-widget-container\">\\n\\t\\t\\t\\t\\t<div class=\"elementor-button-wrapper\">\\n\\t\\t\\t<a href=\"https://www.pair.com/help-me-choose/\" class=\"elementor-button-link elementor-button elementor-size-md\" role=\"button\">\\n\\t\\t\\t\\t\\t\\t<span class=\"elementor-button-content-wrapper\">\\n\\t\\t\\t\\t\\t\\t<span class=\"elementor-button-text\">GET STARTED TODAY</span>\\n\\t\\t</span>\\n\\t\\t\\t\\t\\t</a>\\n\\t\\t</div>\\n\\t\\t\\t\\t</div>\\n\\t\\t\\t\\t</div>\\n\\t\\t\\t\\t\\t\\t</div>\\n\\t\\t\\t\\t\\t</div>\\n\\t\\t</div>\\n\\t\\t\\t\\t<div class=\"elementor-column elementor-col-50 elementor-top-column elementor-element elementor-element-eab4cc9\" data-id=\"eab4cc9\" data-element_type=\"column\">\\n\\t\\t\\t<div class=\"elementor-column-wrap\">\\n\\t\\t\\t\\t\\t\\t\\t<div class=\"elementor-widget-wrap\">\\n\\t\\t\\t\\t\\t\\t\\t\\t</div>\\n\\t\\t\\t\\t\\t</div>\\n\\t\\t</div>\\n\\t\\t\\t\\t\\t\\t\\t\\t</div>\\n\\t\\t\\t\\t\\t</div>\\n\\t\\t</section>\\n\\t\\t\\t\\t<section class=\"elementor-section elementor-top-section elementor-element elementor-element-789947a elementor-section-height-min-height elementor-section-full_width elementor-section-content-top elementor-hidden-desktop elementor-section-height-default elementor-section-items-middle\" data-id=\"789947a\" data-element_type=\"section\" data-settings=\"{&quot;background_background&quot;:&quot;classic&quot;}\">\\n\\t\\t\\t\\t\\t\\t<div class=\"elementor-container elementor-column-gap-no\">\\n\\t\\t\\t\\t\\t\\t\\t<div class=\"elementor-row\">\\n\\t\\t\\t\\t\\t<div class=\"elementor-column elementor-col-50 elementor-top-column elementor-element elementor-element-11472fa\" data-id=\"11472fa\" data-element_type=\"column\">\\n\\t\\t\\t<div class=\"elementor-column-wrap elementor-element-populated\">\\n\\t\\t\\t\\t\\t\\t\\t<div class=\"elementor-widget-wrap\">\\n\\t\\t\\t\\t\\t\\t<div class=\"elementor-element elementor-element-7706783 elementor-widget elementor-widget-spacer\" data-id=\"7706783\" data-element_type=\"widget\" data-widget_type=\"spacer.default\">\\n\\t\\t\\t\\t<div class=\"elementor-widget-container\">\\n\\t\\t\\t\\t\\t<div class=\"elementor-spacer\">\\n\\t\\t\\t<div class=\"elementor-spacer-inner\"></div>\\n\\t\\t</div>\\n\\t\\t\\t\\t</div>\\n\\t\\t\\t\\t</div>\\n\\t\\t\\t\\t<div class=\"elementor-element elementor-element-f48d092 elementor-widget elementor-widget-heading\" data-id=\"f48d092\" data-element_type=\"widget\" data-widget_type=\"heading.default\">\\n\\t\\t\\t\\t<div class=\"elementor-widget-container\">\\n\\t\\t\\t<h2 class=\"elementor-heading-title elementor-size-default\">Web Hosting,\\nPerfected.</h2>\\t\\t</div>\\n\\t\\t\\t\\t</div>\\n\\t\\t\\t\\t<div class=\"elementor-element elementor-element-da1960b elementor-widget elementor-widget-spacer\" data-id=\"da1960b\" data-element_type=\"widget\" data-widget_type=\"spacer.default\">\\n\\t\\t\\t\\t<div class=\"elementor-widget-container\">\\n\\t\\t\\t\\t\\t<div class=\"elementor-spacer\">\\n\\t\\t\\t<div class=\"elementor-spacer-inner\"></div>\\n\\t\\t</div>\\n\\t\\t\\t\\t</div>\\n\\t\\t\\t\\t</div>\\n\\t\\t\\t\\t<div class=\"elementor-element elementor-element-fd7955a elementor-align-center elementor-widget elementor-widget-button\" data-id=\"fd7955a\" data-element_type=\"widget\" data-widget_type=\"button.default\">\\n\\t\\t\\t\\t<div class=\"elementor-widget-container\">\\n\\t\\t\\t\\t\\t<div class=\"elementor-button-wrapper\">\\n\\t\\t\\t<a href=\"https://www.pair.com/help-me-choose/\" class=\"elementor-button-link elementor-button elementor-size-md\" role=\"button\">\\n\\t\\t\\t\\t\\t\\t<span class=\"elementor-button-content-wrapper\">\\n\\t\\t\\t\\t\\t\\t<span class=\"elementor-button-text\">GET STARTED TODAY</span>\\n\\t\\t</span>\\n\\t\\t\\t\\t\\t</a>\\n\\t\\t</div>\\n\\t\\t\\t\\t</div>\\n\\t\\t\\t\\t</div>\\n\\t\\t\\t\\t\\t\\t</div>\\n\\t\\t\\t\\t\\t</div>\\n\\t\\t</div>\\n\\t\\t\\t\\t<div class=\"elementor-column elementor-col-50 elementor-top-column elementor-element elementor-element-c98d91d\" data-id=\"c98d91d\" data-element_type=\"column\">\\n\\t\\t\\t<div class=\"elementor-column-wrap\">\\n\\t\\t\\t\\t\\t\\t\\t<div class=\"elementor-widget-wrap\">\\n\\t\\t\\t\\t\\t\\t\\t\\t</div>\\n\\t\\t\\t\\t\\t</div>\\n\\t\\t</div>\\n\\t\\t\\t\\t\\t\\t\\t\\t</div>\\n\\t\\t\\t\\t\\t</div>\\n\\t\\t</section>\\n\\t\\t\\t\\t<section class=\"elementor-section elementor-top-section elementor-element elementor-element-61e8e97 elementor-section-boxed elementor-section-height-default elementor-section-height-default\" data-id=\"61e8e97\" data-element_type=\"section\">\\n\\t\\t\\t\\t\\t\\t<div class=\"elementor-container elementor-column-gap-default\">\\n\\t\\t\\t\\t\\t\\t\\t<div class=\"elementor-row\">\\n\\t\\t\\t\\t\\t<div class=\"elementor-column elementor-col-50 elementor-top-column elementor-element elementor-element-b5a76ee\" data-id=\"b5a76ee\" data-element_type=\"column\">\\n\\t\\t\\t<div class=\"elementor-column-wrap\">\\n\\t\\t\\t\\t\\t\\t\\t<div class=\"elementor-widget-wrap\">\\n\\t\\t\\t\\t\\t\\t\\t\\t</div>\\n\\t\\t\\t\\t\\t</div>\\n\\t\\t</div>\\n\\t\\t\\t\\t<div class=\"elementor-column elementor-col-50 elementor-top-column elementor-element elementor-element-8986664\" data-id=\"8986664\" data-element_type=\"column\">\\n\\t\\t\\t<div class=\"elementor-column-wrap\">\\n\\t\\t\\t\\t\\t\\t\\t<div class=\"elementor-widget-wrap\">\\n\\t\\t\\t\\t\\t\\t\\t\\t</div>\\n\\t\\t\\t\\t\\t</div>\\n\\t\\t</div>\\n\\t\\t\\t\\t\\t\\t\\t\\t</div>\\n\\t\\t\\t\\t\\t</div>\\n\\t\\t</section>\\n\\t\\t\\t\\t<section class=\"elementor-section elementor-top-section elementor-element elementor-element-a7818cd elementor-section-boxed elementor-section-height-default elementor-section-height-default\" data-id=\"a7818cd\" data-element_type=\"section\">\\n\\t\\t\\t\\t\\t\\t<div class=\"elementor-container elementor-column-gap-default\">\\n\\t\\t\\t\\t\\t\\t\\t<div class=\"elementor-row\">\\n\\t\\t\\t\\t\\t<div class=\"elementor-column elementor-col-100 elementor-top-column elementor-element elementor-element-f06a1cb\" data-id=\"f06a1cb\" data-element_type=\"column\">\\n\\t\\t\\t<div class=\"elementor-column-wrap elementor-element-populated\">\\n\\t\\t\\t\\t\\t\\t\\t<div class=\"elementor-widget-wrap\">\\n\\t\\t\\t\\t\\t\\t<div class=\"elementor-element elementor-element-6c59130 elementor-widget elementor-widget-spacer\" data-id=\"6c59130\" data-element_type=\"widget\" data-widget_type=\"spacer.default\">\\n\\t\\t\\t\\t<div class=\"elementor-widget-container\">\\n\\t\\t\\t\\t\\t<div class=\"elementor-spacer\">\\n\\t\\t\\t<div class=\"elementor-spacer-inner\"></div>\\n\\t\\t</div>\\n\\t\\t\\t\\t</div>\\n\\t\\t\\t\\t</div>\\n\\t\\t\\t\\t<div class=\"elementor-element elementor-element-19c5042 elementor-widget elementor-widget-heading\" data-id=\"19c5042\" data-element_type=\"widget\" data-widget_type=\"heading.default\">\\n\\t\\t\\t\\t<div class=\"elementor-widget-container\">\\n\\t\\t\\t<h2 class=\"elementor-heading-title elementor-size-default\">A Refreshingly Different <br>Web Hosting Experience</h2>\\t\\t</div>\\n\\t\\t\\t\\t</div>\\n\\t\\t\\t\\t<div class=\"elementor-element elementor-element-bf89b8b elementor-widget elementor-widget-spacer\" data-id=\"bf89b8b\" data-element_type=\"widget\" data-widget_type=\"spacer.default\">\\n\\t\\t\\t\\t<div class=\"elementor-widget-container\">\\n\\t\\t\\t\\t\\t<div class=\"elementor-spacer\">\\n\\t\\t\\t<div class=\"elementor-spacer-inner\"></div>\\n\\t\\t</div>\\n\\t\\t\\t\\t</div>\\n\\t\\t\\t\\t</div>\\n\\t\\t\\t\\t\\t\\t</div>\\n\\t\\t\\t\\t\\t</div>\\n\\t\\t</div>\\n\\t\\t\\t\\t\\t\\t\\t\\t</div>\\n\\t\\t\\t\\t\\t</div>\\n\\t\\t</section>\\n\\t\\t\\t\\t<section class=\"elementor-section elementor-top-section elementor-element elementor-element-9fe2ac6 elementor-section-boxed elementor-section-height-default elementor-section-height-default\" data-id=\"9fe2ac6\" data-element_type=\"section\">\\n\\t\\t\\t\\t\\t\\t<div class=\"elementor-container elementor-column-gap-default\">\\n\\t\\t\\t\\t\\t\\t\\t<div class=\"elementor-row\">\\n\\t\\t\\t\\t\\t<div class=\"elementor-column elementor-col-33 elementor-top-column elementor-element elementor-element-3102265\" data-id=\"3102265\" data-element_type=\"column\">\\n\\t\\t\\t<div class=\"elementor-column-wrap elementor-element-populated\">\\n\\t\\t\\t\\t\\t\\t\\t<div class=\"elementor-widget-wrap\">\\n\\t\\t\\t\\t\\t\\t<div class=\"elementor-element elementor-element-d7c8c54 elementor-widget elementor-widget-heading\" data-id=\"d7c8c54\" data-element_type=\"widget\" data-widget_type=\"heading.default\">\\n\\t\\t\\t\\t<div class=\"elementor-widget-container\">\\n\\t\\t\\t<h2 class=\"elementor-heading-title elementor-size-default\">Focused on You.</h2>\\t\\t</div>\\n\\t\\t\\t\\t</div>\\n\\t\\t\\t\\t\\t\\t</div>\\n\\t\\t\\t\\t\\t</div>\\n\\t\\t</div>\\n\\t\\t\\t\\t<div class=\"elementor-column elementor-col-66 elementor-top-column elementor-element elementor-element-b253d06\" data-id=\"b253d06\" data-element_type=\"column\">\\n\\t\\t\\t<div class=\"elementor-column-wrap elementor-element-populated\">\\n\\t\\t\\t\\t\\t\\t\\t<div class=\"elementor-widget-wrap\">\\n\\t\\t\\t\\t\\t\\t<div class=\"elementor-element elementor-element-bc1fce3 elementor-widget elementor-widget-heading\" data-id=\"bc1fce3\" data-element_type=\"widget\" data-widget_type=\"heading.default\">\\n\\t\\t\\t\\t<div class=\"elementor-widget-container\">\\n\\t\\t\\t<h2 class=\"elementor-heading-title elementor-size-default\">Rock-Solid Reliability.</h2>\\t\\t</div>\\n\\t\\t\\t\\t</div>\\n\\t\\t\\t\\t\\t\\t</div>\\n\\t\\t\\t\\t\\t</div>\\n\\t\\t</div>\\n\\t\\t\\t\\t\\t\\t\\t\\t</div>\\n\\t\\t\\t\\t\\t</div>\\n\\t\\t</section>\\n\\t\\t\\t\\t<section class=\"elementor-section elementor-top-section elementor-element elementor-element-ff0b2bb elementor-section-boxed elementor-section-height-default elementor-section-height-default\" data-id=\"ff0b2bb\" data-element_type=\"section\">\\n\\t\\t\\t\\t\\t\\t<div class=\"elementor-container elementor-column-gap-default\">\\n\\t\\t\\t\\t\\t\\t\\t<div class=\"elementor-row\">\\n\\t\\t\\t\\t\\t<div class=\"elementor-column elementor-col-66 elementor-top-column elementor-element elementor-element-15c3fba\" data-id=\"15c3fba\" data-element_type=\"column\">\\n\\t\\t\\t<div class=\"elementor-column-wrap elementor-element-populated\">\\n\\t\\t\\t\\t\\t\\t\\t<div class=\"elementor-widget-wrap\">\\n\\t\\t\\t\\t\\t\\t<div class=\"elementor-element elementor-element-c3ff469 elementor-widget elementor-widget-text-editor\" data-id=\"c3ff469\" data-element_type=\"widget\" data-widget_type=\"text-editor.default\">\\n\\t\\t\\t\\t<div class=\"elementor-widget-container\">\\n\\t\\t\\t\\t\\t\\t\\t\\t<div class=\"elementor-text-editor elementor-clearfix\">\\n\\t\\t\\t\\t<p><span style=\"color: #000000;\"><strong>Pro-Consumer Policies</strong></span></p><p><span style=\"color: #000000;\">We deliver fair, predictable, transparent web hosting services that doesn&#8217;t include hidden fees, gimmicky introductory pricing, contracts, or account change penalties.\\xa0</span></p><p><span style=\"color: #000000;\"><strong>Reach Out Any Time</strong></span></p><p><span style=\"color: #000000;\">Contact Pair and work with a real human working locally in our Pittsburgh-based facilities.\\xa0</span></p>\\t\\t\\t\\t\\t</div>\\n\\t\\t\\t\\t\\t\\t</div>\\n\\t\\t\\t\\t</div>\\n\\t\\t\\t\\t\\t\\t</div>\\n\\t\\t\\t\\t\\t</div>\\n\\t\\t</div>\\n\\t\\t\\t\\t<div class=\"elementor-column elementor-col-33 elementor-top-column elementor-element elementor-element-9e2f336\" data-id=\"9e2f336\" data-element_type=\"column\">\\n\\t\\t\\t<div class=\"elementor-column-wrap elementor-element-populated\">\\n\\t\\t\\t\\t\\t\\t\\t<div class=\"elementor-widget-wrap\">\\n\\t\\t\\t\\t\\t\\t<div class=\"elementor-element elementor-element-54ee9b9 elementor-widget elementor-widget-text-editor\" data-id=\"54ee9b9\" data-element_type=\"widget\" data-widget_type=\"text-editor.default\">\\n\\t\\t\\t\\t<div class=\"elementor-widget-container\">\\n\\t\\t\\t\\t\\t\\t\\t\\t<div class=\"elementor-text-editor elementor-clearfix\">\\n\\t\\t\\t\\t<p><span style=\"color: #000000;\"><strong>24/7 Web Hosting Support</strong></span></p><p><span style=\"color: #000000;\">We work 24/7 to monitor our servers, datacenter, and network to give you great speed, reliability, security, and uptime.</span></p><p><span style=\"color: #000000;\"><strong>Providing Services Since 1995</strong></span></p><p><span style=\"color: #000000;\">25 years in web hosting services is forever. We&#8217;ve seen and survived it all. Count on us to be around the next 25 years, too.</span></p>\\t\\t\\t\\t\\t</div>\\n\\t\\t\\t\\t\\t\\t</div>\\n\\t\\t\\t\\t</div>\\n\\t\\t\\t\\t\\t\\t</div>\\n\\t\\t\\t\\t\\t</div>\\n\\t\\t</div>\\n\\t\\t\\t\\t\\t\\t\\t\\t</div>\\n\\t\\t\\t\\t\\t</div>\\n\\t\\t</section>\\n\\t\\t\\t\\t<section class=\"elementor-section elementor-top-section elementor-element elementor-element-58ecee1 elementor-section-boxed elementor-section-height-default elementor-section-height-default\" data-id=\"58ecee1\" data-element_type=\"section\">\\n\\t\\t\\t\\t\\t\\t<div class=\"elementor-container elementor-column-gap-default\">\\n\\t\\t\\t\\t\\t\\t\\t<div class=\"elementor-row\">\\n\\t\\t\\t\\t\\t<div class=\"elementor-column elementor-col-100 elementor-top-column elementor-element elementor-element-aa76886\" data-id=\"aa76886\" data-element_type=\"column\">\\n\\t\\t\\t<div class=\"elementor-column-wrap elementor-element-populated\">\\n\\t\\t\\t\\t\\t\\t\\t<div class=\"elementor-widget-wrap\">\\n\\t\\t\\t\\t\\t\\t<div class=\"elementor-element elementor-element-abf31cb elementor-widget elementor-widget-spacer\" data-id=\"abf31cb\" data-element_type=\"widget\" data-widget_type=\"spacer.default\">\\n\\t\\t\\t\\t<div class=\"elementor-widget-container\">\\n\\t\\t\\t\\t\\t<div class=\"elementor-spacer\">\\n\\t\\t\\t<div class=\"elementor-spacer-inner\"></div>\\n\\t\\t</div>\\n\\t\\t\\t\\t</div>\\n\\t\\t\\t\\t</div>\\n\\t\\t\\t\\t\\t\\t</div>\\n\\t\\t\\t\\t\\t</div>\\n\\t\\t</div>\\n\\t\\t\\t\\t\\t\\t\\t\\t</div>\\n\\t\\t\\t\\t\\t</div>\\n\\t\\t</section>\\n\\t\\t\\t\\t<section class=\"elementor-section elementor-top-section elementor-element elementor-element-fe1399b elementor-section-full_width elementor-section-height-min-height elementor-section-items-bottom elementor-section-height-default\" data-id=\"fe1399b\" data-element_type=\"section\" data-settings=\"{&quot;background_background&quot;:&quot;classic&quot;}\">\\n\\t\\t\\t\\t\\t\\t\\t<div class=\"elementor-background-overlay\"></div>\\n\\t\\t\\t\\t\\t\\t\\t<div class=\"elementor-container elementor-column-gap-default\">\\n\\t\\t\\t\\t\\t\\t\\t<div class=\"elementor-row\">\\n\\t\\t\\t\\t\\t<div class=\"elementor-column elementor-col-100 elementor-top-column elementor-element elementor-element-f430cdf\" data-id=\"f430cdf\" data-element_type=\"column\">\\n\\t\\t\\t<div class=\"elementor-column-wrap elementor-element-populated\">\\n\\t\\t\\t\\t\\t\\t\\t<div class=\"elementor-widget-wrap\">\\n\\t\\t\\t\\t\\t\\t<div class=\"elementor-element elementor-element-5988639 elementor-widget elementor-widget-spacer\" data-id=\"5988639\" data-element_type=\"widget\" data-widget_type=\"spacer.default\">\\n\\t\\t\\t\\t<div class=\"elementor-widget-container\">\\n\\t\\t\\t\\t\\t<div class=\"elementor-spacer\">\\n\\t\\t\\t<div class=\"elementor-spacer-inner\"></div>\\n\\t\\t</div>\\n\\t\\t\\t\\t</div>\\n\\t\\t\\t\\t</div>\\n\\t\\t\\t\\t<div class=\"elementor-element elementor-element-4565b81 elementor-widget elementor-widget-heading\" data-id=\"4565b81\" data-element_type=\"widget\" data-widget_type=\"heading.default\">\\n\\t\\t\\t\\t<div class=\"elementor-widget-container\">\\n\\t\\t\\t<h2 class=\"elementor-heading-title elementor-size-default\">The Platform of Choice</h2>\\t\\t</div>\\n\\t\\t\\t\\t</div>\\n\\t\\t\\t\\t\\t\\t</div>\\n\\t\\t\\t\\t\\t</div>\\n\\t\\t</div>\\n\\t\\t\\t\\t\\t\\t\\t\\t</div>\\n\\t\\t\\t\\t\\t</div>\\n\\t\\t</section>\\n\\t\\t\\t\\t<section class=\"elementor-section elementor-top-section elementor-element elementor-element-d450dd5 elementor-section-content-middle elementor-section-boxed elementor-section-height-default elementor-section-height-default\" data-id=\"d450dd5\" data-element_type=\"section\" data-settings=\"{&quot;background_background&quot;:&quot;classic&quot;}\">\\n\\t\\t\\t\\t\\t\\t<div class=\"elementor-container elementor-column-gap-wider\">\\n\\t\\t\\t\\t\\t\\t\\t<div class=\"elementor-row\">\\n\\t\\t\\t\\t\\t<div class=\"elementor-column elementor-col-100 elementor-top-column elementor-element elementor-element-434c3e5\" data-id=\"434c3e5\" data-element_type=\"column\" data-settings=\"{&quot;background_background&quot;:&quot;classic&quot;}\">\\n\\t\\t\\t<div class=\"elementor-column-wrap elementor-element-populated\">\\n\\t\\t\\t\\t\\t\\t\\t<div class=\"elementor-widget-wrap\">\\n\\t\\t\\t\\t\\t\\t<div class=\"elementor-element elementor-element-c81fe7e elementor-widget elementor-widget-spacer\" data-id=\"c81fe7e\" data-element_type=\"widget\" data-widget_type=\"spacer.default\">\\n\\t\\t\\t\\t<div class=\"elementor-widget-container\">\\n\\t\\t\\t\\t\\t<div class=\"elementor-spacer\">\\n\\t\\t\\t<div class=\"elementor-spacer-inner\"></div>\\n\\t\\t</div>\\n\\t\\t\\t\\t</div>\\n\\t\\t\\t\\t</div>\\n\\t\\t\\t\\t<section class=\"elementor-section elementor-inner-section elementor-element elementor-element-6e9a237 elementor-section-boxed elementor-section-height-default elementor-section-height-default\" data-id=\"6e9a237\" data-element_type=\"section\">\\n\\t\\t\\t\\t\\t\\t<div class=\"elementor-container elementor-column-gap-default\">\\n\\t\\t\\t\\t\\t\\t\\t<div class=\"elementor-row\">\\n\\t\\t\\t\\t\\t<div class=\"elementor-column elementor-col-50 elementor-inner-column elementor-element elementor-element-9a658e6\" data-id=\"9a658e6\" data-element_type=\"column\">\\n\\t\\t\\t<div class=\"elementor-column-wrap elementor-element-populated\">\\n\\t\\t\\t\\t\\t\\t\\t<div class=\"elementor-widget-wrap\">\\n\\t\\t\\t\\t\\t\\t<div class=\"elementor-element elementor-element-bd6bb3f elementor-view-default elementor-widget elementor-widget-icon\" data-id=\"bd6bb3f\" data-element_type=\"widget\" data-widget_type=\"icon.default\">\\n\\t\\t\\t\\t<div class=\"elementor-widget-container\">\\n\\t\\t\\t\\t\\t<div class=\"elementor-icon-wrapper\">\\n\\t\\t\\t<div class=\"elementor-icon\">\\n\\t\\t\\t<i aria-hidden=\"true\" class=\"fas fa-globe-americas\"></i>\\t\\t\\t</div>\\n\\t\\t</div>\\n\\t\\t\\t\\t</div>\\n\\t\\t\\t\\t</div>\\n\\t\\t\\t\\t<div class=\"elementor-element elementor-element-c871db6 elementor-widget elementor-widget-heading\" data-id=\"c871db6\" data-element_type=\"widget\" data-widget_type=\"heading.default\">\\n\\t\\t\\t\\t<div class=\"elementor-widget-container\">\\n\\t\\t\\t<h2 class=\"elementor-heading-title elementor-size-default\">120+\\nCountries</h2>\\t\\t</div>\\n\\t\\t\\t\\t</div>\\n\\t\\t\\t\\t<div class=\"elementor-element elementor-element-c29c0f7 elementor-widget elementor-widget-text-editor\" data-id=\"c29c0f7\" data-element_type=\"widget\" data-widget_type=\"text-editor.default\">\\n\\t\\t\\t\\t<div class=\"elementor-widget-container\">\\n\\t\\t\\t\\t\\t\\t\\t\\t<div class=\"elementor-text-editor elementor-clearfix\">\\n\\t\\t\\t\\t<p>On Six Continents</p>\\t\\t\\t\\t\\t</div>\\n\\t\\t\\t\\t\\t\\t</div>\\n\\t\\t\\t\\t</div>\\n\\t\\t\\t\\t\\t\\t</div>\\n\\t\\t\\t\\t\\t</div>\\n\\t\\t</div>\\n\\t\\t\\t\\t<div class=\"elementor-column elementor-col-50 elementor-inner-column elementor-element elementor-element-665bca6\" data-id=\"665bca6\" data-element_type=\"column\">\\n\\t\\t\\t<div class=\"elementor-column-wrap elementor-element-populated\">\\n\\t\\t\\t\\t\\t\\t\\t<div class=\"elementor-widget-wrap\">\\n\\t\\t\\t\\t\\t\\t<div class=\"elementor-element elementor-element-67984da elementor-view-default elementor-widget elementor-widget-icon\" data-id=\"67984da\" data-element_type=\"widget\" data-widget_type=\"icon.default\">\\n\\t\\t\\t\\t<div class=\"elementor-widget-container\">\\n\\t\\t\\t\\t\\t<div class=\"elementor-icon-wrapper\">\\n\\t\\t\\t<div class=\"elementor-icon\">\\n\\t\\t\\t<i aria-hidden=\"true\" class=\"fas fa-desktop\"></i>\\t\\t\\t</div>\\n\\t\\t</div>\\n\\t\\t\\t\\t</div>\\n\\t\\t\\t\\t</div>\\n\\t\\t\\t\\t<div class=\"elementor-element elementor-element-f6a8d05 elementor-widget elementor-widget-heading\" data-id=\"f6a8d05\" data-element_type=\"widget\" data-widget_type=\"heading.default\">\\n\\t\\t\\t\\t<div class=\"elementor-widget-container\">\\n\\t\\t\\t<h2 class=\"elementor-heading-title elementor-size-default\">Over 140,000</h2>\\t\\t</div>\\n\\t\\t\\t\\t</div>\\n\\t\\t\\t\\t<div class=\"elementor-element elementor-element-fbf253d elementor-widget elementor-widget-text-editor\" data-id=\"fbf253d\" data-element_type=\"widget\" data-widget_type=\"text-editor.default\">\\n\\t\\t\\t\\t<div class=\"elementor-widget-container\">\\n\\t\\t\\t\\t\\t\\t\\t\\t<div class=\"elementor-text-editor elementor-clearfix\">\\n\\t\\t\\t\\t<p>Active Domains</p>\\t\\t\\t\\t\\t</div>\\n\\t\\t\\t\\t\\t\\t</div>\\n\\t\\t\\t\\t</div>\\n\\t\\t\\t\\t\\t\\t</div>\\n\\t\\t\\t\\t\\t</div>\\n\\t\\t</div>\\n\\t\\t\\t\\t\\t\\t\\t\\t</div>\\n\\t\\t\\t\\t\\t</div>\\n\\t\\t</section>\\n\\t\\t\\t\\t<section class=\"elementor-section elementor-inner-section elementor-element elementor-element-ffa4362 elementor-section-boxed elementor-section-height-default elementor-section-height-default\" data-id=\"ffa4362\" data-element_type=\"section\">\\n\\t\\t\\t\\t\\t\\t<div class=\"elementor-container elementor-column-gap-default\">\\n\\t\\t\\t\\t\\t\\t\\t<div class=\"elementor-row\">\\n\\t\\t\\t\\t\\t<div class=\"elementor-column elementor-col-50 elementor-inner-column elementor-element elementor-element-1e0204c\" data-id=\"1e0204c\" data-element_type=\"column\">\\n\\t\\t\\t<div class=\"elementor-column-wrap elementor-element-populated\">\\n\\t\\t\\t\\t\\t\\t\\t<div class=\"elementor-widget-wrap\">\\n\\t\\t\\t\\t\\t\\t<div class=\"elementor-element elementor-element-eec0eed elementor-view-default elementor-widget elementor-widget-icon\" data-id=\"eec0eed\" data-element_type=\"widget\" data-widget_type=\"icon.default\">\\n\\t\\t\\t\\t<div class=\"elementor-widget-container\">\\n\\t\\t\\t\\t\\t<div class=\"elementor-icon-wrapper\">\\n\\t\\t\\t<div class=\"elementor-icon\">\\n\\t\\t\\t<i aria-hidden=\"true\" class=\"fas fa-mug-hot\"></i>\\t\\t\\t</div>\\n\\t\\t</div>\\n\\t\\t\\t\\t</div>\\n\\t\\t\\t\\t</div>\\n\\t\\t\\t\\t<div class=\"elementor-element elementor-element-1af7533 elementor-widget elementor-widget-heading\" data-id=\"1af7533\" data-element_type=\"widget\" data-widget_type=\"heading.default\">\\n\\t\\t\\t\\t<div class=\"elementor-widget-container\">\\n\\t\\t\\t<h2 class=\"elementor-heading-title elementor-size-default\">24 <br>Years</h2>\\t\\t</div>\\n\\t\\t\\t\\t</div>\\n\\t\\t\\t\\t<div class=\"elementor-element elementor-element-bc58be3 elementor-widget elementor-widget-text-editor\" data-id=\"bc58be3\" data-element_type=\"widget\" data-widget_type=\"text-editor.default\">\\n\\t\\t\\t\\t<div class=\"elementor-widget-container\">\\n\\t\\t\\t\\t\\t\\t\\t\\t<div class=\"elementor-text-editor elementor-clearfix\">\\n\\t\\t\\t\\t<p>in Business</p>\\t\\t\\t\\t\\t</div>\\n\\t\\t\\t\\t\\t\\t</div>\\n\\t\\t\\t\\t</div>\\n\\t\\t\\t\\t\\t\\t</div>\\n\\t\\t\\t\\t\\t</div>\\n\\t\\t</div>\\n\\t\\t\\t\\t<div class=\"elementor-column elementor-col-50 elementor-inner-column elementor-element elementor-element-c569518\" data-id=\"c569518\" data-element_type=\"column\">\\n\\t\\t\\t<div class=\"elementor-column-wrap elementor-element-populated\">\\n\\t\\t\\t\\t\\t\\t\\t<div class=\"elementor-widget-wrap\">\\n\\t\\t\\t\\t\\t\\t<div class=\"elementor-element elementor-element-c516225 elementor-view-default elementor-widget elementor-widget-icon\" data-id=\"c516225\" data-element_type=\"widget\" data-widget_type=\"icon.default\">\\n\\t\\t\\t\\t<div class=\"elementor-widget-container\">\\n\\t\\t\\t\\t\\t<div class=\"elementor-icon-wrapper\">\\n\\t\\t\\t<div class=\"elementor-icon\">\\n\\t\\t\\t<i aria-hidden=\"true\" class=\"fas fa-award\"></i>\\t\\t\\t</div>\\n\\t\\t</div>\\n\\t\\t\\t\\t</div>\\n\\t\\t\\t\\t</div>\\n\\t\\t\\t\\t<div class=\"elementor-element elementor-element-9baed25 elementor-widget elementor-widget-heading\" data-id=\"9baed25\" data-element_type=\"widget\" data-widget_type=\"heading.default\">\\n\\t\\t\\t\\t<div class=\"elementor-widget-container\">\\n\\t\\t\\t<h2 class=\"elementor-heading-title elementor-size-default\">Best Places<br>to Work in Pittsburgh</h2>\\t\\t</div>\\n\\t\\t\\t\\t</div>\\n\\t\\t\\t\\t<div class=\"elementor-element elementor-element-8cbd98a elementor-widget elementor-widget-text-editor\" data-id=\"8cbd98a\" data-element_type=\"widget\" data-widget_type=\"text-editor.default\">\\n\\t\\t\\t\\t<div class=\"elementor-widget-container\">\\n\\t\\t\\t\\t\\t\\t\\t\\t<div class=\"elementor-text-editor elementor-clearfix\">\\n\\t\\t\\t\\t<p>Good Support<br />Comes from Happy Employees</p>\\t\\t\\t\\t\\t</div>\\n\\t\\t\\t\\t\\t\\t</div>\\n\\t\\t\\t\\t</div>\\n\\t\\t\\t\\t\\t\\t</div>\\n\\t\\t\\t\\t\\t</div>\\n\\t\\t</div>\\n\\t\\t\\t\\t\\t\\t\\t\\t</div>\\n\\t\\t\\t\\t\\t</div>\\n\\t\\t</section>\\n\\t\\t\\t\\t<div class=\"elementor-element elementor-element-7d2b40f elementor-widget elementor-widget-spacer\" data-id=\"7d2b40f\" data-element_type=\"widget\" data-widget_type=\"spacer.default\">\\n\\t\\t\\t\\t<div class=\"elementor-widget-container\">\\n\\t\\t\\t\\t\\t<div class=\"elementor-spacer\">\\n\\t\\t\\t<div class=\"elementor-spacer-inner\"></div>\\n\\t\\t</div>\\n\\t\\t\\t\\t</div>\\n\\t\\t\\t\\t</div>\\n\\t\\t\\t\\t\\t\\t</div>\\n\\t\\t\\t\\t\\t</div>\\n\\t\\t</div>\\n\\t\\t\\t\\t\\t\\t\\t\\t</div>\\n\\t\\t\\t\\t\\t</div>\\n\\t\\t</section>\\n\\t\\t\\t\\t<section class=\"elementor-section elementor-top-section elementor-element elementor-element-900adc0 elementor-section-boxed elementor-section-height-default elementor-section-height-default\" data-id=\"900adc0\" data-element_type=\"section\">\\n\\t\\t\\t\\t\\t\\t<div class=\"elementor-container elementor-column-gap-default\">\\n\\t\\t\\t\\t\\t\\t\\t<div class=\"elementor-row\">\\n\\t\\t\\t\\t\\t<div class=\"elementor-column elementor-col-100 elementor-top-column elementor-element elementor-element-6b64d79\" data-id=\"6b64d79\" data-element_type=\"column\">\\n\\t\\t\\t<div class=\"elementor-column-wrap elementor-element-populated\">\\n\\t\\t\\t\\t\\t\\t\\t<div class=\"elementor-widget-wrap\">\\n\\t\\t\\t\\t\\t\\t<div class=\"elementor-element elementor-element-776ce48 elementor-widget elementor-widget-spacer\" data-id=\"776ce48\" data-element_type=\"widget\" data-widget_type=\"spacer.default\">\\n\\t\\t\\t\\t<div class=\"elementor-widget-container\">\\n\\t\\t\\t\\t\\t<div class=\"elementor-spacer\">\\n\\t\\t\\t<div class=\"elementor-spacer-inner\"></div>\\n\\t\\t</div>\\n\\t\\t\\t\\t</div>\\n\\t\\t\\t\\t</div>\\n\\t\\t\\t\\t<div class=\"elementor-element elementor-element-c815813 elementor-widget elementor-widget-spacer\" data-id=\"c815813\" data-element_type=\"widget\" data-widget_type=\"spacer.default\">\\n\\t\\t\\t\\t<div class=\"elementor-widget-container\">\\n\\t\\t\\t\\t\\t<div class=\"elementor-spacer\">\\n\\t\\t\\t<div class=\"elementor-spacer-inner\"></div>\\n\\t\\t</div>\\n\\t\\t\\t\\t</div>\\n\\t\\t\\t\\t</div>\\n\\t\\t\\t\\t<div class=\"elementor-element elementor-element-ad1da65 elementor-widget elementor-widget-heading\" data-id=\"ad1da65\" data-element_type=\"widget\" data-widget_type=\"heading.default\">\\n\\t\\t\\t\\t<div class=\"elementor-widget-container\">\\n\\t\\t\\t<h2 class=\"elementor-heading-title elementor-size-default\">Get Started with Web Hosting You\\'ll Love</h2>\\t\\t</div>\\n\\t\\t\\t\\t</div>\\n\\t\\t\\t\\t<div class=\"elementor-element elementor-element-f270148 elementor-widget elementor-widget-spacer\" data-id=\"f270148\" data-element_type=\"widget\" data-widget_type=\"spacer.default\">\\n\\t\\t\\t\\t<div class=\"elementor-widget-container\">\\n\\t\\t\\t\\t\\t<div class=\"elementor-spacer\">\\n\\t\\t\\t<div class=\"elementor-spacer-inner\"></div>\\n\\t\\t</div>\\n\\t\\t\\t\\t</div>\\n\\t\\t\\t\\t</div>\\n\\t\\t\\t\\t\\t\\t</div>\\n\\t\\t\\t\\t\\t</div>\\n\\t\\t</div>\\n\\t\\t\\t\\t\\t\\t\\t\\t</div>\\n\\t\\t\\t\\t\\t</div>\\n\\t\\t</section>\\n\\t\\t\\t\\t<section class=\"elementor-section elementor-top-section elementor-element elementor-element-fcd9d19 elementor-section-boxed elementor-section-height-default elementor-section-height-default\" data-id=\"fcd9d19\" data-element_type=\"section\">\\n\\t\\t\\t\\t\\t\\t<div class=\"elementor-container elementor-column-gap-default\">\\n\\t\\t\\t\\t\\t\\t\\t<div class=\"elementor-row\">\\n\\t\\t\\t\\t\\t<div class=\"elementor-column elementor-col-50 elementor-top-column elementor-element elementor-element-9a62abb\" data-id=\"9a62abb\" data-element_type=\"column\" data-settings=\"{&quot;background_background&quot;:&quot;classic&quot;}\">\\n\\t\\t\\t<div class=\"elementor-column-wrap elementor-element-populated\">\\n\\t\\t\\t\\t\\t\\t\\t<div class=\"elementor-widget-wrap\">\\n\\t\\t\\t\\t\\t\\t<div class=\"elementor-element elementor-element-2f2d03a elementor-widget elementor-widget-spacer\" data-id=\"2f2d03a\" data-element_type=\"widget\" data-widget_type=\"spacer.default\">\\n\\t\\t\\t\\t<div class=\"elementor-widget-container\">\\n\\t\\t\\t\\t\\t<div class=\"elementor-spacer\">\\n\\t\\t\\t<div class=\"elementor-spacer-inner\"></div>\\n\\t\\t</div>\\n\\t\\t\\t\\t</div>\\n\\t\\t\\t\\t</div>\\n\\t\\t\\t\\t<div class=\"elementor-element elementor-element-749aa13 elementor-widget elementor-widget-heading\" data-id=\"749aa13\" data-element_type=\"widget\" data-widget_type=\"heading.default\">\\n\\t\\t\\t\\t<div class=\"elementor-widget-container\">\\n\\t\\t\\t<h2 class=\"elementor-heading-title elementor-size-default\">I need a new website</h2>\\t\\t</div>\\n\\t\\t\\t\\t</div>\\n\\t\\t\\t\\t<div class=\"elementor-element elementor-element-45dd10c elementor-widget elementor-widget-heading\" data-id=\"45dd10c\" data-element_type=\"widget\" data-widget_type=\"heading.default\">\\n\\t\\t\\t\\t<div class=\"elementor-widget-container\">\\n\\t\\t\\t<h2 class=\"elementor-heading-title elementor-size-default\">Hassle-Free<br>Site Launch</h2>\\t\\t</div>\\n\\t\\t\\t\\t</div>\\n\\t\\t\\t\\t<div class=\"elementor-element elementor-element-f4c79d2 elementor-widget elementor-widget-spacer\" data-id=\"f4c79d2\" data-element_type=\"widget\" data-widget_type=\"spacer.default\">\\n\\t\\t\\t\\t<div class=\"elementor-widget-container\">\\n\\t\\t\\t\\t\\t<div class=\"elementor-spacer\">\\n\\t\\t\\t<div class=\"elementor-spacer-inner\"></div>\\n\\t\\t</div>\\n\\t\\t\\t\\t</div>\\n\\t\\t\\t\\t</div>\\n\\t\\t\\t\\t<div class=\"elementor-element elementor-element-9edd767 elementor-align-center elementor-widget elementor-widget-button\" data-id=\"9edd767\" data-element_type=\"widget\" data-widget_type=\"button.default\">\\n\\t\\t\\t\\t<div class=\"elementor-widget-container\">\\n\\t\\t\\t\\t\\t<div class=\"elementor-button-wrapper\">\\n\\t\\t\\t<a href=\"https://www.pair.com/help-me-choose/\" class=\"elementor-button-link elementor-button elementor-size-md\" role=\"button\">\\n\\t\\t\\t\\t\\t\\t<span class=\"elementor-button-content-wrapper\">\\n\\t\\t\\t\\t\\t\\t<span class=\"elementor-button-text\">SEE MY OPTIONS</span>\\n\\t\\t</span>\\n\\t\\t\\t\\t\\t</a>\\n\\t\\t</div>\\n\\t\\t\\t\\t</div>\\n\\t\\t\\t\\t</div>\\n\\t\\t\\t\\t\\t\\t</div>\\n\\t\\t\\t\\t\\t</div>\\n\\t\\t</div>\\n\\t\\t\\t\\t<div class=\"elementor-column elementor-col-50 elementor-top-column elementor-element elementor-element-ad581ec\" data-id=\"ad581ec\" data-element_type=\"column\" data-settings=\"{&quot;background_background&quot;:&quot;classic&quot;}\">\\n\\t\\t\\t<div class=\"elementor-column-wrap elementor-element-populated\">\\n\\t\\t\\t\\t\\t\\t\\t<div class=\"elementor-widget-wrap\">\\n\\t\\t\\t\\t\\t\\t<div class=\"elementor-element elementor-element-a21e8c5 elementor-widget elementor-widget-spacer\" data-id=\"a21e8c5\" data-element_type=\"widget\" data-widget_type=\"spacer.default\">\\n\\t\\t\\t\\t<div class=\"elementor-widget-container\">\\n\\t\\t\\t\\t\\t<div class=\"elementor-spacer\">\\n\\t\\t\\t<div class=\"elementor-spacer-inner\"></div>\\n\\t\\t</div>\\n\\t\\t\\t\\t</div>\\n\\t\\t\\t\\t</div>\\n\\t\\t\\t\\t<div class=\"elementor-element elementor-element-40dc655 elementor-widget elementor-widget-heading\" data-id=\"40dc655\" data-element_type=\"widget\" data-widget_type=\"heading.default\">\\n\\t\\t\\t\\t<div class=\"elementor-widget-container\">\\n\\t\\t\\t<h2 class=\"elementor-heading-title elementor-size-default\">I already have a website</h2>\\t\\t</div>\\n\\t\\t\\t\\t</div>\\n\\t\\t\\t\\t<div class=\"elementor-element elementor-element-f08892b elementor-widget elementor-widget-heading\" data-id=\"f08892b\" data-element_type=\"widget\" data-widget_type=\"heading.default\">\\n\\t\\t\\t\\t<div class=\"elementor-widget-container\">\\n\\t\\t\\t<h2 class=\"elementor-heading-title elementor-size-default\">Hands-Free<br>Site Migration</h2>\\t\\t</div>\\n\\t\\t\\t\\t</div>\\n\\t\\t\\t\\t<div class=\"elementor-element elementor-element-606f6d3 elementor-widget elementor-widget-spacer\" data-id=\"606f6d3\" data-element_type=\"widget\" data-widget_type=\"spacer.default\">\\n\\t\\t\\t\\t<div class=\"elementor-widget-container\">\\n\\t\\t\\t\\t\\t<div class=\"elementor-spacer\">\\n\\t\\t\\t<div class=\"elementor-spacer-inner\"></div>\\n\\t\\t</div>\\n\\t\\t\\t\\t</div>\\n\\t\\t\\t\\t</div>\\n\\t\\t\\t\\t<div class=\"elementor-element elementor-element-8400c9b elementor-align-center elementor-widget elementor-widget-button\" data-id=\"8400c9b\" data-element_type=\"widget\" data-widget_type=\"button.default\">\\n\\t\\t\\t\\t<div class=\"elementor-widget-container\">\\n\\t\\t\\t\\t\\t<div class=\"elementor-button-wrapper\">\\n\\t\\t\\t<a href=\"https://www.pair.com/solutions/move-to-pair/\" class=\"elementor-button-link elementor-button elementor-size-md\" role=\"button\">\\n\\t\\t\\t\\t\\t\\t<span class=\"elementor-button-content-wrapper\">\\n\\t\\t\\t\\t\\t\\t<span class=\"elementor-button-text\">MOVE MY SITE</span>\\n\\t\\t</span>\\n\\t\\t\\t\\t\\t</a>\\n\\t\\t</div>\\n\\t\\t\\t\\t</div>\\n\\t\\t\\t\\t</div>\\n\\t\\t\\t\\t\\t\\t</div>\\n\\t\\t\\t\\t\\t</div>\\n\\t\\t</div>\\n\\t\\t\\t\\t\\t\\t\\t\\t</div>\\n\\t\\t\\t\\t\\t</div>\\n\\t\\t</section>\\n\\t\\t\\t\\t<section class=\"elementor-section elementor-top-section elementor-element elementor-element-38bd8e6 elementor-section-boxed elementor-section-height-default elementor-section-height-default\" data-id=\"38bd8e6\" data-element_type=\"section\">\\n\\t\\t\\t\\t\\t\\t<div class=\"elementor-container elementor-column-gap-default\">\\n\\t\\t\\t\\t\\t\\t\\t<div class=\"elementor-row\">\\n\\t\\t\\t\\t\\t<div class=\"elementor-column elementor-col-100 elementor-top-column elementor-element elementor-element-5743b19\" data-id=\"5743b19\" data-element_type=\"column\">\\n\\t\\t\\t<div class=\"elementor-column-wrap elementor-element-populated\">\\n\\t\\t\\t\\t\\t\\t\\t<div class=\"elementor-widget-wrap\">\\n\\t\\t\\t\\t\\t\\t<div class=\"elementor-element elementor-element-5a6ae41 elementor-widget elementor-widget-spacer\" data-id=\"5a6ae41\" data-element_type=\"widget\" data-widget_type=\"spacer.default\">\\n\\t\\t\\t\\t<div class=\"elementor-widget-container\">\\n\\t\\t\\t\\t\\t<div class=\"elementor-spacer\">\\n\\t\\t\\t<div class=\"elementor-spacer-inner\"></div>\\n\\t\\t</div>\\n\\t\\t\\t\\t</div>\\n\\t\\t\\t\\t</div>\\n\\t\\t\\t\\t<div class=\"elementor-element elementor-element-6db2948 elementor-widget elementor-widget-spacer\" data-id=\"6db2948\" data-element_type=\"widget\" data-widget_type=\"spacer.default\">\\n\\t\\t\\t\\t<div class=\"elementor-widget-container\">\\n\\t\\t\\t\\t\\t<div class=\"elementor-spacer\">\\n\\t\\t\\t<div class=\"elementor-spacer-inner\"></div>\\n\\t\\t</div>\\n\\t\\t\\t\\t</div>\\n\\t\\t\\t\\t</div>\\n\\t\\t\\t\\t<div class=\"elementor-element elementor-element-a0b45f9 elementor-widget elementor-widget-heading\" data-id=\"a0b45f9\" data-element_type=\"widget\" data-widget_type=\"heading.default\">\\n\\t\\t\\t\\t<div class=\"elementor-widget-container\">\\n\\t\\t\\t<h2 class=\"elementor-heading-title elementor-size-default\">Find Your Perfect Hosting Package</h2>\\t\\t</div>\\n\\t\\t\\t\\t</div>\\n\\t\\t\\t\\t\\t\\t</div>\\n\\t\\t\\t\\t\\t</div>\\n\\t\\t</div>\\n\\t\\t\\t\\t\\t\\t\\t\\t</div>\\n\\t\\t\\t\\t\\t</div>\\n\\t\\t</section>\\n\\t\\t\\t\\t<section class=\"elementor-section elementor-inner-section elementor-element elementor-element-2b02ab7 elementor-section-boxed elementor-section-height-default elementor-section-height-default\" data-id=\"2b02ab7\" data-element_type=\"section\">\\n\\t\\t\\t\\t\\t\\t<div class=\"elementor-container elementor-column-gap-default\">\\n\\t\\t\\t\\t\\t\\t\\t<div class=\"elementor-row\">\\n\\t\\t\\t\\t\\t<div class=\"elementor-column elementor-col-33 elementor-inner-column elementor-element elementor-element-c7be65e\" data-id=\"c7be65e\" data-element_type=\"column\">\\n\\t\\t\\t<div class=\"elementor-column-wrap elementor-element-populated\">\\n\\t\\t\\t\\t\\t\\t\\t<div class=\"elementor-widget-wrap\">\\n\\t\\t\\t\\t\\t\\t<div class=\"elementor-element elementor-element-d80d653 elementor-widget elementor-widget-heading\" data-id=\"d80d653\" data-element_type=\"widget\" data-widget_type=\"heading.default\">\\n\\t\\t\\t\\t<div class=\"elementor-widget-container\">\\n\\t\\t\\t<h2 class=\"elementor-heading-title elementor-size-default\">Hosting Plans Include these Premium Features: \\n</h2>\\t\\t</div>\\n\\t\\t\\t\\t</div>\\n\\t\\t\\t\\t\\t\\t</div>\\n\\t\\t\\t\\t\\t</div>\\n\\t\\t</div>\\n\\t\\t\\t\\t<div class=\"elementor-column elementor-col-66 elementor-inner-column elementor-element elementor-element-5f9947f\" data-id=\"5f9947f\" data-element_type=\"column\">\\n\\t\\t\\t<div class=\"elementor-column-wrap elementor-element-populated\">\\n\\t\\t\\t\\t\\t\\t\\t<div class=\"elementor-widget-wrap\">\\n\\t\\t\\t\\t\\t\\t<div class=\"elementor-element elementor-element-2f5e6d1 elementor-icon-list--layout-inline elementor-align-center elementor-list-item-link-full_width elementor-widget elementor-widget-icon-list\" data-id=\"2f5e6d1\" data-element_type=\"widget\" data-widget_type=\"icon-list.default\">\\n\\t\\t\\t\\t<div class=\"elementor-widget-container\">\\n\\t\\t\\t\\t\\t<ul class=\"elementor-icon-list-items elementor-inline-items\">\\n\\t\\t\\t\\t\\t\\t\\t<li class=\"elementor-icon-list-item elementor-inline-item\">\\n\\t\\t\\t\\t\\t\\t\\t\\t\\t\\t\\t<span class=\"elementor-icon-list-icon\">\\n\\t\\t\\t\\t\\t\\t\\t<i aria-hidden=\"true\" class=\"fas fa-check\"></i>\\t\\t\\t\\t\\t\\t</span>\\n\\t\\t\\t\\t\\t\\t\\t\\t\\t\\t<span class=\"elementor-icon-list-text\">24/7 Local, Never-Outsourced Support</span>\\n\\t\\t\\t\\t\\t\\t\\t\\t\\t</li>\\n\\t\\t\\t\\t\\t\\t\\t\\t<li class=\"elementor-icon-list-item elementor-inline-item\">\\n\\t\\t\\t\\t\\t\\t\\t\\t\\t\\t\\t<span class=\"elementor-icon-list-icon\">\\n\\t\\t\\t\\t\\t\\t\\t<i aria-hidden=\"true\" class=\"fas fa-check\"></i>\\t\\t\\t\\t\\t\\t</span>\\n\\t\\t\\t\\t\\t\\t\\t\\t\\t\\t<span class=\"elementor-icon-list-text\">Free SSL Certificates</span>\\n\\t\\t\\t\\t\\t\\t\\t\\t\\t</li>\\n\\t\\t\\t\\t\\t\\t\\t\\t<li class=\"elementor-icon-list-item elementor-inline-item\">\\n\\t\\t\\t\\t\\t\\t\\t\\t\\t\\t\\t<span class=\"elementor-icon-list-icon\">\\n\\t\\t\\t\\t\\t\\t\\t<i aria-hidden=\"true\" class=\"fas fa-check\"></i>\\t\\t\\t\\t\\t\\t</span>\\n\\t\\t\\t\\t\\t\\t\\t\\t\\t\\t<span class=\"elementor-icon-list-text\">No Upgrade or Downgrade Fees</span>\\n\\t\\t\\t\\t\\t\\t\\t\\t\\t</li>\\n\\t\\t\\t\\t\\t\\t\\t\\t<li class=\"elementor-icon-list-item elementor-inline-item\">\\n\\t\\t\\t\\t\\t\\t\\t\\t\\t\\t\\t<span class=\"elementor-icon-list-icon\">\\n\\t\\t\\t\\t\\t\\t\\t<i aria-hidden=\"true\" class=\"fas fa-check\"></i>\\t\\t\\t\\t\\t\\t</span>\\n\\t\\t\\t\\t\\t\\t\\t\\t\\t\\t<span class=\"elementor-icon-list-text\">No Contracts</span>\\n\\t\\t\\t\\t\\t\\t\\t\\t\\t</li>\\n\\t\\t\\t\\t\\t\\t\\t\\t<li class=\"elementor-icon-list-item elementor-inline-item\">\\n\\t\\t\\t\\t\\t\\t\\t\\t\\t\\t\\t<span class=\"elementor-icon-list-icon\">\\n\\t\\t\\t\\t\\t\\t\\t<i aria-hidden=\"true\" class=\"fas fa-check\"></i>\\t\\t\\t\\t\\t\\t</span>\\n\\t\\t\\t\\t\\t\\t\\t\\t\\t\\t<span class=\"elementor-icon-list-text\">No Price Hike Gimmicks</span>\\n\\t\\t\\t\\t\\t\\t\\t\\t\\t</li>\\n\\t\\t\\t\\t\\t\\t</ul>\\n\\t\\t\\t\\t</div>\\n\\t\\t\\t\\t</div>\\n\\t\\t\\t\\t\\t\\t</div>\\n\\t\\t\\t\\t\\t</div>\\n\\t\\t</div>\\n\\t\\t\\t\\t\\t\\t\\t\\t</div>\\n\\t\\t\\t\\t\\t</div>\\n\\t\\t</section>\\n\\t\\t\\t\\t<section class=\"elementor-section elementor-top-section elementor-element elementor-element-ef2bfc2 elementor-section-boxed elementor-section-height-default elementor-section-height-default\" data-id=\"ef2bfc2\" data-element_type=\"section\">\\n\\t\\t\\t\\t\\t\\t<div class=\"elementor-container elementor-column-gap-default\">\\n\\t\\t\\t\\t\\t\\t\\t<div class=\"elementor-row\">\\n\\t\\t\\t\\t\\t<div class=\"elementor-column elementor-col-25 elementor-top-column elementor-element elementor-element-8d7c17e\" data-id=\"8d7c17e\" data-element_type=\"column\">\\n\\t\\t\\t<div class=\"elementor-column-wrap elementor-element-populated\">\\n\\t\\t\\t\\t\\t\\t\\t<div class=\"elementor-widget-wrap\">\\n\\t\\t\\t\\t\\t\\t<div class=\"elementor-element elementor-element-74644b2 elementor-widget elementor-widget-price-table\" data-id=\"74644b2\" data-element_type=\"widget\" data-widget_type=\"price-table.default\">\\n\\t\\t\\t\\t<div class=\"elementor-widget-container\">\\n\\t\\t\\t\\n\\t\\t<div class=\"elementor-price-table\">\\n\\t\\t\\t\\t\\t\\t\\t<div class=\"elementor-price-table__header\">\\n\\t\\t\\t\\t\\t\\t\\t\\t\\t\\t\\t<h3 class=\"elementor-price-table__heading\">\\n\\t\\t\\t\\t\\t\\tShared<br>Web Hosting\\t\\t\\t\\t\\t\\t</h3>\\n\\t\\t\\t\\t\\t\\n\\t\\t\\t\\t\\t\\t\\t\\t\\t\\t\\t<span class=\"elementor-price-table__subheading\">\\n\\t\\t\\t\\t\\t\\t\\tBeginners<br>and Small Businesses\\t\\t\\t\\t\\t\\t</span>\\n\\t\\t\\t\\t\\t\\t\\t\\t\\t</div>\\n\\t\\t\\t\\n\\t\\t\\t<div class=\"elementor-price-table__price\">\\n\\t\\t\\t\\t\\t\\t\\t\\t<span class=\"elementor-price-table__currency\">&#036;</span>\\t\\t\\t\\t\\t\\t\\t\\t\\t<span class=\"elementor-price-table__integer-part\">\\n\\t\\t\\t\\t\\t\\t5\\t\\t\\t\\t\\t</span>\\n\\t\\t\\t\\t\\n\\t\\t\\t\\t\\t\\t\\t\\t\\t<div class=\"elementor-price-table__after-price\">\\n\\t\\t\\t\\t\\t\\t<span class=\"elementor-price-table__fractional-part\">\\n\\t\\t\\t\\t\\t\\t\\t95\\t\\t\\t\\t\\t\\t</span>\\n\\n\\t\\t\\t\\t\\t\\t\\t\\t\\t\\t\\t</div>\\n\\t\\t\\t\\t\\n\\t\\t\\t\\t\\n\\t\\t\\t\\t\\t\\t\\t\\t\\t<span class=\"elementor-price-table__period elementor-typo-excluded\">and up</span>\\t\\t\\t\\t\\t\\t\\t</div>\\n\\n\\t\\t\\t\\t\\t\\t\\t<ul class=\"elementor-price-table__features-list\">\\n\\t\\t\\t\\t\\t\\t\\t\\t\\t\\t\\t<li class=\"elementor-repeater-item-2f2ebb5\">\\n\\t\\t\\t\\t\\t\\t\\t<div class=\"elementor-price-table__feature-inner\">\\n\\t\\t\\t\\t\\t\\t\\t\\t<i aria-hidden=\"true\" class=\"far fa-check-circle\"></i>\\t\\t\\t\\t\\t\\t\\t\\t\\t\\t\\t\\t\\t\\t\\t\\t\\t<span >\\n\\t\\t\\t\\t\\t\\t\\t\\t\\t\\tHost Unlimited Domains\\t\\t\\t\\t\\t\\t\\t\\t\\t</span>\\n\\t\\t\\t\\t\\t\\t\\t\\t\\t\\t\\t\\t\\t\\t\\t\\t</div>\\n\\t\\t\\t\\t\\t\\t</li>\\n\\t\\t\\t\\t\\t\\t\\t\\t\\t\\t\\t<li class=\"elementor-repeater-item-e131b2d\">\\n\\t\\t\\t\\t\\t\\t\\t<div class=\"elementor-price-table__feature-inner\">\\n\\t\\t\\t\\t\\t\\t\\t\\t<i aria-hidden=\"true\" class=\"far fa-check-circle\"></i>\\t\\t\\t\\t\\t\\t\\t\\t\\t\\t\\t\\t\\t\\t\\t\\t\\t<span >\\n\\t\\t\\t\\t\\t\\t\\t\\t\\t\\t500 Email Addresses\\t\\t\\t\\t\\t\\t\\t\\t\\t</span>\\n\\t\\t\\t\\t\\t\\t\\t\\t\\t\\t\\t\\t\\t\\t\\t\\t</div>\\n\\t\\t\\t\\t\\t\\t</li>\\n\\t\\t\\t\\t\\t\\t\\t\\t\\t\\t\\t<li class=\"elementor-repeater-item-98fc337\">\\n\\t\\t\\t\\t\\t\\t\\t<div class=\"elementor-price-table__feature-inner\">\\n\\t\\t\\t\\t\\t\\t\\t\\t<i aria-hidden=\"true\" class=\"far fa-check-circle\"></i>\\t\\t\\t\\t\\t\\t\\t\\t\\t\\t\\t\\t\\t\\t\\t\\t\\t<span >\\n\\t\\t\\t\\t\\t\\t\\t\\t\\t\\tDrag and Drop Site Builder\\t\\t\\t\\t\\t\\t\\t\\t\\t</span>\\n\\t\\t\\t\\t\\t\\t\\t\\t\\t\\t\\t\\t\\t\\t\\t\\t</div>\\n\\t\\t\\t\\t\\t\\t</li>\\n\\t\\t\\t\\t\\t\\t\\t\\t\\t\\t\\t<li class=\"elementor-repeater-item-ae44166\">\\n\\t\\t\\t\\t\\t\\t\\t<div class=\"elementor-price-table__feature-inner\">\\n\\t\\t\\t\\t\\t\\t\\t\\t<i aria-hidden=\"true\" class=\"far fa-check-circle\"></i>\\t\\t\\t\\t\\t\\t\\t\\t\\t\\t\\t\\t\\t\\t\\t\\t\\t<span >\\n\\t\\t\\t\\t\\t\\t\\t\\t\\t\\tNew Customer Onboarding\\t\\t\\t\\t\\t\\t\\t\\t\\t</span>\\n\\t\\t\\t\\t\\t\\t\\t\\t\\t\\t\\t\\t\\t\\t\\t\\t</div>\\n\\t\\t\\t\\t\\t\\t</li>\\n\\t\\t\\t\\t\\t\\t\\t\\t\\t</ul>\\n\\t\\t\\t\\n\\t\\t\\t\\t\\t\\t\\t<div class=\"elementor-price-table__footer\">\\n\\t\\t\\t\\t\\t\\t\\t\\t\\t\\t\\t<a class=\"elementor-price-table__button elementor-button elementor-size-lg\" href=\"https://www.pair.com/solutions/shared/\">\\n\\t\\t\\t\\t\\t\\t\\tGET STARTED\\t\\t\\t\\t\\t\\t</a>\\n\\t\\t\\t\\t\\t\\n\\t\\t\\t\\t\\t\\t\\t\\t\\t</div>\\n\\t\\t\\t\\t\\t</div>\\n\\n\\t\\t\\t\\t</div>\\n\\t\\t\\t\\t</div>\\n\\t\\t\\t\\t\\t\\t</div>\\n\\t\\t\\t\\t\\t</div>\\n\\t\\t</div>\\n\\t\\t\\t\\t<div class=\"elementor-column elementor-col-25 elementor-top-column elementor-element elementor-element-4d4a60b\" data-id=\"4d4a60b\" data-element_type=\"column\">\\n\\t\\t\\t<div class=\"elementor-column-wrap elementor-element-populated\">\\n\\t\\t\\t\\t\\t\\t\\t<div class=\"elementor-widget-wrap\">\\n\\t\\t\\t\\t\\t\\t<div class=\"elementor-element elementor-element-9dc0c2c elementor-widget elementor-widget-price-table\" data-id=\"9dc0c2c\" data-element_type=\"widget\" data-widget_type=\"price-table.default\">\\n\\t\\t\\t\\t<div class=\"elementor-widget-container\">\\n\\t\\t\\t\\n\\t\\t<div class=\"elementor-price-table\">\\n\\t\\t\\t\\t\\t\\t\\t<div class=\"elementor-price-table__header\">\\n\\t\\t\\t\\t\\t\\t\\t\\t\\t\\t\\t<h3 class=\"elementor-price-table__heading\">\\n\\t\\t\\t\\t\\t\\tManaged<br>WordPress Hosting\\t\\t\\t\\t\\t\\t</h3>\\n\\t\\t\\t\\t\\t\\n\\t\\t\\t\\t\\t\\t\\t\\t\\t\\t\\t<span class=\"elementor-price-table__subheading\">\\n\\t\\t\\t\\t\\t\\t\\tBlazing Speed<br>and Awesome Features\\t\\t\\t\\t\\t\\t</span>\\n\\t\\t\\t\\t\\t\\t\\t\\t\\t</div>\\n\\t\\t\\t\\n\\t\\t\\t<div class=\"elementor-price-table__price\">\\n\\t\\t\\t\\t\\t\\t\\t\\t<span class=\"elementor-price-table__currency\">&#036;</span>\\t\\t\\t\\t\\t\\t\\t\\t\\t<span class=\"elementor-price-table__integer-part\">\\n\\t\\t\\t\\t\\t\\t14\\t\\t\\t\\t\\t</span>\\n\\t\\t\\t\\t\\n\\t\\t\\t\\t\\t\\t\\t\\t\\t<div class=\"elementor-price-table__after-price\">\\n\\t\\t\\t\\t\\t\\t<span class=\"elementor-price-table__fractional-part\">\\n\\t\\t\\t\\t\\t\\t\\t95\\t\\t\\t\\t\\t\\t</span>\\n\\n\\t\\t\\t\\t\\t\\t\\t\\t\\t\\t\\t</div>\\n\\t\\t\\t\\t\\n\\t\\t\\t\\t\\n\\t\\t\\t\\t\\t\\t\\t\\t\\t<span class=\"elementor-price-table__period elementor-typo-excluded\">and up</span>\\t\\t\\t\\t\\t\\t\\t</div>\\n\\n\\t\\t\\t\\t\\t\\t\\t<ul class=\"elementor-price-table__features-list\">\\n\\t\\t\\t\\t\\t\\t\\t\\t\\t\\t\\t<li class=\"elementor-repeater-item-2f2ebb5\">\\n\\t\\t\\t\\t\\t\\t\\t<div class=\"elementor-price-table__feature-inner\">\\n\\t\\t\\t\\t\\t\\t\\t\\t<i aria-hidden=\"true\" class=\"far fa-check-circle\"></i>\\t\\t\\t\\t\\t\\t\\t\\t\\t\\t\\t\\t\\t\\t\\t\\t\\t<span >\\n\\t\\t\\t\\t\\t\\t\\t\\t\\t\\tOptimized for WordPress\\t\\t\\t\\t\\t\\t\\t\\t\\t</span>\\n\\t\\t\\t\\t\\t\\t\\t\\t\\t\\t\\t\\t\\t\\t\\t\\t</div>\\n\\t\\t\\t\\t\\t\\t</li>\\n\\t\\t\\t\\t\\t\\t\\t\\t\\t\\t\\t<li class=\"elementor-repeater-item-e131b2d\">\\n\\t\\t\\t\\t\\t\\t\\t<div class=\"elementor-price-table__feature-inner\">\\n\\t\\t\\t\\t\\t\\t\\t\\t<i aria-hidden=\"true\" class=\"far fa-check-circle\"></i>\\t\\t\\t\\t\\t\\t\\t\\t\\t\\t\\t\\t\\t\\t\\t\\t\\t<span >\\n\\t\\t\\t\\t\\t\\t\\t\\t\\t\\tFree Site Staging\\t\\t\\t\\t\\t\\t\\t\\t\\t</span>\\n\\t\\t\\t\\t\\t\\t\\t\\t\\t\\t\\t\\t\\t\\t\\t\\t</div>\\n\\t\\t\\t\\t\\t\\t</li>\\n\\t\\t\\t\\t\\t\\t\\t\\t\\t\\t\\t<li class=\"elementor-repeater-item-98fc337\">\\n\\t\\t\\t\\t\\t\\t\\t<div class=\"elementor-price-table__feature-inner\">\\n\\t\\t\\t\\t\\t\\t\\t\\t<i aria-hidden=\"true\" class=\"far fa-check-circle\"></i>\\t\\t\\t\\t\\t\\t\\t\\t\\t\\t\\t\\t\\t\\t\\t\\t\\t<span >\\n\\t\\t\\t\\t\\t\\t\\t\\t\\t\\tFree Configurable Backups\\t\\t\\t\\t\\t\\t\\t\\t\\t</span>\\n\\t\\t\\t\\t\\t\\t\\t\\t\\t\\t\\t\\t\\t\\t\\t\\t</div>\\n\\t\\t\\t\\t\\t\\t</li>\\n\\t\\t\\t\\t\\t\\t\\t\\t\\t\\t\\t<li class=\"elementor-repeater-item-ae44166\">\\n\\t\\t\\t\\t\\t\\t\\t<div class=\"elementor-price-table__feature-inner\">\\n\\t\\t\\t\\t\\t\\t\\t\\t<i aria-hidden=\"true\" class=\"far fa-check-circle\"></i>\\t\\t\\t\\t\\t\\t\\t\\t\\t\\t\\t\\t\\t\\t\\t\\t\\t<span >\\n\\t\\t\\t\\t\\t\\t\\t\\t\\t\\tWordPress Support<br>&nbsp;\\t\\t\\t\\t\\t\\t\\t\\t\\t</span>\\n\\t\\t\\t\\t\\t\\t\\t\\t\\t\\t\\t\\t\\t\\t\\t\\t</div>\\n\\t\\t\\t\\t\\t\\t</li>\\n\\t\\t\\t\\t\\t\\t\\t\\t\\t</ul>\\n\\t\\t\\t\\n\\t\\t\\t\\t\\t\\t\\t<div class=\"elementor-price-table__footer\">\\n\\t\\t\\t\\t\\t\\t\\t\\t\\t\\t\\t<a class=\"elementor-price-table__button elementor-button elementor-size-lg\" href=\"https://www.pair.com/wordpress/wp-hosting/\">\\n\\t\\t\\t\\t\\t\\t\\tGET STARTED\\t\\t\\t\\t\\t\\t</a>\\n\\t\\t\\t\\t\\t\\n\\t\\t\\t\\t\\t\\t\\t\\t\\t</div>\\n\\t\\t\\t\\t\\t</div>\\n\\n\\t\\t\\t\\t\\t<div class=\"elementor-price-table__ribbon elementor-ribbon-right\">\\n\\t\\t\\t\\t<div class=\"elementor-price-table__ribbon-inner\">\\n\\t\\t\\t\\t\\tPopular\\t\\t\\t\\t</div>\\n\\t\\t\\t</div>\\n\\t\\t\\t\\t\\t</div>\\n\\t\\t\\t\\t</div>\\n\\t\\t\\t\\t\\t\\t</div>\\n\\t\\t\\t\\t\\t</div>\\n\\t\\t</div>\\n\\t\\t\\t\\t<div class=\"elementor-column elementor-col-25 elementor-top-column elementor-element elementor-element-e387203\" data-id=\"e387203\" data-element_type=\"column\">\\n\\t\\t\\t<div class=\"elementor-column-wrap elementor-element-populated\">\\n\\t\\t\\t\\t\\t\\t\\t<div class=\"elementor-widget-wrap\">\\n\\t\\t\\t\\t\\t\\t<div class=\"elementor-element elementor-element-08297c9 elementor-widget elementor-widget-price-table\" data-id=\"08297c9\" data-element_type=\"widget\" data-widget_type=\"price-table.default\">\\n\\t\\t\\t\\t<div class=\"elementor-widget-container\">\\n\\t\\t\\t\\n\\t\\t<div class=\"elementor-price-table\">\\n\\t\\t\\t\\t\\t\\t\\t<div class=\"elementor-price-table__header\">\\n\\t\\t\\t\\t\\t\\t\\t\\t\\t\\t\\t<h3 class=\"elementor-price-table__heading\">\\n\\t\\t\\t\\t\\t\\tManaged<br>VPS Hosting\\t\\t\\t\\t\\t\\t</h3>\\n\\t\\t\\t\\t\\t\\n\\t\\t\\t\\t\\t\\t\\t\\t\\t\\t\\t<span class=\"elementor-price-table__subheading\">\\n\\t\\t\\t\\t\\t\\t\\tDevelopers<br>and Ecommerce Sites\\t\\t\\t\\t\\t\\t</span>\\n\\t\\t\\t\\t\\t\\t\\t\\t\\t</div>\\n\\t\\t\\t\\n\\t\\t\\t<div class=\"elementor-price-table__price\">\\n\\t\\t\\t\\t\\t\\t\\t\\t<span class=\"elementor-price-table__currency\">&#036;</span>\\t\\t\\t\\t\\t\\t\\t\\t\\t<span class=\"elementor-price-table__integer-part\">\\n\\t\\t\\t\\t\\t\\t29\\t\\t\\t\\t\\t</span>\\n\\t\\t\\t\\t\\n\\t\\t\\t\\t\\t\\t\\t\\t\\t<div class=\"elementor-price-table__after-price\">\\n\\t\\t\\t\\t\\t\\t<span class=\"elementor-price-table__fractional-part\">\\n\\t\\t\\t\\t\\t\\t\\t95\\t\\t\\t\\t\\t\\t</span>\\n\\n\\t\\t\\t\\t\\t\\t\\t\\t\\t\\t\\t</div>\\n\\t\\t\\t\\t\\n\\t\\t\\t\\t\\n\\t\\t\\t\\t\\t\\t\\t\\t\\t<span class=\"elementor-price-table__period elementor-typo-excluded\">and up</span>\\t\\t\\t\\t\\t\\t\\t</div>\\n\\n\\t\\t\\t\\t\\t\\t\\t<ul class=\"elementor-price-table__features-list\">\\n\\t\\t\\t\\t\\t\\t\\t\\t\\t\\t\\t<li class=\"elementor-repeater-item-2f2ebb5\">\\n\\t\\t\\t\\t\\t\\t\\t<div class=\"elementor-price-table__feature-inner\">\\n\\t\\t\\t\\t\\t\\t\\t\\t<i aria-hidden=\"true\" class=\"far fa-check-circle\"></i>\\t\\t\\t\\t\\t\\t\\t\\t\\t\\t\\t\\t\\t\\t\\t\\t\\t<span >\\n\\t\\t\\t\\t\\t\\t\\t\\t\\t\\tEnhanced Privacy\\t\\t\\t\\t\\t\\t\\t\\t\\t</span>\\n\\t\\t\\t\\t\\t\\t\\t\\t\\t\\t\\t\\t\\t\\t\\t\\t</div>\\n\\t\\t\\t\\t\\t\\t</li>\\n\\t\\t\\t\\t\\t\\t\\t\\t\\t\\t\\t<li class=\"elementor-repeater-item-e131b2d\">\\n\\t\\t\\t\\t\\t\\t\\t<div class=\"elementor-price-table__feature-inner\">\\n\\t\\t\\t\\t\\t\\t\\t\\t<i aria-hidden=\"true\" class=\"far fa-check-circle\"></i>\\t\\t\\t\\t\\t\\t\\t\\t\\t\\t\\t\\t\\t\\t\\t\\t\\t<span >\\n\\t\\t\\t\\t\\t\\t\\t\\t\\t\\tRobust Development Environment\\t\\t\\t\\t\\t\\t\\t\\t\\t</span>\\n\\t\\t\\t\\t\\t\\t\\t\\t\\t\\t\\t\\t\\t\\t\\t\\t</div>\\n\\t\\t\\t\\t\\t\\t</li>\\n\\t\\t\\t\\t\\t\\t\\t\\t\\t\\t\\t<li class=\"elementor-repeater-item-98fc337\">\\n\\t\\t\\t\\t\\t\\t\\t<div class=\"elementor-price-table__feature-inner\">\\n\\t\\t\\t\\t\\t\\t\\t\\t<i aria-hidden=\"true\" class=\"far fa-check-circle\"></i>\\t\\t\\t\\t\\t\\t\\t\\t\\t\\t\\t\\t\\t\\t\\t\\t\\t<span >\\n\\t\\t\\t\\t\\t\\t\\t\\t\\t\\tAll-SSD Servers\\t\\t\\t\\t\\t\\t\\t\\t\\t</span>\\n\\t\\t\\t\\t\\t\\t\\t\\t\\t\\t\\t\\t\\t\\t\\t\\t</div>\\n\\t\\t\\t\\t\\t\\t</li>\\n\\t\\t\\t\\t\\t\\t\\t\\t\\t\\t\\t<li class=\"elementor-repeater-item-ae44166\">\\n\\t\\t\\t\\t\\t\\t\\t<div class=\"elementor-price-table__feature-inner\">\\n\\t\\t\\t\\t\\t\\t\\t\\t<i aria-hidden=\"true\" class=\"far fa-check-circle\"></i>\\t\\t\\t\\t\\t\\t\\t\\t\\t\\t\\t\\t\\t\\t\\t\\t\\t<span >\\n\\t\\t\\t\\t\\t\\t\\t\\t\\t\\tEasy Scaling\\t\\t\\t\\t\\t\\t\\t\\t\\t</span>\\n\\t\\t\\t\\t\\t\\t\\t\\t\\t\\t\\t\\t\\t\\t\\t\\t</div>\\n\\t\\t\\t\\t\\t\\t</li>\\n\\t\\t\\t\\t\\t\\t\\t\\t\\t</ul>\\n\\t\\t\\t\\n\\t\\t\\t\\t\\t\\t\\t<div class=\"elementor-price-table__footer\">\\n\\t\\t\\t\\t\\t\\t\\t\\t\\t\\t\\t<a class=\"elementor-price-table__button elementor-button elementor-size-lg\" href=\"https://www.pair.com/solutions/vps/\">\\n\\t\\t\\t\\t\\t\\t\\tGET STARTED\\t\\t\\t\\t\\t\\t</a>\\n\\t\\t\\t\\t\\t\\n\\t\\t\\t\\t\\t\\t\\t\\t\\t</div>\\n\\t\\t\\t\\t\\t</div>\\n\\n\\t\\t\\t\\t</div>\\n\\t\\t\\t\\t</div>\\n\\t\\t\\t\\t\\t\\t</div>\\n\\t\\t\\t\\t\\t</div>\\n\\t\\t</div>\\n\\t\\t\\t\\t<div class=\"elementor-column elementor-col-25 elementor-top-column elementor-element elementor-element-f589940\" data-id=\"f589940\" data-element_type=\"column\">\\n\\t\\t\\t<div class=\"elementor-column-wrap elementor-element-populated\">\\n\\t\\t\\t\\t\\t\\t\\t<div class=\"elementor-widget-wrap\">\\n\\t\\t\\t\\t\\t\\t<div class=\"elementor-element elementor-element-899d2f5 elementor-widget elementor-widget-price-table\" data-id=\"899d2f5\" data-element_type=\"widget\" data-widget_type=\"price-table.default\">\\n\\t\\t\\t\\t<div class=\"elementor-widget-container\">\\n\\t\\t\\t\\n\\t\\t<div class=\"elementor-price-table\">\\n\\t\\t\\t\\t\\t\\t\\t<div class=\"elementor-price-table__header\">\\n\\t\\t\\t\\t\\t\\t\\t\\t\\t\\t\\t<h3 class=\"elementor-price-table__heading\">\\n\\t\\t\\t\\t\\t\\tDedicated<br>Servers\\t\\t\\t\\t\\t\\t</h3>\\n\\t\\t\\t\\t\\t\\n\\t\\t\\t\\t\\t\\t\\t\\t\\t\\t\\t<span class=\"elementor-price-table__subheading\">\\n\\t\\t\\t\\t\\t\\t\\tEnterprise and<br>Mission-Critical Websites\\t\\t\\t\\t\\t\\t</span>\\n\\t\\t\\t\\t\\t\\t\\t\\t\\t</div>\\n\\t\\t\\t\\n\\t\\t\\t<div class=\"elementor-price-table__price\">\\n\\t\\t\\t\\t\\t\\t\\t\\t<span class=\"elementor-price-table__currency\">&#036;</span>\\t\\t\\t\\t\\t\\t\\t\\t\\t<span class=\"elementor-price-table__integer-part\">\\n\\t\\t\\t\\t\\t\\t99\\t\\t\\t\\t\\t</span>\\n\\t\\t\\t\\t\\n\\t\\t\\t\\t\\t\\t\\t\\t\\t<div class=\"elementor-price-table__after-price\">\\n\\t\\t\\t\\t\\t\\t<span class=\"elementor-price-table__fractional-part\">\\n\\t\\t\\t\\t\\t\\t\\t00\\t\\t\\t\\t\\t\\t</span>\\n\\n\\t\\t\\t\\t\\t\\t\\t\\t\\t\\t\\t</div>\\n\\t\\t\\t\\t\\n\\t\\t\\t\\t\\n\\t\\t\\t\\t\\t\\t\\t\\t\\t<span class=\"elementor-price-table__period elementor-typo-excluded\">and up</span>\\t\\t\\t\\t\\t\\t\\t</div>\\n\\n\\t\\t\\t\\t\\t\\t\\t<ul class=\"elementor-price-table__features-list\">\\n\\t\\t\\t\\t\\t\\t\\t\\t\\t\\t\\t<li class=\"elementor-repeater-item-2f2ebb5\">\\n\\t\\t\\t\\t\\t\\t\\t<div class=\"elementor-price-table__feature-inner\">\\n\\t\\t\\t\\t\\t\\t\\t\\t<i aria-hidden=\"true\" class=\"far fa-check-circle\"></i>\\t\\t\\t\\t\\t\\t\\t\\t\\t\\t\\t\\t\\t\\t\\t\\t\\t<span >\\n\\t\\t\\t\\t\\t\\t\\t\\t\\t\\tFully-Managed Bare Metal Servers\\t\\t\\t\\t\\t\\t\\t\\t\\t</span>\\n\\t\\t\\t\\t\\t\\t\\t\\t\\t\\t\\t\\t\\t\\t\\t\\t</div>\\n\\t\\t\\t\\t\\t\\t</li>\\n\\t\\t\\t\\t\\t\\t\\t\\t\\t\\t\\t<li class=\"elementor-repeater-item-e131b2d\">\\n\\t\\t\\t\\t\\t\\t\\t<div class=\"elementor-price-table__feature-inner\">\\n\\t\\t\\t\\t\\t\\t\\t\\t<i aria-hidden=\"true\" class=\"far fa-check-circle\"></i>\\t\\t\\t\\t\\t\\t\\t\\t\\t\\t\\t\\t\\t\\t\\t\\t\\t<span >\\n\\t\\t\\t\\t\\t\\t\\t\\t\\t\\tCustomizable Hardware\\t\\t\\t\\t\\t\\t\\t\\t\\t</span>\\n\\t\\t\\t\\t\\t\\t\\t\\t\\t\\t\\t\\t\\t\\t\\t\\t</div>\\n\\t\\t\\t\\t\\t\\t</li>\\n\\t\\t\\t\\t\\t\\t\\t\\t\\t\\t\\t<li class=\"elementor-repeater-item-98fc337\">\\n\\t\\t\\t\\t\\t\\t\\t<div class=\"elementor-price-table__feature-inner\">\\n\\t\\t\\t\\t\\t\\t\\t\\t<i aria-hidden=\"true\" class=\"far fa-check-circle\"></i>\\t\\t\\t\\t\\t\\t\\t\\t\\t\\t\\t\\t\\t\\t\\t\\t\\t<span >\\n\\t\\t\\t\\t\\t\\t\\t\\t\\t\\tGuaranteed Uptime\\t\\t\\t\\t\\t\\t\\t\\t\\t</span>\\n\\t\\t\\t\\t\\t\\t\\t\\t\\t\\t\\t\\t\\t\\t\\t\\t</div>\\n\\t\\t\\t\\t\\t\\t</li>\\n\\t\\t\\t\\t\\t\\t\\t\\t\\t\\t\\t<li class=\"elementor-repeater-item-ae44166\">\\n\\t\\t\\t\\t\\t\\t\\t<div class=\"elementor-price-table__feature-inner\">\\n\\t\\t\\t\\t\\t\\t\\t\\t<i aria-hidden=\"true\" class=\"far fa-check-circle\"></i>\\t\\t\\t\\t\\t\\t\\t\\t\\t\\t\\t\\t\\t\\t\\t\\t\\t<span >\\n\\t\\t\\t\\t\\t\\t\\t\\t\\t\\tUp to 24 Cores, 512 GB RAM\\t\\t\\t\\t\\t\\t\\t\\t\\t</span>\\n\\t\\t\\t\\t\\t\\t\\t\\t\\t\\t\\t\\t\\t\\t\\t\\t</div>\\n\\t\\t\\t\\t\\t\\t</li>\\n\\t\\t\\t\\t\\t\\t\\t\\t\\t</ul>\\n\\t\\t\\t\\n\\t\\t\\t\\t\\t\\t\\t<div class=\"elementor-price-table__footer\">\\n\\t\\t\\t\\t\\t\\t\\t\\t\\t\\t\\t<a class=\"elementor-price-table__button elementor-button elementor-size-lg\" href=\"https://www.pair.com/solutions/dedicated/\">\\n\\t\\t\\t\\t\\t\\t\\tGET STARTED\\t\\t\\t\\t\\t\\t</a>\\n\\t\\t\\t\\t\\t\\n\\t\\t\\t\\t\\t\\t\\t\\t\\t</div>\\n\\t\\t\\t\\t\\t</div>\\n\\n\\t\\t\\t\\t</div>\\n\\t\\t\\t\\t</div>\\n\\t\\t\\t\\t\\t\\t</div>\\n\\t\\t\\t\\t\\t</div>\\n\\t\\t</div>\\n\\t\\t\\t\\t\\t\\t\\t\\t</div>\\n\\t\\t\\t\\t\\t</div>\\n\\t\\t</section>\\n\\t\\t\\t\\t<section class=\"elementor-section elementor-top-section elementor-element elementor-element-b7c126b elementor-section-boxed elementor-section-height-default elementor-section-height-default\" data-id=\"b7c126b\" data-element_type=\"section\">\\n\\t\\t\\t\\t\\t\\t<div class=\"elementor-container elementor-column-gap-default\">\\n\\t\\t\\t\\t\\t\\t\\t<div class=\"elementor-row\">\\n\\t\\t\\t\\t\\t<div class=\"elementor-column elementor-col-100 elementor-top-column elementor-element elementor-element-c4f8cd4\" data-id=\"c4f8cd4\" data-element_type=\"column\">\\n\\t\\t\\t<div class=\"elementor-column-wrap elementor-element-populated\">\\n\\t\\t\\t\\t\\t\\t\\t<div class=\"elementor-widget-wrap\">\\n\\t\\t\\t\\t\\t\\t<div class=\"elementor-element elementor-element-8cfb78c elementor-widget elementor-widget-heading\" data-id=\"8cfb78c\" data-element_type=\"widget\" data-widget_type=\"heading.default\">\\n\\t\\t\\t\\t<div class=\"elementor-widget-container\">\\n\\t\\t\\t<h2 class=\"elementor-heading-title elementor-size-default\">Try Pair risk-free for 100 days.</h2>\\t\\t</div>\\n\\t\\t\\t\\t</div>\\n\\t\\t\\t\\t\\t\\t</div>\\n\\t\\t\\t\\t\\t</div>\\n\\t\\t</div>\\n\\t\\t\\t\\t\\t\\t\\t\\t</div>\\n\\t\\t\\t\\t\\t</div>\\n\\t\\t</section>\\n\\t\\t\\t\\t<section class=\"elementor-section elementor-top-section elementor-element elementor-element-39b2935 elementor-section-boxed elementor-section-height-default elementor-section-height-default\" data-id=\"39b2935\" data-element_type=\"section\">\\n\\t\\t\\t\\t\\t\\t<div class=\"elementor-container elementor-column-gap-default\">\\n\\t\\t\\t\\t\\t\\t\\t<div class=\"elementor-row\">\\n\\t\\t\\t\\t\\t<div class=\"elementor-column elementor-col-100 elementor-top-column elementor-element elementor-element-177ecf5\" data-id=\"177ecf5\" data-element_type=\"column\">\\n\\t\\t\\t<div class=\"elementor-column-wrap elementor-element-populated\">\\n\\t\\t\\t\\t\\t\\t\\t<div class=\"elementor-widget-wrap\">\\n\\t\\t\\t\\t\\t\\t<div class=\"elementor-element elementor-element-0945d18 elementor-widget elementor-widget-spacer\" data-id=\"0945d18\" data-element_type=\"widget\" data-widget_type=\"spacer.default\">\\n\\t\\t\\t\\t<div class=\"elementor-widget-container\">\\n\\t\\t\\t\\t\\t<div class=\"elementor-spacer\">\\n\\t\\t\\t<div class=\"elementor-spacer-inner\"></div>\\n\\t\\t</div>\\n\\t\\t\\t\\t</div>\\n\\t\\t\\t\\t</div>\\n\\t\\t\\t\\t\\t\\t</div>\\n\\t\\t\\t\\t\\t</div>\\n\\t\\t</div>\\n\\t\\t\\t\\t\\t\\t\\t\\t</div>\\n\\t\\t\\t\\t\\t</div>\\n\\t\\t</section>\\n\\t\\t\\t\\t<section class=\"elementor-section elementor-top-section elementor-element elementor-element-89e1919 elementor-section-full_width elementor-section-height-min-height elementor-section-items-bottom elementor-section-height-default\" data-id=\"89e1919\" data-element_type=\"section\" data-settings=\"{&quot;background_background&quot;:&quot;classic&quot;}\">\\n\\t\\t\\t\\t\\t\\t\\t<div class=\"elementor-background-overlay\"></div>\\n\\t\\t\\t\\t\\t\\t\\t<div class=\"elementor-container elementor-column-gap-default\">\\n\\t\\t\\t\\t\\t\\t\\t<div class=\"elementor-row\">\\n\\t\\t\\t\\t\\t<div class=\"elementor-column elementor-col-100 elementor-top-column elementor-element elementor-element-f03daa4\" data-id=\"f03daa4\" data-element_type=\"column\">\\n\\t\\t\\t<div class=\"elementor-column-wrap elementor-element-populated\">\\n\\t\\t\\t\\t\\t\\t\\t<div class=\"elementor-widget-wrap\">\\n\\t\\t\\t\\t\\t\\t<div class=\"elementor-element elementor-element-dff5528 elementor-widget elementor-widget-spacer\" data-id=\"dff5528\" data-element_type=\"widget\" data-widget_type=\"spacer.default\">\\n\\t\\t\\t\\t<div class=\"elementor-widget-container\">\\n\\t\\t\\t\\t\\t<div class=\"elementor-spacer\">\\n\\t\\t\\t<div class=\"elementor-spacer-inner\"></div>\\n\\t\\t</div>\\n\\t\\t\\t\\t</div>\\n\\t\\t\\t\\t</div>\\n\\t\\t\\t\\t<div class=\"elementor-element elementor-element-2345591 elementor-widget elementor-widget-heading\" data-id=\"2345591\" data-element_type=\"widget\" data-widget_type=\"heading.default\">\\n\\t\\t\\t\\t<div class=\"elementor-widget-container\">\\n\\t\\t\\t<h2 class=\"elementor-heading-title elementor-size-default\">Award-Winning Web Hosting Support</h2>\\t\\t</div>\\n\\t\\t\\t\\t</div>\\n\\t\\t\\t\\t\\t\\t</div>\\n\\t\\t\\t\\t\\t</div>\\n\\t\\t</div>\\n\\t\\t\\t\\t\\t\\t\\t\\t</div>\\n\\t\\t\\t\\t\\t</div>\\n\\t\\t</section>\\n\\t\\t\\t\\t<section class=\"elementor-section elementor-top-section elementor-element elementor-element-a6d0fdf elementor-section-content-middle elementor-section-boxed elementor-section-height-default elementor-section-height-default\" data-id=\"a6d0fdf\" data-element_type=\"section\" data-settings=\"{&quot;background_background&quot;:&quot;classic&quot;}\">\\n\\t\\t\\t\\t\\t\\t<div class=\"elementor-container elementor-column-gap-wider\">\\n\\t\\t\\t\\t\\t\\t\\t<div class=\"elementor-row\">\\n\\t\\t\\t\\t\\t<div class=\"elementor-column elementor-col-100 elementor-top-column elementor-element elementor-element-bf1afbd\" data-id=\"bf1afbd\" data-element_type=\"column\" data-settings=\"{&quot;background_background&quot;:&quot;classic&quot;}\">\\n\\t\\t\\t<div class=\"elementor-column-wrap elementor-element-populated\">\\n\\t\\t\\t\\t\\t\\t\\t<div class=\"elementor-widget-wrap\">\\n\\t\\t\\t\\t\\t\\t<section class=\"elementor-section elementor-inner-section elementor-element elementor-element-1a43187 elementor-section-boxed elementor-section-height-default elementor-section-height-default\" data-id=\"1a43187\" data-element_type=\"section\">\\n\\t\\t\\t\\t\\t\\t<div class=\"elementor-container elementor-column-gap-default\">\\n\\t\\t\\t\\t\\t\\t\\t<div class=\"elementor-row\">\\n\\t\\t\\t\\t\\t<div class=\"elementor-column elementor-col-33 elementor-inner-column elementor-element elementor-element-e25dc70\" data-id=\"e25dc70\" data-element_type=\"column\">\\n\\t\\t\\t<div class=\"elementor-column-wrap elementor-element-populated\">\\n\\t\\t\\t\\t\\t\\t\\t<div class=\"elementor-widget-wrap\">\\n\\t\\t\\t\\t\\t\\t<div class=\"elementor-element elementor-element-0911eb0 elementor-view-default elementor-widget elementor-widget-icon\" data-id=\"0911eb0\" data-element_type=\"widget\" data-widget_type=\"icon.default\">\\n\\t\\t\\t\\t<div class=\"elementor-widget-container\">\\n\\t\\t\\t\\t\\t<div class=\"elementor-icon-wrapper\">\\n\\t\\t\\t<div class=\"elementor-icon\">\\n\\t\\t\\t<i aria-hidden=\"true\" class=\"fas fa-city\"></i>\\t\\t\\t</div>\\n\\t\\t</div>\\n\\t\\t\\t\\t</div>\\n\\t\\t\\t\\t</div>\\n\\t\\t\\t\\t\\t\\t</div>\\n\\t\\t\\t\\t\\t</div>\\n\\t\\t</div>\\n\\t\\t\\t\\t<div class=\"elementor-column elementor-col-66 elementor-inner-column elementor-element elementor-element-ac524d3\" data-id=\"ac524d3\" data-element_type=\"column\">\\n\\t\\t\\t<div class=\"elementor-column-wrap elementor-element-populated\">\\n\\t\\t\\t\\t\\t\\t\\t<div class=\"elementor-widget-wrap\">\\n\\t\\t\\t\\t\\t\\t<div class=\"elementor-element elementor-element-f844989 elementor-widget elementor-widget-heading\" data-id=\"f844989\" data-element_type=\"widget\" data-widget_type=\"heading.default\">\\n\\t\\t\\t\\t<div class=\"elementor-widget-container\">\\n\\t\\t\\t<h2 class=\"elementor-heading-title elementor-size-default\">Local, Never-Outsourced Support</h2>\\t\\t</div>\\n\\t\\t\\t\\t</div>\\n\\t\\t\\t\\t<div class=\"elementor-element elementor-element-23b6b17 elementor-widget elementor-widget-text-editor\" data-id=\"23b6b17\" data-element_type=\"widget\" data-widget_type=\"text-editor.default\">\\n\\t\\t\\t\\t<div class=\"elementor-widget-container\">\\n\\t\\t\\t\\t\\t\\t\\t\\t<div class=\"elementor-text-editor elementor-clearfix\">\\n\\t\\t\\t\\t<p><strong>Since going online in 1995, Pair has been committed to providing amazing, local, never-outsourced support.</strong></p><p>Our support techs work in the same facilities as our Pittsburgh datacenter. Support techs are on site 24/7 and never more than a short walk across the hall from your server. It doesn&#8217;t get much more local than that.</p>\\t\\t\\t\\t\\t</div>\\n\\t\\t\\t\\t\\t\\t</div>\\n\\t\\t\\t\\t</div>\\n\\t\\t\\t\\t\\t\\t</div>\\n\\t\\t\\t\\t\\t</div>\\n\\t\\t</div>\\n\\t\\t\\t\\t\\t\\t\\t\\t</div>\\n\\t\\t\\t\\t\\t</div>\\n\\t\\t</section>\\n\\t\\t\\t\\t<div class=\"elementor-element elementor-element-31a989d elementor-widget elementor-widget-spacer\" data-id=\"31a989d\" data-element_type=\"widget\" data-widget_type=\"spacer.default\">\\n\\t\\t\\t\\t<div class=\"elementor-widget-container\">\\n\\t\\t\\t\\t\\t<div class=\"elementor-spacer\">\\n\\t\\t\\t<div class=\"elementor-spacer-inner\"></div>\\n\\t\\t</div>\\n\\t\\t\\t\\t</div>\\n\\t\\t\\t\\t</div>\\n\\t\\t\\t\\t<section class=\"elementor-section elementor-inner-section elementor-element elementor-element-a1fff4a elementor-section-boxed elementor-section-height-default elementor-section-height-default\" data-id=\"a1fff4a\" data-element_type=\"section\">\\n\\t\\t\\t\\t\\t\\t<div class=\"elementor-container elementor-column-gap-default\">\\n\\t\\t\\t\\t\\t\\t\\t<div class=\"elementor-row\">\\n\\t\\t\\t\\t\\t<div class=\"elementor-column elementor-col-33 elementor-inner-column elementor-element elementor-element-9cc3244\" data-id=\"9cc3244\" data-element_type=\"column\">\\n\\t\\t\\t<div class=\"elementor-column-wrap elementor-element-populated\">\\n\\t\\t\\t\\t\\t\\t\\t<div class=\"elementor-widget-wrap\">\\n\\t\\t\\t\\t\\t\\t<div class=\"elementor-element elementor-element-4dbc69c elementor-view-default elementor-widget elementor-widget-icon\" data-id=\"4dbc69c\" data-element_type=\"widget\" data-widget_type=\"icon.default\">\\n\\t\\t\\t\\t<div class=\"elementor-widget-container\">\\n\\t\\t\\t\\t\\t<div class=\"elementor-icon-wrapper\">\\n\\t\\t\\t<div class=\"elementor-icon\">\\n\\t\\t\\t<i aria-hidden=\"true\" class=\"fas fa-heart\"></i>\\t\\t\\t</div>\\n\\t\\t</div>\\n\\t\\t\\t\\t</div>\\n\\t\\t\\t\\t</div>\\n\\t\\t\\t\\t\\t\\t</div>\\n\\t\\t\\t\\t\\t</div>\\n\\t\\t</div>\\n\\t\\t\\t\\t<div class=\"elementor-column elementor-col-66 elementor-inner-column elementor-element elementor-element-d0a2645\" data-id=\"d0a2645\" data-element_type=\"column\">\\n\\t\\t\\t<div class=\"elementor-column-wrap elementor-element-populated\">\\n\\t\\t\\t\\t\\t\\t\\t<div class=\"elementor-widget-wrap\">\\n\\t\\t\\t\\t\\t\\t<div class=\"elementor-element elementor-element-8a1b0a8 elementor-widget elementor-widget-heading\" data-id=\"8a1b0a8\" data-element_type=\"widget\" data-widget_type=\"heading.default\">\\n\\t\\t\\t\\t<div class=\"elementor-widget-container\">\\n\\t\\t\\t<h2 class=\"elementor-heading-title elementor-size-default\">One-Call Solutions</h2>\\t\\t</div>\\n\\t\\t\\t\\t</div>\\n\\t\\t\\t\\t<div class=\"elementor-element elementor-element-1bcfc8a elementor-widget elementor-widget-text-editor\" data-id=\"1bcfc8a\" data-element_type=\"widget\" data-widget_type=\"text-editor.default\">\\n\\t\\t\\t\\t<div class=\"elementor-widget-container\">\\n\\t\\t\\t\\t\\t\\t\\t\\t<div class=\"elementor-text-editor elementor-clearfix\">\\n\\t\\t\\t\\t<p style=\"text-align: left;\"><strong>Help for your whole account.</strong></p><p style=\"text-align: left;\">We pride ourselves on going the extra mile. Support techs are trained in the third party software we offer, including WordPress. Plus, by offering first-party, custom-built software solutions for our account control software, SSL and domains interfaces, you can talk directly to the people who know our products best &#8212; us. You just need to make one call and you can access all the help you need.</p>\\t\\t\\t\\t\\t</div>\\n\\t\\t\\t\\t\\t\\t</div>\\n\\t\\t\\t\\t</div>\\n\\t\\t\\t\\t\\t\\t</div>\\n\\t\\t\\t\\t\\t</div>\\n\\t\\t</div>\\n\\t\\t\\t\\t\\t\\t\\t\\t</div>\\n\\t\\t\\t\\t\\t</div>\\n\\t\\t</section>\\n\\t\\t\\t\\t<div class=\"elementor-element elementor-element-d610b9f elementor-widget elementor-widget-spacer\" data-id=\"d610b9f\" data-element_type=\"widget\" data-widget_type=\"spacer.default\">\\n\\t\\t\\t\\t<div class=\"elementor-widget-container\">\\n\\t\\t\\t\\t\\t<div class=\"elementor-spacer\">\\n\\t\\t\\t<div class=\"elementor-spacer-inner\"></div>\\n\\t\\t</div>\\n\\t\\t\\t\\t</div>\\n\\t\\t\\t\\t</div>\\n\\t\\t\\t\\t<section class=\"elementor-section elementor-inner-section elementor-element elementor-element-151f349 elementor-section-boxed elementor-section-height-default elementor-section-height-default\" data-id=\"151f349\" data-element_type=\"section\">\\n\\t\\t\\t\\t\\t\\t<div class=\"elementor-container elementor-column-gap-default\">\\n\\t\\t\\t\\t\\t\\t\\t<div class=\"elementor-row\">\\n\\t\\t\\t\\t\\t<div class=\"elementor-column elementor-col-33 elementor-inner-column elementor-element elementor-element-459f0ec\" data-id=\"459f0ec\" data-element_type=\"column\">\\n\\t\\t\\t<div class=\"elementor-column-wrap elementor-element-populated\">\\n\\t\\t\\t\\t\\t\\t\\t<div class=\"elementor-widget-wrap\">\\n\\t\\t\\t\\t\\t\\t<div class=\"elementor-element elementor-element-78ed315 elementor-view-default elementor-widget elementor-widget-icon\" data-id=\"78ed315\" data-element_type=\"widget\" data-widget_type=\"icon.default\">\\n\\t\\t\\t\\t<div class=\"elementor-widget-container\">\\n\\t\\t\\t\\t\\t<div class=\"elementor-icon-wrapper\">\\n\\t\\t\\t<div class=\"elementor-icon\">\\n\\t\\t\\t<i aria-hidden=\"true\" class=\"fas fa-user-clock\"></i>\\t\\t\\t</div>\\n\\t\\t</div>\\n\\t\\t\\t\\t</div>\\n\\t\\t\\t\\t</div>\\n\\t\\t\\t\\t\\t\\t</div>\\n\\t\\t\\t\\t\\t</div>\\n\\t\\t</div>\\n\\t\\t\\t\\t<div class=\"elementor-column elementor-col-66 elementor-inner-column elementor-element elementor-element-51a076d\" data-id=\"51a076d\" data-element_type=\"column\">\\n\\t\\t\\t<div class=\"elementor-column-wrap elementor-element-populated\">\\n\\t\\t\\t\\t\\t\\t\\t<div class=\"elementor-widget-wrap\">\\n\\t\\t\\t\\t\\t\\t<div class=\"elementor-element elementor-element-862d510 elementor-widget elementor-widget-heading\" data-id=\"862d510\" data-element_type=\"widget\" data-widget_type=\"heading.default\">\\n\\t\\t\\t\\t<div class=\"elementor-widget-container\">\\n\\t\\t\\t<h2 class=\"elementor-heading-title elementor-size-default\">It\\'s All About the Uptime</h2>\\t\\t</div>\\n\\t\\t\\t\\t</div>\\n\\t\\t\\t\\t<div class=\"elementor-element elementor-element-7eda1f6 elementor-widget elementor-widget-text-editor\" data-id=\"7eda1f6\" data-element_type=\"widget\" data-widget_type=\"text-editor.default\">\\n\\t\\t\\t\\t<div class=\"elementor-widget-container\">\\n\\t\\t\\t\\t\\t\\t\\t\\t<div class=\"elementor-text-editor elementor-clearfix\">\\n\\t\\t\\t\\t<p style=\"text-align: left;\"><strong>Sometimes the best support is the support you never need to call.</strong></p><p>That&#8217;s why we monitor our network, servers, and datacenter 24/7 for performance, security, and most importantly &#8212; uptime. When problems are detected, we have staff working around the clock to take care of things. You can rest easy, even if we&#8217;re still up.</p>\\t\\t\\t\\t\\t</div>\\n\\t\\t\\t\\t\\t\\t</div>\\n\\t\\t\\t\\t</div>\\n\\t\\t\\t\\t\\t\\t</div>\\n\\t\\t\\t\\t\\t</div>\\n\\t\\t</div>\\n\\t\\t\\t\\t\\t\\t\\t\\t</div>\\n\\t\\t\\t\\t\\t</div>\\n\\t\\t</section>\\n\\t\\t\\t\\t\\t\\t</div>\\n\\t\\t\\t\\t\\t</div>\\n\\t\\t</div>\\n\\t\\t\\t\\t\\t\\t\\t\\t</div>\\n\\t\\t\\t\\t\\t</div>\\n\\t\\t</section>\\n\\t\\t\\t\\t<section class=\"elementor-section elementor-top-section elementor-element elementor-element-1b8ae13 elementor-section-boxed elementor-section-height-default elementor-section-height-default\" data-id=\"1b8ae13\" data-element_type=\"section\">\\n\\t\\t\\t\\t\\t\\t<div class=\"elementor-container elementor-column-gap-default\">\\n\\t\\t\\t\\t\\t\\t\\t<div class=\"elementor-row\">\\n\\t\\t\\t\\t\\t<div class=\"elementor-column elementor-col-100 elementor-top-column elementor-element elementor-element-9954b54\" data-id=\"9954b54\" data-element_type=\"column\">\\n\\t\\t\\t<div class=\"elementor-column-wrap elementor-element-populated\">\\n\\t\\t\\t\\t\\t\\t\\t<div class=\"elementor-widget-wrap\">\\n\\t\\t\\t\\t\\t\\t<div class=\"elementor-element elementor-element-34575d0 elementor-widget elementor-widget-image\" data-id=\"34575d0\" data-element_type=\"widget\" data-widget_type=\"image.default\">\\n\\t\\t\\t\\t<div class=\"elementor-widget-container\">\\n\\t\\t\\t\\t\\t\\t\\t\\t<div class=\"elementor-image\">\\n\\t\\t\\t\\t\\t\\t\\t\\t\\t\\t\\t\\t<img width=\"1203\" height=\"9\"   alt=\"\" data-srcset=\"https://www.pair.com/wp-content/uploads/2018/12/pair_shadow_02.png 1203w, https://www.pair.com/wp-content/uploads/2018/12/pair_shadow_02-300x2.png 300w, https://www.pair.com/wp-content/uploads/2018/12/pair_shadow_02-768x6.png 768w, https://www.pair.com/wp-content/uploads/2018/12/pair_shadow_02-1024x8.png 1024w\"  data-src=\"https://www.pair.com/wp-content/uploads/2018/12/pair_shadow_02.png\" data-sizes=\"(max-width: 1203px) 100vw, 1203px\" class=\"attachment-full size-full lazyload\" src=\"data:image/gif;base64,R0lGODlhAQABAAAAACH5BAEKAAEALAAAAAABAAEAAAICTAEAOw==\" /><noscript><img width=\"1203\" height=\"9\" src=\"https://www.pair.com/wp-content/uploads/2018/12/pair_shadow_02.png\" class=\"attachment-full size-full\" alt=\"\" srcset=\"https://www.pair.com/wp-content/uploads/2018/12/pair_shadow_02.png 1203w, https://www.pair.com/wp-content/uploads/2018/12/pair_shadow_02-300x2.png 300w, https://www.pair.com/wp-content/uploads/2018/12/pair_shadow_02-768x6.png 768w, https://www.pair.com/wp-content/uploads/2018/12/pair_shadow_02-1024x8.png 1024w\" sizes=\"(max-width: 1203px) 100vw, 1203px\" /></noscript>\\t\\t\\t\\t\\t\\t\\t\\t\\t\\t\\t\\t\\t\\t</div>\\n\\t\\t\\t\\t\\t\\t</div>\\n\\t\\t\\t\\t</div>\\n\\t\\t\\t\\t\\t\\t</div>\\n\\t\\t\\t\\t\\t</div>\\n\\t\\t</div>\\n\\t\\t\\t\\t\\t\\t\\t\\t</div>\\n\\t\\t\\t\\t\\t</div>\\n\\t\\t</section>\\n\\t\\t\\t\\t<section class=\"elementor-section elementor-top-section elementor-element elementor-element-8b8e30d elementor-section-boxed elementor-section-height-default elementor-section-height-default\" data-id=\"8b8e30d\" data-element_type=\"section\">\\n\\t\\t\\t\\t\\t\\t<div class=\"elementor-container elementor-column-gap-default\">\\n\\t\\t\\t\\t\\t\\t\\t<div class=\"elementor-row\">\\n\\t\\t\\t\\t\\t<div class=\"elementor-column elementor-col-50 elementor-top-column elementor-element elementor-element-76d5e1d\" data-id=\"76d5e1d\" data-element_type=\"column\">\\n\\t\\t\\t<div class=\"elementor-column-wrap elementor-element-populated\">\\n\\t\\t\\t\\t\\t\\t\\t<div class=\"elementor-widget-wrap\">\\n\\t\\t\\t\\t\\t\\t<div class=\"elementor-element elementor-element-3f00102 elementor-widget elementor-widget-heading\" data-id=\"3f00102\" data-element_type=\"widget\" data-widget_type=\"heading.default\">\\n\\t\\t\\t\\t<div class=\"elementor-widget-container\">\\n\\t\\t\\t<h2 class=\"elementor-heading-title elementor-size-default\">Ready for hosting you\\'ll love?</h2>\\t\\t</div>\\n\\t\\t\\t\\t</div>\\n\\t\\t\\t\\t\\t\\t</div>\\n\\t\\t\\t\\t\\t</div>\\n\\t\\t</div>\\n\\t\\t\\t\\t<div class=\"elementor-column elementor-col-25 elementor-top-column elementor-element elementor-element-8556540\" data-id=\"8556540\" data-element_type=\"column\">\\n\\t\\t\\t<div class=\"elementor-column-wrap elementor-element-populated\">\\n\\t\\t\\t\\t\\t\\t\\t<div class=\"elementor-widget-wrap\">\\n\\t\\t\\t\\t\\t\\t<div class=\"elementor-element elementor-element-6dcb70c elementor-align-center elementor-widget elementor-widget-button\" data-id=\"6dcb70c\" data-element_type=\"widget\" data-widget_type=\"button.default\">\\n\\t\\t\\t\\t<div class=\"elementor-widget-container\">\\n\\t\\t\\t\\t\\t<div class=\"elementor-button-wrapper\">\\n\\t\\t\\t<a href=\"https://www.pair.com/help-me-choose/\" class=\"elementor-button-link elementor-button elementor-size-lg\" role=\"button\">\\n\\t\\t\\t\\t\\t\\t<span class=\"elementor-button-content-wrapper\">\\n\\t\\t\\t\\t\\t\\t<span class=\"elementor-button-text\">SEE OUR WEB HOSTING PLANS</span>\\n\\t\\t</span>\\n\\t\\t\\t\\t\\t</a>\\n\\t\\t</div>\\n\\t\\t\\t\\t</div>\\n\\t\\t\\t\\t</div>\\n\\t\\t\\t\\t\\t\\t</div>\\n\\t\\t\\t\\t\\t</div>\\n\\t\\t</div>\\n\\t\\t\\t\\t<div class=\"elementor-column elementor-col-25 elementor-top-column elementor-element elementor-element-f8de3c7\" data-id=\"f8de3c7\" data-element_type=\"column\">\\n\\t\\t\\t<div class=\"elementor-column-wrap elementor-element-populated\">\\n\\t\\t\\t\\t\\t\\t\\t<div class=\"elementor-widget-wrap\">\\n\\t\\t\\t\\t\\t\\t<div class=\"elementor-element elementor-element-8236078 elementor-align-center elementor-widget elementor-widget-button\" data-id=\"8236078\" data-element_type=\"widget\" data-widget_type=\"button.default\">\\n\\t\\t\\t\\t<div class=\"elementor-widget-container\">\\n\\t\\t\\t\\t\\t<div class=\"elementor-button-wrapper\">\\n\\t\\t\\t<a href=\"https://www.pair.com/solutions/move-to-pair/\" class=\"elementor-button-link elementor-button elementor-size-lg\" role=\"button\">\\n\\t\\t\\t\\t\\t\\t<span class=\"elementor-button-content-wrapper\">\\n\\t\\t\\t\\t\\t\\t<span class=\"elementor-button-text\">MOVE MY SITE</span>\\n\\t\\t</span>\\n\\t\\t\\t\\t\\t</a>\\n\\t\\t</div>\\n\\t\\t\\t\\t</div>\\n\\t\\t\\t\\t</div>\\n\\t\\t\\t\\t\\t\\t</div>\\n\\t\\t\\t\\t\\t</div>\\n\\t\\t</div>\\n\\t\\t\\t\\t\\t\\t\\t\\t</div>\\n\\t\\t\\t\\t\\t</div>\\n\\t\\t</section>\\n\\t\\t\\t\\t<section class=\"elementor-section elementor-top-section elementor-element elementor-element-7bbbeea elementor-section-boxed elementor-section-height-default elementor-section-height-default\" data-id=\"7bbbeea\" data-element_type=\"section\">\\n\\t\\t\\t\\t\\t\\t<div class=\"elementor-container elementor-column-gap-default\">\\n\\t\\t\\t\\t\\t\\t\\t<div class=\"elementor-row\">\\n\\t\\t\\t\\t\\t<div class=\"elementor-column elementor-col-50 elementor-top-column elementor-element elementor-element-4201e69\" data-id=\"4201e69\" data-element_type=\"column\">\\n\\t\\t\\t<div class=\"elementor-column-wrap\">\\n\\t\\t\\t\\t\\t\\t\\t<div class=\"elementor-widget-wrap\">\\n\\t\\t\\t\\t\\t\\t\\t\\t</div>\\n\\t\\t\\t\\t\\t</div>\\n\\t\\t</div>\\n\\t\\t\\t\\t<div class=\"elementor-column elementor-col-50 elementor-top-column elementor-element elementor-element-d116374\" data-id=\"d116374\" data-element_type=\"column\">\\n\\t\\t\\t<div class=\"elementor-column-wrap\">\\n\\t\\t\\t\\t\\t\\t\\t<div class=\"elementor-widget-wrap\">\\n\\t\\t\\t\\t\\t\\t\\t\\t</div>\\n\\t\\t\\t\\t\\t</div>\\n\\t\\t</div>\\n\\t\\t\\t\\t\\t\\t\\t\\t</div>\\n\\t\\t\\t\\t\\t</div>\\n\\t\\t</section>\\n\\t\\t\\t\\t<section class=\"elementor-section elementor-top-section elementor-element elementor-element-213ce8b elementor-section-boxed elementor-section-height-default elementor-section-height-default\" data-id=\"213ce8b\" data-element_type=\"section\">\\n\\t\\t\\t\\t\\t\\t<div class=\"elementor-container elementor-column-gap-default\">\\n\\t\\t\\t\\t\\t\\t\\t<div class=\"elementor-row\">\\n\\t\\t\\t\\t\\t<div class=\"elementor-column elementor-col-100 elementor-top-column elementor-element elementor-element-72a4c17\" data-id=\"72a4c17\" data-element_type=\"column\">\\n\\t\\t\\t<div class=\"elementor-column-wrap elementor-element-populated\">\\n\\t\\t\\t\\t\\t\\t\\t<div class=\"elementor-widget-wrap\">\\n\\t\\t\\t\\t\\t\\t<div class=\"elementor-element elementor-element-9cefcf6 elementor-widget elementor-widget-heading\" data-id=\"9cefcf6\" data-element_type=\"widget\" data-widget_type=\"heading.default\">\\n\\t\\t\\t\\t<div class=\"elementor-widget-container\">\\n\\t\\t\\t<h2 class=\"elementor-heading-title elementor-size-default\">FAQ</h2>\\t\\t</div>\\n\\t\\t\\t\\t</div>\\n\\t\\t\\t\\t<div class=\"elementor-element elementor-element-4a122ca elementor-widget elementor-widget-toggle\" data-id=\"4a122ca\" data-element_type=\"widget\" data-widget_type=\"toggle.default\">\\n\\t\\t\\t\\t<div class=\"elementor-widget-container\">\\n\\t\\t\\t\\t\\t<div class=\"elementor-toggle\" role=\"tablist\">\\n\\t\\t\\t\\t\\t\\t\\t<div class=\"elementor-toggle-item\">\\n\\t\\t\\t\\t\\t<div id=\"elementor-tab-title-7761\" class=\"elementor-tab-title\" data-tab=\"1\" role=\"tab\" aria-controls=\"elementor-tab-content-7761\" aria-expanded=\"false\">\\n\\t\\t\\t\\t\\t\\t\\t\\t\\t\\t\\t\\t<span class=\"elementor-toggle-icon elementor-toggle-icon-left\" aria-hidden=\"true\">\\n\\t\\t\\t\\t\\t\\t\\t\\t\\t\\t\\t\\t\\t\\t\\t<span class=\"elementor-toggle-icon-closed\"><i class=\"fas fa-caret-right\"></i></span>\\n\\t\\t\\t\\t\\t\\t\\t\\t<span class=\"elementor-toggle-icon-opened\"><i class=\"elementor-toggle-icon-opened fas fa-caret-up\"></i></span>\\n\\t\\t\\t\\t\\t\\t\\t\\t\\t\\t\\t\\t\\t</span>\\n\\t\\t\\t\\t\\t\\t\\t\\t\\t\\t\\t\\t<a href=\"\" class=\"elementor-toggle-title\">Which type of hosting do I need?</a>\\n\\t\\t\\t\\t\\t</div>\\n\\n\\t\\t\\t\\t\\t<div id=\"elementor-tab-content-7761\" class=\"elementor-tab-content elementor-clearfix\" data-tab=\"1\" role=\"tabpanel\" aria-labelledby=\"elementor-tab-title-7761\"><p>With a 100-day money back guarantee and no upgrade or downgrade fees, you don&#8217;t need to stress too much about choosing the right plan the first time around.</p><p>When you&#8217;re ready to start looking for a plan, we offer over a dozen plan types and fully-customizable servers. Check out our Help Me Choose guide or just give us a call. Our expert, low-pressure sales team can help you understand all your options.</p></div>\\n\\t\\t\\t\\t</div>\\n\\t\\t\\t\\t\\t\\t\\t<div class=\"elementor-toggle-item\">\\n\\t\\t\\t\\t\\t<div id=\"elementor-tab-title-7762\" class=\"elementor-tab-title\" data-tab=\"2\" role=\"tab\" aria-controls=\"elementor-tab-content-7762\" aria-expanded=\"false\">\\n\\t\\t\\t\\t\\t\\t\\t\\t\\t\\t\\t\\t<span class=\"elementor-toggle-icon elementor-toggle-icon-left\" aria-hidden=\"true\">\\n\\t\\t\\t\\t\\t\\t\\t\\t\\t\\t\\t\\t\\t\\t\\t<span class=\"elementor-toggle-icon-closed\"><i class=\"fas fa-caret-right\"></i></span>\\n\\t\\t\\t\\t\\t\\t\\t\\t<span class=\"elementor-toggle-icon-opened\"><i class=\"elementor-toggle-icon-opened fas fa-caret-up\"></i></span>\\n\\t\\t\\t\\t\\t\\t\\t\\t\\t\\t\\t\\t\\t</span>\\n\\t\\t\\t\\t\\t\\t\\t\\t\\t\\t\\t\\t<a href=\"\" class=\"elementor-toggle-title\">What do you support?</a>\\n\\t\\t\\t\\t\\t</div>\\n\\n\\t\\t\\t\\t\\t<div id=\"elementor-tab-content-7762\" class=\"elementor-tab-content elementor-clearfix\" data-tab=\"2\" role=\"tabpanel\" aria-labelledby=\"elementor-tab-title-7762\"><p><span style=\"font-weight: 400;\">At Pair, our mission is to go beyond standard hosting services and give your website a secure home with unbeatable support you can always count on. For our core hosting services, we provide a variety of behind-the-scenes maintenance and preventative measures. We regularly test network connections for optimal speed and performance. We have a multi-provider network so there’s a back up in place if one network experiences downtime. If there’s a problem with a network, we contact our providers so you don’t have to.</span></p><p><span style=\"font-weight: 400;\">We also support the following:</span></p><ul><li style=\"font-weight: 400;\"><span style=\"font-weight: 400;\">Network</span></li><li style=\"font-weight: 400;\"><span style=\"font-weight: 400;\">Intrusion point detection monitoring</span></li><li style=\"font-weight: 400;\"><span style=\"font-weight: 400;\">Hardware</span></li><li style=\"font-weight: 400;\"><span style=\"font-weight: 400;\">Operating System</span></li><li style=\"font-weight: 400;\"><span style=\"font-weight: 400;\">Server Software</span></li><li style=\"font-weight: 400;\"><span style=\"font-weight: 400;\">Account Control Center (ACC)</span></li><li style=\"font-weight: 400;\"><span style=\"font-weight: 400;\">PairSIM</span></li><li style=\"font-weight: 400;\"><span style=\"font-weight: 400;\">pairList</span></li><li style=\"font-weight: 400;\"><span style=\"font-weight: 400;\">Backups</span></li><li style=\"font-weight: 400;\"><span style=\"font-weight: 400;\">Weebly</span></li><li style=\"font-weight: 400;\"><span style=\"font-weight: 400;\">PairCDN</span></li><li style=\"font-weight: 400;\"><span style=\"font-weight: 400;\">SSL certificates (unless purchased through a third party)</span></li><li style=\"font-weight: 400;\"><span style=\"font-weight: 400;\">ShopSite</span></li><li style=\"font-weight: 400;\"><span style=\"font-weight: 400;\">WordPress Hosting Platform</span></li></ul></div>\\n\\t\\t\\t\\t</div>\\n\\t\\t\\t\\t\\t\\t\\t<div class=\"elementor-toggle-item\">\\n\\t\\t\\t\\t\\t<div id=\"elementor-tab-title-7763\" class=\"elementor-tab-title\" data-tab=\"3\" role=\"tab\" aria-controls=\"elementor-tab-content-7763\" aria-expanded=\"false\">\\n\\t\\t\\t\\t\\t\\t\\t\\t\\t\\t\\t\\t<span class=\"elementor-toggle-icon elementor-toggle-icon-left\" aria-hidden=\"true\">\\n\\t\\t\\t\\t\\t\\t\\t\\t\\t\\t\\t\\t\\t\\t\\t<span class=\"elementor-toggle-icon-closed\"><i class=\"fas fa-caret-right\"></i></span>\\n\\t\\t\\t\\t\\t\\t\\t\\t<span class=\"elementor-toggle-icon-opened\"><i class=\"elementor-toggle-icon-opened fas fa-caret-up\"></i></span>\\n\\t\\t\\t\\t\\t\\t\\t\\t\\t\\t\\t\\t\\t</span>\\n\\t\\t\\t\\t\\t\\t\\t\\t\\t\\t\\t\\t<a href=\"\" class=\"elementor-toggle-title\">Can you help me build my site?</a>\\n\\t\\t\\t\\t\\t</div>\\n\\n\\t\\t\\t\\t\\t<div id=\"elementor-tab-content-7763\" class=\"elementor-tab-content elementor-clearfix\" data-tab=\"3\" role=\"tabpanel\" aria-labelledby=\"elementor-tab-title-7763\"><p><span style=\"font-weight: 400;\">While we can’t build the site for you, we do offer and support Weebly and WordPress. Weebly is a popular drag-and-drop website builder that doesn&#8217;t require any coding to build a site!\\xa0</span>WordPress is the world&#8217;s most popular content management system and can be used with or without coding.</p><p><span style=\"font-weight: 400;\">Whether you choose to code your own site or use one of our tools, we also offer 24/7 support and resources like the comprehensive documentation found on our Knowledge Base if you need help.</span></p></div>\\n\\t\\t\\t\\t</div>\\n\\t\\t\\t\\t\\t\\t\\t\\t</div>\\n\\t\\t\\t\\t</div>\\n\\t\\t\\t\\t</div>\\n\\t\\t\\t\\t<div class=\"elementor-element elementor-element-ca52133 elementor-widget elementor-widget-spacer\" data-id=\"ca52133\" data-element_type=\"widget\" data-widget_type=\"spacer.default\">\\n\\t\\t\\t\\t<div class=\"elementor-widget-container\">\\n\\t\\t\\t\\t\\t<div class=\"elementor-spacer\">\\n\\t\\t\\t<div class=\"elementor-spacer-inner\"></div>\\n\\t\\t</div>\\n\\t\\t\\t\\t</div>\\n\\t\\t\\t\\t</div>\\n\\t\\t\\t\\t\\t\\t</div>\\n\\t\\t\\t\\t\\t</div>\\n\\t\\t</div>\\n\\t\\t\\t\\t\\t\\t\\t\\t</div>\\n\\t\\t\\t\\t\\t</div>\\n\\t\\t</section>\\n\\t\\t\\t\\t\\t\\t</div>\\n\\t\\t\\t\\t\\t\\t</div>\\n\\t\\t\\t\\t\\t</div>\\n\\t\\t\\n\\t</main>\\n\\n\\t\\n\\t\\n\\t\\t\\t<div data-elementor-type=\"footer\" data-elementor-id=\"57\" class=\"elementor elementor-57 elementor-location-footer\" data-elementor-settings=\"[]\">\\n\\t\\t<div class=\"elementor-section-wrap\">\\n\\t\\t\\t\\t\\t<section class=\"elementor-section elementor-top-section elementor-element elementor-element-57dff2a3 elementor-section-boxed elementor-section-height-default elementor-section-height-default\" data-id=\"57dff2a3\" data-element_type=\"section\" data-settings=\"{&quot;background_background&quot;:&quot;classic&quot;}\">\\n\\t\\t\\t\\t\\t\\t<div class=\"elementor-container elementor-column-gap-default\">\\n\\t\\t\\t\\t\\t\\t\\t<div class=\"elementor-row\">\\n\\t\\t\\t\\t\\t<div class=\"elementor-column elementor-col-25 elementor-top-column elementor-element elementor-element-37c3e78\" data-id=\"37c3e78\" data-element_type=\"column\" data-settings=\"{&quot;background_background&quot;:&quot;classic&quot;}\">\\n\\t\\t\\t<div class=\"elementor-column-wrap elementor-element-populated\">\\n\\t\\t\\t\\t\\t\\t\\t<div class=\"elementor-widget-wrap\">\\n\\t\\t\\t\\t\\t\\t<div class=\"elementor-element elementor-element-1af4c61c elementor-widget elementor-widget-image\" data-id=\"1af4c61c\" data-element_type=\"widget\" data-widget_type=\"image.default\">\\n\\t\\t\\t\\t<div class=\"elementor-widget-container\">\\n\\t\\t\\t\\t\\t\\t\\t\\t<div class=\"elementor-image\">\\n\\t\\t\\t\\t\\t\\t\\t\\t\\t\\t\\t\\t<img  title=\"pair_logo\" alt=\"Pair Networks\" data-src=\"https://www.pair.com/wp-content/uploads/elementor/thumbs/pair_logo-e1553290159208-pejyk6rn6g2asnbxxvi0pqtxgmvbsa13u3jqe1us9g.png\" class=\"lazyload\" src=\"data:image/gif;base64,R0lGODlhAQABAAAAACH5BAEKAAEALAAAAAABAAEAAAICTAEAOw==\" /><noscript><img src=\"https://www.pair.com/wp-content/uploads/elementor/thumbs/pair_logo-e1553290159208-pejyk6rn6g2asnbxxvi0pqtxgmvbsa13u3jqe1us9g.png\" title=\"pair_logo\" alt=\"Pair Networks\" /></noscript>\\t\\t\\t\\t\\t\\t\\t\\t\\t\\t\\t\\t\\t\\t</div>\\n\\t\\t\\t\\t\\t\\t</div>\\n\\t\\t\\t\\t</div>\\n\\t\\t\\t\\t\\t\\t</div>\\n\\t\\t\\t\\t\\t</div>\\n\\t\\t</div>\\n\\t\\t\\t\\t<div class=\"elementor-column elementor-col-25 elementor-top-column elementor-element elementor-element-4a2ef2b7\" data-id=\"4a2ef2b7\" data-element_type=\"column\">\\n\\t\\t\\t<div class=\"elementor-column-wrap\">\\n\\t\\t\\t\\t\\t\\t\\t<div class=\"elementor-widget-wrap\">\\n\\t\\t\\t\\t\\t\\t\\t\\t</div>\\n\\t\\t\\t\\t\\t</div>\\n\\t\\t</div>\\n\\t\\t\\t\\t<div class=\"elementor-column elementor-col-50 elementor-top-column elementor-element elementor-element-17206a45\" data-id=\"17206a45\" data-element_type=\"column\">\\n\\t\\t\\t<div class=\"elementor-column-wrap elementor-element-populated\">\\n\\t\\t\\t\\t\\t\\t\\t<div class=\"elementor-widget-wrap\">\\n\\t\\t\\t\\t\\t\\t<div class=\"elementor-element elementor-element-58f5d950 elementor-widget elementor-widget-text-editor\" data-id=\"58f5d950\" data-element_type=\"widget\" data-widget_type=\"text-editor.default\">\\n\\t\\t\\t\\t<div class=\"elementor-widget-container\">\\n\\t\\t\\t\\t\\t\\t\\t\\t<div class=\"elementor-text-editor elementor-clearfix\">\\n\\t\\t\\t\\t<p class=\"p1\"><span style=\"color: #ffffff;\">World Class 24&#215;7 Support:</span><span style=\"color: #f05322;\">\\xa0<br /><span class=\"s1\"><b>1.877.724.7638</b></span></span></p>\\t\\t\\t\\t\\t</div>\\n\\t\\t\\t\\t\\t\\t</div>\\n\\t\\t\\t\\t</div>\\n\\t\\t\\t\\t\\t\\t</div>\\n\\t\\t\\t\\t\\t</div>\\n\\t\\t</div>\\n\\t\\t\\t\\t\\t\\t\\t\\t</div>\\n\\t\\t\\t\\t\\t</div>\\n\\t\\t</section>\\n\\t\\t\\t\\t<section class=\"elementor-section elementor-top-section elementor-element elementor-element-45fe85a3 elementor-section-content-top elementor-section-boxed elementor-section-height-default elementor-section-height-default\" data-id=\"45fe85a3\" data-element_type=\"section\" data-settings=\"{&quot;background_background&quot;:&quot;classic&quot;}\">\\n\\t\\t\\t\\t\\t\\t<div class=\"elementor-container elementor-column-gap-default\">\\n\\t\\t\\t\\t\\t\\t\\t<div class=\"elementor-row\">\\n\\t\\t\\t\\t\\t<div class=\"elementor-column elementor-col-20 elementor-top-column elementor-element elementor-element-57d1ae3f\" data-id=\"57d1ae3f\" data-element_type=\"column\">\\n\\t\\t\\t<div class=\"elementor-column-wrap elementor-element-populated\">\\n\\t\\t\\t\\t\\t\\t\\t<div class=\"elementor-widget-wrap\">\\n\\t\\t\\t\\t\\t\\t<div class=\"elementor-element elementor-element-519df08 elementor-widget elementor-widget-heading\" data-id=\"519df08\" data-element_type=\"widget\" data-widget_type=\"heading.default\">\\n\\t\\t\\t\\t<div class=\"elementor-widget-container\">\\n\\t\\t\\t<h2 class=\"elementor-heading-title elementor-size-default\">MY ACCOUNT</h2>\\t\\t</div>\\n\\t\\t\\t\\t</div>\\n\\t\\t\\t\\t<div class=\"elementor-element elementor-element-f11e611 elementor-icon-list--layout-traditional elementor-list-item-link-full_width elementor-widget elementor-widget-icon-list\" data-id=\"f11e611\" data-element_type=\"widget\" data-widget_type=\"icon-list.default\">\\n\\t\\t\\t\\t<div class=\"elementor-widget-container\">\\n\\t\\t\\t\\t\\t<ul class=\"elementor-icon-list-items\">\\n\\t\\t\\t\\t\\t\\t\\t<li class=\"elementor-icon-list-item\">\\n\\t\\t\\t\\t\\t\\t\\t\\t\\t\\t\\t<a href=\"https://my.pair.com\">\\n\\n\\t\\t\\t\\t\\t\\t\\t\\t\\t\\t\\t<span class=\"elementor-icon-list-text\">ACC Login</span>\\n\\t\\t\\t\\t\\t\\t\\t\\t\\t\\t\\t</a>\\n\\t\\t\\t\\t\\t\\t\\t\\t\\t</li>\\n\\t\\t\\t\\t\\t\\t\\t\\t<li class=\"elementor-icon-list-item\">\\n\\t\\t\\t\\t\\t\\t\\t\\t\\t\\t\\t<a href=\"https://webmail.pair.com\">\\n\\n\\t\\t\\t\\t\\t\\t\\t\\t\\t\\t\\t<span class=\"elementor-icon-list-text\">Webmail Login</span>\\n\\t\\t\\t\\t\\t\\t\\t\\t\\t\\t\\t</a>\\n\\t\\t\\t\\t\\t\\t\\t\\t\\t</li>\\n\\t\\t\\t\\t\\t\\t\\t\\t<li class=\"elementor-icon-list-item\">\\n\\t\\t\\t\\t\\t\\t\\t\\t\\t\\t\\t<a href=\"http://my.pair.com/payment-form\">\\n\\n\\t\\t\\t\\t\\t\\t\\t\\t\\t\\t\\t<span class=\"elementor-icon-list-text\">Submit a Payment</span>\\n\\t\\t\\t\\t\\t\\t\\t\\t\\t\\t\\t</a>\\n\\t\\t\\t\\t\\t\\t\\t\\t\\t</li>\\n\\t\\t\\t\\t\\t\\t</ul>\\n\\t\\t\\t\\t</div>\\n\\t\\t\\t\\t</div>\\n\\t\\t\\t\\t\\t\\t</div>\\n\\t\\t\\t\\t\\t</div>\\n\\t\\t</div>\\n\\t\\t\\t\\t<div class=\"elementor-column elementor-col-20 elementor-top-column elementor-element elementor-element-10c0e5f6\" data-id=\"10c0e5f6\" data-element_type=\"column\">\\n\\t\\t\\t<div class=\"elementor-column-wrap elementor-element-populated\">\\n\\t\\t\\t\\t\\t\\t\\t<div class=\"elementor-widget-wrap\">\\n\\t\\t\\t\\t\\t\\t<div class=\"elementor-element elementor-element-9b02b6e elementor-widget elementor-widget-heading\" data-id=\"9b02b6e\" data-element_type=\"widget\" data-widget_type=\"heading.default\">\\n\\t\\t\\t\\t<div class=\"elementor-widget-container\">\\n\\t\\t\\t<h2 class=\"elementor-heading-title elementor-size-default\">SIGN UP</h2>\\t\\t</div>\\n\\t\\t\\t\\t</div>\\n\\t\\t\\t\\t<div class=\"elementor-element elementor-element-8515385 elementor-icon-list--layout-traditional elementor-list-item-link-full_width elementor-widget elementor-widget-icon-list\" data-id=\"8515385\" data-element_type=\"widget\" data-widget_type=\"icon-list.default\">\\n\\t\\t\\t\\t<div class=\"elementor-widget-container\">\\n\\t\\t\\t\\t\\t<ul class=\"elementor-icon-list-items\">\\n\\t\\t\\t\\t\\t\\t\\t<li class=\"elementor-icon-list-item\">\\n\\t\\t\\t\\t\\t\\t\\t\\t\\t\\t\\t<a href=\"https://www.pair.com/solutions/move-to-pair/\">\\n\\n\\t\\t\\t\\t\\t\\t\\t\\t\\t\\t\\t<span class=\"elementor-icon-list-text\">Move to Pair</span>\\n\\t\\t\\t\\t\\t\\t\\t\\t\\t\\t\\t</a>\\n\\t\\t\\t\\t\\t\\t\\t\\t\\t</li>\\n\\t\\t\\t\\t\\t\\t\\t\\t<li class=\"elementor-icon-list-item\">\\n\\t\\t\\t\\t\\t\\t\\t\\t\\t\\t\\t<a href=\"https://www.pair.com/current-special-offers/\">\\n\\n\\t\\t\\t\\t\\t\\t\\t\\t\\t\\t\\t<span class=\"elementor-icon-list-text\">Current Special Offers</span>\\n\\t\\t\\t\\t\\t\\t\\t\\t\\t\\t\\t</a>\\n\\t\\t\\t\\t\\t\\t\\t\\t\\t</li>\\n\\t\\t\\t\\t\\t\\t\\t\\t<li class=\"elementor-icon-list-item\">\\n\\t\\t\\t\\t\\t\\t\\t\\t\\t\\t\\t<a href=\"https://www.pair.com/support/contact-us/\">\\n\\n\\t\\t\\t\\t\\t\\t\\t\\t\\t\\t\\t<span class=\"elementor-icon-list-text\">Contact a Sales &nbsp;Representative</span>\\n\\t\\t\\t\\t\\t\\t\\t\\t\\t\\t\\t</a>\\n\\t\\t\\t\\t\\t\\t\\t\\t\\t</li>\\n\\t\\t\\t\\t\\t\\t</ul>\\n\\t\\t\\t\\t</div>\\n\\t\\t\\t\\t</div>\\n\\t\\t\\t\\t\\t\\t</div>\\n\\t\\t\\t\\t\\t</div>\\n\\t\\t</div>\\n\\t\\t\\t\\t<div class=\"elementor-column elementor-col-20 elementor-top-column elementor-element elementor-element-b9fa220\" data-id=\"b9fa220\" data-element_type=\"column\">\\n\\t\\t\\t<div class=\"elementor-column-wrap elementor-element-populated\">\\n\\t\\t\\t\\t\\t\\t\\t<div class=\"elementor-widget-wrap\">\\n\\t\\t\\t\\t\\t\\t<div class=\"elementor-element elementor-element-e8717b0 elementor-widget elementor-widget-heading\" data-id=\"e8717b0\" data-element_type=\"widget\" data-widget_type=\"heading.default\">\\n\\t\\t\\t\\t<div class=\"elementor-widget-container\">\\n\\t\\t\\t<h2 class=\"elementor-heading-title elementor-size-default\">POLICIES & TERMS</h2>\\t\\t</div>\\n\\t\\t\\t\\t</div>\\n\\t\\t\\t\\t<div class=\"elementor-element elementor-element-58b9b02 elementor-icon-list--layout-traditional elementor-list-item-link-full_width elementor-widget elementor-widget-icon-list\" data-id=\"58b9b02\" data-element_type=\"widget\" data-widget_type=\"icon-list.default\">\\n\\t\\t\\t\\t<div class=\"elementor-widget-container\">\\n\\t\\t\\t\\t\\t<ul class=\"elementor-icon-list-items\">\\n\\t\\t\\t\\t\\t\\t\\t<li class=\"elementor-icon-list-item\">\\n\\t\\t\\t\\t\\t\\t\\t\\t\\t\\t\\t<a href=\"https://www.pair.com/why-pair/hosting-policies/\">\\n\\n\\t\\t\\t\\t\\t\\t\\t\\t\\t\\t\\t<span class=\"elementor-icon-list-text\">Service Contracts</span>\\n\\t\\t\\t\\t\\t\\t\\t\\t\\t\\t\\t</a>\\n\\t\\t\\t\\t\\t\\t\\t\\t\\t</li>\\n\\t\\t\\t\\t\\t\\t\\t\\t<li class=\"elementor-icon-list-item\">\\n\\t\\t\\t\\t\\t\\t\\t\\t\\t\\t\\t<a href=\"https://www.pair.com/why-pair/hosting-policies/resource-usage/\">\\n\\n\\t\\t\\t\\t\\t\\t\\t\\t\\t\\t\\t<span class=\"elementor-icon-list-text\">Usage Policies</span>\\n\\t\\t\\t\\t\\t\\t\\t\\t\\t\\t\\t</a>\\n\\t\\t\\t\\t\\t\\t\\t\\t\\t</li>\\n\\t\\t\\t\\t\\t\\t\\t\\t<li class=\"elementor-icon-list-item\">\\n\\t\\t\\t\\t\\t\\t\\t\\t\\t\\t\\t<a href=\"https://www.pair.com/why-pair/hosting-policies/abuse-and-spam/\">\\n\\n\\t\\t\\t\\t\\t\\t\\t\\t\\t\\t\\t<span class=\"elementor-icon-list-text\">Abuse Policies</span>\\n\\t\\t\\t\\t\\t\\t\\t\\t\\t\\t\\t</a>\\n\\t\\t\\t\\t\\t\\t\\t\\t\\t</li>\\n\\t\\t\\t\\t\\t\\t\\t\\t<li class=\"elementor-icon-list-item\">\\n\\t\\t\\t\\t\\t\\t\\t\\t\\t\\t\\t<a href=\"https://www.pair.com/why-pair/hosting-policies/non-wordpress-activities-on-wordpress-servers/\">\\n\\n\\t\\t\\t\\t\\t\\t\\t\\t\\t\\t\\t<span class=\"elementor-icon-list-text\">WP Prohibited Activites</span>\\n\\t\\t\\t\\t\\t\\t\\t\\t\\t\\t\\t</a>\\n\\t\\t\\t\\t\\t\\t\\t\\t\\t</li>\\n\\t\\t\\t\\t\\t\\t\\t\\t<li class=\"elementor-icon-list-item\">\\n\\t\\t\\t\\t\\t\\t\\t\\t\\t\\t\\t<a href=\"https://www.pair.com/data-privacy-transparency-statement/\">\\n\\n\\t\\t\\t\\t\\t\\t\\t\\t\\t\\t\\t<span class=\"elementor-icon-list-text\">Data Privacy Statement</span>\\n\\t\\t\\t\\t\\t\\t\\t\\t\\t\\t\\t</a>\\n\\t\\t\\t\\t\\t\\t\\t\\t\\t</li>\\n\\t\\t\\t\\t\\t\\t</ul>\\n\\t\\t\\t\\t</div>\\n\\t\\t\\t\\t</div>\\n\\t\\t\\t\\t\\t\\t</div>\\n\\t\\t\\t\\t\\t</div>\\n\\t\\t</div>\\n\\t\\t\\t\\t<div class=\"elementor-column elementor-col-20 elementor-top-column elementor-element elementor-element-6e275d6\" data-id=\"6e275d6\" data-element_type=\"column\">\\n\\t\\t\\t<div class=\"elementor-column-wrap elementor-element-populated\">\\n\\t\\t\\t\\t\\t\\t\\t<div class=\"elementor-widget-wrap\">\\n\\t\\t\\t\\t\\t\\t<div class=\"elementor-element elementor-element-165b267 elementor-widget elementor-widget-heading\" data-id=\"165b267\" data-element_type=\"widget\" data-widget_type=\"heading.default\">\\n\\t\\t\\t\\t<div class=\"elementor-widget-container\">\\n\\t\\t\\t<h2 class=\"elementor-heading-title elementor-size-default\">COMPANY</h2>\\t\\t</div>\\n\\t\\t\\t\\t</div>\\n\\t\\t\\t\\t<div class=\"elementor-element elementor-element-78af480 elementor-icon-list--layout-traditional elementor-list-item-link-full_width elementor-widget elementor-widget-icon-list\" data-id=\"78af480\" data-element_type=\"widget\" data-widget_type=\"icon-list.default\">\\n\\t\\t\\t\\t<div class=\"elementor-widget-container\">\\n\\t\\t\\t\\t\\t<ul class=\"elementor-icon-list-items\">\\n\\t\\t\\t\\t\\t\\t\\t<li class=\"elementor-icon-list-item\">\\n\\t\\t\\t\\t\\t\\t\\t\\t\\t\\t\\t<a href=\"https://www.pair.com/why-pair/hosting-policies/\">\\n\\n\\t\\t\\t\\t\\t\\t\\t\\t\\t\\t\\t<span class=\"elementor-icon-list-text\">About</span>\\n\\t\\t\\t\\t\\t\\t\\t\\t\\t\\t\\t</a>\\n\\t\\t\\t\\t\\t\\t\\t\\t\\t</li>\\n\\t\\t\\t\\t\\t\\t\\t\\t<li class=\"elementor-icon-list-item\">\\n\\t\\t\\t\\t\\t\\t\\t\\t\\t\\t\\t<a href=\"https://investor.libsyn.com\" target=\"_blank\">\\n\\n\\t\\t\\t\\t\\t\\t\\t\\t\\t\\t\\t<span class=\"elementor-icon-list-text\">Investor Relations</span>\\n\\t\\t\\t\\t\\t\\t\\t\\t\\t\\t\\t</a>\\n\\t\\t\\t\\t\\t\\t\\t\\t\\t</li>\\n\\t\\t\\t\\t\\t\\t\\t\\t<li class=\"elementor-icon-list-item\">\\n\\t\\t\\t\\t\\t\\t\\t\\t\\t\\t\\t<a href=\"https://www.pair.com/support/contact-us/\">\\n\\n\\t\\t\\t\\t\\t\\t\\t\\t\\t\\t\\t<span class=\"elementor-icon-list-text\">Contact</span>\\n\\t\\t\\t\\t\\t\\t\\t\\t\\t\\t\\t</a>\\n\\t\\t\\t\\t\\t\\t\\t\\t\\t</li>\\n\\t\\t\\t\\t\\t\\t</ul>\\n\\t\\t\\t\\t</div>\\n\\t\\t\\t\\t</div>\\n\\t\\t\\t\\t\\t\\t</div>\\n\\t\\t\\t\\t\\t</div>\\n\\t\\t</div>\\n\\t\\t\\t\\t<div class=\"elementor-column elementor-col-20 elementor-top-column elementor-element elementor-element-44fde7ca\" data-id=\"44fde7ca\" data-element_type=\"column\">\\n\\t\\t\\t<div class=\"elementor-column-wrap elementor-element-populated\">\\n\\t\\t\\t\\t\\t\\t\\t<div class=\"elementor-widget-wrap\">\\n\\t\\t\\t\\t\\t\\t<div class=\"elementor-element elementor-element-21e24f7 elementor-widget elementor-widget-heading\" data-id=\"21e24f7\" data-element_type=\"widget\" data-widget_type=\"heading.default\">\\n\\t\\t\\t\\t<div class=\"elementor-widget-container\">\\n\\t\\t\\t<h2 class=\"elementor-heading-title elementor-size-default\">Social</h2>\\t\\t</div>\\n\\t\\t\\t\\t</div>\\n\\t\\t\\t\\t<div class=\"elementor-element elementor-element-15a9731 elementor-list-item-link-full_width elementor-widget elementor-widget-icon-list\" data-id=\"15a9731\" data-element_type=\"widget\" data-widget_type=\"icon-list.default\">\\n\\t\\t\\t\\t<div class=\"elementor-widget-container\">\\n\\t\\t\\t\\t\\t<ul class=\"elementor-icon-list-items\">\\n\\t\\t\\t\\t\\t\\t\\t<li class=\"elementor-icon-list-item\">\\n\\t\\t\\t\\t\\t\\t\\t\\t\\t\\t\\t<a href=\"https://www.facebook.com/pairnetworks\" target=\"_blank\">\\n\\n\\t\\t\\t\\t\\t\\t\\t\\t\\t\\t\\t\\t<span class=\"elementor-icon-list-icon\">\\n\\t\\t\\t\\t\\t\\t\\t<i aria-hidden=\"true\" class=\"fab fa-facebook\"></i>\\t\\t\\t\\t\\t\\t</span>\\n\\t\\t\\t\\t\\t\\t\\t\\t\\t\\t<span class=\"elementor-icon-list-text\">Facebook</span>\\n\\t\\t\\t\\t\\t\\t\\t\\t\\t\\t\\t</a>\\n\\t\\t\\t\\t\\t\\t\\t\\t\\t</li>\\n\\t\\t\\t\\t\\t\\t\\t\\t<li class=\"elementor-icon-list-item\">\\n\\t\\t\\t\\t\\t\\t\\t\\t\\t\\t\\t<a href=\"https://twitter.com/pairnetworks\" target=\"_blank\">\\n\\n\\t\\t\\t\\t\\t\\t\\t\\t\\t\\t\\t\\t<span class=\"elementor-icon-list-icon\">\\n\\t\\t\\t\\t\\t\\t\\t<i aria-hidden=\"true\" class=\"fab fa-twitter-square\"></i>\\t\\t\\t\\t\\t\\t</span>\\n\\t\\t\\t\\t\\t\\t\\t\\t\\t\\t<span class=\"elementor-icon-list-text\">Twitter</span>\\n\\t\\t\\t\\t\\t\\t\\t\\t\\t\\t\\t</a>\\n\\t\\t\\t\\t\\t\\t\\t\\t\\t</li>\\n\\t\\t\\t\\t\\t\\t\\t\\t<li class=\"elementor-icon-list-item\">\\n\\t\\t\\t\\t\\t\\t\\t\\t\\t\\t\\t<a href=\"https://www.youtube.com/pairnetworks/\" target=\"_blank\">\\n\\n\\t\\t\\t\\t\\t\\t\\t\\t\\t\\t\\t\\t<span class=\"elementor-icon-list-icon\">\\n\\t\\t\\t\\t\\t\\t\\t<i aria-hidden=\"true\" class=\"fab fa-youtube-square\"></i>\\t\\t\\t\\t\\t\\t</span>\\n\\t\\t\\t\\t\\t\\t\\t\\t\\t\\t<span class=\"elementor-icon-list-text\">YouTube</span>\\n\\t\\t\\t\\t\\t\\t\\t\\t\\t\\t\\t</a>\\n\\t\\t\\t\\t\\t\\t\\t\\t\\t</li>\\n\\t\\t\\t\\t\\t\\t\\t\\t<li class=\"elementor-icon-list-item\">\\n\\t\\t\\t\\t\\t\\t\\t\\t\\t\\t\\t<a href=\"https://www.instagram.com/pairnetworks/\" target=\"_blank\">\\n\\n\\t\\t\\t\\t\\t\\t\\t\\t\\t\\t\\t\\t<span class=\"elementor-icon-list-icon\">\\n\\t\\t\\t\\t\\t\\t\\t<i aria-hidden=\"true\" class=\"fab fa-instagram\"></i>\\t\\t\\t\\t\\t\\t</span>\\n\\t\\t\\t\\t\\t\\t\\t\\t\\t\\t<span class=\"elementor-icon-list-text\">Instagram</span>\\n\\t\\t\\t\\t\\t\\t\\t\\t\\t\\t\\t</a>\\n\\t\\t\\t\\t\\t\\t\\t\\t\\t</li>\\n\\t\\t\\t\\t\\t\\t\\t\\t<li class=\"elementor-icon-list-item\">\\n\\t\\t\\t\\t\\t\\t\\t\\t\\t\\t\\t<a href=\"https://www.pair.com/pair-newsletter/\">\\n\\n\\t\\t\\t\\t\\t\\t\\t\\t\\t\\t\\t\\t<span class=\"elementor-icon-list-icon\">\\n\\t\\t\\t\\t\\t\\t\\t<i aria-hidden=\"true\" class=\"far fa-newspaper\"></i>\\t\\t\\t\\t\\t\\t</span>\\n\\t\\t\\t\\t\\t\\t\\t\\t\\t\\t<span class=\"elementor-icon-list-text\">Insider Newsletter</span>\\n\\t\\t\\t\\t\\t\\t\\t\\t\\t\\t\\t</a>\\n\\t\\t\\t\\t\\t\\t\\t\\t\\t</li>\\n\\t\\t\\t\\t\\t\\t\\t\\t<li class=\"elementor-icon-list-item\">\\n\\t\\t\\t\\t\\t\\t\\t\\t\\t\\t\\t<a href=\"https://www.crowdcast.io/pairnetworks\">\\n\\n\\t\\t\\t\\t\\t\\t\\t\\t\\t\\t\\t\\t<span class=\"elementor-icon-list-icon\">\\n\\t\\t\\t\\t\\t\\t\\t<i aria-hidden=\"true\" class=\"fas fa-chalkboard-teacher\"></i>\\t\\t\\t\\t\\t\\t</span>\\n\\t\\t\\t\\t\\t\\t\\t\\t\\t\\t<span class=\"elementor-icon-list-text\">Crowdcast Webinars</span>\\n\\t\\t\\t\\t\\t\\t\\t\\t\\t\\t\\t</a>\\n\\t\\t\\t\\t\\t\\t\\t\\t\\t</li>\\n\\t\\t\\t\\t\\t\\t</ul>\\n\\t\\t\\t\\t</div>\\n\\t\\t\\t\\t</div>\\n\\t\\t\\t\\t\\t\\t</div>\\n\\t\\t\\t\\t\\t</div>\\n\\t\\t</div>\\n\\t\\t\\t\\t\\t\\t\\t\\t</div>\\n\\t\\t\\t\\t\\t</div>\\n\\t\\t</section>\\n\\t\\t\\t\\t<section class=\"elementor-section elementor-top-section elementor-element elementor-element-44a4883 elementor-section-boxed elementor-section-height-default elementor-section-height-default\" data-id=\"44a4883\" data-element_type=\"section\" data-settings=\"{&quot;background_background&quot;:&quot;classic&quot;}\">\\n\\t\\t\\t\\t\\t\\t<div class=\"elementor-container elementor-column-gap-default\">\\n\\t\\t\\t\\t\\t\\t\\t<div class=\"elementor-row\">\\n\\t\\t\\t\\t\\t<div class=\"elementor-column elementor-col-100 elementor-top-column elementor-element elementor-element-2cd91f0\" data-id=\"2cd91f0\" data-element_type=\"column\">\\n\\t\\t\\t<div class=\"elementor-column-wrap elementor-element-populated\">\\n\\t\\t\\t\\t\\t\\t\\t<div class=\"elementor-widget-wrap\">\\n\\t\\t\\t\\t\\t\\t<div class=\"elementor-element elementor-element-24e2cde elementor-widget elementor-widget-heading\" data-id=\"24e2cde\" data-element_type=\"widget\" data-widget_type=\"heading.default\">\\n\\t\\t\\t\\t<div class=\"elementor-widget-container\">\\n\\t\\t\\t<p class=\"elementor-heading-title elementor-size-default\">Copyright © 2021 Pair Networks, Inc. All rights reserved.</p>\\t\\t</div>\\n\\t\\t\\t\\t</div>\\n\\t\\t\\t\\t\\t\\t</div>\\n\\t\\t\\t\\t\\t</div>\\n\\t\\t</div>\\n\\t\\t\\t\\t\\t\\t\\t\\t</div>\\n\\t\\t\\t\\t\\t</div>\\n\\t\\t</section>\\n\\t\\t\\t\\t</div>\\n\\t\\t</div>\\n\\t\\t\\n\\t\\n</div>\\n\\n\\n</div>\\n\\n\\n\\n<a id=\"scroll-top\" class=\"scroll-top-right\" href=\"#\"><span class=\"fa fa-angle-up\" aria-label=\"Scroll to the top of the page\"></span></a>\\n\\n\\n\\n\\n\\n\\n\\n<noscript><iframe \\n\\t\\t  height=\"0\" width=\"0\" style=\"display:none;visibility:hidden\" data-src=\"https://www.googletagmanager.com/ns.html?id=GTM-5PL2JH\" class=\"lazyload\" src=\"data:image/gif;base64,R0lGODlhAQABAAAAACH5BAEKAAEALAAAAAABAAEAAAICTAEAOw==\"></iframe></noscript>\\n\\n\\n\\n<div class=\"wt-cli-cookie-bar-container\" data-nosnippet=\"true\"><div id=\"cookie-law-info-bar\" role=\"dialog\" aria-live=\"polite\" aria-label=\"cookieconsent\" aria-describedby=\"wt-cli-cookie-banner\" data-cli-geo-loc=\"0\" style=\"text-align:left; padding:15px 30px;\" class=\"wt-cli-cookie-bar\"><div class=\"cli-wrapper\"><span id=\"wt-cli-cookie-banner\"><div class=\"cli-bar-container cli-style-v2\"><div class=\"cli-bar-message\">This website uses cookies to improve your experience. We\\'ll assume you\\'re ok with this, but you can opt out if you wish.</div><div class=\"cli-bar-btn_container\"><a id=\"wt-cli-accept-btn\" tabindex=\"0\" role=\\'button\\' style=\"margin:5px 5px 5px 30px; border-radius:0; padding:8px 25px 8px 25px;\" data-cli_action=\"accept\"  class=\"wt-cli-element medium cli-plugin-button cli-plugin-main-button cookie_action_close_header cli_action_button\" >ACCEPT</a><a id=\"wt-cli-reject-btn\" tabindex=\"0\" role=\\'button\\' style=\"margin:5px 5px 5px 5px; border-radius:0; padding:8px 25px 8px 25px;\"  class=\"wt-cli-element medium cli-plugin-button cli-plugin-main-button cookie_action_close_header_reject cli_action_button\"  data-cli_action=\"reject\">REJECT</a><a id=\"wt-cli-policy-link\" tabindex=\"0\" href=\\'https://www.pair.com/data-privacy-transparency-statement/\\' style=\"\" target=\"_blank\"  class=\"wt-cli-element wt-cli-element cli-plugin-main-link\"  >Read More</a></div></div></span></div></div><div tabindex=\"0\" id=\"cookie-law-info-again\" style=\"display:none;\"><span id=\"cookie_hdr_showagain\">Privacy & Cookies Policy</span></div><div class=\"cli-modal\" id=\"cliSettingsPopup\" role=\"dialog\" aria-labelledby=\"wt-cli-privacy-title\" tabindex=\"-1\" aria-hidden=\"true\">\\n  <div class=\"cli-modal-dialog\" role=\"document\">\\n    <div class=\"cli-modal-content cli-bar-popup\">\\n      <button aria-label=\"Close\" type=\"button\" class=\"cli-modal-close\" id=\"cliModalClose\">\\n      <svg class=\"\" viewBox=\"0 0 24 24\"><path d=\"M19 6.41l-1.41-1.41-5.59 5.59-5.59-5.59-1.41 1.41 5.59 5.59-5.59 5.59 1.41 1.41 5.59-5.59 5.59 5.59 1.41-1.41-5.59-5.59z\"></path><path d=\"M0 0h24v24h-24z\" fill=\"none\"></path></svg>\\n      <span class=\"wt-cli-sr-only\">Close</span>\\n      </button>\\n        <div class=\"cli-modal-body\">\\n\\n    <div class=\"wt-cli-element cli-container-fluid cli-tab-container\">\\n        <div class=\"cli-row\">\\n                            <div class=\"cli-col-12 cli-align-items-stretch cli-px-0\">\\n                    <div class=\"cli-privacy-overview\">\\n                        <h4 id=\\'wt-cli-privacy-title\\'>Privacy Overview</h4>                        <div class=\"cli-privacy-content\">\\n                            <div class=\"cli-privacy-content-text\">This website uses cookies to improve your experience while you navigate through the website. Out of these cookies, the cookies that are categorized as necessary are stored on your browser as they are essential for the working of basic functionalities of the website. We also use third-party cookies that help us analyze and understand how you use this website. These cookies will be stored in your browser only with your consent. You also have the option to opt-out of these cookies. But opting out of some of these cookies may have an effect on your browsing experience.</div>\\n                        </div>\\n                        <a id=\"wt-cli-privacy-readmore\"  tabindex=\"0\" role=\"button\" class=\"cli-privacy-readmore\" data-readmore-text=\"Show more\" data-readless-text=\"Show less\"></a>                    </div>\\n                </div>\\n                        <div class=\"cli-col-12 cli-align-items-stretch cli-px-0 cli-tab-section-container\">\\n\\n                \\n                                    <div class=\"cli-tab-section\">\\n                        <div class=\"cli-tab-header\">\\n                            <a id=\"wt-cli-tab-link-necessary\" tabindex=\"0\" role=\"tab\" aria-expanded=\"false\" aria-describedby=\"wt-cli-tab-necessary\" aria-controls=\"wt-cli-tab-necessary\" class=\"cli-nav-link cli-settings-mobile\" data-target=\"necessary\" data-toggle=\"cli-toggle-tab\">\\n                                Necessary                            </a>\\n                                                                                        <div class=\"wt-cli-necessary-checkbox\">\\n                                    <input type=\"checkbox\" class=\"cli-user-preference-checkbox\" id=\"wt-cli-checkbox-necessary\" aria-label=\"Necessary\" data-id=\"checkbox-necessary\" checked=\"checked\" />\\n                                    <label class=\"form-check-label\" for=\"wt-cli-checkbox-necessary\"> Necessary </label>\\n                                </div>\\n                                <span class=\"cli-necessary-caption\">\\n                                    Always Enabled                                </span>\\n                                                    </div>\\n                        <div class=\"cli-tab-content\">\\n                            <div id=\"wt-cli-tab-necessary\" tabindex=\"0\" role=\"tabpanel\" aria-labelledby=\"wt-cli-tab-link-necessary\" class=\"cli-tab-pane cli-fade\" data-id=\"necessary\">\\n                                <p>Necessary cookies are absolutely essential for the website to function properly. This category only includes cookies that ensures basic functionalities and security features of the website. These cookies do not store any personal information.</p>\\n                            </div>\\n                        </div>\\n                    </div>\\n                                    <div class=\"cli-tab-section\">\\n                        <div class=\"cli-tab-header\">\\n                            <a id=\"wt-cli-tab-link-non-necessary\" tabindex=\"0\" role=\"tab\" aria-expanded=\"false\" aria-describedby=\"wt-cli-tab-non-necessary\" aria-controls=\"wt-cli-tab-non-necessary\" class=\"cli-nav-link cli-settings-mobile\" data-target=\"non-necessary\" data-toggle=\"cli-toggle-tab\">\\n                                Non Necessary                            </a>\\n                                                                                        <div class=\"cli-switch\">\\n                                    <input type=\"checkbox\" class=\"cli-user-preference-checkbox\"  id=\"wt-cli-checkbox-non-necessary\" aria-label=\"non-necessary\" data-id=\"checkbox-non-necessary\" role=\"switch\" aria-controls=\"wt-cli-tab-link-non-necessary\" aria-labelledby=\"wt-cli-tab-link-non-necessary\"  />\\n                                    <label for=\"wt-cli-checkbox-non-necessary\" class=\"cli-slider\" data-cli-enable=\"Enabled\" data-cli-disable=\"Disabled\"><span class=\"wt-cli-sr-only\">non-necessary</span></label>\\n                                </div>\\n                                                    </div>\\n                        <div class=\"cli-tab-content\">\\n                            <div id=\"wt-cli-tab-non-necessary\" tabindex=\"0\" role=\"tabpanel\" aria-labelledby=\"wt-cli-tab-link-non-necessary\" class=\"cli-tab-pane cli-fade\" data-id=\"non-necessary\">\\n                                <p>Any cookies that may not be particularly necessary for the website to function and is used specifically to collect user personal data via analytics, ads, other embedded contents are termed as non-necessary cookies. It is mandatory to procure user consent prior to running these cookies on your website.</p>\\n                            </div>\\n                        </div>\\n                    </div>\\n                \\n            </div>\\n        </div>\\n    </div>\\n</div>\\n<div class=\"cli-modal-footer\">\\n    <div class=\"wt-cli-element cli-container-fluid cli-tab-container\">\\n        <div class=\"cli-row\">\\n            <div class=\"cli-col-12 cli-align-items-stretch cli-px-0\">\\n                <div class=\"cli-tab-footer wt-cli-privacy-overview-actions\">\\n                    \\n                        \\n                                                    <a id=\"wt-cli-privacy-save-btn\" role=\"button\" tabindex=\"0\" data-cli-action=\"accept\" class=\"wt-cli-privacy-btn cli_setting_save_button wt-cli-privacy-accept-btn cli-btn\">Save & Accept</a>\\n                                                                    \\n                </div>\\n                            </div>\\n        </div>\\n    </div>\\n</div>\\n    </div>\\n  </div>\\n</div>\\n<div class=\"cli-modal-backdrop cli-fade cli-settings-overlay\"></div>\\n<div class=\"cli-modal-backdrop cli-fade cli-popupbar-overlay\"></div>\\n</div>\\n<script type=\"text/javascript\">\\n  /* <![CDATA[ */\\n    cli_cookiebar_settings=\\'{\"animate_speed_hide\":\"500\",\"animate_speed_show\":\"500\",\"background\":\"#fffffff7\",\"border\":\"#b1a6a6c2\",\"border_on\":false,\"button_1_button_colour\":\"#61a229\",\"button_1_button_hover\":\"#4e8221\",\"button_1_link_colour\":\"#fff\",\"button_1_as_button\":true,\"button_1_new_win\":false,\"button_2_button_colour\":\"#ffffff\",\"button_2_button_hover\":\"#cccccc\",\"button_2_link_colour\":\"#898888\",\"button_2_as_button\":false,\"button_2_hidebar\":false,\"button_2_nofollow\":false,\"button_3_button_colour\":\"#000000\",\"button_3_button_hover\":\"#000000\",\"button_3_link_colour\":\"#fff\",\"button_3_as_button\":true,\"button_3_new_win\":false,\"button_4_button_colour\":\"#ffffff\",\"button_4_button_hover\":\"#cccccc\",\"button_4_link_colour\":\"#898888\",\"button_4_as_button\":false,\"button_7_button_colour\":\"#61a229\",\"button_7_button_hover\":\"#4e8221\",\"button_7_link_colour\":\"#fff\",\"button_7_as_button\":true,\"button_7_new_win\":false,\"font_family\":\"inherit\",\"header_fix\":false,\"notify_animate_hide\":true,\"notify_animate_show\":false,\"notify_div_id\":\"#cookie-law-info-bar\",\"notify_position_horizontal\":\"right\",\"notify_position_vertical\":\"bottom\",\"scroll_close\":false,\"scroll_close_reload\":false,\"accept_close_reload\":false,\"reject_close_reload\":false,\"showagain_tab\":true,\"showagain_background\":\"#fff\",\"showagain_border\":\"#000\",\"showagain_div_id\":\"#cookie-law-info-again\",\"showagain_x_position\":\"100px\",\"text\":\"#333\",\"show_once_yn\":false,\"show_once\":\"10000\",\"logging_on\":false,\"as_popup\":false,\"popup_overlay\":true,\"bar_heading_text\":\"\",\"cookie_bar_as\":\"banner\",\"cookie_setting_popup\":true,\"accept_all\":true,\"js_script_blocker\":false,\"popup_showagain_position\":\"bottom-right\",\"widget_position\":\"left\",\"button_1_style\":[[\"margin\",\"5px 5px 5px 30px\"],[\"border-radius\",\"0\"],[\"padding\",\"8px 25px 8px 25px\"]],\"button_2_style\":[],\"button_3_style\":[[\"margin\",\"5px 5px 5px 5px\"],[\"border-radius\",\"0\"],[\"padding\",\"8px 25px 8px 25px\"]],\"button_4_style\":[[\"border-bottom\",\"1px solid\"],[\"text-decoration\",\"none\"]],\"button_5_style\":[[\"float\",\"right\"],[\"text-decoration\",\"none\"],[\"color\",\"#333\"]],\"button_7_style\":[[\"margin\",\"5px 5px 5px 30px\"],[\"border-radius\",\"0\"],[\"padding\",\"8px 25px 8px 25px\"]],\"accept_close_page_navigation\":false}\\';\\n  /* ]]> */\\n</script>\\n<link rel=\\'stylesheet\\' id=\\'e-animations-css\\'  href=\\'https://www.pair.com/wp-content/cache/fvm/min/1636482150-css9833625242d6dbe271a52f6254231f60816bbbd275aeae5a7a69206686de9.css\\' type=\\'text/css\\' media=\\'all\\' />\\n<script type=\\'text/javascript\\' src=\\'https://www.pair.com/wp-content/plugins/responsive-accordion-and-collapse/js/bootstrap.js?ver=2e95883876f4630f273053fde6826f26\\' id=\\'wpsm_ac_bootstrap-js-front-js\\'></script>\\n<script type=\\'text/javascript\\' src=\\'https://www.pair.com/wp-content/plugins/responsive-accordion-and-collapse/js/accordion-custom.js?ver=2e95883876f4630f273053fde6826f26\\' id=\\'call_ac-custom-js-front-js\\'></script>\\n<script type=\\'text/javascript\\' src=\\'https://www.pair.com/wp-content/plugins/responsive-accordion-and-collapse/js/accordion.js?ver=2e95883876f4630f273053fde6826f26\\' id=\\'call_ac-js-front-js\\'></script>\\n<script type=\\'text/javascript\\' src=\\'https://www.pair.com/wp-includes/js/imagesloaded.min.js?ver=4.1.4\\' id=\\'imagesloaded-js\\'></script>\\n<script type=\\'text/javascript\\' src=\\'https://www.pair.com/wp-content/themes/oceanwp/assets/js/third/magnific-popup.min.js?ver=1.9.0\\' id=\\'magnific-popup-js\\'></script>\\n<script type=\\'text/javascript\\' src=\\'https://www.pair.com/wp-content/themes/oceanwp/assets/js/third/lightbox.min.js?ver=1.9.0\\' id=\\'oceanwp-lightbox-js\\'></script>\\n<script type=\\'text/javascript\\' id=\\'oceanwp-main-js-extra\\'>\\n/* <![CDATA[ */\\nvar oceanwpLocalize = {\"isRTL\":\"\",\"menuSearchStyle\":\"drop_down\",\"sidrSource\":null,\"sidrDisplace\":\"1\",\"sidrSide\":\"left\",\"sidrDropdownTarget\":\"link\",\"verticalHeaderTarget\":\"link\",\"customSelects\":\".woocommerce-ordering .orderby, #dropdown_product_cat, .widget_categories select, .widget_archive select, .single-product .variations_form .variations select\",\"ajax_url\":\"https:\\\\/\\\\/www.pair.com\\\\/wp-admin\\\\/admin-ajax.php\"};\\n/* ]]> */\\n</script>\\n<script type=\\'text/javascript\\' src=\\'https://www.pair.com/wp-content/themes/oceanwp/assets/js/main.min.js?ver=1.9.0\\' id=\\'oceanwp-main-js\\'></script>\\n<script type=\\'text/javascript\\' src=\\'https://www.pair.com/wp-content/plugins/wp-smushit/app/assets/js/smush-lazy-load.min.js?ver=3.9.2\\' id=\\'smush-lazy-load-js\\'></script>\\n<script type=\\'text/javascript\\' src=\\'https://www.pair.com/wp-includes/js/wp-embed.min.js?ver=2e95883876f4630f273053fde6826f26\\' id=\\'wp-embed-js\\'></script>\\n\\n<script type=\\'text/javascript\\' src=\\'https://www.pair.com/wp-content/plugins/elementor-pro/assets/lib/smartmenus/jquery.smartmenus.min.js?ver=1.0.1\\' id=\\'smartmenus-js\\'></script>\\n<script type=\\'text/javascript\\' src=\\'https://www.pair.com/wp-content/plugins/elementor-pro/assets/js/webpack-pro.runtime.min.js?ver=3.5.0\\' id=\\'elementor-pro-webpack-runtime-js\\'></script>\\n<script type=\\'text/javascript\\' src=\\'https://www.pair.com/wp-content/plugins/elementor/assets/js/webpack.runtime.min.js?ver=3.4.7\\' id=\\'elementor-webpack-runtime-js\\'></script>\\n<script type=\\'text/javascript\\' src=\\'https://www.pair.com/wp-content/plugins/elementor/assets/js/frontend-modules.min.js?ver=3.4.7\\' id=\\'elementor-frontend-modules-js\\'></script>\\n<script type=\\'text/javascript\\' id=\\'elementor-pro-frontend-js-before\\'>\\nvar ElementorProFrontendConfig = {\"ajaxurl\":\"https:\\\\/\\\\/www.pair.com\\\\/wp-admin\\\\/admin-ajax.php\",\"nonce\":\"a1f87fc431\",\"urls\":{\"assets\":\"https:\\\\/\\\\/www.pair.com\\\\/wp-content\\\\/plugins\\\\/elementor-pro\\\\/assets\\\\/\",\"rest\":\"https:\\\\/\\\\/www.pair.com\\\\/wp-json\\\\/\"},\"i18n\":{\"toc_no_headings_found\":\"No headings were found on this page.\"},\"shareButtonsNetworks\":{\"facebook\":{\"title\":\"Facebook\",\"has_counter\":true},\"twitter\":{\"title\":\"Twitter\"},\"linkedin\":{\"title\":\"LinkedIn\",\"has_counter\":true},\"pinterest\":{\"title\":\"Pinterest\",\"has_counter\":true},\"reddit\":{\"title\":\"Reddit\",\"has_counter\":true},\"vk\":{\"title\":\"VK\",\"has_counter\":true},\"odnoklassniki\":{\"title\":\"OK\",\"has_counter\":true},\"tumblr\":{\"title\":\"Tumblr\"},\"digg\":{\"title\":\"Digg\"},\"skype\":{\"title\":\"Skype\"},\"stumbleupon\":{\"title\":\"StumbleUpon\",\"has_counter\":true},\"mix\":{\"title\":\"Mix\"},\"telegram\":{\"title\":\"Telegram\"},\"pocket\":{\"title\":\"Pocket\",\"has_counter\":true},\"xing\":{\"title\":\"XING\",\"has_counter\":true},\"whatsapp\":{\"title\":\"WhatsApp\"},\"email\":{\"title\":\"Email\"},\"print\":{\"title\":\"Print\"}},\\n\"facebook_sdk\":{\"lang\":\"en_US\",\"app_id\":\"\"},\"lottie\":{\"defaultAnimationUrl\":\"https:\\\\/\\\\/www.pair.com\\\\/wp-content\\\\/plugins\\\\/elementor-pro\\\\/modules\\\\/lottie\\\\/assets\\\\/animations\\\\/default.json\"}};\\n</script>\\n<script type=\\'text/javascript\\' src=\\'https://www.pair.com/wp-content/plugins/elementor-pro/assets/js/frontend.min.js?ver=3.5.0\\' id=\\'elementor-pro-frontend-js\\'></script>\\n<script type=\\'text/javascript\\' src=\\'https://www.pair.com/wp-content/plugins/elementor/assets/lib/waypoints/waypoints.min.js?ver=4.0.2\\' id=\\'elementor-waypoints-js\\'></script>\\n<script type=\\'text/javascript\\' src=\\'https://www.pair.com/wp-includes/js/jquery/ui/core.min.js?ver=1.12.1\\' id=\\'jquery-ui-core-js\\'></script>\\n<script type=\\'text/javascript\\' src=\\'https://www.pair.com/wp-content/plugins/elementor/assets/lib/swiper/swiper.min.js?ver=5.3.6\\' id=\\'swiper-js\\'></script>\\n<script type=\\'text/javascript\\' src=\\'https://www.pair.com/wp-content/plugins/elementor/assets/lib/share-link/share-link.min.js?ver=3.4.7\\' id=\\'share-link-js\\'></script>\\n<script type=\\'text/javascript\\' src=\\'https://www.pair.com/wp-content/plugins/elementor/assets/lib/dialog/dialog.min.js?ver=4.8.1\\' id=\\'elementor-dialog-js\\'></script>\\n<script type=\\'text/javascript\\' id=\\'elementor-frontend-js-before\\'>\\nvar elementorFrontendConfig = {\"environmentMode\":{\"edit\":false,\"wpPreview\":false,\"isScriptDebug\":false},\"i18n\":{\"shareOnFacebook\":\"Share on Facebook\",\"shareOnTwitter\":\"Share on Twitter\",\"pinIt\":\"Pin it\",\"download\":\"Download\",\"downloadImage\":\"Download image\",\"fullscreen\":\"Fullscreen\",\"zoom\":\"Zoom\",\"share\":\"Share\",\"playVideo\":\"Play Video\",\"previous\":\"Previous\",\"next\":\"Next\",\"close\":\"Close\"},\"is_rtl\":false,\"breakpoints\":{\"xs\":0,\"sm\":480,\"md\":768,\"lg\":1025,\"xl\":1440,\"xxl\":1600},\"responsive\":{\"breakpoints\":{\"mobile\":{\"label\":\"Mobile\",\"value\":767,\"default_value\":767,\"direction\":\"max\",\"is_enabled\":true},\"mobile_extra\":{\"label\":\"Mobile Extra\",\"value\":880,\"default_value\":880,\"direction\":\"max\",\"is_enabled\":false},\"tablet\":{\"label\":\"Tablet\",\"value\":1024,\"default_value\":1024,\"direction\":\"max\",\"is_enabled\":true},\"tablet_extra\":{\"label\":\"Tablet Extra\",\"value\":1200,\"default_value\":1200,\"direction\":\"max\",\"is_enabled\":false},\"laptop\":{\"label\":\"Laptop\",\"value\":1366,\"default_value\":1366,\"direction\":\"max\",\"is_enabled\":false},\"widescreen\":{\"label\":\"Widescreen\",\"value\":2400,\"default_value\":2400,\"direction\":\"min\",\"is_enabled\":false}}},\\n\"version\":\"3.4.7\",\"is_static\":false,\"experimentalFeatures\":{\"e_import_export\":true,\"theme_builder_v2\":true,\"landing-pages\":true,\"elements-color-picker\":true,\"admin-top-bar\":true,\"form-submissions\":true},\"urls\":{\"assets\":\"https:\\\\/\\\\/www.pair.com\\\\/wp-content\\\\/plugins\\\\/elementor\\\\/assets\\\\/\"},\"settings\":{\"page\":[],\"editorPreferences\":[]},\"kit\":{\"active_breakpoints\":[\"viewport_mobile\",\"viewport_tablet\"],\"global_image_lightbox\":\"yes\",\"lightbox_enable_counter\":\"yes\",\"lightbox_enable_fullscreen\":\"yes\",\"lightbox_enable_zoom\":\"yes\",\"lightbox_enable_share\":\"yes\",\"lightbox_title_src\":\"title\",\"lightbox_description_src\":\"description\"},\"post\":{\"id\":2,\"title\":\"Pair%20Networks%20%E2%80%93%20Pair%20Networks\",\"excerpt\":\"\",\"featuredImage\":false}};\\n</script>\\n<script type=\\'text/javascript\\' src=\\'https://www.pair.com/wp-content/plugins/elementor/assets/js/frontend.min.js?ver=3.4.7\\' id=\\'elementor-frontend-js\\'></script>\\n<script type=\\'text/javascript\\' src=\\'https://www.pair.com/wp-content/plugins/elementor-pro/assets/js/preloaded-elements-handlers.min.js?ver=3.5.0\\' id=\\'pro-preloaded-elements-handlers-js\\'></script>\\n<script type=\\'text/javascript\\' src=\\'https://www.pair.com/wp-content/plugins/elementor/assets/js/preloaded-modules.min.js?ver=3.4.7\\' id=\\'preloaded-modules-js\\'></script>\\n<script type=\\'text/javascript\\' src=\\'https://www.pair.com/wp-content/plugins/elementor-pro/assets/lib/sticky/jquery.sticky.min.js?ver=3.5.0\\' id=\\'e-sticky-js\\'></script>\\n</body>\\n</html>'"
      ]
     },
     "execution_count": 125,
     "metadata": {},
     "output_type": "execute_result"
    }
   ],
   "source": [
    "read2"
   ]
  },
  {
   "cell_type": "code",
   "execution_count": 126,
   "id": "6f44ecbb",
   "metadata": {},
   "outputs": [
    {
     "name": "stdout",
     "output_type": "stream",
     "text": [
      "Help on class HTMLParser in module html.parser:\n",
      "\n",
      "class HTMLParser(_markupbase.ParserBase)\n",
      " |  HTMLParser(*, convert_charrefs=True)\n",
      " |  \n",
      " |  Find tags and other markup and call handler functions.\n",
      " |  \n",
      " |  Usage:\n",
      " |      p = HTMLParser()\n",
      " |      p.feed(data)\n",
      " |      ...\n",
      " |      p.close()\n",
      " |  \n",
      " |  Start tags are handled by calling self.handle_starttag() or\n",
      " |  self.handle_startendtag(); end tags by self.handle_endtag().  The\n",
      " |  data between tags is passed from the parser to the derived class\n",
      " |  by calling self.handle_data() with the data as argument (the data\n",
      " |  may be split up in arbitrary chunks).  If convert_charrefs is\n",
      " |  True the character references are converted automatically to the\n",
      " |  corresponding Unicode character (and self.handle_data() is no\n",
      " |  longer split in chunks), otherwise they are passed by calling\n",
      " |  self.handle_entityref() or self.handle_charref() with the string\n",
      " |  containing respectively the named or numeric reference as the\n",
      " |  argument.\n",
      " |  \n",
      " |  Method resolution order:\n",
      " |      HTMLParser\n",
      " |      _markupbase.ParserBase\n",
      " |      builtins.object\n",
      " |  \n",
      " |  Methods defined here:\n",
      " |  \n",
      " |  __init__(self, *, convert_charrefs=True)\n",
      " |      Initialize and reset this instance.\n",
      " |      \n",
      " |      If convert_charrefs is True (the default), all character references\n",
      " |      are automatically converted to the corresponding Unicode characters.\n",
      " |  \n",
      " |  check_for_whole_start_tag(self, i)\n",
      " |      # Internal -- check to see if we have a complete starttag; return end\n",
      " |      # or -1 if incomplete.\n",
      " |  \n",
      " |  clear_cdata_mode(self)\n",
      " |  \n",
      " |  close(self)\n",
      " |      Handle any buffered data.\n",
      " |  \n",
      " |  feed(self, data)\n",
      " |      Feed data to the parser.\n",
      " |      \n",
      " |      Call this as often as you want, with as little or as much text\n",
      " |      as you want (may include '\\n').\n",
      " |  \n",
      " |  get_starttag_text(self)\n",
      " |      Return full source of start tag: '<...>'.\n",
      " |  \n",
      " |  goahead(self, end)\n",
      " |      # Internal -- handle data as far as reasonable.  May leave state\n",
      " |      # and data to be processed by a subsequent call.  If 'end' is\n",
      " |      # true, force handling all data as if followed by EOF marker.\n",
      " |  \n",
      " |  handle_charref(self, name)\n",
      " |      # Overridable -- handle character reference\n",
      " |  \n",
      " |  handle_comment(self, data)\n",
      " |      # Overridable -- handle comment\n",
      " |  \n",
      " |  handle_data(self, data)\n",
      " |      # Overridable -- handle data\n",
      " |  \n",
      " |  handle_decl(self, decl)\n",
      " |      # Overridable -- handle declaration\n",
      " |  \n",
      " |  handle_endtag(self, tag)\n",
      " |      # Overridable -- handle end tag\n",
      " |  \n",
      " |  handle_entityref(self, name)\n",
      " |      # Overridable -- handle entity reference\n",
      " |  \n",
      " |  handle_pi(self, data)\n",
      " |      # Overridable -- handle processing instruction\n",
      " |  \n",
      " |  handle_startendtag(self, tag, attrs)\n",
      " |      # Overridable -- finish processing of start+end tag: <tag.../>\n",
      " |  \n",
      " |  handle_starttag(self, tag, attrs)\n",
      " |      # Overridable -- handle start tag\n",
      " |  \n",
      " |  parse_bogus_comment(self, i, report=1)\n",
      " |      # Internal -- parse bogus comment, return length or -1 if not terminated\n",
      " |      # see http://www.w3.org/TR/html5/tokenization.html#bogus-comment-state\n",
      " |  \n",
      " |  parse_endtag(self, i)\n",
      " |      # Internal -- parse endtag, return end or -1 if incomplete\n",
      " |  \n",
      " |  parse_html_declaration(self, i)\n",
      " |      # Internal -- parse html declarations, return length or -1 if not terminated\n",
      " |      # See w3.org/TR/html5/tokenization.html#markup-declaration-open-state\n",
      " |      # See also parse_declaration in _markupbase\n",
      " |  \n",
      " |  parse_pi(self, i)\n",
      " |      # Internal -- parse processing instr, return end or -1 if not terminated\n",
      " |  \n",
      " |  parse_starttag(self, i)\n",
      " |      # Internal -- handle starttag, return end or -1 if not terminated\n",
      " |  \n",
      " |  reset(self)\n",
      " |      Reset this instance.  Loses all unprocessed data.\n",
      " |  \n",
      " |  set_cdata_mode(self, elem)\n",
      " |  \n",
      " |  unescape(self, s)\n",
      " |      # Internal -- helper to remove special character quoting\n",
      " |  \n",
      " |  unknown_decl(self, data)\n",
      " |  \n",
      " |  ----------------------------------------------------------------------\n",
      " |  Data and other attributes defined here:\n",
      " |  \n",
      " |  CDATA_CONTENT_ELEMENTS = ('script', 'style')\n",
      " |  \n",
      " |  ----------------------------------------------------------------------\n",
      " |  Methods inherited from _markupbase.ParserBase:\n",
      " |  \n",
      " |  error(self, message)\n",
      " |  \n",
      " |  getpos(self)\n",
      " |      Return current line number and offset.\n",
      " |  \n",
      " |  parse_comment(self, i, report=1)\n",
      " |      # Internal -- parse comment, return length or -1 if not terminated\n",
      " |  \n",
      " |  parse_declaration(self, i)\n",
      " |      # Internal -- parse declaration (for use by subclasses).\n",
      " |  \n",
      " |  parse_marked_section(self, i, report=1)\n",
      " |      # Internal -- parse a marked section\n",
      " |      # Override this to handle MS-word extension syntax <![if word]>content<![endif]>\n",
      " |  \n",
      " |  updatepos(self, i, j)\n",
      " |      # Internal -- update line number and offset.  This should be\n",
      " |      # called for each piece of data exactly once, in order -- in other\n",
      " |      # words the concatenation of all the input strings to this\n",
      " |      # function should be exactly the entire input.\n",
      " |  \n",
      " |  ----------------------------------------------------------------------\n",
      " |  Data descriptors inherited from _markupbase.ParserBase:\n",
      " |  \n",
      " |  __dict__\n",
      " |      dictionary for instance variables (if defined)\n",
      " |  \n",
      " |  __weakref__\n",
      " |      list of weak references to the object (if defined)\n",
      "\n"
     ]
    }
   ],
   "source": [
    "from html.parser import HTMLParser\n",
    "help(HTMLParser)"
   ]
  },
  {
   "cell_type": "code",
   "execution_count": 128,
   "id": "5ee1ce6a",
   "metadata": {},
   "outputs": [
    {
     "name": "stdout",
     "output_type": "stream",
     "text": [
      "['cliack', 'claick', 'claack', 'cliick']\n"
     ]
    }
   ],
   "source": [
    "from re import findall\n",
    "print(findall('cl[ia][ia]ck', 'click clack cliack claick claack cliick cl ck clck'))"
   ]
  },
  {
   "cell_type": "code",
   "execution_count": 129,
   "id": "3037c8b1",
   "metadata": {},
   "outputs": [
    {
     "name": "stdout",
     "output_type": "stream",
     "text": [
      "['click', 'clack']\n"
     ]
    }
   ],
   "source": [
    "print(findall('cl[ia]ck', 'click clack cliack claick claack cliick cl ck clck'))"
   ]
  },
  {
   "cell_type": "code",
   "execution_count": 130,
   "id": "c6f3a526",
   "metadata": {},
   "outputs": [
    {
     "name": "stdout",
     "output_type": "stream",
     "text": [
      "['click', 'clack', 'cliack', 'claick', 'claack', 'cliick', 'clck']\n"
     ]
    }
   ],
   "source": [
    "print(findall('cl[ia]?[ia]?ck', 'click clack cliack claick claack cliick cl ck clck'))"
   ]
  },
  {
   "cell_type": "code",
   "execution_count": 137,
   "id": "9e1837fe",
   "metadata": {},
   "outputs": [
    {
     "data": {
      "text/plain": [
       "['bat', 'baat', 'bit', 'bait', 'biat', 'biit']"
      ]
     },
     "execution_count": 137,
     "metadata": {},
     "output_type": "execute_result"
    }
   ],
   "source": [
    "templist = findall('b[ia][ia]?t', 'bt beet beeet bet bets b3t bat baat bite bait beit biat boat bot boot biit byte')\n",
    "templist"
   ]
  },
  {
   "cell_type": "code",
   "execution_count": 138,
   "id": "c1e1ebef",
   "metadata": {},
   "outputs": [
    {
     "data": {
      "text/plain": [
       "['beet', 'boot']"
      ]
     },
     "execution_count": 138,
     "metadata": {},
     "output_type": "execute_result"
    }
   ],
   "source": [
    "templist = findall('b[^ia][^ia]t', 'bt beet beeet bet bets b3t bat baat bite bait biat beit boat bot boot biit byte')\n",
    "templist"
   ]
  },
  {
   "cell_type": "code",
   "execution_count": 139,
   "id": "695ff44c",
   "metadata": {},
   "outputs": [],
   "source": [
    "templist = findall('be+t|b[h-p]t', 'bt beet beeet bet bets b3t bat baat bite bait biat beit boat bot boot biit byte')"
   ]
  },
  {
   "cell_type": "code",
   "execution_count": 140,
   "id": "3cd37e93",
   "metadata": {},
   "outputs": [
    {
     "data": {
      "text/plain": [
       "['beet', 'beeet', 'bet', 'bet', 'bit', 'bot']"
      ]
     },
     "execution_count": 140,
     "metadata": {},
     "output_type": "execute_result"
    }
   ],
   "source": [
    "templist"
   ]
  },
  {
   "cell_type": "code",
   "execution_count": 24,
   "id": "8b3a95a6",
   "metadata": {},
   "outputs": [],
   "source": [
    "from html.parser import HTMLParser\n",
    "class TheParser(HTMLParser):\n",
    "    def handle_endtag(self, tag):\n",
    "        if tag == 'title':\n",
    "            print('end of title')"
   ]
  },
  {
   "cell_type": "code",
   "execution_count": 25,
   "id": "6d07bd9f",
   "metadata": {},
   "outputs": [],
   "source": [
    "infile = open(\"w3c.html\")\n",
    "content = infile.read()\n",
    "infile.close()\n",
    "myparser = TheParser()"
   ]
  },
  {
   "cell_type": "code",
   "execution_count": 26,
   "id": "91b8e494",
   "metadata": {},
   "outputs": [
    {
     "name": "stdout",
     "output_type": "stream",
     "text": [
      "end of title\n"
     ]
    }
   ],
   "source": [
    "myparser.feed(content)"
   ]
  },
  {
   "cell_type": "code",
   "execution_count": 20,
   "id": "d6027366",
   "metadata": {},
   "outputs": [
    {
     "data": {
      "text/plain": [
       "'<html>\\n<head>\\n<title>W3C Mission Summary</title>\\n</head>\\n<body>\\n<h1>W3C Mission</h1>\\n<p>\\nThe W3C mission is to lead the World Wide Web to its full potential<br>\\nby developing protocols and guidelines that ensure the long-term growth of the Web.\\n</p>\\n<h2>Principles</h2>\\n<ul>\\n<li>Web for All</li>\\n<li>Web on Everything</li>\\n</ul>\\nSee the complete <a href=\"http://www.w3.org/Consortium/mission.html\">W3C Mission document</a>.\\n</body>\\n</html>\\n'"
      ]
     },
     "execution_count": 20,
     "metadata": {},
     "output_type": "execute_result"
    }
   ],
   "source": [
    "content"
   ]
  },
  {
   "cell_type": "code",
   "execution_count": 19,
   "id": "063ec9a0",
   "metadata": {},
   "outputs": [
    {
     "data": {
      "text/plain": [
       "['CDATA_CONTENT_ELEMENTS',\n",
       " '_HTMLParser__starttag_text',\n",
       " '__class__',\n",
       " '__delattr__',\n",
       " '__dict__',\n",
       " '__dir__',\n",
       " '__doc__',\n",
       " '__eq__',\n",
       " '__format__',\n",
       " '__ge__',\n",
       " '__getattribute__',\n",
       " '__gt__',\n",
       " '__hash__',\n",
       " '__init__',\n",
       " '__init_subclass__',\n",
       " '__le__',\n",
       " '__lt__',\n",
       " '__module__',\n",
       " '__ne__',\n",
       " '__new__',\n",
       " '__reduce__',\n",
       " '__reduce_ex__',\n",
       " '__repr__',\n",
       " '__setattr__',\n",
       " '__sizeof__',\n",
       " '__str__',\n",
       " '__subclasshook__',\n",
       " '__weakref__',\n",
       " '_decl_otherchars',\n",
       " '_parse_doctype_attlist',\n",
       " '_parse_doctype_element',\n",
       " '_parse_doctype_entity',\n",
       " '_parse_doctype_notation',\n",
       " '_parse_doctype_subset',\n",
       " '_scan_name',\n",
       " 'check_for_whole_start_tag',\n",
       " 'clear_cdata_mode',\n",
       " 'close',\n",
       " 'error',\n",
       " 'feed',\n",
       " 'get_starttag_text',\n",
       " 'getpos',\n",
       " 'goahead',\n",
       " 'handle_charref',\n",
       " 'handle_comment',\n",
       " 'handle_data',\n",
       " 'handle_decl',\n",
       " 'handle_endtag',\n",
       " 'handle_entityref',\n",
       " 'handle_pi',\n",
       " 'handle_startendtag',\n",
       " 'handle_starttag',\n",
       " 'parse_bogus_comment',\n",
       " 'parse_comment',\n",
       " 'parse_declaration',\n",
       " 'parse_endtag',\n",
       " 'parse_html_declaration',\n",
       " 'parse_marked_section',\n",
       " 'parse_pi',\n",
       " 'parse_starttag',\n",
       " 'reset',\n",
       " 'set_cdata_mode',\n",
       " 'unescape',\n",
       " 'unknown_decl',\n",
       " 'updatepos']"
      ]
     },
     "execution_count": 19,
     "metadata": {},
     "output_type": "execute_result"
    }
   ],
   "source": [
    "dir(TheParser)"
   ]
  },
  {
   "cell_type": "code",
   "execution_count": null,
   "id": "f72c8112",
   "metadata": {},
   "outputs": [],
   "source": []
  }
 ],
 "metadata": {
  "kernelspec": {
   "display_name": "Python 3",
   "language": "python",
   "name": "python3"
  },
  "language_info": {
   "codemirror_mode": {
    "name": "ipython",
    "version": 3
   },
   "file_extension": ".py",
   "mimetype": "text/x-python",
   "name": "python",
   "nbconvert_exporter": "python",
   "pygments_lexer": "ipython3",
   "version": "3.8.8"
  }
 },
 "nbformat": 4,
 "nbformat_minor": 5
}

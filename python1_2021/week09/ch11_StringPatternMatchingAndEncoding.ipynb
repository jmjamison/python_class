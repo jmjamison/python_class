{
 "cells": [
  {
   "cell_type": "code",
   "execution_count": 1,
   "id": "c7075b02",
   "metadata": {},
   "outputs": [],
   "source": [
    "# Section 11.3: String Pattern Matching (p. 387-392)\n",
    "# Section 6.3: Character Encodings and Strings (p. 181-186)"
   ]
  },
  {
   "cell_type": "code",
   "execution_count": 2,
   "id": "bad4b0a7",
   "metadata": {},
   "outputs": [],
   "source": [
    "content = b'This is a text document\\nposted on the\\nWWW.\\n'"
   ]
  },
  {
   "cell_type": "code",
   "execution_count": 3,
   "id": "ceba01fe",
   "metadata": {},
   "outputs": [
    {
     "data": {
      "text/plain": [
       "b'This is a text document\\nposted on the\\nWWW.\\n'"
      ]
     },
     "execution_count": 3,
     "metadata": {},
     "output_type": "execute_result"
    }
   ],
   "source": [
    "content"
   ]
  },
  {
   "cell_type": "code",
   "execution_count": 4,
   "id": "226fa1d7",
   "metadata": {},
   "outputs": [
    {
     "data": {
      "text/plain": [
       "bytes"
      ]
     },
     "execution_count": 4,
     "metadata": {},
     "output_type": "execute_result"
    }
   ],
   "source": [
    "type(content)"
   ]
  },
  {
   "cell_type": "code",
   "execution_count": 5,
   "id": "87af9869",
   "metadata": {},
   "outputs": [
    {
     "data": {
      "text/plain": [
       "'This is a text document\\nposted on the\\nWWW.\\n'"
      ]
     },
     "execution_count": 5,
     "metadata": {},
     "output_type": "execute_result"
    }
   ],
   "source": [
    "content.decode('utf-8')"
   ]
  },
  {
   "cell_type": "code",
   "execution_count": 10,
   "id": "285e1da2",
   "metadata": {},
   "outputs": [
    {
     "data": {
      "text/plain": [
       "61"
      ]
     },
     "execution_count": 10,
     "metadata": {},
     "output_type": "execute_result"
    }
   ],
   "source": [
    "ord('=')"
   ]
  },
  {
   "cell_type": "code",
   "execution_count": 15,
   "id": "baac49a6",
   "metadata": {},
   "outputs": [
    {
     "data": {
      "text/plain": [
       "'1101111'"
      ]
     },
     "execution_count": 15,
     "metadata": {},
     "output_type": "execute_result"
    }
   ],
   "source": [
    "'{:b}'.format(111)"
   ]
  },
  {
   "cell_type": "code",
   "execution_count": 19,
   "id": "ddcd7e84",
   "metadata": {},
   "outputs": [
    {
     "data": {
      "text/plain": [
       "'100100'"
      ]
     },
     "execution_count": 19,
     "metadata": {},
     "output_type": "execute_result"
    }
   ],
   "source": [
    "'{:b}'.format(ord('$'))"
   ]
  },
  {
   "cell_type": "code",
   "execution_count": 24,
   "id": "a2f4d7f8",
   "metadata": {},
   "outputs": [
    {
     "data": {
      "text/plain": [
       "'2a'"
      ]
     },
     "execution_count": 24,
     "metadata": {},
     "output_type": "execute_result"
    }
   ],
   "source": [
    "'{:x}'.format(ord('*'))"
   ]
  },
  {
   "cell_type": "code",
   "execution_count": 1,
   "id": "856e56f4",
   "metadata": {},
   "outputs": [],
   "source": [
    "from re import findall\n",
    "\n",
    "btstring = 'bt beet beeet bet bets b3t bat baat bite bait biat beit boat bot boot biit byte'\n",
    "strlist = findall('bo+t', btstring)\n"
   ]
  },
  {
   "cell_type": "code",
   "execution_count": 2,
   "id": "574cc9ec",
   "metadata": {},
   "outputs": [
    {
     "data": {
      "text/plain": [
       "['bot', 'boot']"
      ]
     },
     "execution_count": 2,
     "metadata": {},
     "output_type": "execute_result"
    }
   ],
   "source": [
    "strlist"
   ]
  },
  {
   "cell_type": "code",
   "execution_count": 3,
   "id": "34248a23",
   "metadata": {},
   "outputs": [],
   "source": [
    "btstring = 'bt beet beeet bet bets b3t bat baat bite bait biat beit boat bot boot biit byte'\n",
    "strlist = findall('b[oe]?[ia]t', btstring)"
   ]
  },
  {
   "cell_type": "code",
   "execution_count": 4,
   "id": "0fb91c8e",
   "metadata": {},
   "outputs": [
    {
     "data": {
      "text/plain": [
       "['bat', 'bit', 'beit', 'boat']"
      ]
     },
     "execution_count": 4,
     "metadata": {},
     "output_type": "execute_result"
    }
   ],
   "source": [
    "strlist"
   ]
  },
  {
   "cell_type": "code",
   "execution_count": 5,
   "id": "b6630c65",
   "metadata": {},
   "outputs": [],
   "source": [
    "btstring = 'bt beet beeet bet bets b3t bat baat bite bait biat beit boat bot boot biit byte'\n",
    "strlist = findall('b[^a-h]?[b-s]t', btstring)"
   ]
  },
  {
   "cell_type": "code",
   "execution_count": 6,
   "id": "6223ae1c",
   "metadata": {},
   "outputs": [
    {
     "data": {
      "text/plain": [
       "['bet', 'bet', 'bit', 'bot', 'boot', 'biit']"
      ]
     },
     "execution_count": 6,
     "metadata": {},
     "output_type": "execute_result"
    }
   ],
   "source": [
    "strlist"
   ]
  },
  {
   "cell_type": "code",
   "execution_count": 7,
   "id": "c2fba71e",
   "metadata": {},
   "outputs": [],
   "source": [
    "btstring = 'bt beet beeet bet bets b3t bat baat bite bait biat beit boat bot boot biit byte'\n",
    "strlist = findall('b[oa]t|be+t', btstring)"
   ]
  },
  {
   "cell_type": "code",
   "execution_count": 8,
   "id": "e0ef2ea3",
   "metadata": {},
   "outputs": [
    {
     "data": {
      "text/plain": [
       "['beet', 'beeet', 'bet', 'bet', 'bat', 'bot']"
      ]
     },
     "execution_count": 8,
     "metadata": {},
     "output_type": "execute_result"
    }
   ],
   "source": [
    "strlist"
   ]
  },
  {
   "cell_type": "code",
   "execution_count": 14,
   "id": "4ea67258",
   "metadata": {},
   "outputs": [
    {
     "data": {
      "text/plain": [
       "94"
      ]
     },
     "execution_count": 14,
     "metadata": {},
     "output_type": "execute_result"
    }
   ],
   "source": [
    "ord('^')"
   ]
  },
  {
   "cell_type": "code",
   "execution_count": 18,
   "id": "60ecbf8e",
   "metadata": {},
   "outputs": [
    {
     "data": {
      "text/plain": [
       "'101010'"
      ]
     },
     "execution_count": 18,
     "metadata": {},
     "output_type": "execute_result"
    }
   ],
   "source": [
    "'{:b}'.format(42)"
   ]
  },
  {
   "cell_type": "code",
   "execution_count": 22,
   "id": "29df81a3",
   "metadata": {},
   "outputs": [
    {
     "data": {
      "text/plain": [
       "'6a'"
      ]
     },
     "execution_count": 22,
     "metadata": {},
     "output_type": "execute_result"
    }
   ],
   "source": [
    "'{:x}'.format(ord('j'))"
   ]
  },
  {
   "cell_type": "code",
   "execution_count": 26,
   "id": "f75f365a",
   "metadata": {},
   "outputs": [
    {
     "data": {
      "text/plain": [
       "'100101'"
      ]
     },
     "execution_count": 26,
     "metadata": {},
     "output_type": "execute_result"
    }
   ],
   "source": [
    "'{:b}'.format(ord('%'))"
   ]
  },
  {
   "cell_type": "code",
   "execution_count": 27,
   "id": "65070d78",
   "metadata": {},
   "outputs": [
    {
     "name": "stdout",
     "output_type": "stream",
     "text": [
      "Γ\n"
     ]
    }
   ],
   "source": [
    "print('\\u0393')"
   ]
  },
  {
   "cell_type": "code",
   "execution_count": null,
   "id": "246d93e8",
   "metadata": {},
   "outputs": [],
   "source": []
  }
 ],
 "metadata": {
  "kernelspec": {
   "display_name": "Python 3",
   "language": "python",
   "name": "python3"
  },
  "language_info": {
   "codemirror_mode": {
    "name": "ipython",
    "version": 3
   },
   "file_extension": ".py",
   "mimetype": "text/x-python",
   "name": "python",
   "nbconvert_exporter": "python",
   "pygments_lexer": "ipython3",
   "version": "3.8.8"
  }
 },
 "nbformat": 4,
 "nbformat_minor": 5
}

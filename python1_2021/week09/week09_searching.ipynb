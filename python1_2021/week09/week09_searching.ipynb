{
 "cells": [
  {
   "cell_type": "code",
   "execution_count": 1,
   "id": "962b64fd",
   "metadata": {},
   "outputs": [],
   "source": [
    "# searching:  Section 10.4: Searching (p. 354-360)"
   ]
  },
  {
   "cell_type": "code",
   "execution_count": 4,
   "id": "1f3d0fa6",
   "metadata": {},
   "outputs": [],
   "source": [
    "import random\n",
    "lst = random.sample(range(1,1000), 17)"
   ]
  },
  {
   "cell_type": "code",
   "execution_count": 5,
   "id": "f38f64b2",
   "metadata": {},
   "outputs": [
    {
     "data": {
      "text/plain": [
       "[746,\n",
       " 899,\n",
       " 580,\n",
       " 340,\n",
       " 970,\n",
       " 359,\n",
       " 954,\n",
       " 650,\n",
       " 45,\n",
       " 456,\n",
       " 619,\n",
       " 83,\n",
       " 738,\n",
       " 618,\n",
       " 804,\n",
       " 424,\n",
       " 597]"
      ]
     },
     "execution_count": 5,
     "metadata": {},
     "output_type": "execute_result"
    }
   ],
   "source": [
    "lst"
   ]
  },
  {
   "cell_type": "code",
   "execution_count": 6,
   "id": "9e524071",
   "metadata": {},
   "outputs": [
    {
     "data": {
      "text/plain": [
       "True"
      ]
     },
     "execution_count": 6,
     "metadata": {},
     "output_type": "execute_result"
    }
   ],
   "source": [
    "83 in lst"
   ]
  },
  {
   "cell_type": "code",
   "execution_count": 7,
   "id": "a1830d36",
   "metadata": {},
   "outputs": [
    {
     "data": {
      "text/plain": [
       "False"
      ]
     },
     "execution_count": 7,
     "metadata": {},
     "output_type": "execute_result"
    }
   ],
   "source": [
    "75 in lst"
   ]
  },
  {
   "cell_type": "code",
   "execution_count": 8,
   "id": "362c0802",
   "metadata": {},
   "outputs": [
    {
     "data": {
      "text/plain": [
       "11"
      ]
     },
     "execution_count": 8,
     "metadata": {},
     "output_type": "execute_result"
    }
   ],
   "source": [
    "lst.index(83)"
   ]
  },
  {
   "cell_type": "code",
   "execution_count": 10,
   "id": "ec752299",
   "metadata": {},
   "outputs": [],
   "source": [
    "lst.sort()"
   ]
  },
  {
   "cell_type": "code",
   "execution_count": 11,
   "id": "132c914a",
   "metadata": {},
   "outputs": [
    {
     "data": {
      "text/plain": [
       "[45,\n",
       " 83,\n",
       " 340,\n",
       " 359,\n",
       " 424,\n",
       " 456,\n",
       " 580,\n",
       " 597,\n",
       " 618,\n",
       " 619,\n",
       " 650,\n",
       " 738,\n",
       " 746,\n",
       " 804,\n",
       " 899,\n",
       " 954,\n",
       " 970]"
      ]
     },
     "execution_count": 11,
     "metadata": {},
     "output_type": "execute_result"
    }
   ],
   "source": [
    "lst"
   ]
  },
  {
   "cell_type": "code",
   "execution_count": 12,
   "id": "e6b65235",
   "metadata": {},
   "outputs": [
    {
     "data": {
      "text/plain": [
       "1"
      ]
     },
     "execution_count": 12,
     "metadata": {},
     "output_type": "execute_result"
    }
   ],
   "source": [
    "lst.index(83)"
   ]
  },
  {
   "cell_type": "code",
   "execution_count": 5,
   "id": "17176d5b",
   "metadata": {},
   "outputs": [],
   "source": [
    "def search(lst, target, i, j):\n",
    "    '''\n",
    "    attempts to find target in sorted sublist lst[i:j];\n",
    "     index of target is returned if found, -1 otherwise\n",
    "     '''\n",
    "    if i == j:   # empty, can't be in list\n",
    "        #print(\"empty\")\n",
    "        return -1\n",
    "    \n",
    "    mid = (i+j)//2 # index of the mid point\n",
    "    \n",
    "    if lst[mid] == target:   # luck, target is in the middle\n",
    "        #print(\"search middle\")\n",
    "        return mid\n",
    "    \n",
    "    if target < lst[mid]: # look left of middle\n",
    "        #print(\"search left\")\n",
    "        return search(lst, target, i, mid)\n",
    "    \n",
    "    else:   # search right of the middle\n",
    "        #print('search right')\n",
    "        return search(lst, target, mid+1, j)"
   ]
  },
  {
   "cell_type": "code",
   "execution_count": 6,
   "id": "eddce40d",
   "metadata": {},
   "outputs": [],
   "source": [
    "veglist = ['celery', 'corn', 'daikon', 'eggplant', 'jicama', 'kale', 'leek', 'mushroom', 'okra', 'onion', 'parsnip', 'potato', 'pumpkin', 'radish', 'spinach']"
   ]
  },
  {
   "cell_type": "code",
   "execution_count": 8,
   "id": "9834df44",
   "metadata": {},
   "outputs": [
    {
     "name": "stdout",
     "output_type": "stream",
     "text": [
      "search right\n",
      "search middle\n"
     ]
    },
    {
     "data": {
      "text/plain": [
       "11"
      ]
     },
     "execution_count": 8,
     "metadata": {},
     "output_type": "execute_result"
    }
   ],
   "source": [
    "search(veglist, 'potato', 0, len(veglist))"
   ]
  },
  {
   "cell_type": "code",
   "execution_count": null,
   "id": "a8a2c1a5",
   "metadata": {},
   "outputs": [],
   "source": []
  }
 ],
 "metadata": {
  "kernelspec": {
   "display_name": "Python 3",
   "language": "python",
   "name": "python3"
  },
  "language_info": {
   "codemirror_mode": {
    "name": "ipython",
    "version": 3
   },
   "file_extension": ".py",
   "mimetype": "text/x-python",
   "name": "python",
   "nbconvert_exporter": "python",
   "pygments_lexer": "ipython3",
   "version": "3.8.8"
  }
 },
 "nbformat": 4,
 "nbformat_minor": 5
}

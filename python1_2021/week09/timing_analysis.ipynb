{
 "cells": [
  {
   "cell_type": "code",
   "execution_count": 9,
   "id": "d9a8916b",
   "metadata": {},
   "outputs": [],
   "source": [
    "def countdown_loop(n):\n",
    "    for i in range(n, -1, -1):\n",
    "        print(i)"
   ]
  },
  {
   "cell_type": "code",
   "execution_count": 10,
   "id": "1976becd",
   "metadata": {},
   "outputs": [
    {
     "name": "stdout",
     "output_type": "stream",
     "text": [
      "5\n",
      "4\n",
      "3\n",
      "2\n",
      "1\n",
      "0\n"
     ]
    }
   ],
   "source": [
    "countdown_loop(5)"
   ]
  },
  {
   "cell_type": "code",
   "execution_count": 11,
   "id": "6634678a",
   "metadata": {},
   "outputs": [],
   "source": [
    "def countdown_recur(n):\n",
    "    print(n)\n",
    "    if n == 0:\n",
    "        return 0\n",
    "    return countdown_recur(n - 1)"
   ]
  },
  {
   "cell_type": "code",
   "execution_count": 7,
   "id": "ce2020bf",
   "metadata": {},
   "outputs": [
    {
     "name": "stdout",
     "output_type": "stream",
     "text": [
      "0\n"
     ]
    },
    {
     "data": {
      "text/plain": [
       "0"
      ]
     },
     "execution_count": 7,
     "metadata": {},
     "output_type": "execute_result"
    }
   ],
   "source": [
    "countdown_recur(0)"
   ]
  },
  {
   "cell_type": "code",
   "execution_count": 8,
   "id": "24cdd0aa",
   "metadata": {},
   "outputs": [],
   "source": [
    "def timingAnalysis(func, start, stop, inc, runs):\n",
    "    '''prints average run-times of function func on inputs of\n",
    "       size start, start+inc, start+2*inc, ..., up to stop'''\n",
    "\n",
    "    for n in range(start, stop, inc):  # for every input size n\n",
    "        acc=0.0                        # initialize accumulator\n",
    "\n",
    "        for i in range(runs):       # repeat runs times:\n",
    "            acc += timing(func, n)      # run func on input of size n\n",
    "                                        # and accumulate run-times\n",
    "        # print average run times for input size n\n",
    "        formatStr = 'Run-time of {}({}) is {:.7f} seconds.'\n",
    "        print(formatStr.format(func.__name__, n, acc/runs))"
   ]
  },
  {
   "cell_type": "code",
   "execution_count": 13,
   "id": "e8ef0735",
   "metadata": {},
   "outputs": [],
   "source": [
    "timingAnalysis(countdown_loop, 992, 0, 1, 10)"
   ]
  },
  {
   "cell_type": "code",
   "execution_count": 14,
   "id": "69abf3c1",
   "metadata": {},
   "outputs": [],
   "source": [
    "timingAnalysis(countdown_recur, 992, 0, 1, 10)"
   ]
  },
  {
   "cell_type": "code",
   "execution_count": null,
   "id": "bce37b5c",
   "metadata": {},
   "outputs": [],
   "source": []
  }
 ],
 "metadata": {
  "kernelspec": {
   "display_name": "Python 3",
   "language": "python",
   "name": "python3"
  },
  "language_info": {
   "codemirror_mode": {
    "name": "ipython",
    "version": 3
   },
   "file_extension": ".py",
   "mimetype": "text/x-python",
   "name": "python",
   "nbconvert_exporter": "python",
   "pygments_lexer": "ipython3",
   "version": "3.8.8"
  }
 },
 "nbformat": 4,
 "nbformat_minor": 5
}

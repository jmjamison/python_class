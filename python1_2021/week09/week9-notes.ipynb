{
 "cells": [
  {
   "cell_type": "code",
   "execution_count": null,
   "id": "0e5a2a49",
   "metadata": {},
   "outputs": [],
   "source": [
    "# run-time analysis, Section 10.3: Run Time Analysis (p. 347-353)\n",
    "#  efficiency"
   ]
  },
  {
   "cell_type": "code",
   "execution_count": null,
   "id": "f75772c9",
   "metadata": {},
   "outputs": [],
   "source": [
    "def power(a, n):\n",
    "    'returns a to the nth power'\n",
    "    res = 1\n",
    "    for i in range(n):\n",
    "        res *= a\n",
    "    return res"
   ]
  },
  {
   "cell_type": "code",
   "execution_count": null,
   "id": "62ff0b77",
   "metadata": {},
   "outputs": [],
   "source": [
    "power(2,4)"
   ]
  },
  {
   "cell_type": "code",
   "execution_count": null,
   "id": "236192fc",
   "metadata": {},
   "outputs": [],
   "source": [
    "2**4"
   ]
  },
  {
   "cell_type": "code",
   "execution_count": null,
   "id": "9d62134d",
   "metadata": {},
   "outputs": [],
   "source": [
    "def rpower(a, n):\n",
    "    'returns a th the nth power'\n",
    "    if n == 0:\n",
    "        return 1\n",
    "    \n",
    "    tmp = rpower(a, n//2)\n",
    "    \n",
    "    if n % 2 == 0:\n",
    "        return tmp*tmp\n",
    "    else: # n % 2 == 1\n",
    "        return a*tmp*tmp"
   ]
  },
  {
   "cell_type": "code",
   "execution_count": null,
   "id": "26ee5aa5",
   "metadata": {},
   "outputs": [],
   "source": [
    "rpower(2, 4)"
   ]
  },
  {
   "cell_type": "code",
   "execution_count": null,
   "id": "21c9e71f",
   "metadata": {},
   "outputs": [],
   "source": [
    "# count operations\n",
    "def rpower(a, n):\n",
    "    'returns a th the nth power'\n",
    "    global counter   # counts number of multiplications\n",
    "    \n",
    "    if n == 0:\n",
    "        return 1\n",
    "    \n",
    "    tmp = rpower(a, n//2)\n",
    "    \n",
    "    if n % 2 == 0:\n",
    "        counter += 1\n",
    "        return tmp*tmp\n",
    "    else: # n % 2 == 1\n",
    "        counter += 2\n",
    "        return a*tmp*tmp"
   ]
  },
  {
   "cell_type": "code",
   "execution_count": null,
   "id": "a7936240",
   "metadata": {},
   "outputs": [],
   "source": [
    "counter = 0"
   ]
  },
  {
   "cell_type": "code",
   "execution_count": null,
   "id": "e3592fb7",
   "metadata": {},
   "outputs": [],
   "source": [
    "rpower(2, 10000)"
   ]
  },
  {
   "cell_type": "code",
   "execution_count": null,
   "id": "9945ae03",
   "metadata": {},
   "outputs": [],
   "source": [
    "counter"
   ]
  },
  {
   "cell_type": "code",
   "execution_count": null,
   "id": "2df8fcd4",
   "metadata": {},
   "outputs": [],
   "source": [
    "def countdown_loop(n):\n",
    "    for i in range(n, -1, -1):\n",
    "        print(i)"
   ]
  },
  {
   "cell_type": "code",
   "execution_count": null,
   "id": "62338c5f",
   "metadata": {},
   "outputs": [],
   "source": [
    "countdown_loop(5)"
   ]
  },
  {
   "cell_type": "code",
   "execution_count": null,
   "id": "63b09f9e",
   "metadata": {},
   "outputs": [],
   "source": [
    "def countdown_recur(n):\n",
    "    print(n)\n",
    "    if n == 0:\n",
    "        return 0\n",
    "    return countdown_recur(n - 1)"
   ]
  },
  {
   "cell_type": "code",
   "execution_count": null,
   "id": "97dc84a3",
   "metadata": {},
   "outputs": [],
   "source": [
    "countdown_recur(0)"
   ]
  },
  {
   "cell_type": "code",
   "execution_count": null,
   "id": "b765ccc8",
   "metadata": {},
   "outputs": [],
   "source": [
    "import time\n",
    "\n",
    "def countdown_loop(n):\n",
    "    for i in range(1, n+1):\n",
    "        print(formatStr.format(func.__name__, n, acc/runs))\n",
    "        \n",
    "def countdown_recur(n):\n",
    "    if n>2:\n",
    "        count(n-1)\n",
    "    print(formatStr.format(func.__name__, n, acc/runs))"
   ]
  },
  {
   "cell_type": "code",
   "execution_count": null,
   "id": "8567589c",
   "metadata": {},
   "outputs": [],
   "source": [
    "start1 = time.time()\n",
    "stop1 = time.time()"
   ]
  },
  {
   "cell_type": "raw",
   "id": "af5c1afc",
   "metadata": {},
   "source": [
    "def timingAnalysis(func, start, stop, inc, runs):\n",
    "    '''prints average run-times of function func on inputs of\n",
    "       size start, start+inc, start+2*inc, ..., up to stop'''\n",
    "\n",
    "    for n in range(start, stop, inc):  # for every input size n\n",
    "        acc=0.0                        # initialize accumulator\n",
    "\n",
    "        for i in range(runs):       # repeat runs times:\n",
    "            acc += timing(func, n)      # run func on input of size n\n",
    "                                        # and accumulate run-times\n",
    "        # print average run times for input size n\n",
    "        formatStr = 'Run-time of {}({}) is {:.7f} seconds.'\n",
    "        print(formatStr.format(func.__name__, n, acc/runs))"
   ]
  },
  {
   "cell_type": "code",
   "execution_count": 1,
   "id": "8aa87ddf",
   "metadata": {},
   "outputs": [
    {
     "ename": "NameError",
     "evalue": "name 'timingAnalysis' is not defined",
     "output_type": "error",
     "traceback": [
      "\u001b[1;31m---------------------------------------------------------------------------\u001b[0m",
      "\u001b[1;31mNameError\u001b[0m                                 Traceback (most recent call last)",
      "\u001b[1;32m<ipython-input-1-54698a25e6fa>\u001b[0m in \u001b[0;36m<module>\u001b[1;34m\u001b[0m\n\u001b[1;32m----> 1\u001b[1;33m \u001b[0mtimingAnalysis\u001b[0m\u001b[1;33m(\u001b[0m\u001b[0mcountdown_loop\u001b[0m\u001b[1;33m,\u001b[0m \u001b[1;36m992\u001b[0m\u001b[1;33m,\u001b[0m \u001b[1;36m0\u001b[0m\u001b[1;33m,\u001b[0m \u001b[1;36m1\u001b[0m\u001b[1;33m,\u001b[0m \u001b[1;36m10\u001b[0m\u001b[1;33m)\u001b[0m\u001b[1;33m\u001b[0m\u001b[1;33m\u001b[0m\u001b[0m\n\u001b[0m",
      "\u001b[1;31mNameError\u001b[0m: name 'timingAnalysis' is not defined"
     ]
    }
   ],
   "source": [
    "timingAnalysis(countdown_loop, 992, 0, 1, 10)"
   ]
  },
  {
   "cell_type": "code",
   "execution_count": null,
   "id": "d79ddb59",
   "metadata": {},
   "outputs": [],
   "source": []
  }
 ],
 "metadata": {
  "kernelspec": {
   "display_name": "Python 3",
   "language": "python",
   "name": "python3"
  },
  "language_info": {
   "codemirror_mode": {
    "name": "ipython",
    "version": 3
   },
   "file_extension": ".py",
   "mimetype": "text/x-python",
   "name": "python",
   "nbconvert_exporter": "python",
   "pygments_lexer": "ipython3",
   "version": "3.8.8"
  }
 },
 "nbformat": 4,
 "nbformat_minor": 5
}

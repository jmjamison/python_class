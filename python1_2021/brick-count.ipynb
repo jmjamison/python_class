{
 "cells": [
  {
   "cell_type": "code",
   "execution_count": null,
   "id": "8255fde0",
   "metadata": {},
   "outputs": [],
   "source": [
    "'''\n",
    "We want to make a row of bricks that is goal inches long. \n",
    "We have a number of small bricks (1 inch each) and big bricks (5 inches each). \n",
    "Return True if it is possible to make the goal by choosing from the given bricks. \n",
    "This is a little harder than it looks and can be done without any loops. \n",
    "\n",
    "\n",
    "\n",
    "make_bricks(3, 1, 8) → True\n",
    "make_bricks(3, 1, 9) → False\n",
    "make_bricks(3, 2, 10) → True\n",
    "'''"
   ]
  },
  {
   "cell_type": "code",
   "execution_count": null,
   "id": "5eae0b94",
   "metadata": {},
   "outputs": [],
   "source": [
    "def make_bricks(number_small, number_large, goal):\n",
    "    \n",
    "    small_size = 1\n",
    "    large_size = 5\n",
    "    large_bricks_used = 0\n",
    "    small_bricks_used = 0\n",
    "    space_used = 0\n",
    "    print(space_used)\n",
    "    \n",
    "    print(number_large)\n",
    "    print(large_bricks_used)\n",
    "    print(\"Goal: \", goal)\n",
    "    \n",
    "    while large_bricks_used <= number_large:\n",
    "        while space_used <= goal:\n",
    "            print(\"large bricks used: \", large_bricks_used)\n",
    "            print(\"Space left: \", space_used)\n",
    "            large_bricks_used += 1\n",
    "            space_used += large_size\n",
    "            \n",
    "    while small_bricks_used <= number_small:\n",
    "        while space_used <= goal:\n",
    "            print(\"small bricks used: \", small_bricks_used)\n",
    "            print(\"Space left: \", space_used)\n",
    "            small_bricks_used += 1\n",
    "            space_used += small_size        "
   ]
  },
  {
   "cell_type": "code",
   "execution_count": null,
   "id": "062f536b",
   "metadata": {},
   "outputs": [],
   "source": [
    "make_bricks(3,1,8)"
   ]
  },
  {
   "cell_type": "code",
   "execution_count": null,
   "id": "2455d713",
   "metadata": {},
   "outputs": [],
   "source": [
    "make_bricks(3,1,9)"
   ]
  },
  {
   "cell_type": "code",
   "execution_count": null,
   "id": "6c2e2303",
   "metadata": {},
   "outputs": [],
   "source": [
    "make_bricks(3,2,10)"
   ]
  },
  {
   "cell_type": "code",
   "execution_count": null,
   "id": "5ad8ecac",
   "metadata": {},
   "outputs": [],
   "source": [
    "make_bricks(3,2,10)"
   ]
  },
  {
   "cell_type": "code",
   "execution_count": null,
   "id": "63086718",
   "metadata": {},
   "outputs": [],
   "source": []
  },
  {
   "cell_type": "code",
   "execution_count": null,
   "id": "8bba6308",
   "metadata": {},
   "outputs": [],
   "source": []
  }
 ],
 "metadata": {
  "kernelspec": {
   "display_name": "Python 3",
   "language": "python",
   "name": "python3"
  },
  "language_info": {
   "codemirror_mode": {
    "name": "ipython",
    "version": 3
   },
   "file_extension": ".py",
   "mimetype": "text/x-python",
   "name": "python",
   "nbconvert_exporter": "python",
   "pygments_lexer": "ipython3",
   "version": "3.8.8"
  }
 },
 "nbformat": 4,
 "nbformat_minor": 5
}

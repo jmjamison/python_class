{
 "cells": [
  {
   "cell_type": "code",
   "execution_count": null,
   "id": "7a75c012",
   "metadata": {},
   "outputs": [],
   "source": [
    "'''\n",
    "File Name: module3.py\n",
    "Agenda\n",
    "1. Individual Programming 2 (borderline grades - dropping the lowest individual programming score -- by week)\n",
    "2. Nested for loops\n",
    "3. 2D lists\n",
    "4. While loops\n",
    "5. break, pass, continue\n",
    "6. Dictionaries\n",
    "7. Sets\n",
    "8. Random module\n",
    "'''\n",
    "\n",
    "import random\n",
    "\n",
    "\n",
    "\n",
    "########## Individual Programming 2 ##########\n",
    "\n",
    "def intoft(inches):\n",
    "    inches = int(inches)\n",
    "    feet = inches//12\n",
    "    remainder = inches % 12\n",
    "    return str(feet) + \"'\" + str(remainder) + '\"'\n",
    "\n",
    "try:\n",
    "    filename = input(\"What is the file name? \")\n",
    "    infile = open(filename)\n",
    "except IOError:\n",
    "    filename = input(\"Invalid file. What is the file name? \")\n",
    "    infile = open(filename)\n",
    "\n",
    "infile.readline()       ## skip over the first header line\n",
    "content = infile.readlines()\n",
    "infile.close()\n",
    "\n",
    "## Generating separate lists of person info\n",
    "firstlist = []\n",
    "lastlist = []\n",
    "agelist = []\n",
    "occlist = []\n",
    "htlist = []\n",
    "wtlist = []\n",
    "sedentarylist =[]\n",
    "moderatelist = []\n",
    "activelist =[]\n",
    "\n",
    "## Storing existing person info in separate lists\n",
    "for person in content:\n",
    "    person = person.replace('\\n','')\n",
    "    detail = person.split(',')\n",
    "    firstlist.append(detail[0])\n",
    "    lastlist.append(detail[1])\n",
    "    agelist.append(detail[2])\n",
    "    occlist.append(detail[3])\n",
    "    htlist.append(detail[4])\n",
    "    wtlist.append(detail[5])\n",
    "    sedentarylist.append(detail[6])\n",
    "    moderatelist.append(detail[7])\n",
    "    activelist.append(detail[8])\n",
    "\n",
    "## Ask for additional person info (if any)\n",
    "addmore = input('Is there anyone else you would like to add? (Y/N) ')\n",
    "if addmore == 'Y' or addmore == 'y':\n",
    "    numadd = int(input('How many? '))\n",
    "    for i in range(numadd):\n",
    "        print('----- Person', i+1, '-----')\n",
    "        first = input('First name: ')\n",
    "        last = input('Last name: ')\n",
    "        age = input(\"Age: \")\n",
    "        occ = input(\"Occupation: \")\n",
    "        ht = input(\"Height: \")\n",
    "        wt = input(\"Weight: \")\n",
    "        activity = input(\"Activity level (1-sedentary, 2-moderate, 3-active): \")\n",
    "\n",
    "        ## Before exiting the loop, we need to save this person's info into our lists\n",
    "        firstlist.append(first)\n",
    "        lastlist.append(last)\n",
    "        agelist.append(age)\n",
    "        occlist.append(occ)\n",
    "        htlist.append(ht)\n",
    "        wtlist.append(wt)\n",
    "\n",
    "        ## Address different activity levels in lists\n",
    "        if activity == '1':\n",
    "            sedentarylist.append('x')\n",
    "            moderatelist.append('')\n",
    "            activelist.append('')\n",
    "        elif activity == '2':\n",
    "            sedentarylist.append('')\n",
    "            moderatelist.append('x')\n",
    "            activelist.append('')\n",
    "        elif activity == '3':\n",
    "            sedentarylist.append('')\n",
    "            moderatelist.append('')\n",
    "            activelist.append('x')\n",
    "        else:\n",
    "            sedentarylist.append('')\n",
    "            moderatelist.append('')\n",
    "            activelist.append('')\n",
    "\n",
    "## obtaining new file name for output file\n",
    "filename = input('What is the output file? ')\n",
    "outfile = open(filename, 'w')\n",
    "\n",
    "## header row\n",
    "outfile.write('{:12} {:12} {:3} {:12} {:5} {:5} {:10}\\n'.format('first', 'last', 'age', 'occupation', 'ht', 'wt', 'activity'))\n",
    "\n",
    "## write individual info\n",
    "for i in range(len(firstlist)):\n",
    "    if sedentarylist[i] == 'x':\n",
    "        outfile.write('{:12} {:12} {:3} {:12} {:5} {:5} {:10}\\n'.format(firstlist[i], lastlist[i], agelist[i], occlist[i], intoft(htlist[i]), wtlist[i], 'sedentary'))\n",
    "    elif moderatelist[i] == 'x':\n",
    "        outfile.write('{:12} {:12} {:3} {:12} {:5} {:5} {:10}\\n'.format(firstlist[i], lastlist[i], agelist[i], occlist[i], intoft(htlist[i]), wtlist[i], 'moderate'))\n",
    "    elif activelist[i] == 'x':\n",
    "        outfile.write('{:12} {:12} {:3} {:12} {:5} {:5} {:10}\\n'.format(firstlist[i], lastlist[i], agelist[i], occlist[i], intoft(htlist[i]), wtlist[i], 'active'))\n",
    "    else:\n",
    "        outfile.write('{:12} {:12} {:3} {:12} {:5} {:5} {:10}\\n'.format(firstlist[i], lastlist[i], agelist[i], occlist[i], intoft(htlist[i]), wtlist[i], 'N/A'))\n",
    "\n",
    "outfile.close()"
   ]
  },
  {
   "cell_type": "code",
   "execution_count": null,
   "id": "7e19d724",
   "metadata": {},
   "outputs": [],
   "source": [
    "######### Nested for loops ##########\n",
    "\n",
    "## Task: write a function that prints the factorial of all numbers up to n\n",
    "\n",
    "def factorial(factorn):\n",
    "    '''print factorial of all numbers up to n'''\n",
    "    for i in range(1, factorn + 1):         # 1         2           3           4\n",
    "        currentnum = 1                      # 1         1           1           1\n",
    "        for j in range(2, i + 1):           # never     j = 2       j = 2, 3    j = 2, 3, 4\n",
    "            currentnum = currentnum * j     #           1 * 2       1 * 2 * 3   1 * 2 * 3 * 4\n",
    "        print(currentnum)                   # print(1)  print(2)    print(6)    print(24)\n",
    "\n",
    "factorial(4)\n",
    "print()\n",
    "factorial(12)"
   ]
  },
  {
   "cell_type": "code",
   "execution_count": null,
   "id": "2b82faaa",
   "metadata": {},
   "outputs": [],
   "source": [
    "## Task: write a function that takes two lists of numbers and returns a list\n",
    "## containing all possible sums of numbers from the two lists\n",
    "\n",
    "a = [3, 15, 44]\n",
    "b = [4, 6, 32]\n",
    "# 3 + 4, 3 + 6, 3 + 32, 15 + 4, 15 + 6, 15 + 32, 44 + 4, 44 + 6, 44 + 32\n",
    "\n",
    "def listSum(list1, list2):\n",
    "    'return a list of all possible sums of the two lists'\n",
    "    sumlist = []\n",
    "    for i in list1:                     ## i = 3                i = 15             i = 44\n",
    "        for j in list2:                 ## j = 4    6   32      j = 4   6   32     j = 4    6   32\n",
    "            sumlist.append(i + j)       ##     7    9   35          19  21  47         48   50  76\n",
    "\n",
    "    return sumlist\n",
    "\n",
    "print(listSum(a, b))"
   ]
  },
  {
   "cell_type": "code",
   "execution_count": null,
   "id": "ebf6670d",
   "metadata": {},
   "outputs": [],
   "source": [
    "##### 2D List #####\n",
    "## thislist = [[1, 2, 3], [4, 5, 6], [7, 8, 9]]\n",
    "## print(thislist[1])\n",
    "## print(thislist[5])\n",
    "## print(thislist[1][0])\n",
    "## print(thislist[2][2])\n",
    "\n",
    "\n",
    "## Task: Write a function that multiplies the nth x mth element of thisList to nth x mth element of thatList\n",
    "## returns the multiplied 2D list\n",
    "##  list1:      1, 2, 3     2, 4, 6     2, 8, 18\n",
    "##  list2:      4, 5, 6     3, 5, 7     9, 5, 42\n",
    "##  result:     4, 10, 18    6, 20, 42   18, 40, 756\n",
    "\n",
    "def elementTimes(list1, list2):\n",
    "    'multiply the nth x mth element of list1 to nth x mth element of list2'\n",
    "    list3 = list1.copy()\n",
    "    for i in range(len(list1)):             ## i is the inner list\n",
    "        for j in range(len(list1[i])):      ## j is the element in the inner list\n",
    "            list3[i][j] = list1[i][j] * list2[i][j]\n",
    "    return list3\n",
    "\n",
    "thisList = [[1, 2, 3], [2, 4, 6], [2, 8, 18]]\n",
    "thatList = [[4, 5, 6], [3, 5, 7], [9, 5, 42]]\n",
    "\n",
    "print(elementTimes(thisList, thatList))"
   ]
  },
  {
   "cell_type": "code",
   "execution_count": null,
   "id": "37c6b393",
   "metadata": {},
   "outputs": [],
   "source": [
    "def timesTab(timesn):\n",
    "    'print a times table up to n'\n",
    "    myTable = []\n",
    "    for i in range(timesn):\n",
    "        myTable.append([])      ##appended an empty list to represent a new row to start\n",
    "        for j in range(timesn):\n",
    "            myTable[i].append((i+1)*(j+1))\n",
    "    return myTable\n",
    "\n",
    "a = timesTab(5)\n",
    "print(a)\n",
    "\n",
    "\n",
    "b = timesTab(12)\n",
    "for i in range(len(b)):\n",
    "    row = ''\n",
    "    for j in range(len(b[i])):\n",
    "        row = row + '{:4}'.format(b[i][j])\n",
    "    print(row)"
   ]
  },
  {
   "cell_type": "code",
   "execution_count": null,
   "id": "eeee3ef6",
   "metadata": {},
   "outputs": [],
   "source": [
    "########## While Loops ##########\n",
    "## while loops are similar to for loops, except you don't know how many times you'd like to go through the loop\n",
    "## You DO know your stopping condition (when you'd like to stop)\n",
    "## The while loop starts like an if statement (if <<condition>>:)\n",
    "## >> while <<condition>>:\n",
    "\n",
    "\n",
    "## Simple example\n",
    "booli = True\n",
    "while booli:\n",
    "    print(booli)\n",
    "    booli = False"
   ]
  },
  {
   "cell_type": "code",
   "execution_count": null,
   "id": "85cdee4f",
   "metadata": {},
   "outputs": [],
   "source": [
    "\n",
    "## Print powers of 2 up to 100\n",
    "x = 2\n",
    "while x < 100:\n",
    "    print(x)\n",
    "    x *= 2      ## same as x = x * 2\n",
    "\n",
    "print('Done')\n",
    "print('Outside x is now:', x)           ## Pay attention to the order of your code! Is this what you expected?\n"
   ]
  },
  {
   "cell_type": "code",
   "execution_count": null,
   "id": "76b08fe6",
   "metadata": {},
   "outputs": [],
   "source": [
    "## While Loop - Decay Function\n",
    "## Every year, 3% of the population of Boringville move out of the town.\n",
    "## No one wants to move in to Boringville. In the year 2019, the mayor\n",
    "## of Boringville realized that the town would crumble if the population reached\n",
    "## below 10,000 people. He wants to restructure the town to attract more\n",
    "## residents. How many years does the mayor have to rebuild the town\n",
    "## assuming there's currently 11,000 people in Boringville?\n",
    "\n",
    "pop = 11000\n",
    "year = 0\n",
    "while pop >= 10000:\n",
    "    pop *= 0.97\n",
    "    year += 1\n",
    "\n",
    "print(year)"
   ]
  },
  {
   "cell_type": "code",
   "execution_count": null,
   "id": "e70a4f6b",
   "metadata": {},
   "outputs": [],
   "source": [
    "## Print powers of 2 up to 100\n",
    "x = 2\n",
    "while x < 100:\n",
    "    print(x)\n",
    "    x *= 2      ## same as x = x * 2\n",
    "\n",
    "print('Done')\n",
    "print('Outside x is now:', x)           ## Pay attention to the order of your code! Is this what you expected?\n"
   ]
  },
  {
   "cell_type": "code",
   "execution_count": null,
   "id": "bdcd57e3",
   "metadata": {},
   "outputs": [],
   "source": [
    "## While Loop - Decay Function\n",
    "## Every year, 3% of the population of Boringville move out of the town.\n",
    "## No one wants to move in to Boringville. In the year 2019, the mayor\n",
    "## of Boringville realized that the town would crumble if the population reached\n",
    "## below 10,000 people. He wants to restructure the town to attract more\n",
    "## residents. How many years does the mayor have to rebuild the town\n",
    "## assuming there's currently 11,000 people in Boringville?\n",
    "\n",
    "pop = 11000\n",
    "year = 0\n",
    "while pop >= 10000:\n",
    "    pop *= 0.97\n",
    "    year += 1\n",
    "\n",
    "print(year)"
   ]
  },
  {
   "cell_type": "code",
   "execution_count": null,
   "id": "40f781c8",
   "metadata": {},
   "outputs": [],
   "source": [
    "## Asking the user for a positive integer (HINT FOR IP3)\n",
    "badnum = True\n",
    "while badnum:\n",
    "    try:\n",
    "        num = int(input(\"Please enter a positive integer: \"))\n",
    "        if num > 0:\n",
    "            badnum = False\n",
    "            print('positive number')        ## use print to help you keep track of what's going on in your programs!\n",
    "    except:\n",
    "        badnum = True\n",
    "        print('non-integer')"
   ]
  },
  {
   "cell_type": "code",
   "execution_count": null,
   "id": "b34c2f4b",
   "metadata": {},
   "outputs": [],
   "source": [
    "## Asking the user for a good file\n",
    "\n",
    "badfile = True\n",
    "while badfile:\n",
    "    try:\n",
    "        filename = input('File Name: ')\n",
    "        openfile = open(filename)\n",
    "        badfile = False\n",
    "    except:\n",
    "        badfile = True"
   ]
  },
  {
   "cell_type": "code",
   "execution_count": null,
   "id": "0673cf4b",
   "metadata": {},
   "outputs": [],
   "source": [
    "########## break, continue, pass ##########\n",
    "\n",
    "\n",
    "## Asking the user for a positive integer (HINT FOR IP3)\n",
    "badnum = True\n",
    "while badnum:\n",
    "    try:\n",
    "        num = int(input(\"Please enter a positive integer: \"))\n",
    "        if num > 0:\n",
    "            badnum = False\n",
    "    except:\n",
    "        pass        ## pass does nothing. It's used as a placeholder."
   ]
  },
  {
   "cell_type": "code",
   "execution_count": null,
   "id": "daaed362",
   "metadata": {},
   "outputs": [],
   "source": [
    "## Asking the user for a good file\n",
    "badfile = True\n",
    "while badfile:\n",
    "    try:\n",
    "        filename = input('File Name: ')\n",
    "        openfile = open(filename)\n",
    "        badfile = False\n",
    "    except:\n",
    "        pass"
   ]
  },
  {
   "cell_type": "code",
   "execution_count": null,
   "id": "5d7dd20e",
   "metadata": {},
   "outputs": [],
   "source": [
    "## break -- stops the entire loop once it is encountered (innermost loop that is still running)\n",
    "def guessname():\n",
    "    name = input('Guess my name: ')\n",
    "    while name != 'Python':\n",
    "        if name == 'Quit':\n",
    "            break\n",
    "        name = input('Guess again: ')\n",
    "    if name == 'Python':\n",
    "        print('You got it!')\n",
    "    else:\n",
    "        print('Awww.')\n",
    "\n",
    "guessname()"
   ]
  },
  {
   "cell_type": "code",
   "execution_count": null,
   "id": "74460975",
   "metadata": {},
   "outputs": [],
   "source": [
    "## You can use \"return\" as a break to the function -- stop the function where it encounters the return\n",
    "def guessname():\n",
    "    name = input('Guess my name: ')\n",
    "    while name != 'Python':\n",
    "        if name == 'Quit':\n",
    "            return                      ## return will stop the function entirely\n",
    "        name = input('Guess again: ')\n",
    "    if name == 'Python':\n",
    "        print('You got it!')\n",
    "    else:\n",
    "        print('Awww.')\n",
    "\n",
    "guessname()\n",
    "print('We are done with the function.')"
   ]
  },
  {
   "cell_type": "code",
   "execution_count": null,
   "id": "180398b8",
   "metadata": {},
   "outputs": [],
   "source": [
    "## Learning Quiz 17, Problem 5\n",
    "def myfun(word):\n",
    "    while True:\n",
    "        return 'done'       ## the return stops the function before we can ever print anything\n",
    "        print(word)\n",
    "\n",
    "userin = input('Enter name: ')\n",
    "myfun(userin)"
   ]
  },
  {
   "cell_type": "code",
   "execution_count": null,
   "id": "0d415807",
   "metadata": {},
   "outputs": [],
   "source": [
    "def beforeneg(numlist):\n",
    "    'print values in the list until it comes across a negative number'\n",
    "    for i in numlist:\n",
    "        if i < 0:\n",
    "            break\n",
    "        print(i, end = ' ')\n",
    "    print('We are done with the for-loop')\n",
    "\n",
    "beforeneg([1,2,3,4,5,-5,4,-3,-2,1,2,3])"
   ]
  },
  {
   "cell_type": "code",
   "execution_count": null,
   "id": "eb816d75",
   "metadata": {},
   "outputs": [],
   "source": [
    "## continue - stops the current iteration of the loop once it's encounter, but it will continue with the next iteration\n",
    "def beforeneg(numlist):\n",
    "    'print values in the list until it comes across a negative number'\n",
    "    for i in numlist:\n",
    "        if i < 0:\n",
    "            continue\n",
    "        print(i, end = ' ')\n",
    "    print('We are done with the for-loop')\n",
    "\n",
    "beforeneg([1,2,3,4,5,-5,4,-3,-2,1,2,3])"
   ]
  },
  {
   "cell_type": "code",
   "execution_count": null,
   "id": "0a1de83c",
   "metadata": {},
   "outputs": [],
   "source": [
    "## pass is just a placeholder. It does nothing for your loop\n",
    "def beforeneg(numlist):\n",
    "    'print values in the list until it comes across a negative number'\n",
    "    for i in numlist:\n",
    "        if i < 0:\n",
    "            pass\n",
    "        print(i, end = ' ')\n",
    "    print('We are done with the for-loop')\n",
    "\n",
    "beforeneg([1,2,3,4,5,-5,4,-3,-2,1,2,3])"
   ]
  },
  {
   "cell_type": "code",
   "execution_count": null,
   "id": "ef717617",
   "metadata": {},
   "outputs": [],
   "source": [
    "########## Dictionaries ##########\n",
    "## Suppose we want to associate students with their ID numbers rather than index numbers\n",
    "## We should use a dictionary\n",
    "## mylist = ['Person1', 'Person2', 'Person3']\n",
    "## studentlist = {id1: 'Person1', id2: 'Person2', id3: 'Person3'}\n",
    "\n",
    "## dictionaryformat = {key: value, key: value, key: value}\n",
    "\n",
    "\n",
    "student = {'123456': ['Anna', 'Barbara'], '345678': ['Joe', 'Bruin'], '567890': ['Josephine', 'Bruin']}\n",
    "print(student['123456'])\n",
    "print(student.get('123456'))\n",
    "## print(student[0])       ## DOES NOT WORK\n",
    "\n",
    "print(student.items())      ## Note, the data type is not something we can work with yet\n",
    "print(student.keys())\n",
    "print(student.values())\n",
    "\n",
    "print(list(student.items()))        ## change the data type to a list\n",
    "print(list(student.keys()))\n",
    "print(list(student.values()))\n",
    "\n",
    "student.pop('123456')       ## this removed ['Anna', 'Barbara'] from our dictionary\n",
    "print(student)"
   ]
  },
  {
   "cell_type": "code",
   "execution_count": null,
   "id": "97358ec6",
   "metadata": {},
   "outputs": [],
   "source": [
    "student = {'123456': ['Anna', 'Barbara'], '345678': ['Joe', 'Bruin'], '567890': ['Josephine', 'Bruin']}\n",
    "student2 = {'234567': ['April', 'Summer'], '456789': ['May', 'Spring'], '135790': ['June', 'Winters']}\n",
    "student.update(student2)        ##updating student with the students in student2\n",
    "print(student)\n",
    "\n",
    "student3 = {'246801': ['A', 'B']}\n",
    "student.update(student3)\n",
    "\n",
    "student3 = {'123456': ['Annabelle', 'Barbara']}\n",
    "student.update(student3)        ## if there's someone with the same key, then it will replace the old info\n",
    "print(student)"
   ]
  },
  {
   "cell_type": "code",
   "execution_count": null,
   "id": "23def23c",
   "metadata": {},
   "outputs": [],
   "source": [
    "'''\n",
    "Other dictionary methods\n",
    "clear()\t    Removes all the elements from the dictionary\n",
    "copy()\t    Returns a copy of the dictionary\n",
    "fromkeys()\tReturns a dictionary with the specified keys and values\n",
    "get()\t    Returns the value of the specified key\n",
    "items()\t    Returns a list containing a tuple for each key value pair\n",
    "keys()\t    Returns a list containing the dictionary's keys\n",
    "pop()\t    Removes the element with the specified key\n",
    "popitem()\tRemoves the last inserted key-value pair\n",
    "setdefault()Returns the value of the specified key. If the key does not exist: insert the key, with the specified value\n",
    "update()\tUpdates the dictionary with the specified key-value pairs\n",
    "values()\tReturns a list of all the values in the dictionary\n",
    "'''\n",
    "\n",
    "## Strings, integers, floats, and tuples can be keys. Lists cannot be keys.\n",
    "## You can have ANY value.\n",
    "dictionary1 = {3903213: 'apple', 8943829: 'orange', 8493024: 'grapes'}\n",
    "dictionary2 = {83921.2: [1, 2], 28291.3: [3, 4], 32902.3: [5, 6]}\n",
    "dictionary3 = {(3,4): 'Point A', (6, 7): 'Point B', (101, 102): 'Point C'}\n",
    "dictionary4 = {'break': 'ends the loops', 'continue': 'skip the rest of the iteration', 'pass': 'does nothing'}\n",
    "\n",
    "## multiple keys can have the same value\n",
    "dictionary5 = {3903213: 'apple', 8943829: 'apple', 8493024: 'apple'}\n",
    "print(dictionary5)\n",
    "\n",
    "## but multiple values cannot have the same key (Python will look only at the latest one)\n",
    "dictionary6 = {3903213: 'apple', 3903213: 'orange', 3903213: 'grapes'}\n",
    "print(dictionary6)"
   ]
  },
  {
   "cell_type": "code",
   "execution_count": null,
   "id": "24695d48",
   "metadata": {},
   "outputs": [],
   "source": [
    "########## SETS ##########\n",
    "## no order\n",
    "## cannot have multiple of the same thing\n",
    "\n",
    "popnames2050 = {'Spongebob', 'Patrick', 'Squidward', 'Spongebob'}\n",
    "print(popnames2050\n",
    "\n",
    "\n",
    "popnames2050 = {'Spongebob', 'Patrick', 'Squidward', 'Spongebob'}\n",
    "popnames2060 = {'Joey', 'Phoebe', 'Ross', 'Monica', 'Patrick'}\n",
    "namesinter = popnames2050 & popnames2060        ## intersection (&), what is in both sets\n",
    "namesunion = popnames2050 | popnames2060        ## union (|), combination of both sets\n",
    "namesdiff = popnames2050 - popnames2060         ## what is in 2050 but not 2060\n",
    "namesdifftw = popnames2050 ^ popnames2060       ## what is in one and only one of the sets\n",
    "print(namesinter)\n",
    "print(namesunion)\n",
    "print(namesdiff)\n",
    "print(namesdifftw)"
   ]
  },
  {
   "cell_type": "code",
   "execution_count": null,
   "id": "f5d416af",
   "metadata": {},
   "outputs": [],
   "source": [
    "## Some methods\n",
    "popnames2050 = {'Spongebob', 'Patrick', 'Squidward', 'Spongebob'}\n",
    "popnames2050.add('Mr.Krabs')\n",
    "popnames2050.remove('Spongebob')\n",
    "popnames2050.clear()\n",
    "\n",
    "\n",
    "emptydict = {}\n",
    "emptyset = set()"
   ]
  },
  {
   "cell_type": "code",
   "execution_count": null,
   "id": "4f657b21",
   "metadata": {},
   "outputs": [],
   "source": [
    "########## the random module ##########\n",
    "## import random        ## remember to import at the very beginning!\n",
    "\n",
    "random.seed(113)        ## setting the seed is used for testing. It makes sure you get the SAME random numbers (so it won't be \"random\")\n",
    "                        ## make sure that if you use random in a program, remove seed() so the numbers 'appear' truly random\n",
    "i = random.randrange(5, 10)     ## random numbers 5, 6, 7, 8, 9 (but not 10)\n",
    "print(i)\n",
    "\n",
    "j = random.uniform(0,1)         ## random number between 0 and 1\n",
    "print(j)\n",
    "\n",
    "mylist = ['apple', 'orange', 'grape', 'strawberry', 'banana']\n",
    "random.shuffle(mylist)          ## shuffle the list\n",
    "print(mylist)\n",
    "\n",
    "k = random.choice(mylist)       ## randomly pick 1 from the list\n",
    "print(k)\n",
    "\n",
    "m = random.sample(mylist, 3)    ## randomly pick 3 (without replacement) from the list\n",
    "print(m)\n"
   ]
  },
  {
   "cell_type": "code",
   "execution_count": null,
   "id": "4796f1d8",
   "metadata": {},
   "outputs": [],
   "source": [
    "numdict = {1:2, 3:4, 5:6}"
   ]
  },
  {
   "cell_type": "code",
   "execution_count": null,
   "id": "64ab97b4",
   "metadata": {},
   "outputs": [],
   "source": [
    "numdict"
   ]
  },
  {
   "cell_type": "code",
   "execution_count": null,
   "id": "ec58bcfb",
   "metadata": {},
   "outputs": [],
   "source": [
    "tempvar = numdict.keys()"
   ]
  },
  {
   "cell_type": "code",
   "execution_count": null,
   "id": "3636c443",
   "metadata": {},
   "outputs": [],
   "source": [
    "tempvar"
   ]
  },
  {
   "cell_type": "code",
   "execution_count": null,
   "id": "72da607f",
   "metadata": {},
   "outputs": [],
   "source": [
    "student1 = {12345: ['Amy','Boe'], 23456: ['Carter','Doe'], 12345: ['Emily','Goe'], 45678: ['Willy', 'Zoe']}\n",
    "student2 = {56789: ['Joe','Poe'], 67890: ['Manny','Roe'], 45678:['William','Zoe']}\n",
    "student2.update(student1)"
   ]
  },
  {
   "cell_type": "code",
   "execution_count": null,
   "id": "b9c671b6",
   "metadata": {},
   "outputs": [],
   "source": [
    "student2"
   ]
  },
  {
   "cell_type": "code",
   "execution_count": null,
   "id": "590283fa",
   "metadata": {},
   "outputs": [],
   "source": [
    "a = {1,2,3,4}\n",
    "b = {3,4,5,6,7}"
   ]
  },
  {
   "cell_type": "code",
   "execution_count": null,
   "id": "3b0d1999",
   "metadata": {},
   "outputs": [],
   "source": [
    "b^a"
   ]
  },
  {
   "cell_type": "code",
   "execution_count": null,
   "id": "366cc93f",
   "metadata": {},
   "outputs": [],
   "source": [
    "lionking = {'Mufasa', 'Simba', 'Nala', 'Timone', 'Pumbaa'}\n",
    "lionking.remove('Mufasa')\n",
    "lionking.clear()\n",
    "lionking.add('Scar')\n",
    "lionking.add('Nala')\n",
    "lionking.add('Simba')\n",
    "lionking.remove('Scar')\n",
    "lionking.add('Simba')"
   ]
  },
  {
   "cell_type": "code",
   "execution_count": null,
   "id": "640fdb83",
   "metadata": {},
   "outputs": [],
   "source": [
    "lionking"
   ]
  },
  {
   "cell_type": "code",
   "execution_count": null,
   "id": "d809605c",
   "metadata": {},
   "outputs": [],
   "source": [
    "import random\n",
    "random.seed(102)\n",
    "random.randrange(-15,15)"
   ]
  },
  {
   "cell_type": "code",
   "execution_count": null,
   "id": "e93abfe9",
   "metadata": {},
   "outputs": [],
   "source": [
    "# We want to make a row of bricks that is goal inches long. \n",
    "# We have a number of small bricks (1 inch each) and big bricks (5 inches each). \n",
    "# Return True if it is possible to make the goal by choosing from the given bricks. \n",
    "# This is a little harder than it looks and can be done without any loops. "
   ]
  },
  {
   "cell_type": "code",
   "execution_count": null,
   "id": "fd818190",
   "metadata": {},
   "outputs": [],
   "source": [
    "def make_bricks(small, big, goal):\n",
    "    small_num = int(small)\n",
    "    big_num = int(big)\n",
    "    goal_num = int(goal)\n",
    "    \n",
    "    small_brick = 1\n",
    "    big_brick = 5\n",
    "    \n",
    "    num_list= [big_brick]*big_num+ [small_brick]*small_num\n",
    "    print(num_list)\n",
    "    \n",
    "    current_total = small_num*small_brick+big_num*big_brick\n",
    "    print(current_total)\n",
    "    print(goal)\n",
    "    \n",
    "    difference = current_total - goal\n",
    "    print(difference)\n",
    "    \n",
    "    if current_total == goal:\n",
    "        return(True)\n",
    "    else:\n",
    "        return(False)\n",
    "    \n",
    "    \n",
    "        \n",
    "  "
   ]
  },
  {
   "cell_type": "code",
   "execution_count": null,
   "id": "b8c54eaf",
   "metadata": {},
   "outputs": [],
   "source": [
    "def make_bricks(small, big, goal):\n",
    "    small_num = int(small)\n",
    "    big_num = int(big)\n",
    "    goal_num = int(goal)\n",
    "    \n",
    "    small_brick = 1\n",
    "    big_brick = 5\n",
    "    \n",
    "    \n",
    "    small_bricks = [small_brick]*small_num\n",
    "    print(small_bricks)\n",
    "    \n",
    "    large_bricks = [big_brick]*big_num\n",
    "    print(large_bricks)\n",
    "        \n",
    "    current_goal = 0\n",
    "    print(current_goal)\n",
    "    \n",
    "    for large in range(0,len(large_bricks)):\n",
    "            current_goal += large_bricks[0]\n",
    "            print(current_goal)\n",
    "            \n",
    "    if current_goal == goal:\n",
    "        print(current_goal)\n",
    "        return(True)\n",
    "    \n",
    "    elif current_goal < goal:\n",
    "        print(current_goal)\n",
    "        while current_goal <= goal:\n",
    "            current_goal += small_bricks[0]\n",
    "            print(current_goal)\n",
    "            return(True)  \n",
    "    else:\n",
    "        return(False)"
   ]
  },
  {
   "cell_type": "code",
   "execution_count": null,
   "id": "aa6d1eb8",
   "metadata": {},
   "outputs": [],
   "source": [
    "def make_bricks(small, big, goal):\n",
    "    small_num = int(small)\n",
    "    big_num = int(big)\n",
    "    goal_num = int(goal)\n",
    "    \n",
    "    small_brick = 1\n",
    "    big_brick = 5\n",
    "    \n",
    "    num_list= [big_brick]*big_num+ [small_brick]*small_num\n",
    "    print(num_list)\n",
    "    \n",
    "    numbers_used = 0\n",
    "    i = 0\n",
    "    while numbers_used <= goal:\n",
    "        numbers_used += num_list[i]\n",
    "        print(num_list[i])\n",
    "        print(numbers_used)\n",
    "        i += 1\n",
    "        continue\n",
    "\n",
    "        "
   ]
  },
  {
   "cell_type": "code",
   "execution_count": 1,
   "id": "aa80ceca",
   "metadata": {},
   "outputs": [],
   "source": [
    "def make_bricks(number_small, number_large, goal):\n",
    "    \n",
    "    small_size = 1\n",
    "    large_size = 5\n",
    "    large_bricks_used = 0\n",
    "    small_bricks_used = 0\n",
    "    space_left = 0\n",
    "    print(space_left)\n",
    "    \n",
    "    #print(number_large)\n",
    "    #print(large_bricks_used)\n",
    "    print(\"Goal: \", goal)\n",
    "    \n",
    "    while large_bricks_used <= number_large:\n",
    "        while space_left <= goal:\n",
    "            print(\"large bricks used: \", large_bricks_used)\n",
    "            print(\"Space left: \", space_left)\n",
    "            large_bricks_used += 1\n",
    "            space_left += large_size\n",
    "            \n",
    "    while small_bricks_used <= number_small:\n",
    "        while space_left <= goal:\n",
    "            print(\"small bricks used: \", small_bricks_used)\n",
    "            print(\"Space left: \", space_left)\n",
    "            small_bricks_used += 1\n",
    "            space_left += small_size"
   ]
  },
  {
   "cell_type": "code",
   "execution_count": null,
   "id": "d0f89aac",
   "metadata": {},
   "outputs": [],
   "source": [
    "make_bricks(3,1,8)"
   ]
  },
  {
   "cell_type": "code",
   "execution_count": null,
   "id": "d4714ed9",
   "metadata": {},
   "outputs": [],
   "source": [
    "make_bricks(3,1,9)"
   ]
  },
  {
   "cell_type": "code",
   "execution_count": null,
   "id": "45af7df8",
   "metadata": {},
   "outputs": [],
   "source": [
    "make_bricks(3,2,10)"
   ]
  },
  {
   "cell_type": "code",
   "execution_count": null,
   "id": "51b8b3fe",
   "metadata": {},
   "outputs": [],
   "source": [
    "make_bricks(3,2,10)"
   ]
  },
  {
   "cell_type": "code",
   "execution_count": null,
   "id": "795ed9a1",
   "metadata": {},
   "outputs": [],
   "source": []
  },
  {
   "cell_type": "code",
   "execution_count": null,
   "id": "9e9acad0",
   "metadata": {},
   "outputs": [],
   "source": [
    "num_list=[]"
   ]
  },
  {
   "cell_type": "code",
   "execution_count": null,
   "id": "57c8cf3f",
   "metadata": {},
   "outputs": [],
   "source": [
    "num_list=[1]*3+[5]*2"
   ]
  },
  {
   "cell_type": "code",
   "execution_count": null,
   "id": "ca8f2dc8",
   "metadata": {},
   "outputs": [],
   "source": [
    "num_list"
   ]
  },
  {
   "cell_type": "code",
   "execution_count": null,
   "id": "4291b9cd",
   "metadata": {},
   "outputs": [],
   "source": [
    "# Given 3 int values, a b c, return their sum. \n",
    "# However, if one of the values is the same as another of the values, \n",
    "# it does not count towards the sum.\n",
    "def lone_sum(a, b, c):\n",
    "    numbers = [int(a), int(b), int(c)]\n",
    "    print(numbers)\n",
    "    check_numbers = list(set(numbers))\n",
    "    \n",
    "    #def has_duplicates(seq):\n",
    "   #len(seq) != len(set(seq))\n",
    "    \n",
    "    if len(numbers) == len(check_numbers):\n",
    "        print(check_numbers)\n",
    "        print(numbers[0]+numbers[1]+numbers[2])\n",
    "    elif len(numbers != le)"
   ]
  },
  {
   "cell_type": "code",
   "execution_count": null,
   "id": "56fdba20",
   "metadata": {},
   "outputs": [],
   "source": [
    "lone_sum(1, 2, 3)"
   ]
  },
  {
   "cell_type": "code",
   "execution_count": null,
   "id": "ec745de7",
   "metadata": {},
   "outputs": [],
   "source": [
    "lone_sum(3, 2, 3)"
   ]
  },
  {
   "cell_type": "code",
   "execution_count": null,
   "id": "60687728",
   "metadata": {},
   "outputs": [],
   "source": [
    "lone_sum(3, 3, 3)"
   ]
  },
  {
   "cell_type": "code",
   "execution_count": null,
   "id": "c074b33b",
   "metadata": {},
   "outputs": [],
   "source": [
    "def if_demo(s):\n",
    "  if s == 'Hello' or s == 'Hi':\n",
    "    s = s + ' nice to meet you'\n",
    "  else:\n",
    "    s = s + ' woo hoo!'\n",
    "  return s"
   ]
  },
  {
   "cell_type": "code",
   "execution_count": null,
   "id": "14fed2e0",
   "metadata": {},
   "outputs": [],
   "source": [
    "if_demo('foo')"
   ]
  },
  {
   "cell_type": "code",
   "execution_count": null,
   "id": "fe56aafa",
   "metadata": {},
   "outputs": [],
   "source": []
  }
 ],
 "metadata": {
  "kernelspec": {
   "display_name": "Python 3",
   "language": "python",
   "name": "python3"
  },
  "language_info": {
   "codemirror_mode": {
    "name": "ipython",
    "version": 3
   },
   "file_extension": ".py",
   "mimetype": "text/x-python",
   "name": "python",
   "nbconvert_exporter": "python",
   "pygments_lexer": "ipython3",
   "version": "3.8.8"
  }
 },
 "nbformat": 4,
 "nbformat_minor": 5
}

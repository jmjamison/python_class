{
 "cells": [
  {
   "cell_type": "code",
   "execution_count": null,
   "metadata": {},
   "outputs": [],
   "source": [
    "'''\n",
    "Program 3 part 2\n",
    "1) create a dictionary from a vocabulary list\n",
    "2) if the user enters a file name that does not exist, catch the error and re-prompt \n",
    "      for the correct file name\n",
    "3) read in existing dictionary file\n",
    "4) term is the key; definition is the value\n",
    "5) ask user if they would like to add additional terms and definitions,\n",
    "6) and how many if Y is the response\n",
    "7) if a duplicate term is entered notify the user and ask if the users would like to \n",
    "        update the definition  BEFORE asking for the definition\n",
    "8) end by printing the list of terms and definitions before asking the user for a \n",
    "        file name to save the new dictionary. **DO NOTE write over the original \n",
    "        unless enterd by the user.\n",
    "9) text (txt) file, tap separated\n",
    "'''"
   ]
  },
  {
   "cell_type": "code",
   "execution_count": 59,
   "metadata": {},
   "outputs": [
    {
     "name": "stdout",
     "output_type": "stream",
     "text": [
      "Please enter a vocabulary file: vocablist.txt\n",
      "Open success!\n"
     ]
    }
   ],
   "source": [
    "\n",
    "# read-only is the default but set to be careful\n",
    "#vocab_file = open(input(\"Please enter a vocabulary file: \"), \"r+\")\n",
    "\n",
    "wrong_file = True\n",
    "\n",
    "while wrong_file:\n",
    "    try:\n",
    "        vocab_file = open(input(\"Please enter a vocabulary file: \"))\n",
    "        print('Open success!')\n",
    "        wrong_file = False  #  file is found, not wrong file\n",
    "    except IOError:\n",
    "        print('File not found! Please try again.')\n",
    "        wrong_file = True    # file not found, wrong file"
   ]
  },
  {
   "cell_type": "code",
   "execution_count": 61,
   "metadata": {},
   "outputs": [],
   "source": [
    "\n",
    "for line in vocab_file:\n",
    "    key, value = line.split('\\t')    \n",
    "    my_dictionary[key] = value"
   ]
  },
  {
   "cell_type": "code",
   "execution_count": 62,
   "metadata": {},
   "outputs": [
    {
     "name": "stdout",
     "output_type": "stream",
     "text": [
      "{}\n"
     ]
    }
   ],
   "source": [
    "print(my_dictionary)"
   ]
  },
  {
   "cell_type": "code",
   "execution_count": null,
   "metadata": {},
   "outputs": [],
   "source": []
  }
 ],
 "metadata": {
  "kernelspec": {
   "display_name": "Python 3",
   "language": "python",
   "name": "python3"
  },
  "language_info": {
   "codemirror_mode": {
    "name": "ipython",
    "version": 3
   },
   "file_extension": ".py",
   "mimetype": "text/x-python",
   "name": "python",
   "nbconvert_exporter": "python",
   "pygments_lexer": "ipython3",
   "version": "3.6.7"
  }
 },
 "nbformat": 4,
 "nbformat_minor": 2
}

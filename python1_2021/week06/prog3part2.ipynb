{
 "cells": [
  {
   "cell_type": "code",
   "execution_count": 243,
   "metadata": {},
   "outputs": [
    {
     "data": {
      "text/plain": [
       "'\\nProgram 3 part 2\\n1) create a dictionary from a vocabulary list\\n2) if the user enters a file name that does not exist, catch the error and re-prompt \\n      for the correct file name\\n3) read in existing dictionary file\\n4) term is the key; definition is the value\\n5) ask user if they would like to add additional terms and definitions,\\n6) and how many if Y is the response\\n7) if a duplicate term is entered notify the user and ask if the users would like to \\n        update the definition  BEFORE asking for the definition\\n8) end by printing the list of terms and definitions before asking the user for a \\n        file name to save the new dictionary. **DO NOTE write over the original \\n        unless enterd by the user.\\n9) text (txt) file, tap separated\\n'"
      ]
     },
     "execution_count": 243,
     "metadata": {},
     "output_type": "execute_result"
    }
   ],
   "source": [
    "'''\n",
    "Program 3 part 2\n",
    "1) create a dictionary from a vocabulary list\n",
    "2) if the user enters a file name that does not exist, catch the error and re-prompt \n",
    "      for the correct file name\n",
    "3) read in existing dictionary file\n",
    "4) term is the key; definition is the value\n",
    "5) ask user if they would like to add additional terms and definitions,\n",
    "6) and how many if Y is the response\n",
    "7) if a duplicate term is entered notify the user and ask if the users would like to \n",
    "        update the definition  BEFORE asking for the definition\n",
    "8) end by printing the list of terms and definitions before asking the user for a \n",
    "        file name to save the new dictionary. **DO NOTE write over the original \n",
    "        unless enterd by the user.\n",
    "9) text (txt) file, tap separated\n",
    "'''"
   ]
  },
  {
   "cell_type": "code",
   "execution_count": null,
   "metadata": {},
   "outputs": [],
   "source": []
  },
  {
   "cell_type": "code",
   "execution_count": 244,
   "metadata": {},
   "outputs": [],
   "source": [
    "#my_dictionary.keys()"
   ]
  },
  {
   "cell_type": "code",
   "execution_count": 245,
   "metadata": {},
   "outputs": [
    {
     "name": "stdout",
     "output_type": "stream",
     "text": [
      "Please enter a vocabulary file: vocablist.txt\n",
      "Open success!\n"
     ]
    }
   ],
   "source": [
    "\n",
    "# read-only is the default but set to be careful\n",
    "#vocab_file = open(input(\"Please enter a vocabulary file: \"), \"r+\")\n",
    "\n",
    "wrong_file = True\n",
    "\n",
    "while wrong_file:\n",
    "    try:\n",
    "        vocab_file = open(input(\"Please enter a vocabulary file: \"))\n",
    "        print('Open success!')\n",
    "        wrong_file = False  #  file is found, not wrong file\n",
    "    except IOError:\n",
    "        print('File not found! Please try again.')\n",
    "        wrong_file = True    # file not found, wrong file"
   ]
  },
  {
   "cell_type": "code",
   "execution_count": 246,
   "metadata": {},
   "outputs": [],
   "source": [
    "my_dictionary = {}\n",
    "for line in vocab_file:\n",
    "    key, value = line.split('\\t')    \n",
    "    my_dictionary[key] = value\n",
    "    \n",
    "vocab_file.close()"
   ]
  },
  {
   "cell_type": "code",
   "execution_count": 247,
   "metadata": {
    "scrolled": true
   },
   "outputs": [
    {
     "name": "stdout",
     "output_type": "stream",
     "text": [
      "{'term': 'definition\\n', 'break': 'Used to exit a for loop or a while loop.\\n', 'continue': 'Used to skip the current block, and return to the \"for\" or \"while\" statement\\n', 'dictionary': 'A mutable associative array (or dictionary) of key and value pairs. \\n', 'float': 'An immutable floating point number.\\n', 'immutable': 'Cannot be changed after its created.\\n', 'int': 'An immutable integer of unlimited magnitude.\\n', 'pass': 'Needed to create an empty code block\\n', 'set': 'Unordered set, contains no duplicates\\n', 'string': 'Can include numbers, letters, and various symbols and be enclosed by either double or single quotes\\n', 'while': 'Executes a block of code as long as its condition is true.\\n'}\n"
     ]
    }
   ],
   "source": [
    "print(my_dictionary)"
   ]
  },
  {
   "cell_type": "code",
   "execution_count": 248,
   "metadata": {
    "scrolled": true
   },
   "outputs": [
    {
     "name": "stdout",
     "output_type": "stream",
     "text": [
      "There are 11 terms in this vocabulary list: \n"
     ]
    }
   ],
   "source": [
    "print(\"There are {} terms in this vocabulary list: \".format(len(my_dictionary)))"
   ]
  },
  {
   "cell_type": "code",
   "execution_count": 249,
   "metadata": {
    "scrolled": true
   },
   "outputs": [
    {
     "name": "stdout",
     "output_type": "stream",
     "text": [
      "term       - definition\n",
      "\n",
      "break      - Used to exit a for loop or a while loop.\n",
      "\n",
      "continue   - Used to skip the current block, and return to the \"for\" or \"while\" statement\n",
      "\n",
      "dictionary - A mutable associative array (or dictionary) of key and value pairs. \n",
      "\n",
      "float      - An immutable floating point number.\n",
      "\n",
      "immutable  - Cannot be changed after its created.\n",
      "\n",
      "int        - An immutable integer of unlimited magnitude.\n",
      "\n",
      "pass       - Needed to create an empty code block\n",
      "\n",
      "set        - Unordered set, contains no duplicates\n",
      "\n",
      "string     - Can include numbers, letters, and various symbols and be enclosed by either double or single quotes\n",
      "\n",
      "while      - Executes a block of code as long as its condition is true.\n",
      "\n"
     ]
    }
   ],
   "source": [
    "for key, value in my_dictionary.items():\n",
    "    #print(key, value)\n",
    "    #print(key + \":\\t\" +value)\n",
    "    print('{:10} - {}'.format(key, value))"
   ]
  },
  {
   "cell_type": "code",
   "execution_count": 250,
   "metadata": {},
   "outputs": [],
   "source": [
    "# my_dictionary.items()"
   ]
  },
  {
   "cell_type": "code",
   "execution_count": 251,
   "metadata": {},
   "outputs": [
    {
     "data": {
      "text/plain": [
       "\"\\nOther dictionary methods\\nclear()\\t    Removes all the elements from the dictionary\\ncopy()\\t    Returns a copy of the dictionary\\nfromkeys()\\tReturns a dictionary with the specified keys and values\\nget()\\t    Returns the value of the specified key\\nitems()\\t    Returns a list containing a tuple for each key value pair\\nkeys()\\t    Returns a list containing the dictionary's keys\\npop()\\t    Removes the element with the specified key\\npopitem()\\tRemoves the last inserted key-value pair\\nsetdefault()Returns the value of the specified key. If the key does not exist: insert the key, with the specified value\\nupdate()\\tUpdates the dictionary with the specified key-value pairs\\nvalues()\\tReturns a list of all the values in the dictionary\\n\""
      ]
     },
     "execution_count": 251,
     "metadata": {},
     "output_type": "execute_result"
    }
   ],
   "source": [
    "'''\n",
    "Other dictionary methods\n",
    "clear()\t    Removes all the elements from the dictionary\n",
    "copy()\t    Returns a copy of the dictionary\n",
    "fromkeys()\tReturns a dictionary with the specified keys and values\n",
    "get()\t    Returns the value of the specified key\n",
    "items()\t    Returns a list containing a tuple for each key value pair\n",
    "keys()\t    Returns a list containing the dictionary's keys\n",
    "pop()\t    Removes the element with the specified key\n",
    "popitem()\tRemoves the last inserted key-value pair\n",
    "setdefault()Returns the value of the specified key. If the key does not exist: insert the key, with the specified value\n",
    "update()\tUpdates the dictionary with the specified key-value pairs\n",
    "values()\tReturns a list of all the values in the dictionary\n",
    "'''"
   ]
  },
  {
   "cell_type": "code",
   "execution_count": 252,
   "metadata": {},
   "outputs": [
    {
     "name": "stdout",
     "output_type": "stream",
     "text": [
      "Would you like to add more items Y/N: n\n",
      "N\n",
      "N\n",
      "all done\n"
     ]
    }
   ],
   "source": [
    "answer = \"Y\"\n",
    "default_dict = my_dictionary\n",
    "while answer.capitalize() == \"Y\":\n",
    "    answer = input(\"Would you like to add more items Y/N: \").upper()\n",
    "    print(answer)\n",
    "    if answer != \"Y\":\n",
    "        print(answer)\n",
    "        break\n",
    "   \n",
    "    # typo, user enters alpha character - which I did at least once\n",
    "    not_int = True\n",
    "    while not_int:\n",
    "        try:\n",
    "            new_terms_num = int(input(\"How many new terms would you like to add? \"))\n",
    "            not_int = False\n",
    "        except ValueError:\n",
    "            print('Please enter a positive integer!')\n",
    "            not_int = True\n",
    "            \n",
    "    if new_terms_num < 0:\n",
    "        print('Please enter a positive integer!')\n",
    "        new_terms_num = int(input(\"How many new terms would you like to add? \"))\n",
    "            \n",
    "        \n",
    "        \n",
    "    \n",
    "    for new_terms in range(0,new_terms_num):\n",
    "        input_term = input(\"Term: \")\n",
    "        print(input_term)\n",
    "        input_definition = input(\"Definition: \") + \"\\n\"\n",
    "        print(input_definition)\n",
    "        new_entry = {input_term: input_definition}\n",
    "        print(new_entry)\n",
    "        \n",
    "        if input_term in my_dictionary.keys():\n",
    "            print(input_term, \" already in dictionary. \")\n",
    "            add_answer = input(\"Do you want to update or make a new key? Answer update or new: \")  \n",
    "            print(add_answer)\n",
    "            if add_answer == \"update\":\n",
    "                print(add_answer, \"updating existing \", input_term)\n",
    "                my_dictionary.update(new_entry)\n",
    "            elif add_answer == \"new\":\n",
    "                input_term = input(\"Term: \") \n",
    "                print(input_term)\n",
    "                input_definition = input(\"Definition: \") + \"\\n\"\n",
    "                print(input_definition)\n",
    "                new_entry = {input_term: input_definition}\n",
    "                print(new_entry)\n",
    "                default_dict.update(new_entry)\n",
    "                print(default_dict)\n",
    "        else:\n",
    "            # not in the dictionary\n",
    "            my_dictionary.update(new_entry)\n",
    "            \n",
    "        new_terms_num += 1\n",
    "\n",
    "    \n",
    "print(\"all done\")\n"
   ]
  },
  {
   "cell_type": "code",
   "execution_count": 253,
   "metadata": {},
   "outputs": [
    {
     "name": "stdout",
     "output_type": "stream",
     "text": [
      "{'term': 'definition\\n', 'break': 'Used to exit a for loop or a while loop.\\n', 'continue': 'Used to skip the current block, and return to the \"for\" or \"while\" statement\\n', 'dictionary': 'A mutable associative array (or dictionary) of key and value pairs. \\n', 'float': 'An immutable floating point number.\\n', 'immutable': 'Cannot be changed after its created.\\n', 'int': 'An immutable integer of unlimited magnitude.\\n', 'pass': 'Needed to create an empty code block\\n', 'set': 'Unordered set, contains no duplicates\\n', 'string': 'Can include numbers, letters, and various symbols and be enclosed by either double or single quotes\\n', 'while': 'Executes a block of code as long as its condition is true.\\n'}\n"
     ]
    }
   ],
   "source": [
    "print(my_dictionary)"
   ]
  },
  {
   "cell_type": "code",
   "execution_count": 254,
   "metadata": {},
   "outputs": [
    {
     "name": "stdout",
     "output_type": "stream",
     "text": [
      "term       - definition\n",
      "\n",
      "break      - Used to exit a for loop or a while loop.\n",
      "\n",
      "continue   - Used to skip the current block, and return to the \"for\" or \"while\" statement\n",
      "\n",
      "dictionary - A mutable associative array (or dictionary) of key and value pairs. \n",
      "\n",
      "float      - An immutable floating point number.\n",
      "\n",
      "immutable  - Cannot be changed after its created.\n",
      "\n",
      "int        - An immutable integer of unlimited magnitude.\n",
      "\n",
      "pass       - Needed to create an empty code block\n",
      "\n",
      "set        - Unordered set, contains no duplicates\n",
      "\n",
      "string     - Can include numbers, letters, and various symbols and be enclosed by either double or single quotes\n",
      "\n",
      "while      - Executes a block of code as long as its condition is true.\n",
      "\n"
     ]
    }
   ],
   "source": [
    "for key, value in my_dictionary.items():\n",
    "    #print(key, value)\n",
    "    #print(key + \":\\t\" +value)\n",
    "    print('{:10} - {}'.format(key, value))"
   ]
  },
  {
   "cell_type": "code",
   "execution_count": 255,
   "metadata": {
    "scrolled": false
   },
   "outputs": [
    {
     "ename": "IndentationError",
     "evalue": "expected an indented block (<ipython-input-255-e83f78c524dd>, line 14)",
     "output_type": "error",
     "traceback": [
      "\u001b[1;36m  File \u001b[1;32m\"<ipython-input-255-e83f78c524dd>\"\u001b[1;36m, line \u001b[1;32m14\u001b[0m\n\u001b[1;33m    print(\"File not accessible\")\u001b[0m\n\u001b[1;37m    ^\u001b[0m\n\u001b[1;31mIndentationError\u001b[0m\u001b[1;31m:\u001b[0m expected an indented block\n"
     ]
    }
   ],
   "source": [
    "# print(path.exists(\"vocablist.txt\"))\n",
    "answer = \"Y\"\n",
    "while answer.capitalize() == \"Y\":\n",
    "    answer = input(\"Do you want to save an output file? Y/N: \").upper()\n",
    "    print(answer)\n",
    "    if answer != \"Y\":\n",
    "        print(answer)\n",
    "        break\n",
    "   \n",
    "    try:\n",
    "        outfile = open(input(\"Enter a file name: \"), \"w\")\n",
    "    \n",
    "    except IOError:\n",
    "    print(\"File not accessible\")\n",
    "    \n",
    "    #outfile.writeline(str(my_dictionary))\n",
    "    for key, value in my_dictionary.items():\n",
    "        line = key + \"\\t\" + value\n",
    "    print(line)\n",
    "        outfile.write(line)\n",
    "    \n",
    "    outfile.close()"
   ]
  },
  {
   "cell_type": "code",
   "execution_count": null,
   "metadata": {},
   "outputs": [],
   "source": [
    "print(my_dictionary)"
   ]
  },
  {
   "cell_type": "code",
   "execution_count": null,
   "metadata": {},
   "outputs": [],
   "source": []
  },
  {
   "cell_type": "code",
   "execution_count": null,
   "metadata": {},
   "outputs": [],
   "source": []
  },
  {
   "cell_type": "code",
   "execution_count": null,
   "metadata": {},
   "outputs": [],
   "source": []
  }
 ],
 "metadata": {
  "kernelspec": {
   "display_name": "Python 3",
   "language": "python",
   "name": "python3"
  },
  "language_info": {
   "codemirror_mode": {
    "name": "ipython",
    "version": 3
   },
   "file_extension": ".py",
   "mimetype": "text/x-python",
   "name": "python",
   "nbconvert_exporter": "python",
   "pygments_lexer": "ipython3",
   "version": "3.8.8"
  }
 },
 "nbformat": 4,
 "nbformat_minor": 2
}

{
 "cells": [
  {
   "cell_type": "code",
   "execution_count": 1,
   "metadata": {},
   "outputs": [
    {
     "data": {
      "text/plain": [
       "'\\nProgram 3 part 2\\n1) create a dictionary from a vocabulary list\\n2) if the user enters a file name that does not exist, catch the error and re-prompt \\n      for the correct file name\\n3) read in existing dictionary file\\n4) term is the key; definition is the value\\n5) ask user if they would like to add additional terms and definitions,\\n6) and how many if Y is the response\\n7) if a duplicate term is entered notify the user and ask if the users would like to \\n        update the definition  BEFORE asking for the definition\\n8) end by printing the list of terms and definitions before asking the user for a \\n        file name to save the new dictionary. **DO NOTE write over the original \\n        unless enterd by the user.\\n9) text (txt) file, tap separated\\n'"
      ]
     },
     "execution_count": 1,
     "metadata": {},
     "output_type": "execute_result"
    }
   ],
   "source": [
    "'''\n",
    "Program 3 part 2\n",
    "1) create a dictionary from a vocabulary list\n",
    "2) if the user enters a file name that does not exist, catch the error and re-prompt \n",
    "      for the correct file name\n",
    "3) read in existing dictionary file\n",
    "4) term is the key; definition is the value\n",
    "5) ask user if they would like to add additional terms and definitions,\n",
    "6) and how many if Y is the response\n",
    "7) if a duplicate term is entered notify the user and ask if the users would like to \n",
    "        update the definition  BEFORE asking for the definition\n",
    "8) end by printing the list of terms and definitions before asking the user for a \n",
    "        file name to save the new dictionary. **DO NOTE write over the original \n",
    "        unless enterd by the user.\n",
    "9) text (txt) file, tap separated\n",
    "'''"
   ]
  },
  {
   "cell_type": "code",
   "execution_count": null,
   "metadata": {},
   "outputs": [],
   "source": [
    "def add_term(x, y):\n",
    "    new_key = 'IDLE'\n",
    "    new_value = \"Integrated development environment\"\n",
    "    \n",
    "    if new_key in inp_dict.key(): \n",
    "        print(\"The key is present.\\nDo you want to update or make a new key\") \n",
    "        \n",
    "    else: \n",
    "        print(\"The key does not exist in the dictionary.\") \n",
    "        \n",
    "    my_dictionary[new_key]=new_value"
   ]
  },
  {
   "cell_type": "code",
   "execution_count": 3,
   "metadata": {},
   "outputs": [
    {
     "name": "stdout",
     "output_type": "stream",
     "text": [
      "Please enter a vocabulary file: vocablist.txt\n",
      "Open success!\n"
     ]
    }
   ],
   "source": [
    "\n",
    "# read-only is the default but set to be careful\n",
    "#vocab_file = open(input(\"Please enter a vocabulary file: \"), \"r+\")\n",
    "\n",
    "wrong_file = True\n",
    "\n",
    "while wrong_file:\n",
    "    try:\n",
    "        vocab_file = open(input(\"Please enter a vocabulary file: \"))\n",
    "        print('Open success!')\n",
    "        wrong_file = False  #  file is found, not wrong file\n",
    "    except IOError:\n",
    "        print('File not found! Please try again.')\n",
    "        wrong_file = True    # file not found, wrong file"
   ]
  },
  {
   "cell_type": "code",
   "execution_count": 5,
   "metadata": {},
   "outputs": [],
   "source": [
    "my_dictionary = {}\n",
    "for line in vocab_file:\n",
    "    key, value = line.split('\\t')    \n",
    "    my_dictionary[key] = value"
   ]
  },
  {
   "cell_type": "code",
   "execution_count": 6,
   "metadata": {},
   "outputs": [
    {
     "name": "stdout",
     "output_type": "stream",
     "text": [
      "{'break': 'Used to exit a for loop or a while loop.\\n', 'continue': 'Used to skip the current block, and return to the \"for\" or \"while\" statement\\n', 'dictionary': 'A mutable associative array (or dictionary) of key and value pairs. \\n', 'float': 'An immutable floating point number.\\n', 'immutable': 'Cannot be changed after its created.\\n', 'int': 'An immutable integer of unlimited magnitude.\\n', 'pass': 'Needed to create an empty code block\\n', 'set': 'Unordered set, contains no duplicates\\n', 'string': 'Can include numbers, letters, and various symbols and be enclosed by either double or single quotes\\n', 'while': 'Executes a block of code as long as its condition is true.\\n'}\n"
     ]
    }
   ],
   "source": [
    "print(my_dictionary)"
   ]
  },
  {
   "cell_type": "code",
   "execution_count": 7,
   "metadata": {},
   "outputs": [
    {
     "name": "stdout",
     "output_type": "stream",
     "text": [
      "break      - Used to exit a for loop or a while loop.\n",
      "\n",
      "continue   - Used to skip the current block, and return to the \"for\" or \"while\" statement\n",
      "\n",
      "dictionary - A mutable associative array (or dictionary) of key and value pairs. \n",
      "\n",
      "float      - An immutable floating point number.\n",
      "\n",
      "immutable  - Cannot be changed after its created.\n",
      "\n",
      "int        - An immutable integer of unlimited magnitude.\n",
      "\n",
      "pass       - Needed to create an empty code block\n",
      "\n",
      "set        - Unordered set, contains no duplicates\n",
      "\n",
      "string     - Can include numbers, letters, and various symbols and be enclosed by either double or single quotes\n",
      "\n",
      "while      - Executes a block of code as long as its condition is true.\n",
      "\n"
     ]
    }
   ],
   "source": [
    "for key, value in my_dictionary.items():\n",
    "    #print(key, value)\n",
    "    #print(key + \":\\t\" +value)\n",
    "    print('{:10} - {}'.format(key, value))"
   ]
  },
  {
   "cell_type": "code",
   "execution_count": 8,
   "metadata": {},
   "outputs": [
    {
     "name": "stdout",
     "output_type": "stream",
     "text": [
      "There are 10 terms in this vocabulary list: \n"
     ]
    }
   ],
   "source": [
    "print(\"There are {} terms in this vocabulary list: \".format(len(my_dictionary)))"
   ]
  },
  {
   "cell_type": "code",
   "execution_count": 9,
   "metadata": {},
   "outputs": [],
   "source": [
    "# my_dictionary.items()"
   ]
  },
  {
   "cell_type": "code",
   "execution_count": 10,
   "metadata": {},
   "outputs": [
    {
     "data": {
      "text/plain": [
       "\"\\nOther dictionary methods\\nclear()\\t    Removes all the elements from the dictionary\\ncopy()\\t    Returns a copy of the dictionary\\nfromkeys()\\tReturns a dictionary with the specified keys and values\\nget()\\t    Returns the value of the specified key\\nitems()\\t    Returns a list containing a tuple for each key value pair\\nkeys()\\t    Returns a list containing the dictionary's keys\\npop()\\t    Removes the element with the specified key\\npopitem()\\tRemoves the last inserted key-value pair\\nsetdefault()Returns the value of the specified key. If the key does not exist: insert the key, with the specified value\\nupdate()\\tUpdates the dictionary with the specified key-value pairs\\nvalues()\\tReturns a list of all the values in the dictionary\\n\""
      ]
     },
     "execution_count": 10,
     "metadata": {},
     "output_type": "execute_result"
    }
   ],
   "source": [
    "'''\n",
    "Other dictionary methods\n",
    "clear()\t    Removes all the elements from the dictionary\n",
    "copy()\t    Returns a copy of the dictionary\n",
    "fromkeys()\tReturns a dictionary with the specified keys and values\n",
    "get()\t    Returns the value of the specified key\n",
    "items()\t    Returns a list containing a tuple for each key value pair\n",
    "keys()\t    Returns a list containing the dictionary's keys\n",
    "pop()\t    Removes the element with the specified key\n",
    "popitem()\tRemoves the last inserted key-value pair\n",
    "setdefault()Returns the value of the specified key. If the key does not exist: insert the key, with the specified value\n",
    "update()\tUpdates the dictionary with the specified key-value pairs\n",
    "values()\tReturns a list of all the values in the dictionary\n",
    "'''"
   ]
  },
  {
   "cell_type": "code",
   "execution_count": 17,
   "metadata": {},
   "outputs": [
    {
     "data": {
      "text/plain": [
       "dict_items([('break', 'Used to exit a for loop or a while loop.\\n'), ('continue', 'Used to skip the current block, and return to the \"for\" or \"while\" statement\\n'), ('dictionary', 'A mutable associative array (or dictionary) of key and value pairs. \\n'), ('float', 'An immutable floating point number.\\n'), ('immutable', 'Cannot be changed after its created.\\n'), ('int', 'An immutable integer of unlimited magnitude.\\n'), ('pass', 'Needed to create an empty code block\\n'), ('set', 'Unordered set, contains no duplicates\\n'), ('string', 'Can include numbers, letters, and various symbols and be enclosed by either double or single quotes\\n'), ('while', 'Executes a block of code as long as its condition is true.\\n'), ('IDLE', 'Integrated development environment')])"
      ]
     },
     "execution_count": 17,
     "metadata": {},
     "output_type": "execute_result"
    }
   ],
   "source": [
    "my_dictionary.items()"
   ]
  },
  {
   "cell_type": "code",
   "execution_count": 12,
   "metadata": {},
   "outputs": [
    {
     "name": "stdout",
     "output_type": "stream",
     "text": [
      "Do you want to add more items Y/N: y\n",
      "y\n",
      "Do you want to add more items Y/N: y\n",
      "y\n",
      "Do you want to add more items Y/N: n\n",
      "n\n",
      "all done\n"
     ]
    }
   ],
   "source": [
    "answer = \"Y\"\n",
    "while answer.capitalize() == \"Y\":\n",
    "    answer = input(\"Do you want to add more items Y/N: \")\n",
    "    answer.capitalize\n",
    "    #print(answer)\n",
    "    add_term(x, y)\n",
    "print(\"all done\")"
   ]
  },
  {
   "cell_type": "code",
   "execution_count": null,
   "metadata": {},
   "outputs": [],
   "source": []
  },
  {
   "cell_type": "code",
   "execution_count": null,
   "metadata": {},
   "outputs": [],
   "source": []
  }
 ],
 "metadata": {
  "kernelspec": {
   "display_name": "Python 3",
   "language": "python",
   "name": "python3"
  },
  "language_info": {
   "codemirror_mode": {
    "name": "ipython",
    "version": 3
   },
   "file_extension": ".py",
   "mimetype": "text/x-python",
   "name": "python",
   "nbconvert_exporter": "python",
   "pygments_lexer": "ipython3",
   "version": "3.8.8"
  }
 },
 "nbformat": 4,
 "nbformat_minor": 2
}

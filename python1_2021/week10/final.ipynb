{
 "cells": [
  {
   "cell_type": "code",
   "execution_count": 41,
   "id": "8f068870",
   "metadata": {},
   "outputs": [
    {
     "name": "stdout",
     "output_type": "stream",
     "text": [
      "Current working directory: D:\\work-related\\python_class\\python1_2021\\week06\n"
     ]
    }
   ],
   "source": [
    "import os\n",
    "cwd = os.getcwd()\n",
    "print(\"Current working directory: {0}\".format(cwd))"
   ]
  },
  {
   "cell_type": "code",
   "execution_count": 43,
   "id": "d20d2a22",
   "metadata": {},
   "outputs": [
    {
     "name": "stdout",
     "output_type": "stream",
     "text": [
      "Current working directory: D:\\work-related\\python_class\\python1_2021\\week10\n"
     ]
    }
   ],
   "source": [
    "os.chdir(\"D:\\work-related\\python_class\\python1_2021\\week10\")\n",
    "print(\"Current working directory: {0}\".format(os.getcwd()))"
   ]
  },
  {
   "cell_type": "code",
   "execution_count": null,
   "id": "276d314f",
   "metadata": {},
   "outputs": [
    {
     "name": "stdout",
     "output_type": "stream",
     "text": [
      "What's the short story path? btw\n",
      "['Adversary', 'ancestral', 'aristocrat', 'aristocratic', 'aversion', 'babbled', 'bade', 'baseness', 'boughs', 'certitude', 'coquetry', 'decency', 'dejection', 'delirium', 'deprecate', 'desist', 'despondency', 'destitute', 'desultory', 'devoid', 'dismal', 'dispiriting', 'elicit', 'fatuity', 'forbearance', 'globule', 'imperious', 'impertinence', 'impropriety', 'inaudible', 'indisposition', 'inhospitality', 'irreclaimable', 'irresolution', 'malign', 'mandate', 'melancholy', 'monologue', 'monotonous', 'murk', 'obstinacy', 'occult', 'penitence', 'persevered', 'perversity', 'poignant', 'portents', 'presages', 'prescience', 'proffered', 'rascally', 'rebuke', 'renouncing', 'reparation', 'repose', 'resentful', 'retaliation', 'reverence', 'rill', 'scuttled', 'sentimentalist', 'stupor', 'subtle', 'susurration', 'timidity', 'torrents', 'traceable', 'trance', 'triad', 'unconquerable', 'utterance', 'vagary', 'vulgarize']\n",
      "73\n",
      "Would you like to update a definition (Y/N)?y\n",
      "Term: occult\n",
      "occult\n",
      "Definition: hidden\n",
      "Current definition:  \n",
      "Current definition:  hidden\n"
     ]
    }
   ],
   "source": [
    "# try same with BeautifulSoup\n",
    "# part one get the story\n",
    "from bs4 import BeautifulSoup\n",
    "from urllib.request import urlopen\n",
    "from re import findall\n",
    "import re\n",
    "from urllib.error import HTTPError\n",
    "\n",
    "#def make_dictionary_list():\n",
    "    \n",
    "\n",
    "# term list\n",
    "term_list = []\n",
    "# dictionary \n",
    "dictionary_list = {}\n",
    "\n",
    "\n",
    "# 1) get the short story path\n",
    "url = ' http://classicshorts.com/stories/'\n",
    "#fullURL = url + story + \".html\"\n",
    "#print(fullURL)\n",
    "\n",
    "# if type or not found:  HTTPError: HTTP Error 404: Not Found\n",
    "wrong_site = True\n",
    "while wrong_site:\n",
    "    try:  \n",
    "        story = input(\"What's the short story path? \")\n",
    "        fullURL = url + story + \".html\"\n",
    "        response = urlopen(fullURL)\n",
    "        soup = BeautifulSoup(response, 'html.parser')\n",
    "        definition_line = soup.find_all(href=re.compile(\"dictionary\"))\n",
    "        \n",
    "        # find every href link that has dictionary in it\n",
    "        for line in soup.find_all(href=re.compile(\"dictionary\")):\n",
    "            #term = str(line.contents )\n",
    "            # first get the line.contents, make sure it's a string and then reg expt to blank out non alpha characters\n",
    "            term = re.sub(r\"[^a-zA-Z0-9]\",\"\", str(line.contents ))\n",
    "            term_list.append(term)\n",
    "            \n",
    "        #print(term_list)\n",
    "        #print('\\n\\n')\n",
    "        # remove duplicates\n",
    "        term_list = list(set(term_list))\n",
    "        term_list.sort()\n",
    "        print(term_list)\n",
    "        \n",
    "        # make a dictionary from the term list\n",
    "        dictionary_list = {}.fromkeys(term_list, '')\n",
    "        print(len(dictionary_list))\n",
    "\n",
    "        update_def = input(\"Would you like to update a definition (Y/N)?\")\n",
    "        if update_def.upper() == \"Y\":\n",
    "            term = input(\"Term: \")\n",
    "            print(term)\n",
    "            definition = input(\"Definition: \")\n",
    "            print(\"Current definition: \", dictionary_list[term])\n",
    "            dictionary_list.update({term: definition})\n",
    "            # get current definition\n",
    "            print(\"Current definition: \", dictionary_list[term])\n",
    "            \n",
    "           \n",
    "            \n",
    "            \n",
    "        else:\n",
    "            print(\"done with update\")\n",
    "        \n",
    "        save_file = input(\"Do you want to save a definition file? Y/N\")\n",
    "        if save_file.upper() == \"Y\":            \n",
    "            outfile = open(input(\"What would you like to call the output file: \"), \"w\")\n",
    "            #print(len(dictionary_list))\n",
    "            for key, value in dictionary_list.items():\n",
    "                line = '{:15} - {}\\n'.format(key, value)\n",
    "                #print(line)\n",
    "                outfile.write(line)\n",
    "            outfile.close() \n",
    "            print(\"File saved!\")\n",
    "        else:\n",
    "            print(\"Done!\")\n",
    "            break\n",
    "                    \n",
    "        #print(fullURL) # debugging code\n",
    "        wrong_site = False  #  page is found, not wrong file\n",
    "        \n",
    "    except HTTPError as e:\n",
    "        wrong_site = True    # site not found, wrong file \n",
    "        #print(e)\n",
    "        print(fullURL, \" not found\")\n",
    "        try_again = input(\"Do you want to try again or quit? Y/N\")\n",
    "        if try_again.upper() != \"Y\":\n",
    "            print(\"ok, exiting program\")\n",
    "            break\n",
    "        \n"
   ]
  },
  {
   "cell_type": "code",
   "execution_count": null,
   "id": "2854be8b",
   "metadata": {},
   "outputs": [],
   "source": []
  },
  {
   "cell_type": "code",
   "execution_count": null,
   "id": "a2d286dd",
   "metadata": {},
   "outputs": [],
   "source": []
  }
 ],
 "metadata": {
  "kernelspec": {
   "display_name": "Python 3",
   "language": "python",
   "name": "python3"
  },
  "language_info": {
   "codemirror_mode": {
    "name": "ipython",
    "version": 3
   },
   "file_extension": ".py",
   "mimetype": "text/x-python",
   "name": "python",
   "nbconvert_exporter": "python",
   "pygments_lexer": "ipython3",
   "version": "3.8.8"
  }
 },
 "nbformat": 4,
 "nbformat_minor": 5
}

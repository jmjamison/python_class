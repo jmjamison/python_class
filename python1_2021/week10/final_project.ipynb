{
 "cells": [
  {
   "cell_type": "code",
   "execution_count": null,
   "id": "b59efab1",
   "metadata": {},
   "outputs": [],
   "source": [
    "from urllib.request import urlopen\n",
    "from urllib.parse import urljoin\n",
    "from html.parser import HTMLParser\n",
    "from re import findall\n",
    "import re"
   ]
  },
  {
   "cell_type": "code",
   "execution_count": null,
   "id": "44c3cc76",
   "metadata": {},
   "outputs": [],
   "source": [
    "from urllib.parse import urljoin\n",
    "from html.parser import HTMLParser\n",
    "class DefinitionList(HTMLParser):\n",
    "    'collects hyperlink URLs into a list'\n",
    "\n",
    "    def __init__(self, url):\n",
    "        'initializes parser, the url, and a list'\n",
    "        HTMLParser.__init__(self)\n",
    "        self.url = url\n",
    "        self.links = []\n",
    "\n",
    "        # Solution to Practice Problem 11.3        \n",
    "        self.text = ''\n",
    "        \n",
    "    def handle_starttag(self, tag, attrs):\n",
    "        'collects hyperlink URLs in their absolute format'\n",
    "        if tag == 'a':\n",
    "            for attr in attrs:\n",
    "                if attr[0] == 'href':\n",
    "                    # construct absolute URL\n",
    "                    absolute = urljoin(self.url, attr[1])\n",
    "                    if absolute[:4] == 'http': # collect HTTP URLs\n",
    "                        self.links.append(absolute)\n",
    "                    \n",
    "                    \n",
    "                        \n",
    "    # Solution to Practice Problem 11.3        \n",
    "    def handle_data(self, data):\n",
    "        'collects and concatenates text data'\n",
    "        self.text += data\n",
    "\n",
    "    def getLinks(self):\n",
    "        'returns hyperlinks URLs in their absolute format'\n",
    "        return self.links\n",
    "\n",
    "    # Solution to Practice Problem 11.3\n",
    "    def getData(self):\n",
    "        'returns the concatenation of all text data'\n",
    "        return self.text\n"
   ]
  },
  {
   "cell_type": "code",
   "execution_count": null,
   "id": "37bd2518",
   "metadata": {},
   "outputs": [],
   "source": [
    "url = ' http://classicshorts.com/stories/'"
   ]
  },
  {
   "cell_type": "code",
   "execution_count": null,
   "id": "1c298fa6",
   "metadata": {},
   "outputs": [],
   "source": [
    "# story = \"btw\" + \".html\"\n",
    "story = input(\"What's the short story path? \")"
   ]
  },
  {
   "cell_type": "code",
   "execution_count": null,
   "id": "9987e13c",
   "metadata": {},
   "outputs": [],
   "source": [
    "story"
   ]
  },
  {
   "cell_type": "code",
   "execution_count": null,
   "id": "3debff66",
   "metadata": {},
   "outputs": [],
   "source": [
    "fullURL = url + story + \".html\"\n",
    "print(fullURL)"
   ]
  },
  {
   "cell_type": "code",
   "execution_count": null,
   "id": "b2b9a923",
   "metadata": {},
   "outputs": [],
   "source": [
    "# find the vocabulary words\n",
    "# <a href='http://dictionary.reference.com/browse/proffer' target=0>"
   ]
  },
  {
   "cell_type": "code",
   "execution_count": null,
   "id": "6cedc206",
   "metadata": {},
   "outputs": [],
   "source": [
    "#print(fullURL)  #debugging code\n",
    "resource = urlopen(fullURL)\n",
    "content = resource.read().decode()\n",
    "definition_list = DefinitionList(fullURL)\n",
    "definition_list.feed(content)\n",
    "#print(content)\n",
    "for link in definition_list.getLinks():\n",
    "    # explain folding this into 2 lines\n",
    "    #line = str(findall('.browse/[a-zA-Z]+', link)).split(\"/\")\n",
    "    #def_line = str(line[len(line)-1:])\n",
    "    #def_line = re.sub(r\"[^a-zA-Z0-9]\",\"\", def_line)\n",
    "    line = str(findall('.browse/[a-zA-Z]+', link)).split(\"/\")\n",
    "    def_line = re.sub(r\"[^a-zA-Z0-9]\",\"\", str(line[len(line)-1:]))\n",
    "    print(def_line)\n",
    "    #print(line)  # debugging code\n",
    "    #print(link)\n",
    "    # next: write to [story title]"
   ]
  },
  {
   "cell_type": "code",
   "execution_count": null,
   "id": "c15296ad",
   "metadata": {},
   "outputs": [],
   "source": [
    "type(line)"
   ]
  },
  {
   "cell_type": "code",
   "execution_count": null,
   "id": "c96c1054",
   "metadata": {
    "scrolled": true
   },
   "outputs": [],
   "source": [
    "# try same with BeautifulSoup\n",
    "# part one get the story\n",
    "from bs4 import BeautifulSoup\n",
    "from urllib.request import urlopen\n",
    "from re import findall\n",
    "import re\n",
    "\n",
    "term_list = []\n",
    "\n",
    "# 1) get the short story path\n",
    "url = ' http://classicshorts.com/stories/'\n",
    "# story = \"btw\" + \".html\"\n",
    "story = input(\"What's the short story path? \")\n",
    "# typo, user enters alpha character - which I did at least once\n",
    "fullURL = url + story + \".html\"\n",
    "print(fullURL)\n",
    "# if type or not found:  HTTPError: HTTP Error 404: Not Found\n",
    "wrong_file = True\n",
    "\n",
    "while wrong_file:\n",
    "    try:\n",
    "        response = urlopen(fullURL)\n",
    "        soup = BeautifulSoup(response, 'html.parser')\n",
    "\n",
    "        definition_line = soup.find_all(href=re.compile(\"dictionary\"))\n",
    "\n",
    "        for line in soup.find_all(href=re.compile(\"dictionary\")):\n",
    "            #term = str(line.contents )\n",
    "            term = re.sub(r\"[^a-zA-Z0-9]\",\"\", str(line.contents ))\n",
    "            #print(term, type(term)) debugging code\n",
    "            term_list.append(term)    \n",
    "        print(term_list)    # debugging code        \n",
    "    except HTTPError:\n",
    "        print('no stry path for ', story, ' Please try again.')\n",
    "        wrong_file = True    # file not found, wrong file\n",
    "        \n",
    "\n",
    "\n",
    "#print(fullURL) # debugging code\n",
    "\n",
    "\n"
   ]
  },
  {
   "cell_type": "code",
   "execution_count": null,
   "id": "06196974",
   "metadata": {},
   "outputs": [],
   "source": []
  },
  {
   "cell_type": "code",
   "execution_count": null,
   "id": "1ebd20d6",
   "metadata": {},
   "outputs": [],
   "source": []
  },
  {
   "cell_type": "code",
   "execution_count": null,
   "id": "42d8533a",
   "metadata": {},
   "outputs": [],
   "source": []
  }
 ],
 "metadata": {
  "kernelspec": {
   "display_name": "Python 3",
   "language": "python",
   "name": "python3"
  },
  "language_info": {
   "codemirror_mode": {
    "name": "ipython",
    "version": 3
   },
   "file_extension": ".py",
   "mimetype": "text/x-python",
   "name": "python",
   "nbconvert_exporter": "python",
   "pygments_lexer": "ipython3",
   "version": "3.8.8"
  }
 },
 "nbformat": 4,
 "nbformat_minor": 5
}

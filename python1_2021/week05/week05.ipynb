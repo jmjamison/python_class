{
 "cells": [
  {
   "cell_type": "code",
   "execution_count": null,
   "id": "bec6f0e5",
   "metadata": {},
   "outputs": [],
   "source": [
    "# first section 4.4 Errors and exceptions\n",
    "# ch 5 Execution Control Structors"
   ]
  },
  {
   "cell_type": "code",
   "execution_count": 22,
   "id": "6b8d4430",
   "metadata": {},
   "outputs": [
    {
     "name": "stdout",
     "output_type": "stream",
     "text": [
      "Enter height (inches): 75\n",
      "Enter weight (pounds): )140\n",
      "140\n",
      "75\n",
      "17.49688888888889\n",
      "Underweight\n"
     ]
    }
   ],
   "source": [
    "# practice proglem 5.1\n",
    "# myBMI(height, weight)  \n",
    "# bmi < 18.5 print 'Underweight'; 18.5 <= bmi bmi <25 print 'Normal'; bmi >= 25 print 'Overweight\n",
    "\n",
    "\n",
    "def myBMI(wt, ht): \n",
    "    \n",
    "    weight = int(wt)\n",
    "    print(weight)\n",
    "    \n",
    "    height = int(ht)\n",
    "    print(height)\n",
    "    \n",
    "    bmi = weight*703/height**2\n",
    "    print(bmi)\n",
    "    \n",
    "    if bmi < 18.5:\n",
    "        print(\"Underweight\")\n",
    "    # elif bmi >= 18.5 and bmi < 25:\n",
    "    elif bmi < 25:\n",
    "        print(\"Normal\")\n",
    "    else:     # bmi < 18.5:\n",
    "        print(\"Overweight\")\n",
    "\n",
    "\n",
    "height = input(\"Enter height (inches): \")\n",
    "weight = input(\"Enter weight (pounds): )\")\n",
    "\n",
    "myBMI(weight, height)\n",
    "\n"
   ]
  },
  {
   "cell_type": "code",
   "execution_count": 28,
   "id": "fd962121",
   "metadata": {},
   "outputs": [
    {
     "name": "stdout",
     "output_type": "stream",
     "text": [
      "Enter numger: 6\n",
      "2 4 8 16 32 64 "
     ]
    }
   ],
   "source": [
    "# practice problem 5.2\n",
    "# function powers() takes a positive integer n as input, prints all powers of 2 from 2**1 to 2**n\n",
    "# powers(6)  result: 2 4 8 16 32 64\n",
    "\n",
    "def powers(num):\n",
    "    n = int(num)\n",
    "    for i in range(1, n+1):\n",
    "        print(2**i, end= ' ')\n",
    "\n",
    "num = input(\"Enter numger: \")\n",
    "powers(num)"
   ]
  },
  {
   "cell_type": "code",
   "execution_count": 29,
   "id": "98e963bf",
   "metadata": {},
   "outputs": [],
   "source": [
    "pets = ['cat', 'dog', 'fish', 'bird']"
   ]
  },
  {
   "cell_type": "code",
   "execution_count": 32,
   "id": "2664f578",
   "metadata": {},
   "outputs": [
    {
     "name": "stdout",
     "output_type": "stream",
     "text": [
      "0 3 cat\n",
      "1 3 dog\n",
      "2 4 fish\n",
      "3 4 bird\n"
     ]
    }
   ],
   "source": [
    "for i in range(len(pets)):\n",
    "    print(i, len(pets[i]), pets[i])"
   ]
  },
  {
   "cell_type": "code",
   "execution_count": 35,
   "id": "9b333738",
   "metadata": {},
   "outputs": [
    {
     "name": "stdout",
     "output_type": "stream",
     "text": [
      "cat\n",
      "dog\n",
      "fish\n",
      "bird\n"
     ]
    }
   ],
   "source": [
    "for i in pets:\n",
    "    print(i)"
   ]
  },
  {
   "cell_type": "code",
   "execution_count": 40,
   "id": "a78a3d90",
   "metadata": {},
   "outputs": [],
   "source": [
    "def sorted(lst):\n",
    "    'returns True if sequence lst is increasing, False otherwise'\n",
    "    for i in range(0, len(lst)-1): # i = 0, , 1, 2\n",
    "        if lst[i] > lst[i + 1]:\n",
    "            return False\n",
    "        return True"
   ]
  },
  {
   "cell_type": "code",
   "execution_count": 45,
   "id": "b8b49be5",
   "metadata": {},
   "outputs": [],
   "source": [
    "# problem 5.3 answer\n",
    "# write a function arithmetic() takes a list of integers and returns True if that form  an arithmetic sequence\n",
    "#     False if not\n",
    "\n",
    "def arithmetic(lst):\n",
    "    if len(list) < 2: # a squence of length < 2\n",
    "        return True\n",
    "    \n",
    "    diff = lst[1] - lst[0]:\n",
    "        for i in range(1, len(lst)-1):\n",
    "            return False\n",
    "    return True"
   ]
  },
  {
   "cell_type": "code",
   "execution_count": 47,
   "id": "7e82c67a",
   "metadata": {},
   "outputs": [
    {
     "name": "stdout",
     "output_type": "stream",
     "text": [
      "0 1 2 3 4 "
     ]
    }
   ],
   "source": [
    "for i in range(5):\n",
    "    print(i, end= ' ')\n",
    "    "
   ]
  },
  {
   "cell_type": "code",
   "execution_count": 49,
   "id": "c77bec83",
   "metadata": {},
   "outputs": [
    {
     "name": "stdout",
     "output_type": "stream",
     "text": [
      "0 1 2 3 4 0 1 2 3 4 0 1 2 3 4 0 1 2 3 4 0 1 2 3 4 "
     ]
    }
   ],
   "source": [
    "for i in range(5):\n",
    "    for i in range(5):\n",
    "        print(i, end= ' ')\n",
    "    "
   ]
  },
  {
   "cell_type": "code",
   "execution_count": 53,
   "id": "059782a6",
   "metadata": {},
   "outputs": [
    {
     "name": "stdout",
     "output_type": "stream",
     "text": [
      "0 1 2 3 4 \n",
      "0 1 2 3 4 \n",
      "0 1 2 3 4 \n",
      "0 1 2 3 4 \n",
      "0 1 2 3 4 \n"
     ]
    }
   ],
   "source": [
    "#def nested(5):\n",
    "for j in range(5):\n",
    "    for i in range(5):\n",
    "        print(i, end=' ')\n",
    "    print()"
   ]
  },
  {
   "cell_type": "code",
   "execution_count": 54,
   "id": "fe797b9d",
   "metadata": {},
   "outputs": [
    {
     "name": "stdout",
     "output_type": "stream",
     "text": [
      "0 1 2 3 4 5 \n",
      "0 1 2 3 4 5 \n",
      "0 1 2 3 4 5 \n",
      "0 1 2 3 4 5 \n",
      "0 1 2 3 4 5 \n"
     ]
    }
   ],
   "source": [
    "# def nested2\n",
    "for j in range(5):\n",
    "    for i in range(5+1):\n",
    "        print(i, end= ' ')\n",
    "    print()"
   ]
  },
  {
   "cell_type": "code",
   "execution_count": 1,
   "id": "2be0883a",
   "metadata": {},
   "outputs": [],
   "source": [
    "# problem 5.8 bubble sort answer\n",
    "def add2D(t1, t2):\n",
    "    nrows = len(t1)\n",
    "    ncols = len(t1[0])\n",
    "    for i in range(ncols):\n",
    "        t1[i][j] += t2[i][j]"
   ]
  },
  {
   "cell_type": "code",
   "execution_count": 2,
   "id": "e60a223c",
   "metadata": {},
   "outputs": [
    {
     "ename": "TypeError",
     "evalue": "object of type 'int' has no len()",
     "output_type": "error",
     "traceback": [
      "\u001b[1;31m---------------------------------------------------------------------------\u001b[0m",
      "\u001b[1;31mTypeError\u001b[0m                                 Traceback (most recent call last)",
      "\u001b[1;32m<ipython-input-2-a696a9b4543c>\u001b[0m in \u001b[0;36m<module>\u001b[1;34m\u001b[0m\n\u001b[1;32m----> 1\u001b[1;33m \u001b[0madd2D\u001b[0m\u001b[1;33m(\u001b[0m\u001b[1;36m7\u001b[0m\u001b[1;33m,\u001b[0m \u001b[1;36m9\u001b[0m\u001b[1;33m)\u001b[0m\u001b[1;33m\u001b[0m\u001b[1;33m\u001b[0m\u001b[0m\n\u001b[0m",
      "\u001b[1;32m<ipython-input-1-190988ad0a4e>\u001b[0m in \u001b[0;36madd2D\u001b[1;34m(t1, t2)\u001b[0m\n\u001b[0;32m      1\u001b[0m \u001b[1;31m# problem 5.8 bubble sort answer\u001b[0m\u001b[1;33m\u001b[0m\u001b[1;33m\u001b[0m\u001b[1;33m\u001b[0m\u001b[0m\n\u001b[0;32m      2\u001b[0m \u001b[1;32mdef\u001b[0m \u001b[0madd2D\u001b[0m\u001b[1;33m(\u001b[0m\u001b[0mt1\u001b[0m\u001b[1;33m,\u001b[0m \u001b[0mt2\u001b[0m\u001b[1;33m)\u001b[0m\u001b[1;33m:\u001b[0m\u001b[1;33m\u001b[0m\u001b[1;33m\u001b[0m\u001b[0m\n\u001b[1;32m----> 3\u001b[1;33m     \u001b[0mnrows\u001b[0m \u001b[1;33m=\u001b[0m \u001b[0mlen\u001b[0m\u001b[1;33m(\u001b[0m\u001b[0mt1\u001b[0m\u001b[1;33m)\u001b[0m\u001b[1;33m\u001b[0m\u001b[1;33m\u001b[0m\u001b[0m\n\u001b[0m\u001b[0;32m      4\u001b[0m     \u001b[0mncols\u001b[0m \u001b[1;33m=\u001b[0m \u001b[0mlen\u001b[0m\u001b[1;33m(\u001b[0m\u001b[0mt1\u001b[0m\u001b[1;33m[\u001b[0m\u001b[1;36m0\u001b[0m\u001b[1;33m]\u001b[0m\u001b[1;33m)\u001b[0m\u001b[1;33m\u001b[0m\u001b[1;33m\u001b[0m\u001b[0m\n\u001b[0;32m      5\u001b[0m     \u001b[1;32mfor\u001b[0m \u001b[0mi\u001b[0m \u001b[1;32min\u001b[0m \u001b[0mrange\u001b[0m\u001b[1;33m(\u001b[0m\u001b[0mncols\u001b[0m\u001b[1;33m)\u001b[0m\u001b[1;33m:\u001b[0m\u001b[1;33m\u001b[0m\u001b[1;33m\u001b[0m\u001b[0m\n",
      "\u001b[1;31mTypeError\u001b[0m: object of type 'int' has no len()"
     ]
    }
   ],
   "source": [
    "add2D(7, 9)"
   ]
  },
  {
   "cell_type": "code",
   "execution_count": null,
   "id": "5fa3e779",
   "metadata": {},
   "outputs": [],
   "source": []
  }
 ],
 "metadata": {
  "kernelspec": {
   "display_name": "Python 3",
   "language": "python",
   "name": "python3"
  },
  "language_info": {
   "codemirror_mode": {
    "name": "ipython",
    "version": 3
   },
   "file_extension": ".py",
   "mimetype": "text/x-python",
   "name": "python",
   "nbconvert_exporter": "python",
   "pygments_lexer": "ipython3",
   "version": "3.8.8"
  }
 },
 "nbformat": 4,
 "nbformat_minor": 5
}

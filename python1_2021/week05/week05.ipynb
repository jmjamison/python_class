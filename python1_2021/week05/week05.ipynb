{
 "cells": [
  {
   "cell_type": "code",
   "execution_count": null,
   "metadata": {},
   "outputs": [],
   "source": [
    "# first section 4.4 Errors and exceptions\n",
    "# ch 5 Execution Control Structors"
   ]
  },
  {
   "cell_type": "code",
   "execution_count": null,
   "metadata": {},
   "outputs": [],
   "source": [
    "# practice proglem 5.1\n",
    "# myBMI(height, weight)  \n",
    "# bmi < 18.5 print 'Underweight'; 18.5 <= bmi bmi <25 print 'Normal'; bmi >= 25 print 'Overweight\n",
    "\n",
    "\n",
    "def myBMI(wt, ht): \n",
    "    \n",
    "    weight = int(wt)\n",
    "    print(weight)\n",
    "    \n",
    "    height = int(ht)\n",
    "    print(height)\n",
    "    \n",
    "    bmi = weight*703/height**2\n",
    "    print(bmi)\n",
    "    \n",
    "    if bmi < 18.5:\n",
    "        print(\"Underweight\")\n",
    "    # elif bmi >= 18.5 and bmi < 25:\n",
    "    elif bmi < 25:\n",
    "        print(\"Normal\")\n",
    "    else:     # bmi < 18.5:\n",
    "        print(\"Overweight\")\n",
    "\n",
    "\n",
    "height = input(\"Enter height (inches): \")\n",
    "weight = input(\"Enter weight (pounds): )\")\n",
    "\n",
    "myBMI(weight, height)\n",
    "\n"
   ]
  },
  {
   "cell_type": "code",
   "execution_count": null,
   "metadata": {},
   "outputs": [],
   "source": [
    "# practice problem 5.2\n",
    "# function powers() takes a positive integer n as input, prints all powers of 2 from 2**1 to 2**n\n",
    "# powers(6)  result: 2 4 8 16 32 64\n",
    "\n",
    "def powers(num):\n",
    "    n = int(num)\n",
    "    for i in range(1, n+1):\n",
    "        print(2**i, end= ' ')\n",
    "\n",
    "num = input(\"Enter numger: \")\n",
    "powers(num)"
   ]
  },
  {
   "cell_type": "code",
   "execution_count": null,
   "metadata": {},
   "outputs": [],
   "source": [
    "pets = ['cat', 'dog', 'fish', 'bird']"
   ]
  },
  {
   "cell_type": "code",
   "execution_count": null,
   "metadata": {},
   "outputs": [],
   "source": [
    "for i in range(len(pets)):\n",
    "    print(i, len(pets[i]), pets[i])"
   ]
  },
  {
   "cell_type": "code",
   "execution_count": null,
   "metadata": {},
   "outputs": [],
   "source": [
    "for i in pets:\n",
    "    print(i)"
   ]
  },
  {
   "cell_type": "code",
   "execution_count": null,
   "metadata": {},
   "outputs": [],
   "source": [
    "def sorted(lst):\n",
    "    'returns True if sequence lst is increasing, False otherwise'\n",
    "    for i in range(0, len(lst)-1): # i = 0, , 1, 2\n",
    "        if lst[i] > lst[i + 1]:\n",
    "            return False\n",
    "        return True"
   ]
  },
  {
   "cell_type": "code",
   "execution_count": null,
   "metadata": {},
   "outputs": [],
   "source": [
    "# problem 5.3 answer\n",
    "# write a function arithmetic() takes a list of integers and returns True if that form  an arithmetic sequence\n",
    "#     False if not\n",
    "\n",
    "def arithmetic(lst):\n",
    "    if len(list) < 2: # a squence of length < 2\n",
    "        return True\n",
    "    \n",
    "    diff = lst[1] - lst[0]:\n",
    "        for i in range(1, len(lst)-1):\n",
    "            return False\n",
    "    return True"
   ]
  },
  {
   "cell_type": "code",
   "execution_count": null,
   "metadata": {},
   "outputs": [],
   "source": [
    "for i in range(5):\n",
    "    print(i, end= ' ')\n",
    "    "
   ]
  },
  {
   "cell_type": "code",
   "execution_count": null,
   "metadata": {},
   "outputs": [],
   "source": [
    "for i in range(5):\n",
    "    for i in range(5):\n",
    "        print(i, end= ' ')\n",
    "    "
   ]
  },
  {
   "cell_type": "code",
   "execution_count": null,
   "metadata": {},
   "outputs": [],
   "source": [
    "#def nested(5):\n",
    "for j in range(5):\n",
    "    for i in range(5):\n",
    "        print(i, end=' ')\n",
    "    print()"
   ]
  },
  {
   "cell_type": "code",
   "execution_count": null,
   "metadata": {},
   "outputs": [],
   "source": [
    "# def nested2\n",
    "for j in range(5):\n",
    "    for i in range(i+1):\n",
    "        print(i, end= ' ')\n",
    "    print()"
   ]
  },
  {
   "cell_type": "code",
<<<<<<< HEAD
   "execution_count": 1,
   "id": "2be0883a",
=======
   "execution_count": null,
   "metadata": {},
   "outputs": [],
   "source": [
    "# problem 5.7, p 138\n",
    "# write a function xmult() that takes w lists of integers as input and \n",
    "#     returns a list containing all products of intergers from the first \n",
    "#     with the integers from the 2nd list\n",
    "def xmult(lst1, lst2):\n",
    "    lst1_len = len(lst1)\n",
    "    print(lst1)\n",
    "    print(lst1_len)\n",
    "    \n",
    "    lst2_len = len(lst2)\n",
    "    print(lst2)\n",
    "    print(lst2_len)\n",
    "    \n",
    "    out_list = []\n",
    "    \n",
    "    for i in lst1:\n",
    "        for j in lst2:\n",
    "            out_list.append(i*j)\n",
    "    return(out_list)"
   ]
  },
  {
   "cell_type": "code",
   "execution_count": null,
   "metadata": {},
   "outputs": [],
   "source": [
    "xmult([2], [1,5])"
   ]
  },
  {
   "cell_type": "code",
   "execution_count": null,
>>>>>>> 5f7b8306a65dfe8424117be922a70e520efaa12e
   "metadata": {},
   "outputs": [],
   "source": [
    "# problem 5.8 bubble sort answer\n",
    "# bubble sort\n",
    "def bubblesort(lst):\n",
    "    # sorts list in nondecreasing order\n",
    "    for i in range(len(lst)-1, 0, -1):\n",
    "        for j in range(i):\n",
    "            # compare items at index j and j+1\n",
    "            if list[j] > lst[j+1]:\n",
    "                # swap numbers\n",
    "                lst[j, lst[j+1] = lst[j+1], lst[j]"
   ]
  },
  {
   "cell_type": "code",
   "execution_count": null,
   "metadata": {},
   "outputs": [],
   "source": [
    "# practice problem 5.9, p. 143\n",
    "def add2D(t1, t2):\n",
    "    nrows = len(t1)\n",
    "    print(nrows)\n",
    "    ncols = len(t1[0])\n",
    "    print(ncols)\n",
    "    for i in range(nrows):\n",
    "        for j in range(ncols):\n",
    "            t1[i][j] += t2[i][j]\n",
    "    return(t1)"
   ]
  },
  {
   "cell_type": "code",
   "execution_count": null,
   "metadata": {},
   "outputs": [],
   "source": [
    "add2D([1, 2, 3, 4], [2, 4, 6, 8])"
   ]
  },
  {
   "cell_type": "code",
   "execution_count": null,
   "metadata": {},
   "outputs": [],
   "source": [
    "color = ['red', 'yellow', 'green', 'brown']\n",
    "for i in range(3):\n",
    "    for currentcolor in color:\n",
    "        print(currentcolor[i], end = \" \")"
   ]
  },
  {
   "cell_type": "code",
   "execution_count": null,
   "metadata": {},
   "outputs": [],
   "source": [
    "thisnum = 13\n",
    "thisnum %= 4\n",
    "print(thisnum)"
   ]
  },
  {
   "cell_type": "code",
   "execution_count": null,
   "metadata": {},
   "outputs": [],
   "source": [
    "num = 4\n",
    "num = num + 1\n",
    "print()"
   ]
  },
  {
   "cell_type": "code",
   "execution_count": null,
   "metadata": {},
   "outputs": [],
   "source": [
    "thisnum %= 4\n",
    "print(thisnum)"
   ]
  },
  {
   "cell_type": "code",
   "execution_count": null,
   "metadata": {},
   "outputs": [],
   "source": [
    "savings = 1357\n",
    "for i in range(12):\n",
    "    savings += 10\n",
    "    print(savings, end =  ' ')\n",
    "print(savings)"
   ]
  },
  {
   "cell_type": "code",
<<<<<<< HEAD
   "execution_count": 2,
   "id": "e60a223c",
   "metadata": {},
   "outputs": [
    {
     "ename": "TypeError",
     "evalue": "object of type 'int' has no len()",
     "output_type": "error",
     "traceback": [
      "\u001b[1;31m---------------------------------------------------------------------------\u001b[0m",
      "\u001b[1;31mTypeError\u001b[0m                                 Traceback (most recent call last)",
      "\u001b[1;32m<ipython-input-2-a696a9b4543c>\u001b[0m in \u001b[0;36m<module>\u001b[1;34m\u001b[0m\n\u001b[1;32m----> 1\u001b[1;33m \u001b[0madd2D\u001b[0m\u001b[1;33m(\u001b[0m\u001b[1;36m7\u001b[0m\u001b[1;33m,\u001b[0m \u001b[1;36m9\u001b[0m\u001b[1;33m)\u001b[0m\u001b[1;33m\u001b[0m\u001b[1;33m\u001b[0m\u001b[0m\n\u001b[0m",
      "\u001b[1;32m<ipython-input-1-190988ad0a4e>\u001b[0m in \u001b[0;36madd2D\u001b[1;34m(t1, t2)\u001b[0m\n\u001b[0;32m      1\u001b[0m \u001b[1;31m# problem 5.8 bubble sort answer\u001b[0m\u001b[1;33m\u001b[0m\u001b[1;33m\u001b[0m\u001b[1;33m\u001b[0m\u001b[0m\n\u001b[0;32m      2\u001b[0m \u001b[1;32mdef\u001b[0m \u001b[0madd2D\u001b[0m\u001b[1;33m(\u001b[0m\u001b[0mt1\u001b[0m\u001b[1;33m,\u001b[0m \u001b[0mt2\u001b[0m\u001b[1;33m)\u001b[0m\u001b[1;33m:\u001b[0m\u001b[1;33m\u001b[0m\u001b[1;33m\u001b[0m\u001b[0m\n\u001b[1;32m----> 3\u001b[1;33m     \u001b[0mnrows\u001b[0m \u001b[1;33m=\u001b[0m \u001b[0mlen\u001b[0m\u001b[1;33m(\u001b[0m\u001b[0mt1\u001b[0m\u001b[1;33m)\u001b[0m\u001b[1;33m\u001b[0m\u001b[1;33m\u001b[0m\u001b[0m\n\u001b[0m\u001b[0;32m      4\u001b[0m     \u001b[0mncols\u001b[0m \u001b[1;33m=\u001b[0m \u001b[0mlen\u001b[0m\u001b[1;33m(\u001b[0m\u001b[0mt1\u001b[0m\u001b[1;33m[\u001b[0m\u001b[1;36m0\u001b[0m\u001b[1;33m]\u001b[0m\u001b[1;33m)\u001b[0m\u001b[1;33m\u001b[0m\u001b[1;33m\u001b[0m\u001b[0m\n\u001b[0;32m      5\u001b[0m     \u001b[1;32mfor\u001b[0m \u001b[0mi\u001b[0m \u001b[1;32min\u001b[0m \u001b[0mrange\u001b[0m\u001b[1;33m(\u001b[0m\u001b[0mncols\u001b[0m\u001b[1;33m)\u001b[0m\u001b[1;33m:\u001b[0m\u001b[1;33m\u001b[0m\u001b[1;33m\u001b[0m\u001b[0m\n",
      "\u001b[1;31mTypeError\u001b[0m: object of type 'int' has no len()"
     ]
    }
   ],
=======
   "execution_count": null,
   "metadata": {},
   "outputs": [],
   "source": [
    "word1 = 'agglomerate'\n",
    "word2 = 'confiscate'\n",
    "comparisons = 0\n",
    "for i in word1:\n",
    "    print('We are looking at letter', i,'in word1')\n",
    "    for j in word2:\n",
    "        print('We will compare', i, 'with', j)\n",
    "        if i == j:\n",
    "            print(i, end = \" \")\n",
    "        comparisons += 1\n",
    "\n",
    "print('\\nWe made a total of', comparisons, 'comparisons.')"
   ]
  },
  {
   "cell_type": "code",
   "execution_count": null,
   "metadata": {},
   "outputs": [],
   "source": [
    "for i in range(5,1,-1):\n",
    "    for j in range(i, 0, -1):\n",
    "        print(j, end= \" \")\n",
    "    print()"
   ]
  },
  {
   "cell_type": "code",
   "execution_count": null,
   "metadata": {},
   "outputs": [],
   "source": [
    "for i in range(5,0,-1):\n",
    "    print(i, end= \" \")\n",
    "print()"
   ]
  },
  {
   "cell_type": "code",
   "execution_count": null,
   "metadata": {},
   "outputs": [],
   "source": [
    "color = ['red', 'yellow', 'green', 'brown']\n",
    "for i in range(3):\n",
    "    for currentcolor in color:\n",
    "        print(currentcolor[i], end = \" \")"
   ]
  },
  {
   "cell_type": "code",
   "execution_count": null,
   "metadata": {},
   "outputs": [],
   "source": [
    "savings = 1357\n",
    "for i in range(12):\n",
    "    savings += 10\n",
    "print(savings)"
   ]
  },
  {
   "cell_type": "code",
   "execution_count": null,
   "metadata": {},
   "outputs": [],
>>>>>>> 5f7b8306a65dfe8424117be922a70e520efaa12e
   "source": [
    "savings = 2468\n",
    "for i in range(36):\n",
    "    savings *= 1.005\n",
    "    print(savings)\n",
    "savings = round(savings, 2)\n",
    "print(savings)"
   ]
  },
  {
   "cell_type": "code",
   "execution_count": null,
   "metadata": {},
   "outputs": [],
   "source": [
    "num = 2\n",
    "print(num)"
   ]
  },
  {
   "cell_type": "code",
   "execution_count": null,
   "metadata": {},
   "outputs": [],
   "source": [
    "num %= 2\n",
    "print(num)"
   ]
  },
  {
   "cell_type": "code",
   "execution_count": null,
   "metadata": {},
   "outputs": [],
   "source": [
    "num -= 2\n",
    "print(num)"
   ]
  },
  {
   "cell_type": "code",
   "execution_count": null,
   "metadata": {},
   "outputs": [],
   "source": [
    "word = 'ate'\n",
    "phrase = 'to collect or gather together'\n",
    "comparisons = 0\n",
    "for i in word:\n",
    "    for j in phrase:\n",
    "        comparisons += 1\n",
    "        if i == j:\n",
    "            print(i, end = \" \")\n",
    "print('\\nWe made a total of', comparisons, 'comparisons.')"
   ]
  },
  {
   "cell_type": "code",
   "execution_count": null,
   "metadata": {},
   "outputs": [],
   "source": []
  },
  {
   "cell_type": "code",
   "execution_count": null,
   "metadata": {},
   "outputs": [],
   "source": [
    "for i in range(5):\n",
    "    for j in range(i, 0, -1):\n",
    "        print(j, end = \" \")\n",
    "    print()"
   ]
  },
  {
   "cell_type": "code",
   "execution_count": null,
   "metadata": {},
   "outputs": [],
   "source": [
    "for i in range(5, 0, -1):\n",
    "    for j in range(i, 0, -1):\n",
    "        print(j, end= \" \")\n",
    "    print()"
   ]
  }
 ],
 "metadata": {
  "kernelspec": {
   "display_name": "Python 3",
   "language": "python",
   "name": "python3"
  },
  "language_info": {
   "codemirror_mode": {
    "name": "ipython",
    "version": 3
   },
   "file_extension": ".py",
   "mimetype": "text/x-python",
   "name": "python",
   "nbconvert_exporter": "python",
   "pygments_lexer": "ipython3",
   "version": "3.6.7"
  }
 },
 "nbformat": 4,
 "nbformat_minor": 5
}

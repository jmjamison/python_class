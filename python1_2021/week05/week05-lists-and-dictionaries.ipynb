{
 "cells": [
  {
   "cell_type": "code",
   "execution_count": 39,
   "id": "33f59c4e",
   "metadata": {},
   "outputs": [],
   "source": [
    "table2d = [[4, 7, 2, 5], [5, 1, 9, 2], [8, 3, 6, 6]]"
   ]
  },
  {
   "cell_type": "code",
   "execution_count": 40,
   "id": "1020d857",
   "metadata": {},
   "outputs": [
    {
     "data": {
      "text/plain": [
       "[[4, 7, 2, 5], [5, 1, 9, 2], [8, 3, 6, 6]]"
      ]
     },
     "execution_count": 40,
     "metadata": {},
     "output_type": "execute_result"
    }
   ],
   "source": [
    "table2d"
   ]
  },
  {
   "cell_type": "code",
   "execution_count": 41,
   "id": "e751b0f7",
   "metadata": {},
   "outputs": [
    {
     "name": "stdout",
     "output_type": "stream",
     "text": [
      "8\n"
     ]
    }
   ],
   "source": [
    "print(table2d[2][0])"
   ]
  },
  {
   "cell_type": "code",
   "execution_count": 42,
   "id": "b54f6bb7",
   "metadata": {},
   "outputs": [
    {
     "name": "stdout",
     "output_type": "stream",
     "text": [
      "[4, 7, 2, 5]\n",
      "[5, 1, 9, 2]\n",
      "[8, 3, 6, 6]\n"
     ]
    }
   ],
   "source": [
    "for row in table2d:\n",
    "    print(row)"
   ]
  },
  {
   "cell_type": "code",
   "execution_count": 43,
   "id": "e0ddccd1",
   "metadata": {},
   "outputs": [],
   "source": [
    "# for <variable> in <sequence>\n",
    "#  <sequence> must refer to an object that is a string, list, range or any container type that can be interated over\n",
    "def print2d(table):\n",
    "    'prints values in 2D list table as a 2d table'\n",
    "    for row in table:\n",
    "        for item in row:\n",
    "            print(item, end=' ')\n",
    "        print()"
   ]
  },
  {
   "cell_type": "code",
   "execution_count": 44,
   "id": "4aa7f1f4",
   "metadata": {},
   "outputs": [
    {
     "name": "stdout",
     "output_type": "stream",
     "text": [
      "4 7 2 5 \n",
      "5 1 9 2 \n",
      "8 3 6 6 \n"
     ]
    }
   ],
   "source": [
    "print2d(table2d)"
   ]
  },
  {
   "cell_type": "code",
   "execution_count": 36,
   "id": "0885575a",
   "metadata": {},
   "outputs": [],
   "source": [
    "# p. 142\n",
    "def incr2d(table):\n",
    "    'increments each number in 2d list of numbers'\n",
    "    nrows = len(table)\n",
    "    ncols = len(table[0])\n",
    "    \n",
    "    for i in range(nrows):  # i is the row index\n",
    "        print(i)\n",
    "        for j in range(ncols):  # j is the column index\n",
    "            print(j)\n",
    "            table[i][j] += 1"
   ]
  },
  {
   "cell_type": "code",
   "execution_count": 45,
   "id": "c0c6b050",
   "metadata": {},
   "outputs": [
    {
     "name": "stdout",
     "output_type": "stream",
     "text": [
      "0\n",
      "0\n",
      "1\n",
      "2\n",
      "3\n",
      "1\n",
      "0\n",
      "1\n",
      "2\n",
      "3\n",
      "2\n",
      "0\n",
      "1\n",
      "2\n",
      "3\n"
     ]
    }
   ],
   "source": [
    "table2d_new = incr2d(table2d)"
   ]
  },
  {
   "cell_type": "code",
   "execution_count": 46,
   "id": "8f84ae79",
   "metadata": {},
   "outputs": [
    {
     "name": "stdout",
     "output_type": "stream",
     "text": [
      "5 8 3 6 \n",
      "6 2 10 3 \n",
      "9 4 7 7 \n"
     ]
    }
   ],
   "source": [
    "print2d(table2d)"
   ]
  },
  {
   "cell_type": "code",
   "execution_count": 47,
   "id": "0fdfa614",
   "metadata": {},
   "outputs": [
    {
     "name": "stdout",
     "output_type": "stream",
     "text": [
      "4\n"
     ]
    }
   ],
   "source": [
    "# get number of columns\n",
    "print(len(table2d[0]))"
   ]
  },
  {
   "cell_type": "code",
   "execution_count": 48,
   "id": "373568c5",
   "metadata": {},
   "outputs": [
    {
     "name": "stdout",
     "output_type": "stream",
     "text": [
      "4 7 2 5 \n",
      "5 1 9 2 \n",
      "8 3 6 6 \n",
      "\n",
      "0 1 2 0 \n",
      "0 1 1 1 \n",
      "0 1 0 0 \n"
     ]
    }
   ],
   "source": [
    "# practice problem 5.9, page 143\n",
    "# write function add2d() that takes 2d lists of the same size as input args, increments every entry in the first line with the \n",
    "#     the value of the cooresponding entry in the second list\n",
    "\n",
    "t = [[4, 7, 2, 5], [5, 1, 9, 2], [8, 3, 6, 6]]\n",
    "s = [[0, 1, 2, 0], [0, 1, 1, 1], [0, 1, 0, 0]]\n",
    "\n",
    "print2d(t)\n",
    "print()\n",
    "print2d(s)"
   ]
  },
  {
   "cell_type": "code",
   "execution_count": 49,
   "id": "2abbe87f",
   "metadata": {},
   "outputs": [],
   "source": [
    "def add2d(t,s):\n",
    "    t=t\n",
    "    s=s\n",
    "    nrows = len(t)\n",
    "    ncols = len(t[0])\n",
    "    \n",
    "    for i in range(nrows):\n",
    "        for j in range(ncols):\n",
    "            t[i][j] += s[i][j]"
   ]
  },
  {
   "cell_type": "code",
   "execution_count": 50,
   "id": "19a48245",
   "metadata": {},
   "outputs": [
    {
     "name": "stdout",
     "output_type": "stream",
     "text": [
      "[4, 8, 4, 5]\n",
      "[5, 2, 10, 3]\n",
      "[8, 4, 6, 6]\n"
     ]
    }
   ],
   "source": [
    "add2d(t,s)\n",
    "for row in t:\n",
    "    print(row)"
   ]
  },
  {
   "cell_type": "code",
   "execution_count": null,
   "id": "cfd010e0",
   "metadata": {},
   "outputs": [],
   "source": []
  }
 ],
 "metadata": {
  "kernelspec": {
   "display_name": "Python 3",
   "language": "python",
   "name": "python3"
  },
  "language_info": {
   "codemirror_mode": {
    "name": "ipython",
    "version": 3
   },
   "file_extension": ".py",
   "mimetype": "text/x-python",
   "name": "python",
   "nbconvert_exporter": "python",
   "pygments_lexer": "ipython3",
   "version": "3.8.8"
  }
 },
 "nbformat": 4,
 "nbformat_minor": 5
}

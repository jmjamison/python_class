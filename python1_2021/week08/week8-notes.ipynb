{
 "cells": [
  {
   "cell_type": "code",
   "execution_count": 1,
   "metadata": {},
   "outputs": [],
   "source": [
    "x = 10\n",
    "a = 2\n",
    "c = x - a\n",
    "def avg5(a,b,c,d):\n",
    "    y = 11\n",
    "    return (y + b + c + d)/4\n",
    "d = avg5(1,2,3,4)"
   ]
  },
  {
   "cell_type": "code",
   "execution_count": 2,
   "metadata": {},
   "outputs": [
    {
     "data": {
      "text/plain": [
       "5.0"
      ]
     },
     "execution_count": 2,
     "metadata": {},
     "output_type": "execute_result"
    }
   ],
   "source": [
    "d"
   ]
  },
  {
   "cell_type": "code",
   "execution_count": 4,
   "metadata": {},
   "outputs": [
    {
     "data": {
      "text/plain": [
       "2"
      ]
     },
     "execution_count": 4,
     "metadata": {},
     "output_type": "execute_result"
    }
   ],
   "source": [
    "a\n"
   ]
  },
  {
   "cell_type": "code",
   "execution_count": 5,
   "metadata": {},
   "outputs": [
    {
     "data": {
      "text/plain": [
       "8"
      ]
     },
     "execution_count": 5,
     "metadata": {},
     "output_type": "execute_result"
    }
   ],
   "source": [
    "c"
   ]
  },
  {
   "cell_type": "code",
   "execution_count": 11,
   "metadata": {},
   "outputs": [
    {
     "name": "stdout",
     "output_type": "stream",
     "text": [
      "8\n",
      "6\n"
     ]
    }
   ],
   "source": [
    "x = 8\n",
    "##### Space 1 #####\n",
    "print(x)\n",
    "def outx():\n",
    "    print(x)\n",
    "##### Space 2 #####\n",
    "x = 6\n",
    "##### Space 3 #####\n",
    "outx()\n",
    "x = 4\n",
    "##### Space 4 #####"
   ]
  },
  {
   "cell_type": "code",
   "execution_count": 12,
   "metadata": {},
   "outputs": [],
   "source": [
    "x = 1\n",
    "y = 2\n",
    "z = 3\n",
    "def calcVar(x):\n",
    "    y = 4\n",
    "    return x * y * z\n",
    "newVar = calcVar(5)"
   ]
  },
  {
   "cell_type": "code",
   "execution_count": 13,
   "metadata": {},
   "outputs": [
    {
     "data": {
      "text/plain": [
       "60"
      ]
     },
     "execution_count": 13,
     "metadata": {},
     "output_type": "execute_result"
    }
   ],
   "source": [
    "newVar"
   ]
  },
  {
   "cell_type": "code",
   "execution_count": 19,
   "metadata": {},
   "outputs": [
    {
     "name": "stdout",
     "output_type": "stream",
     "text": [
      "cat\n"
     ]
    }
   ],
   "source": [
    "##### Space 1 #####\n",
    "x = \"cat\"\n",
    "def myfun():\n",
    "    ##### Space 2 #####\n",
    "    print(x)\n",
    "    ##### Space 3 #####\n",
    "##### Space 4 #####\n",
    "myfun()\n",
    "##### Space 5 #####\n"
   ]
  },
  {
   "cell_type": "code",
   "execution_count": 23,
   "metadata": {},
   "outputs": [
    {
     "name": "stdout",
     "output_type": "stream",
     "text": [
      "Output 1 34\n",
      "Output 2 32\n",
      "Output 3 35\n",
      "Output 4 7\n",
      "Output 5 1\n"
     ]
    }
   ],
   "source": [
    "def m(x):\n",
    "    print(\"Output 1\", x)\n",
    "\n",
    "def h(x):\n",
    "    m(x+2)\n",
    "    print(\"Output 2\", x)\n",
    "\n",
    "def g(x):\n",
    "    h(x-3)\n",
    "    print(\"Output 3\", x)\n",
    "\n",
    "def f(x):\n",
    "    g(x*5)\n",
    "    print(\"Output 4\", x)\n",
    "    return x%3\n",
    "\n",
    "x = f(7)\n",
    "print(\"Output 5\", x)"
   ]
  },
  {
   "cell_type": "code",
   "execution_count": 33,
   "metadata": {},
   "outputs": [
    {
     "name": "stdout",
     "output_type": "stream",
     "text": [
      "[2, 10, 4]\n"
     ]
    },
    {
     "data": {
      "text/plain": [
       "[2, 10, 4, 6, 4]"
      ]
     },
     "execution_count": 33,
     "metadata": {},
     "output_type": "execute_result"
    }
   ],
   "source": [
    "x = 6\n",
    "y = 8\n",
    "mylist = [2]\n",
    "def myfun():\n",
    "    global y\n",
    "    x = 10\n",
    "    y = 4\n",
    "    mylist.append(x)\n",
    "    mylist.append(y)\n",
    "    mylist\n",
    "myfun()\n",
    "print(mylist)\n",
    "mylist.append(x)\n",
    "mylist.append(y)\n",
    "mylist"
   ]
  },
  {
   "cell_type": "code",
   "execution_count": 25,
   "metadata": {},
   "outputs": [
    {
     "data": {
      "text/plain": [
       "[2, 10, 4, 6, 4]"
      ]
     },
     "execution_count": 25,
     "metadata": {},
     "output_type": "execute_result"
    }
   ],
   "source": [
    "mylist"
   ]
  },
  {
   "cell_type": "code",
   "execution_count": 40,
   "metadata": {},
   "outputs": [
    {
     "name": "stdout",
     "output_type": "stream",
     "text": [
      "Almost at the end\n",
      "End\n"
     ]
    }
   ],
   "source": [
    "def yourFun():\n",
    "    pass\n",
    "\n",
    "def herFun():\n",
    "    pass\n",
    "\n",
    "def myFun():\n",
    "    def yourFun():\n",
    "        print('Hello')\n",
    "        def hisFun():\n",
    "            print(\"oops\")\n",
    "    def noFun():\n",
    "        pass\n",
    "    print('Bye')\n",
    "\n",
    "print('Almost at the end')\n",
    "##### Call function here #####\n",
    "print('End')"
   ]
  },
  {
   "cell_type": "code",
   "execution_count": 41,
   "metadata": {},
   "outputs": [],
   "source": [
    "x = 1\n",
    "def outFun():\n",
    "    x = 2\n",
    "    def inFun():\n",
    "        global x\n",
    "        x = 3\n",
    "\n",
    "    def moreFun():\n",
    "        nonlocal x\n",
    "        x = 4\n",
    "\n",
    "    def noFun():\n",
    "        x = 5\n",
    "\n",
    "    moreFun()\n",
    "    inFun()\n",
    "    return x\n",
    "\n",
    "x = outFun()"
   ]
  },
  {
   "cell_type": "code",
   "execution_count": 42,
   "metadata": {},
   "outputs": [
    {
     "data": {
      "text/plain": [
       "4"
      ]
     },
     "execution_count": 42,
     "metadata": {},
     "output_type": "execute_result"
    }
   ],
   "source": [
    "x"
   ]
  },
  {
   "cell_type": "code",
   "execution_count": 46,
   "metadata": {},
   "outputs": [],
   "source": [
    "x = 1\n",
    "def outFun():\n",
    "    global x\n",
    "    x = 2\n",
    "    def inFun():\n",
    "        global x\n",
    "        x = 3\n",
    "    inFun()\n",
    "outFun()"
   ]
  },
  {
   "cell_type": "code",
   "execution_count": 53,
   "metadata": {},
   "outputs": [
    {
     "name": "stdout",
     "output_type": "stream",
     "text": [
      "4\n"
     ]
    }
   ],
   "source": [
    "x = 1\n",
    "def outFun(y):\n",
    "    z = 3\n",
    "    def inFun(v):\n",
    "        w = 5\n",
    "    inFun(2)\n",
    "    ##### print variables here #####\n",
    "    print(y)\n",
    "outFun(4)"
   ]
  },
  {
   "cell_type": "code",
   "execution_count": 54,
   "metadata": {},
   "outputs": [],
   "source": [
    "def pop(mystr):\n",
    "    return mystr[0:len(mystr)-1]\n",
    "\n",
    "thestring = 'Hello, I am a string!'"
   ]
  },
  {
   "cell_type": "code",
   "execution_count": 55,
   "metadata": {},
   "outputs": [
    {
     "data": {
      "text/plain": [
       "'Hello, I am a string!'"
      ]
     },
     "execution_count": 55,
     "metadata": {},
     "output_type": "execute_result"
    }
   ],
   "source": [
    "thestring"
   ]
  },
  {
   "cell_type": "code",
   "execution_count": 56,
   "metadata": {},
   "outputs": [
    {
     "data": {
      "text/plain": [
       "'HELLO, I AM A STRING!'"
      ]
     },
     "execution_count": 56,
     "metadata": {},
     "output_type": "execute_result"
    }
   ],
   "source": [
    "thestring.upper()"
   ]
  },
  {
   "cell_type": "code",
   "execution_count": 57,
   "metadata": {},
   "outputs": [
    {
     "data": {
      "text/plain": [
       "'Hello, I am a string!'"
      ]
     },
     "execution_count": 57,
     "metadata": {},
     "output_type": "execute_result"
    }
   ],
   "source": [
    "thestring.strip()"
   ]
  },
  {
   "cell_type": "code",
   "execution_count": 58,
   "metadata": {},
   "outputs": [
    {
     "data": {
      "text/plain": [
       "'Hello, i am a string!'"
      ]
     },
     "execution_count": 58,
     "metadata": {},
     "output_type": "execute_result"
    }
   ],
   "source": [
    "thestring.capitalize()"
   ]
  },
  {
   "cell_type": "code",
   "execution_count": 61,
   "metadata": {},
   "outputs": [
    {
     "data": {
      "text/plain": [
       "['__add__',\n",
       " '__class__',\n",
       " '__contains__',\n",
       " '__delattr__',\n",
       " '__dir__',\n",
       " '__doc__',\n",
       " '__eq__',\n",
       " '__format__',\n",
       " '__ge__',\n",
       " '__getattribute__',\n",
       " '__getitem__',\n",
       " '__getnewargs__',\n",
       " '__gt__',\n",
       " '__hash__',\n",
       " '__init__',\n",
       " '__init_subclass__',\n",
       " '__iter__',\n",
       " '__le__',\n",
       " '__len__',\n",
       " '__lt__',\n",
       " '__mod__',\n",
       " '__mul__',\n",
       " '__ne__',\n",
       " '__new__',\n",
       " '__reduce__',\n",
       " '__reduce_ex__',\n",
       " '__repr__',\n",
       " '__rmod__',\n",
       " '__rmul__',\n",
       " '__setattr__',\n",
       " '__sizeof__',\n",
       " '__str__',\n",
       " '__subclasshook__',\n",
       " 'capitalize',\n",
       " 'casefold',\n",
       " 'center',\n",
       " 'count',\n",
       " 'encode',\n",
       " 'endswith',\n",
       " 'expandtabs',\n",
       " 'find',\n",
       " 'format',\n",
       " 'format_map',\n",
       " 'index',\n",
       " 'isalnum',\n",
       " 'isalpha',\n",
       " 'isascii',\n",
       " 'isdecimal',\n",
       " 'isdigit',\n",
       " 'isidentifier',\n",
       " 'islower',\n",
       " 'isnumeric',\n",
       " 'isprintable',\n",
       " 'isspace',\n",
       " 'istitle',\n",
       " 'isupper',\n",
       " 'join',\n",
       " 'ljust',\n",
       " 'lower',\n",
       " 'lstrip',\n",
       " 'maketrans',\n",
       " 'partition',\n",
       " 'replace',\n",
       " 'rfind',\n",
       " 'rindex',\n",
       " 'rjust',\n",
       " 'rpartition',\n",
       " 'rsplit',\n",
       " 'rstrip',\n",
       " 'split',\n",
       " 'splitlines',\n",
       " 'startswith',\n",
       " 'strip',\n",
       " 'swapcase',\n",
       " 'title',\n",
       " 'translate',\n",
       " 'upper',\n",
       " 'zfill']"
      ]
     },
     "execution_count": 61,
     "metadata": {},
     "output_type": "execute_result"
    }
   ],
   "source": [
    "dir(thestring)"
   ]
  },
  {
   "cell_type": "code",
   "execution_count": 67,
   "metadata": {},
   "outputs": [
    {
     "data": {
      "text/plain": [
       "['__annotations__',\n",
       " '__call__',\n",
       " '__class__',\n",
       " '__closure__',\n",
       " '__code__',\n",
       " '__defaults__',\n",
       " '__delattr__',\n",
       " '__dict__',\n",
       " '__dir__',\n",
       " '__doc__',\n",
       " '__eq__',\n",
       " '__format__',\n",
       " '__ge__',\n",
       " '__get__',\n",
       " '__getattribute__',\n",
       " '__globals__',\n",
       " '__gt__',\n",
       " '__hash__',\n",
       " '__init__',\n",
       " '__init_subclass__',\n",
       " '__kwdefaults__',\n",
       " '__le__',\n",
       " '__lt__',\n",
       " '__module__',\n",
       " '__name__',\n",
       " '__ne__',\n",
       " '__new__',\n",
       " '__qualname__',\n",
       " '__reduce__',\n",
       " '__reduce_ex__',\n",
       " '__repr__',\n",
       " '__setattr__',\n",
       " '__sizeof__',\n",
       " '__str__',\n",
       " '__subclasshook__']"
      ]
     },
     "execution_count": 67,
     "metadata": {},
     "output_type": "execute_result"
    }
   ],
   "source": [
    "dir(pop)"
   ]
  },
  {
   "cell_type": "code",
   "execution_count": 68,
   "metadata": {},
   "outputs": [
    {
     "data": {
      "text/plain": [
       "'Hello, I am a string'"
      ]
     },
     "execution_count": 68,
     "metadata": {},
     "output_type": "execute_result"
    }
   ],
   "source": [
    "pop(thestring)"
   ]
  },
  {
   "cell_type": "code",
   "execution_count": 69,
   "metadata": {},
   "outputs": [
    {
     "ename": "AttributeError",
     "evalue": "'str' object has no attribute 'reverse'",
     "output_type": "error",
     "traceback": [
      "\u001b[1;31m---------------------------------------------------------------------------\u001b[0m",
      "\u001b[1;31mAttributeError\u001b[0m                            Traceback (most recent call last)",
      "\u001b[1;32m<ipython-input-69-d85c0193b550>\u001b[0m in \u001b[0;36m<module>\u001b[1;34m\u001b[0m\n\u001b[1;32m----> 1\u001b[1;33m \u001b[0mthestring\u001b[0m\u001b[1;33m.\u001b[0m\u001b[0mreverse\u001b[0m\u001b[1;33m(\u001b[0m\u001b[1;33m)\u001b[0m\u001b[1;33m\u001b[0m\u001b[1;33m\u001b[0m\u001b[0m\n\u001b[0m",
      "\u001b[1;31mAttributeError\u001b[0m: 'str' object has no attribute 'reverse'"
     ]
    }
   ],
   "source": [
    "thestring.reverse()"
   ]
  },
  {
   "cell_type": "code",
   "execution_count": 76,
   "metadata": {},
   "outputs": [],
   "source": [
    "class Vehicle:\n",
    "    '''Vehicle with color and wheel number'''\n",
    "\n",
    "    def __init__(self, color, wheels, make, model):\n",
    "        'initializes the vehicle, the color, number of wheels, make, and model'\n",
    "        self.color = color\n",
    "        self.wheels = wheels\n",
    "        self.make = make\n",
    "        self.model = model\n",
    "\n",
    "    def getcolor(self):\n",
    "        'returns the color of the vehicle'\n",
    "        return self.color\n",
    "    \n",
    "    def setcolor(self, color):\n",
    "        'sets the vehicle color'\n",
    "        self.color = color\n",
    "\n",
    "    def getmake(self):\n",
    "        'returns the make of the vehicle'\n",
    "        return self.make\n",
    "\n",
    "    def setmake(self, make):\n",
    "        'sets the vehicle make'\n",
    "        self.make = make\n",
    "\n",
    "    def getmodel(self):\n",
    "        'returns the model of the vehicle'\n",
    "        return self.model\n",
    "firstCar = Vehicle('silver',4,'Toyota','Corolla')\n",
    "newCar = Vehicle('black',4,'Honda','Accord')"
   ]
  },
  {
   "cell_type": "code",
   "execution_count": 77,
   "metadata": {},
   "outputs": [
    {
     "data": {
      "text/plain": [
       "'Toyota'"
      ]
     },
     "execution_count": 77,
     "metadata": {},
     "output_type": "execute_result"
    }
   ],
   "source": [
    "firstCar.getmake()"
   ]
  },
  {
   "cell_type": "code",
   "execution_count": 80,
   "metadata": {},
   "outputs": [],
   "source": [
    "firstCar.setmake(newCar.getmake())"
   ]
  },
  {
   "cell_type": "code",
   "execution_count": 81,
   "metadata": {},
   "outputs": [
    {
     "data": {
      "text/plain": [
       "'Honda'"
      ]
     },
     "execution_count": 81,
     "metadata": {},
     "output_type": "execute_result"
    }
   ],
   "source": [
    "firstCar.getmake()"
   ]
  },
  {
   "cell_type": "code",
   "execution_count": 83,
   "metadata": {},
   "outputs": [],
   "source": [
    "class Vehicle:\n",
    "    'Represents a drive-able vehicle'\n",
    "\n",
    "    def __init__(self, color, make, model, wheels, year, maxtank = 10):\n",
    "        'initializes the vehicle, the color, number of wheels, make, and model'\n",
    "        self.color = color\n",
    "        self.wheels = wheels\n",
    "        self.make = make\n",
    "        self.model = model\n",
    "        self.year = year\n",
    "        self.fuel = 0\n",
    "        self.maxtank = maxtank\n",
    "\n",
    "    def setcolor(self, color):\n",
    "        'sets the vehicle color'\n",
    "        self.color = color\n",
    "\n",
    "    def getmake(self):\n",
    "        'returns the make of the vehicle'\n",
    "        return self.make\n",
    "\n",
    "    def getmodel(self):\n",
    "        'returns the model of the vehicle'\n",
    "        return self.model\n",
    "\n",
    "    def refuel(self, gallons):\n",
    "        'refuels the car by gallons'\n",
    "        self.fuel += gallons\n",
    "\n",
    "firstCar = Vehicle('gold','Toyota','Camry',4,2020)\n"
   ]
  },
  {
   "cell_type": "code",
   "execution_count": 123,
   "metadata": {},
   "outputs": [],
   "source": [
    "class Team:\n",
    "    'Represents a team'\n",
    "\n",
    "    def __init__(self, count):\n",
    "        'initializes the team and team count'\n",
    "        self.count = count\n",
    "\n",
    "    def getcount(self):\n",
    "        'returns the number of team members'\n",
    "        return self.count\n",
    "    \n",
    "    def __add__(self, other):            ## + operator\n",
    "        ''' return the two teams added '''\n",
    "        return self.getcount() + other.getcount()    \n",
    "    \n",
    "    def __sub__(self, other):            ## - operator\n",
    "        ''' return the two teams added '''\n",
    "        return self.getcount() - other.getcount()   \n",
    "    \n",
    "    def __mul__(self, other):            ## * operator\n",
    "        ''' return the two teams added '''\n",
    "        return self.getcount() * other  \n",
    "        "
   ]
  },
  {
   "cell_type": "code",
   "execution_count": 124,
   "metadata": {},
   "outputs": [],
   "source": [
    "team1 = Team(10)\n",
    "team2 = Team(15)"
   ]
  },
  {
   "cell_type": "code",
   "execution_count": 125,
   "metadata": {},
   "outputs": [
    {
     "data": {
      "text/plain": [
       "10"
      ]
     },
     "execution_count": 125,
     "metadata": {},
     "output_type": "execute_result"
    }
   ],
   "source": [
    "team1.getcount()"
   ]
  },
  {
   "cell_type": "code",
   "execution_count": 126,
   "metadata": {},
   "outputs": [
    {
     "data": {
      "text/plain": [
       "15"
      ]
     },
     "execution_count": 126,
     "metadata": {},
     "output_type": "execute_result"
    }
   ],
   "source": [
    "team2.getcount()"
   ]
  },
  {
   "cell_type": "code",
   "execution_count": 127,
   "metadata": {},
   "outputs": [
    {
     "name": "stdout",
     "output_type": "stream",
     "text": [
      "25\n"
     ]
    }
   ],
   "source": [
    "print(team1 + team2)"
   ]
  },
  {
   "cell_type": "code",
   "execution_count": 128,
   "metadata": {},
   "outputs": [
    {
     "name": "stdout",
     "output_type": "stream",
     "text": [
      "-5\n"
     ]
    }
   ],
   "source": [
    "print(team1 - team2)"
   ]
  },
  {
   "cell_type": "code",
   "execution_count": 129,
   "metadata": {},
   "outputs": [
    {
     "name": "stdout",
     "output_type": "stream",
     "text": [
      "20\n"
     ]
    }
   ],
   "source": [
    "print(team1 * 2)"
   ]
  },
  {
   "cell_type": "code",
   "execution_count": null,
   "metadata": {},
   "outputs": [],
   "source": []
  }
 ],
 "metadata": {
  "kernelspec": {
   "display_name": "Python 3",
   "language": "python",
   "name": "python3"
  },
  "language_info": {
   "codemirror_mode": {
    "name": "ipython",
    "version": 3
   },
   "file_extension": ".py",
   "mimetype": "text/x-python",
   "name": "python",
   "nbconvert_exporter": "python",
   "pygments_lexer": "ipython3",
   "version": "3.8.8"
  }
 },
 "nbformat": 4,
 "nbformat_minor": 2
}

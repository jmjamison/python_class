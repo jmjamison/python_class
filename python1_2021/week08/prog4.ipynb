{
 "cells": [
  {
   "cell_type": "code",
   "execution_count": 3,
   "id": "c36a304d",
   "metadata": {},
   "outputs": [
    {
     "data": {
      "text/plain": [
       "' \\nrename(), renames the character\\nsetlvl()\\nsethp()\\nsetat()\\nsetdf()\\nsetexp()\\ngetname()\\ngetlvl()\\ngethp()\\ngetat()\\ngetdf()\\ngetexp()\\nattack(), details below\\n'"
      ]
     },
     "execution_count": 3,
     "metadata": {},
     "output_type": "execute_result"
    }
   ],
   "source": [
    "''' \n",
    "rename(), renames the character\n",
    "setlvl()\n",
    "sethp()\n",
    "setat()\n",
    "setdf()\n",
    "setexp()\n",
    "getname()\n",
    "getlvl()\n",
    "gethp()\n",
    "getat()\n",
    "getdf()\n",
    "getexp()\n",
    "attack(), details below\n",
    "'''"
   ]
  },
  {
   "cell_type": "code",
   "execution_count": 59,
   "id": "2cc65a1d",
   "metadata": {},
   "outputs": [],
   "source": [
    "class Character:\n",
    "    'represents characters in the game'\n",
    "    '''\n",
    "    Character class that represents characters in a game. The character should have a name, \n",
    "    which is a required argument. It should also have level (lvl), health points (hp), \n",
    "    attack level (at), defense level (df), and experience (exp). These values are all \n",
    "    optionally initialized by the user. By default, level is 1, health points is 100, \n",
    "    attack level is 10, defense level is 1. Keep in mind that you may need to initiate \n",
    "    extra variables (such as the max HP)\n",
    "    '''\n",
    "    'defaults'\n",
    "    def __init__(self, name, lvl=1, hp=100, at=10, df=1, exp=1):\n",
    "        'initialize character'\n",
    "        self.name = name\n",
    "        self.lvl =  lvl\n",
    "        self.hp = hp\n",
    "        self.at = at\n",
    "        self.df = df\n",
    "        self.exp = exp\n",
    "        \n",
    "    def rename(self, new_name):\n",
    "        'rename character'\n",
    "        self.name = new_name\n",
    "    \n",
    "    'set or re-set the defaults'    \n",
    "    def setlvl(self, new_level):\n",
    "        'set health level '\n",
    "        self.lvl = new_level\n",
    "        \n",
    "    def setat(self, new_attack):\n",
    "        'set attack level'\n",
    "        self.at = new_attack\n",
    "               \n",
    "    def sethp(self, new_level):\n",
    "        'set health point '\n",
    "        self.hp = new_level\n",
    "        \n",
    "    def setdf(self, new_defense_level):\n",
    "        'set the defense level'\n",
    "        set.df = new_defense_level\n",
    "    \n",
    "    def setexp(self, new_exp):\n",
    "        'set the experience level'\n",
    "        set.exp = new_exp\n",
    "    \n",
    "    'get the values'    \n",
    "    def getname(self):\n",
    "        'get the current character name'\n",
    "        return(self.name)\n",
    "    \n",
    "    def getlvl(self):\n",
    "        'get the current level'\n",
    "        return (self.lvl)               \n",
    "    \n",
    "    def gethp(self):\n",
    "        'get the current level'\n",
    "        return (self.hp)\n",
    "               \n",
    "    def getat(self)    :\n",
    "        'get the current attack level'\n",
    "        return(self.at)\n",
    "    \n",
    "    def getdf(self):\n",
    "        'get the current defense level'\n",
    "        return(self.df)\n",
    "    \n",
    "    def getexp(self):\n",
    "        'get experience level'\n",
    "        return(self.exp)\n",
    "    \n",
    "    def attack(self, opposing_char):\n",
    "        'opposing character you are attacking '\n",
    "        '''\n",
    "        attacking char, self subtracts the opposing characters defense points\n",
    "        at the end, print out who attacked whom anddefense points\n",
    "        print __defeated if anyone health reaches 0\n",
    "        '''\n",
    "        \n",
    "        \n",
    "class MajorCharacter(Character):\n",
    "    'all the methods of character plus 4 additional methods: recover, fullheal, shield and --'\n",
    "    def __init__(self):\n",
    "        'initialize MajorCharacter' \n",
    "        \n",
    "    def recover():\n",
    "        '  '\n",
    "        \n",
    "    def fullheal():\n",
    "        '   '\n",
    "    def shield():\n",
    "        '  '\n",
    "        "
   ]
  },
  {
   "cell_type": "code",
   "execution_count": 52,
   "id": "51cab784",
   "metadata": {},
   "outputs": [],
   "source": [
    "gamma = Character(\"gamma\")"
   ]
  },
  {
   "cell_type": "code",
   "execution_count": 53,
   "id": "9136bb1f",
   "metadata": {},
   "outputs": [
    {
     "data": {
      "text/plain": [
       "1"
      ]
     },
     "execution_count": 53,
     "metadata": {},
     "output_type": "execute_result"
    }
   ],
   "source": [
    "gamma.getlvl()"
   ]
  },
  {
   "cell_type": "code",
   "execution_count": 54,
   "id": "9a2361ea",
   "metadata": {},
   "outputs": [],
   "source": [
    "gamma.setlvl(10)"
   ]
  },
  {
   "cell_type": "code",
   "execution_count": 55,
   "id": "8dae1189",
   "metadata": {},
   "outputs": [
    {
     "data": {
      "text/plain": [
       "10"
      ]
     },
     "execution_count": 55,
     "metadata": {},
     "output_type": "execute_result"
    }
   ],
   "source": [
    "gamma.getlvl()"
   ]
  },
  {
   "cell_type": "code",
   "execution_count": 56,
   "id": "e6611f4e",
   "metadata": {},
   "outputs": [],
   "source": [
    "delta = Character(\"delta\", lvl=3, at=20)"
   ]
  },
  {
   "cell_type": "code",
   "execution_count": 57,
   "id": "d0aafb75",
   "metadata": {},
   "outputs": [
    {
     "data": {
      "text/plain": [
       "3"
      ]
     },
     "execution_count": 57,
     "metadata": {},
     "output_type": "execute_result"
    }
   ],
   "source": [
    "delta.getlvl()"
   ]
  },
  {
   "cell_type": "code",
   "execution_count": null,
   "id": "d98c20f8",
   "metadata": {},
   "outputs": [],
   "source": []
  }
 ],
 "metadata": {
  "kernelspec": {
   "display_name": "Python 3",
   "language": "python",
   "name": "python3"
  },
  "language_info": {
   "codemirror_mode": {
    "name": "ipython",
    "version": 3
   },
   "file_extension": ".py",
   "mimetype": "text/x-python",
   "name": "python",
   "nbconvert_exporter": "python",
   "pygments_lexer": "ipython3",
   "version": "3.8.8"
  }
 },
 "nbformat": 4,
 "nbformat_minor": 5
}

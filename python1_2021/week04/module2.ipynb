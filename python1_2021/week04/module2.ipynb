{
 "cells": [
  {
   "cell_type": "code",
   "execution_count": null,
   "id": "9558e13b",
   "metadata": {},
   "outputs": [],
   "source": [
    "# A-Z comes before a-z"
   ]
  },
  {
   "cell_type": "code",
   "execution_count": null,
   "id": "b5e5e5e0",
   "metadata": {},
   "outputs": [],
   "source": [
    "##### String and if/else statements #####\n",
    "veggie = input('State a vegetable: ')\n",
    "if veggie > 'spinach':\n",
    "    print('this word starts with t, u, v, w, x, y, or z')\n",
    "elif veggie > 'carrot':\n",
    "    print('greater than carrot and less than spinach')\n",
    "elif veggie > 'broccoli':\n",
    "    print('greater than broccoli and less than carrot')\n",
    "else:\n",
    "    print('not greater than broccoli')"
   ]
  },
  {
   "cell_type": "code",
   "execution_count": 1,
   "id": "4c074936",
   "metadata": {
    "scrolled": true
   },
   "outputs": [
    {
     "name": "stdout",
     "output_type": "stream",
     "text": [
      "One fish\n",
      "Two fish\n",
      "Red fish\n",
      "Blue fish\n",
      "One fish\n",
      "Two fish\n",
      "Red fish\n",
      "Blue fish\n",
      "\n",
      "False\n"
     ]
    }
   ],
   "source": [
    "fish1 = 'One fish\\nTwo fish\\nRed fish\\nBlue fish'\n",
    "\n",
    "## you can also use triple single/double quotes\n",
    "#  new line makes a different in boolean test\n",
    "fish2 = '''One fish\n",
    "Two fish\n",
    "Red fish\n",
    "Blue fish\n",
    "'''\n",
    "print(fish1)\n",
    "print(fish2)\n",
    "print(fish1 == fish2)       ## False because fish2 has an extra new line"
   ]
  },
  {
   "cell_type": "code",
   "execution_count": 2,
   "id": "c3522ba0",
   "metadata": {
    "scrolled": true
   },
   "outputs": [
    {
     "name": "stdout",
     "output_type": "stream",
     "text": [
      "t\n",
      "wes\n",
      " brilling and the slithy toads\n",
      "\n",
      "['did gier and gimbol in the way\\n', 'was something in the borogrove\\n', 'and the mummy raths did outgabe']\n"
     ]
    }
   ],
   "source": [
    "########## Working with text (.txt) files ##########\n",
    "\"\"\"File modes\n",
    "'r' read    (cannot modify the text file, default)\n",
    "'w' write   (nothing to read out of the text file, you will overwrite that is there)\n",
    "'a' append  (add things at the end of the text file, keep what's already there)\n",
    "'r+' read and write     (dangerous stuff! -- not today)\n",
    "\n",
    "'t' text    (textfile, default)\n",
    "'b' binary  (binary file, .jpg, .gif -- not today)\n",
    "\"\"\"\n",
    "\n",
    "\n",
    "frozen = open('letitgo.txt', 'rt')          ## same as open('letitgo.txt') because 'rt' (read, text) is the default\n",
    "\n",
    "# Table 4.5 in textbook \"File methods\"\n",
    "print(frozen.read(1))           ##read and print just the first character\n",
    "print(frozen.read(3))           ##read and print the next 3 characters\n",
    "print(frozen.readline())        ##readline() until it sees \\n\n",
    "print(frozen.readlines())\n",
    "\n",
    "frozen.close()                  ## remember to close your file when you are done\n",
    "\n",
    "#print(frozen.read(1))           ## we will get an error because the file is now closed#"
   ]
  },
  {
   "cell_type": "code",
   "execution_count": 3,
   "id": "8c0386bf",
   "metadata": {},
   "outputs": [
    {
     "name": "stdout",
     "output_type": "stream",
     "text": [
      "twes brilling and the slithy toads\n",
      "did gier and gimbol in the way\n",
      "was something in the borogrove\n",
      "and the mummy raths did outgabe\n",
      "0\n"
     ]
    }
   ],
   "source": [
    "frozen = open('letitgo.txt')\n",
    "content = frozen.read()\n",
    "frozen.close()\n",
    "\n",
    "print(content)\n",
    "print(content.count('it go'))"
   ]
  },
  {
   "cell_type": "code",
   "execution_count": null,
   "id": "36879297",
   "metadata": {},
   "outputs": [],
   "source": [
    "## Task: Write a function that counts how many characters are in our file\n",
    "def numChars(filename):\n",
    "    'return the number of characters in file filename'\n",
    "    infile = open(filename, 'r')\n",
    "    content = infile.read()\n",
    "    infile.close()\n",
    "\n",
    "    return len(content)         ## this includes special characters like spaces, \\n, \\t\n",
    "\n",
    "n = numChars('letitgo.txt')\n",
    "print(n)"
   ]
  },
  {
   "cell_type": "code",
   "execution_count": 4,
   "id": "d2da6a6c",
   "metadata": {},
   "outputs": [
    {
     "name": "stdout",
     "output_type": "stream",
     "text": [
      "4\n"
     ]
    }
   ],
   "source": [
    "## Task: readlines\n",
    "def numChars(filename):\n",
    "    'return the number of characters in file filename'\n",
    "    infile = open(filename, 'r')\n",
    "    contentList = infile.readlines()\n",
    "    infile.close()\n",
    "\n",
    "    return len(contentList)         ## this includes special characters like spaces, \\n, \\t\n",
    "\n",
    "lines = numChars('letitgo.txt')\n",
    "print(lines)"
   ]
  },
  {
   "cell_type": "code",
   "execution_count": null,
   "id": "df92007c",
   "metadata": {},
   "outputs": [],
   "source": [
    "##### Writing Files #####\n",
    "output = open('textfile1.txt', 'w')\n",
    "output.write('Hello,')\n",
    "output.write('testing123')\n",
    "output.write(' Note, you need to manually add spaces')\n",
    "output.close()\n",
    "\n",
    "output = open('textfile1.txt', 'w')     ##'w' will create a new file OR overwrite an existing file\n",
    "output.write('Oh no! Everything is gone!')\n",
    "output.close()\n",
    "\n",
    "output = open('textfile1.txt', 'a')     ##'a' will append to an existing file\n",
    "output.write(' Whew, the last text is still here.')\n",
    "output.close()"
   ]
  },
  {
   "cell_type": "code",
   "execution_count": null,
   "id": "5e1436e4",
   "metadata": {},
   "outputs": [],
   "source": [
    "## Task 1: Ask the user how many jokes, and keep prompting for jokes until the quota is met\n",
    "## Store all jokes and answers in a file with \"Q:\" for questions and \"A:\" for answer\n",
    "\n",
    "numJokes = eval(input('How many jokes do you have? '))\n",
    "jokefile = open('jokes.txt', 'a')       ## 'a' to keep old jokes\n",
    "for i in range(numJokes):\n",
    "    joke = input('Tell me joke #' + str(i+1) + ': ')\n",
    "    ans = input('I don\\'t know. What is the answer? ')          ## same as \"I don't know. What is the answer?\"\n",
    "    jokefile.write('Q: ' + joke + '\\n')\n",
    "    jokefile.write('A: ' + ans + '\\n')\n",
    "\n",
    "jokefile.close()"
   ]
  },
  {
   "cell_type": "code",
   "execution_count": null,
   "id": "c446cd17",
   "metadata": {},
   "outputs": [],
   "source": [
    "## Task 2: Using the jokes file, print only the questions in a new file 'jokesQ.txt'\n",
    "jokesfile = open('jokes.txt', 'r')\n",
    "text = jokesfile.readlines()\n",
    "jokesfile.close()\n",
    "\n",
    "qfile = open('jokesQ.txt', 'w')\n",
    "\n",
    "for line in text:\n",
    "    if line[:2] == 'Q:':  # first 3 characters 0 1 2\n",
    "        qfile.write(line[3:])\n",
    "\n",
    "qfile.close()"
   ]
  },
  {
   "cell_type": "code",
   "execution_count": null,
   "id": "3ff5a070",
   "metadata": {},
   "outputs": [],
   "source": [
    "## Task 3: Task 2, but with numbered questions\n",
    "jokesfile = open('jokes.txt', 'r')\n",
    "text = jokesfile.readlines()\n",
    "jokesfile.close()\n",
    "\n",
    "qfile = open('jokesQ.txt', 'w')\n",
    "\n",
    "qnum = 1\n",
    "for line in text:\n",
    "    if line[:2] == 'Q:':\n",
    "        qfile.write(str(qnum) + ': ' + line[3:])\n",
    "        qnum += 1       ## same as qnum = qnum + 1, incrementing by 1\n",
    "\n",
    "qfile.close()"
   ]
  },
  {
   "cell_type": "code",
   "execution_count": null,
   "id": "88eb5806",
   "metadata": {},
   "outputs": [],
   "source": [
    "########## Time ##########\n",
    "\n",
    "import time\n",
    "\n",
    "## This will give you how many seconds it has been since the 'epoch' (beginning of a period in time)\n",
    "## For most systems in Python, the epoch is January 1, 1970 at midnight in GMT\n",
    "print(time.time())\n",
    "\n",
    "print(time.gmtime(0))\n",
    "\n",
    "print(time.localtime())"
   ]
  },
  {
   "cell_type": "code",
   "execution_count": null,
   "id": "13733a86",
   "metadata": {},
   "outputs": [],
   "source": [
    "## strftime()\n",
    "'''For basic list of directives, see Table 4.3 (page 107) of textbook\n",
    "Other directives:\n",
    "%f microsecond (000000 - 999999)\n",
    "%j day of year (001-366)\n",
    "%m month number\n",
    "%U week number of year (Sunday as first day)\n",
    "%W week number of year (Monday as first day)\n",
    "%w weekday number(0 is Sunday, 1 is Monday, ..., 6 is Saturday)\n",
    "%z UTC offset (-0800 for PST, -0700 for PDT)"
   ]
  },
  {
   "cell_type": "code",
   "execution_count": null,
   "id": "7cb1616d",
   "metadata": {},
   "outputs": [],
   "source": [
    "import time\n",
    "\n",
    "datecondensed = time.strftime('%a, %m/%d/%y', time.localtime())\n",
    "dateexpanded = time.strftime('%A, %B %d, %Y', time.localtime())\n",
    "time24 = time.strftime('%H:%M:%S %Z', time.localtime())\n",
    "time12 = time.strftime('%I:%M:%S %p %Z', time.localtime())\n",
    "\n",
    "print(datecondensed)\n",
    "print(dateexpanded)\n",
    "print(time24)\n",
    "print(time12)"
   ]
  },
  {
   "cell_type": "code",
   "execution_count": null,
   "id": "553caf47",
   "metadata": {},
   "outputs": [],
   "source": [
    "## Task 4: Time-Stamp Joke Entries\n",
    "import time\n",
    "\n",
    "numJokes = eval(input('How many jokes do you have? '))\n",
    "jokefile = open('jokes.txt', 'a')       ## 'a' to keep old jokes / append\n",
    "for i in range(numJokes):\n",
    "\n",
    "    joke = input('Tell me joke #' + str(i+1) + ': ')\n",
    "    jokets = time.strftime('%m/%d/%y %H:%M:%S', time.localtime())\n",
    "\n",
    "    ans = input('I don\\'t know. What is the answer? ')\n",
    "    ansts = time.strftime('%m/%d/%y %H:%M:%S', time.localtime())\n",
    "\n",
    "    jokefile.write('[' + jokets + '] Q: ' + joke + '\\n')\n",
    "    jokefile.write('[' + ansts + '] A: ' + ans + '\\n')\n",
    "\n",
    "jokefile.close()"
   ]
  },
  {
   "cell_type": "code",
   "execution_count": null,
   "id": "bcfcc878",
   "metadata": {},
   "outputs": [],
   "source": [
    "########## zfill() ##########\n",
    "## zfill() pads strings on the left with zeroes to fill width\n",
    "weekday = 'Sunday'\n",
    "month = 'September'\n",
    "day = 11\n",
    "year = 2022\n",
    "hour = 8\n",
    "minute = 3\n",
    "second = 7\n",
    "\n",
    "print(str(hour))\n",
    "print(str(hour).zfill(5))\n",
    "\n",
    "print(str(hour) + ':' + str(minute) + ':' + str(second))\n",
    "\n",
    "## HH:MM:SS\n",
    "print(str(hour).zfill(2) + ':' + str(minute).zfill(2) + ':' + str(second).zfill(2))"
   ]
  },
  {
   "cell_type": "code",
   "execution_count": null,
   "id": "af879f54",
   "metadata": {},
   "outputs": [],
   "source": [
    "########## format() ##########\n",
    "\n",
    "weekday = 'Sunday'\n",
    "month = 'September'\n",
    "day = 11\n",
    "year = 2022\n",
    "hour = 8\n",
    "minute = 3\n",
    "second = 7\n",
    "\n",
    "## dow, month day, year, at HH:MM:SS\n",
    "datefmt = '{}, {} {}, {}, at {}:{}:{}'.format(weekday, month, day, year, hour, minute, second)\n",
    "print(datefmt)\n",
    "\n",
    "datefmt = '{}, {} {}, {}, at {}:{}:{}'.format(weekday, month, day, year, str(hour).zfill(2), str(minute).zfill(2), str(second).zfill(2))\n",
    "print(datefmt)\n",
    "\n",
    "## By default, blank {} will go in order of the arguments that you gave\n",
    "## but, if you type in numbers, you will re-order what goes in each  placeholder\n",
    "datefmt = '{3}, {2} {1}, {0}, at {5}:{5}:{5}'.format(weekday, month, day, year, str(hour).zfill(2), str(minute).zfill(2), str(second).zfill(2))\n",
    "print(datefmt)"
   ]
  },
  {
   "cell_type": "code",
   "execution_count": 5,
   "id": "4910e716",
   "metadata": {},
   "outputs": [
    {
     "name": "stdout",
     "output_type": "stream",
     "text": [
      "Barbara, Anna is a 35-year old nurse\n",
      "Do, Catherine is a 45-year old physicist\n",
      "Frederick, Eric is a 28-year old teacher\n",
      "Hernandez, Gabriel is a 55-year old surgeon\n",
      "Joo, Ivy is a 31-year old engineer\n",
      "Marks, Kelly is a 21-year old student\n"
     ]
    }
   ],
   "source": [
    "## print the roster in a formatted manner\n",
    "## {last}, {first} is a {##}-year old {occupation}\n",
    "roster = [['Anna','Barbara',35,'nurse'],\n",
    "          ['Catherine','Do',45,'physicist'],\n",
    "          ['Eric','Frederick',28,'teacher'],\n",
    "          ['Gabriel','Hernandez',55,'surgeon'],\n",
    "          ['Ivy','Joo',31,'engineer'],\n",
    "          ['Kelly','Marks',21,'student']]\n",
    "\n",
    "for person in roster:       ## First loop through, person will be ['Anna','Barbara',35,'nurse']\n",
    "    formattedtext = '{}, {} is a {}-year old {}'.format(person[1], person[0], person[2], person[3])\n",
    "    print(formattedtext)"
   ]
  },
  {
   "cell_type": "code",
   "execution_count": 6,
   "id": "7aeb4f3b",
   "metadata": {},
   "outputs": [
    {
     "name": "stdout",
     "output_type": "stream",
     "text": [
      "Anna        Barbara      35nurse       \n",
      "Catherine   Do           45physicist   \n",
      "Eric        Frederick    28teacher     \n",
      "Gabriel     Hernandez    55surgeon     \n",
      "Ivy         Joo          31engineer    \n",
      "Kelly       Marks        21student     \n"
     ]
    }
   ],
   "source": [
    "## 12 character spaces for first name   (left aligned because string)\n",
    "## 12 character spaces for last name    (left aligned because string)\n",
    "## 3 character spaces for age           (right aligned because int)\n",
    "## 12 character spaces for occupation   (left aligned because string)\n",
    "roster = [['Anna','Barbara',35,'nurse'],\n",
    "          ['Catherine','Do',45,'physicist'],\n",
    "          ['Eric','Frederick',28,'teacher'],\n",
    "          ['Gabriel','Hernandez',55,'surgeon'],\n",
    "          ['Ivy','Joo',31,'engineer'],\n",
    "          ['Kelly','Marks',21,'student']]\n",
    "\n",
    "for person in roster:       ## First loop through, person will be ['Anna','Barbara',35,'nurse']\n",
    "    formattedtext = '{:12}{:12}{:3}{:12}'.format(person[0], person[1], person[2], person[3])\n",
    "    print(formattedtext)"
   ]
  },
  {
   "cell_type": "code",
   "execution_count": null,
   "id": "3f4361fc",
   "metadata": {},
   "outputs": [],
   "source": [
    "########## Alignment ##########\n",
    "## {:>12}       12 spaces, right aligned (by default, numbers are right aligned)\n",
    "## {:<10}       10 spaces, left aligned (by default, strings are left aligned)\n",
    "## {:^11}       11 spaces, center aligned (extra space, if odd number, will go to the right)\n",
    "## {:_<9}       9 spaces, right aligned with '_' to show spaces\n",
    "\n",
    "\n",
    "## Formatted roster output with everything left-aligned\n",
    "roster = [['Anna','Barbara',35,'nurse'],\n",
    "          ['Catherine','Do',45,'physicist'],\n",
    "          ['Eric','Frederick',28,'teacher'],\n",
    "          ['Gabriel','Hernandez',55,'surgeon'],\n",
    "          ['Ivy','Joo',31,'engineer'],\n",
    "          ['Kelly','Marks',21,'student']]\n",
    "\n",
    "for person in roster:       ## First loop through, person will be ['Anna','Barbara',35,'nurse']\n",
    "    formattedtext = '{:<12}{:<12}{:<3}{:<12}'.format(person[0], person[1], person[2], person[3])\n",
    "    print(formattedtext)"
   ]
  },
  {
   "cell_type": "code",
   "execution_count": null,
   "id": "95f0bfd9",
   "metadata": {},
   "outputs": [],
   "source": [
    "## Formatted roster output with everything left-aligned (with character fill-ins)\n",
    "roster = [['Anna','Barbara',35,'nurse'],\n",
    "          ['Catherine','Do',45,'physicist'],\n",
    "          ['Eric','Frederick',28,'teacher'],\n",
    "          ['Gabriel','Hernandez',55,'surgeon'],\n",
    "          ['Ivy','Joo',31,'engineer'],\n",
    "          ['Kelly','Marks',21,'student']]\n",
    "\n",
    "for person in roster:       ## First loop through, person will be ['Anna','Barbara',35,'nurse']\n",
    "    formattedtext = '{:-<12}{:*<12}{:.<3}{:~<12}'.format(person[0], person[1], person[2], person[3])\n",
    "    print(formattedtext)"
   ]
  },
  {
   "cell_type": "code",
   "execution_count": null,
   "id": "9cbd1ad2",
   "metadata": {},
   "outputs": [],
   "source": [
    "## What if your text is longer than how many spaces you allotted\n",
    "## Answer: the text will bleed over\n",
    "roster = [['Anna','Barbara',35,'nurse'],\n",
    "          ['Catherine','Do',45,'physicist'],\n",
    "          ['Eric','Frederick',28,'teacher'],\n",
    "          ['Gabriel','Hernandez',55,'surgeon'],\n",
    "          ['Ivy','Joo',31,'engineer'],\n",
    "          ['Kelly','Marks',21,'student']]\n",
    "\n",
    "for person in roster:       ## First loop through, person will be ['Anna','Barbara',35,'nurse']\n",
    "    formattedtext = '{:-<6}{:*<12}{:.<3}{:~<12}'.format(person[0], person[1], person[2], person[3])\n",
    "    print(formattedtext)"
   ]
  },
  {
   "cell_type": "code",
   "execution_count": null,
   "id": "8b24f5f7",
   "metadata": {},
   "outputs": [],
   "source": [
    "## How do you make the text length (allocated spaces) a variable?\n",
    "roster = [['Anna','Barbara',35,'nurse'],\n",
    "          ['Catherine','Do',45,'physicist'],\n",
    "          ['Eric','Frederick',28,'teacher'],\n",
    "          ['Gabriel','Hernandez',55,'surgeon'],\n",
    "          ['Ivy','Joo',31,'engineer'],\n",
    "          ['Kelly','Marks',21,'student']]\n",
    "longestfirstname = 9\n",
    "longestlastname = 9\n",
    "longestoccupation = 9\n",
    "\n",
    "for person in roster:       ## First loop through, person will be ['Anna','Barbara',35,'nurse']\n",
    "    formattedtext = '{:<{lenfirst}}{:<{lenlast}}{:<3}{:<{lenocc}}'.format(person[0], person[1], person[2], person[3],\n",
    "                                                                          lenfirst = longestfirstname + 1, lenlast = longestlastname + 1, lenocc = longestoccupation + 1)\n",
    "    print(formattedtext)"
   ]
  },
  {
   "cell_type": "code",
   "execution_count": null,
   "id": "6ab73e62",
   "metadata": {},
   "outputs": [],
   "source": [
    "## Convert CSV data format to spaced data format\n",
    "## Note: CSV is also a text file\n",
    "\n",
    "input = open('roster_small.csv', 'r')\n",
    "input.readline()        ## skipping over the first line (get rid of header)\n",
    "roster = input.readlines()\n",
    "input.close()\n",
    "\n",
    "\n",
    "output = open('roster2.txt', 'w')\n",
    "header = '{:<15} {:<15} {:<3} {:<15}\\n'.format('First', 'Last', 'Age', 'Occupation')\n",
    "output.write(header)\n",
    "\n",
    "for person in roster:\n",
    "    currentrow = person.replace('\\n', '')\n",
    "    personinfo = currentrow.split(',')\n",
    "    personfmt = '{:<15} {:<15} {:<3} {:<15}\\n'.format(personinfo[0], personinfo[1], personinfo[2], personinfo[3])\n",
    "    output.write(personfmt)\n",
    "\n",
    "output.close()"
   ]
  },
  {
   "cell_type": "code",
   "execution_count": null,
   "id": "22454d49",
   "metadata": {},
   "outputs": [],
   "source": [
    "##### Reading and Writing Formatted txt/csv\n",
    "\n",
    "def intoft(inches):\n",
    "    'returns a string value of the height in feet\\'inches\"'\n",
    "    ft = inches//12       ## 12 inches to 1 foot\n",
    "    inch = inches%12\n",
    "    return str(ft) + \"'\" + str(inch) + '\"'\n",
    "\n",
    "def kgtolb(kg):\n",
    "    'take weight in kg and return weight in pounds'\n",
    "    return round(kg * 2.20462, 1)\n",
    "\n",
    "## first name\n",
    "## last name\n",
    "## age\n",
    "## height in inches  -- convert this to ft inches\n",
    "## weight in kg  -- convert this to pounds\n",
    "roster = [['Anna','Barbara', 35, 60, 58.5],\n",
    "           ['Catherine','Do', 45, 65, 61.5],\n",
    "           ['Eric','Frederick', 28, 65, 63.5],\n",
    "           ['Gabriel','Hernandez', 55, 70, 68],\n",
    "           ['Ivy','Joo', 31, 55, 57],\n",
    "           ['Kelly','Marks', 21, 75, 60]]\n",
    "\n",
    "output = open('roster1.txt', 'w')\n",
    "header = '{:<15} {:<15} {:<3} {:<5} {:<5}\\n'.format('First', 'Last', 'Age', 'Ht', 'Wt')\n",
    "output.write(header)\n",
    "\n",
    "for person in roster:\n",
    "    ## first name:      person[0]\n",
    "    ## last name:       person[1]\n",
    "    ## age:             person[2]\n",
    "    ## height:          intoft(person[3])\n",
    "    ## weight:          kgtolb(person[4])\n",
    "    personfmt = '{:<15} {:<15} {:<3} {:<5} {:<5}\\n'.format(person[0], person[1], person[2], intoft(person[3]), kgtolb(person[4]))\n",
    "    output.write(personfmt)\n",
    "\n",
    "output.close()"
   ]
  },
  {
   "cell_type": "code",
   "execution_count": null,
   "id": "f0d566ef",
   "metadata": {},
   "outputs": [],
   "source": [
    "roster2 = [['Nancy','Owens', 36, 65, 59],\n",
    "           ['Patty','Queens', 48, 63, 66],\n",
    "           ['Roderick','Stevenson', 57, 62, 65],\n",
    "           ['Timothy','Umeda', 52, 77, 69],\n",
    "           ['Veronica','Winters', 33, 63, 59],\n",
    "           ['Xiaoya','Zhu', 24, 71, 61]]\n",
    "\n",
    "output = open('roster1.txt', 'a')           ## MAKE SURE YOU APPEND TO NOT OVERWRITE THE ORIGINAL FILE\n",
    "\n",
    "for person in roster2:\n",
    "    ## first name:      person[0]\n",
    "    ## last name:       person[1]\n",
    "    ## age:             person[2]\n",
    "    ## height:          intoft(person[3])\n",
    "    ## weight:          kgtolb(person[4])\n",
    "    personfmt = '{:<15} {:<15} {:<3} {:<5} {:<5}\\n'.format(person[0], person[1], person[2], intoft(person[3]), kgtolb(person[4]))\n",
    "    output.write(personfmt)\n",
    "\n",
    "output.close()"
   ]
  },
  {
   "cell_type": "code",
   "execution_count": null,
   "id": "4ce10c3c",
   "metadata": {},
   "outputs": [],
   "source": [
    "## TASK: Formatted data file with the length of the longest first name (as opposed to the arbitrary picked number)\n",
    "\n",
    "def intoft(inches):\n",
    "    'returns a string value of the height in feet\\'inches\"'\n",
    "    ft = inches//12       ## 12 inches to 1 foot\n",
    "    inch = inches%12\n",
    "    return str(ft) + \"'\" + str(inch) + '\"'\n",
    "\n",
    "def kgtolb(kg):\n",
    "    'take weight in kg and return weight in pounds'\n",
    "    return round(kg * 2.20462, 1)\n",
    "\n",
    "## first name\n",
    "## last name\n",
    "## age\n",
    "## height in inches  -- convert this to ft inches\n",
    "## weight in kg  -- convert this to pounds\n",
    "roster = [['Anna','Barbara', 35, 60, 58.5],\n",
    "           ['Catherine','Do', 45, 65, 61.5],\n",
    "           ['Eric','Frederick', 28, 65, 63.5],\n",
    "           ['Gabriel','Hernandez', 55, 70, 68],\n",
    "           ['Ivy','Joo', 31, 55, 57],\n",
    "           ['Kelly','Marks', 21, 75, 60]]\n",
    "\n",
    "\n",
    "longestfirst = 5        ## need 5 spaces minimum for first name\n",
    "longestlast = 5         ## need 5 spaces minimum for last name\n",
    "\n",
    "for person in roster:\n",
    "\n",
    "    ## First Name: if name is longer than longestfirst, then I need to update longestfirst\n",
    "    if len(person[0]) > longestfirst:\n",
    "        longestfirst = len(person[0])\n",
    "\n",
    "    ## Last Name: if name is longer than longestlast, then I need to update longestlast\n",
    "    if len(person[1]) > longestlast:\n",
    "        longestlast = len(person[1])\n",
    "\n",
    "\n",
    "\n",
    "output = open('roster1.txt', 'w')\n",
    "header = '{:<{var1}} {:<{var2}} {:<3} {:<5} {:<5}\\n'.format('First', 'Last', 'Age', 'Ht', 'Wt', var1 = longestfirst, var2 = longestlast)\n",
    "output.write(header)\n",
    "\n",
    "for person in roster:\n",
    "    ## first name:      person[0]\n",
    "    ## last name:       person[1]\n",
    "    ## age:             person[2]\n",
    "    ## height:          intoft(person[3])\n",
    "    ## weight:          kgtolb(person[4])\n",
    "    personfmt = '{:<{var1}} {:<{var2}} {:<3} {:<5} {:<5}\\n'.format(person[0], person[1], person[2], intoft(person[3]), kgtolb(person[4]), var1 = longestfirst, var2 = longestlast)\n",
    "    output.write(personfmt)\n",
    "\n",
    "output.close()"
   ]
  },
  {
   "cell_type": "code",
   "execution_count": null,
   "id": "a1b85630",
   "metadata": {},
   "outputs": [],
   "source": [
    "## Convert CSV data format to spaced data format\n",
    "## Note: CSV is also a text file\n",
    "\n",
    "input = open('roster_small.csv', 'r')\n",
    "input.readline()        ## skipping over the first line (get rid of header)\n",
    "roster = input.readlines()\n",
    "input.close()\n",
    "\n",
    "\n",
    "output = open('roster2.txt', 'w')\n",
    "header = '{:<15} {:<15} {:<3} {:<15}\\n'.format('First', 'Last', 'Age', 'Occupation')\n",
    "output.write(header)\n",
    "\n",
    "for person in roster:\n",
    "    currentrow = person.replace('\\n', '')\n",
    "    personinfo = currentrow.split(',')\n",
    "    personfmt = '{:<15} {:<15} {:<3} {:<15}\\n'.format(personinfo[0], personinfo[1], personinfo[2], personinfo[3])\n",
    "    output.write(personfmt)\n",
    "\n",
    "output.close()"
   ]
  },
  {
   "cell_type": "code",
   "execution_count": null,
   "id": "ca94fbc1",
   "metadata": {},
   "outputs": [],
   "source": [
    "##### Errors and Exceptions #####\n",
    "## infile = open('roster5.csv')\n",
    "## Program will crash if file does not exist\n",
    "\n",
    "\n",
    "## Basic try/except pair\n",
    "try:\n",
    "    userinput = input('File Name: ')\n",
    "    infile = open(userinput)\n",
    "    print('Open success!')\n",
    "    infile.close()\n",
    "except:\n",
    "    print('Error!')"
   ]
  },
  {
   "cell_type": "code",
   "execution_count": null,
   "id": "c52c0e3e",
   "metadata": {},
   "outputs": [],
   "source": [
    "## If you know what type of error you're looking for, you can specify what you want to happen given the particular error\n",
    "try:\n",
    "    userinput = input('File Name: ')\n",
    "    userint = int(input('Give me an integer: '))\n",
    "    infile = open(userinput)\n",
    "    print('Open success!')\n",
    "    infile.close()\n",
    "except IOError:\n",
    "    print('File not found!')\n",
    "except ValueError:\n",
    "    print('That is not an integer.')\n",
    "except:\n",
    "    print('Other error.')"
   ]
  },
  {
   "cell_type": "code",
   "execution_count": null,
   "id": "89b32ba1",
   "metadata": {},
   "outputs": [],
   "source": [
    "## ORDER MATTERS!\n",
    "try:\n",
    "    userinput = input('File Name: ')\n",
    "    infile = open(userinput)                ## Notice line swap\n",
    "    userint = int(input('Give me an integer: '))\n",
    "    print('Open success!')\n",
    "    infile.close()\n",
    "except IOError:\n",
    "    print('File not found!')\n",
    "except ValueError:\n",
    "    print('That is not an integer.')\n",
    "except:\n",
    "    print('Other error.')"
   ]
  },
  {
   "cell_type": "code",
   "execution_count": 7,
   "id": "14cbf3f0",
   "metadata": {},
   "outputs": [
    {
     "data": {
      "text/plain": [
       "list"
      ]
     },
     "execution_count": 7,
     "metadata": {},
     "output_type": "execute_result"
    }
   ],
   "source": [
    "# try with sort() method\n",
    "import pprint\n",
    "\n",
    "roster = [['Anna','Barbara', 35, 60, 58.5],\n",
    "           ['Catherine','Do', 45, 65, 61.5],\n",
    "           ['Eric','Frederick', 28, 65, 63.5],\n",
    "           ['Gabriel','Hernandez', 55, 70, 68],\n",
    "           ['Ivy','Joo', 31, 55, 57],\n",
    "           ['Kelly','Marks', 21, 75, 60]]\n",
    "\n",
    "type(roster)\n",
    "\n"
   ]
  },
  {
   "cell_type": "code",
   "execution_count": 18,
   "id": "3d0e6248",
   "metadata": {},
   "outputs": [
    {
     "name": "stdout",
     "output_type": "stream",
     "text": [
      "['Anna', 'Barbara', 35, 60, 58.5]\n",
      "['Catherine', 'Do', 45, 65, 61.5]\n",
      "['Eric', 'Frederick', 28, 65, 63.5]\n",
      "['Gabriel', 'Hernandez', 55, 70, 68]\n",
      "['Ivy', 'Joo', 31, 55, 57]\n",
      "['Kelly', 'Marks', 21, 75, 60]\n"
     ]
    }
   ],
   "source": [
    "print(*roster, sep = \"\\n\") "
   ]
  },
  {
   "cell_type": "code",
   "execution_count": 19,
   "id": "14bb1927",
   "metadata": {},
   "outputs": [
    {
     "name": "stdout",
     "output_type": "stream",
     "text": [
      "['Anna', 'Barbara', 35, 60, 58.5]\n",
      "['Catherine', 'Do', 45, 65, 61.5]\n",
      "['Eric', 'Frederick', 28, 65, 63.5]\n",
      "['Gabriel', 'Hernandez', 55, 70, 68]\n",
      "['Ivy', 'Joo', 31, 55, 57]\n",
      "['Kelly', 'Marks', 21, 75, 60]\n"
     ]
    }
   ],
   "source": [
    "for x in roster:\n",
    "    print(x)"
   ]
  },
  {
   "cell_type": "code",
   "execution_count": 20,
   "id": "f8b1a92b",
   "metadata": {},
   "outputs": [
    {
     "name": "stdout",
     "output_type": "stream",
     "text": [
      "[['Anna', 'Barbara', 35, 60, 58.5], ['Catherine', 'Do', 45, 65, 61.5], ['Eric', 'Frederick', 28, 65, 63.5], ['Gabriel', 'Hernandez', 55, 70, 68], ['Ivy', 'Joo', 31, 55, 57], ['Kelly', 'Marks', 21, 75, 60]]\n"
     ]
    }
   ],
   "source": [
    "print(roster)"
   ]
  },
  {
   "cell_type": "code",
   "execution_count": 32,
   "id": "fa7e5586",
   "metadata": {},
   "outputs": [
    {
     "ename": "TypeError",
     "evalue": "'<' not supported between instances of 'int' and 'str'",
     "output_type": "error",
     "traceback": [
      "\u001b[1;31m---------------------------------------------------------------------------\u001b[0m",
      "\u001b[1;31mTypeError\u001b[0m                                 Traceback (most recent call last)",
      "\u001b[1;32m<ipython-input-32-cb5a85791f2d>\u001b[0m in \u001b[0;36m<module>\u001b[1;34m\u001b[0m\n\u001b[0;32m      1\u001b[0m \u001b[1;31m# list.sort(*, key=None, reverse=False)\u001b[0m\u001b[1;33m\u001b[0m\u001b[1;33m\u001b[0m\u001b[1;33m\u001b[0m\u001b[0m\n\u001b[1;32m----> 2\u001b[1;33m \u001b[0mprint\u001b[0m\u001b[1;33m(\u001b[0m\u001b[0mroster\u001b[0m\u001b[1;33m[\u001b[0m\u001b[1;36m0\u001b[0m\u001b[1;33m]\u001b[0m\u001b[1;33m.\u001b[0m\u001b[0msort\u001b[0m\u001b[1;33m(\u001b[0m\u001b[1;33m)\u001b[0m\u001b[1;33m)\u001b[0m\u001b[1;33m\u001b[0m\u001b[1;33m\u001b[0m\u001b[0m\n\u001b[0m",
      "\u001b[1;31mTypeError\u001b[0m: '<' not supported between instances of 'int' and 'str'"
     ]
    }
   ],
   "source": [
    "# list.sort(*, key=None, reverse=False)\n",
    "print(roster[0].sort())"
   ]
  },
  {
   "cell_type": "code",
   "execution_count": null,
   "id": "6db99450",
   "metadata": {},
   "outputs": [],
   "source": []
  }
 ],
 "metadata": {
  "kernelspec": {
   "display_name": "Python 3",
   "language": "python",
   "name": "python3"
  },
  "language_info": {
   "codemirror_mode": {
    "name": "ipython",
    "version": 3
   },
   "file_extension": ".py",
   "mimetype": "text/x-python",
   "name": "python",
   "nbconvert_exporter": "python",
   "pygments_lexer": "ipython3",
   "version": "3.8.8"
  }
 },
 "nbformat": 4,
 "nbformat_minor": 5
}

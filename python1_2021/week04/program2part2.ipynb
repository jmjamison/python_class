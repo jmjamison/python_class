{
 "cells": [
  {
   "cell_type": "code",
   "execution_count": 1,
   "id": "66fc9d05",
   "metadata": {},
   "outputs": [],
   "source": [
    "def add_person():\n",
    "    \n",
    "    fname = input('First Name: ')\n",
    "    lname = input('Last Name: ')\n",
    "    age = input('Age: ')\n",
    "    occup = input('Occupation: ')\n",
    "    height = input('Height (in inches): ')\n",
    "    if height.isnumeric() == False:\n",
    "        height = input('Height (in inches) must be an integer: ')\n",
    "    weight = input('Weight (in pounds): ')\n",
    "    if weight.isnumeric() == False:\n",
    "        weight = input('Weight (in pounds) must be an integer: ')\n",
    "    lifestyle = input('Lifestyle (1-sedentary, 2-moderate, 3-active): ')\n",
    "    if lifestyle == '1':\n",
    "        lifestyle = \"sedentary\"\n",
    "    elif lifestyle == '2':\n",
    "        lifestyle = \"moderate\"\n",
    "    elif lifestyle == '3':\n",
    "        lifestyle = \"active\"\n",
    "    else:\n",
    "        lifestyle = input(\"Incorrect input. Please enter 1, 2 or 3 for Lifstyle choice. \")\n",
    "        \n",
    "    new_line = ('{}, {}, {}, {}, {}, {}, {}\\n'.format(fname, lname, age, occup, height, weight, lifestyle,'\\n'))\n",
    "        \n",
    "    return(new_line)"
   ]
  },
  {
   "cell_type": "code",
   "execution_count": 2,
   "id": "17841df7",
   "metadata": {},
   "outputs": [],
   "source": [
    "def inches2feet(height):\n",
    "    height_feet = height//12\n",
    "    height_inches = height % 12\n",
    "    new_ht = str(height_feet) + \"'\" + str(height_inches) + '\"'\n",
    "    return new_ht\n"
   ]
  },
  {
   "cell_type": "code",
   "execution_count": 3,
   "id": "47f6f58d",
   "metadata": {},
   "outputs": [
    {
     "name": "stdout",
     "output_type": "stream",
     "text": [
      "Hello.\n",
      "Please enter a roster file: roster_extended.csv\n"
     ]
    }
   ],
   "source": [
    "greeting = 'Hello.'\n",
    "\n",
    "print(greeting)\n",
    "\n",
    "# read-only is the default but set to be careful\n",
    "try:\n",
    "    roster_file = open(input(\"Please enter a roster file: \"), \"r\")\n",
    "except IOError:\n",
    "    print('File not found! try again.')\n",
    "    roster_file = open(input(\"Please enter a roster file: \"), \"r\")\n",
    "\n",
    "\n",
    "# read the header first to get rid of it then read the content\n",
    "header = roster_file.readline()\n",
    "#print(header)\n",
    "roster_content = roster_file.readlines()\n",
    "roster_file.close()"
   ]
  },
  {
   "cell_type": "code",
   "execution_count": 4,
   "id": "7da31bcc",
   "metadata": {},
   "outputs": [
    {
     "name": "stdout",
     "output_type": "stream",
     "text": [
      "['Anna,Barbara,35,nurse,63,129,,x,\\n', 'Catherine,Do,45,physicist,65,135,,,x\\n', 'Eric,Frederick,28,teacher,65,140,,x,\\n', 'Gabriel,Hernandez,55,surgeon,67,150,x,,\\n', 'Ivy,Joo,31,engineer,62,126,x,,\\n', 'Kelly,Marks,21,student,64,132,,,x\\n', 'Nancy,Owens,60,immunologist,68,170,x,,\\n', 'Patricia,Qin,36,dental assistant,59,110,x,,\\n', 'Roderick,Stevenson,51,bus driver,66,160,x,,\\n', 'Tracy,Umfreville,42,audiologist,67,156,x,,\\n', 'Victoria,Wolfeschlegelsteinhausenbergerdorff,38,data analyst,68,158,,x,\\n', 'Lucy,Xi,49,professor,69,161,,x,\\n', 'Yolanda,Zachary,58,secretary,70,164,x,,\\n']\n"
     ]
    },
    {
     "data": {
      "text/plain": [
       "list"
      ]
     },
     "execution_count": 4,
     "metadata": {},
     "output_type": "execute_result"
    }
   ],
   "source": [
    "print(roster_content)\n",
    "type(roster_content)"
   ]
  },
  {
   "cell_type": "code",
   "execution_count": 5,
   "id": "70102e7e",
   "metadata": {},
   "outputs": [
    {
     "name": "stdout",
     "output_type": "stream",
     "text": [
      "There are 13 names in this file. Would you like to enter additional names? (Y/N)\n",
      "How many more names? 2\n",
      "---- 1 ----\n",
      "First Name: Spongbob\n",
      "Last Name: Squarepants\n",
      "Age: 33\n",
      "Occupation: fry cook\n",
      "Height (in inches): 53\n",
      "Weight (in pounds): 100\n",
      "Lifestyle (1-sedentary, 2-moderate, 3-active): 2\n",
      "---- 2 ----\n",
      "First Name: Patrick\n",
      "Last Name: Star\n",
      "Age: 35\n",
      "Occupation: unemployed\n",
      "Height (in inches): 50\n",
      "Weight (in pounds): 100\n",
      "Lifestyle (1-sedentary, 2-moderate, 3-active): 3\n",
      "['Anna,Barbara,35,nurse,63,129,,x,\\n', 'Catherine,Do,45,physicist,65,135,,,x\\n', 'Eric,Frederick,28,teacher,65,140,,x,\\n', 'Gabriel,Hernandez,55,surgeon,67,150,x,,\\n', 'Ivy,Joo,31,engineer,62,126,x,,\\n', 'Kelly,Marks,21,student,64,132,,,x\\n', 'Nancy,Owens,60,immunologist,68,170,x,,\\n', 'Patricia,Qin,36,dental assistant,59,110,x,,\\n', 'Roderick,Stevenson,51,bus driver,66,160,x,,\\n', 'Tracy,Umfreville,42,audiologist,67,156,x,,\\n', 'Victoria,Wolfeschlegelsteinhausenbergerdorff,38,data analyst,68,158,,x,\\n', 'Lucy,Xi,49,professor,69,161,,x,\\n', 'Yolanda,Zachary,58,secretary,70,164,x,,\\n', 'Spongbob, Squarepants, 33, fry cook, 53, 100, moderate\\n', 'Patrick, Star, 35, unemployed, 50, 100, active\\n']\n"
     ]
    }
   ],
   "source": [
    "num_names = len(roster_content)\n",
    "print(\"There are {0} names in this file. Would you like to enter additional names? (Y/N)\".format(num_names))\n",
    "\n",
    "new_names = int(input(\"How many more names? \"))\n",
    "\n",
    "#print(\"adding {0} names.\".format(num_names))\n",
    "\n",
    "for new_names in range(0,new_names):\n",
    "    print('{0:-^11}'.format(' ' + str(new_names+1) + ' ' ))   \n",
    "    roster_content.append(add_person())\n",
    "\n",
    "print(roster_content)"
   ]
  },
  {
   "cell_type": "code",
   "execution_count": 7,
   "id": "a00822d1",
   "metadata": {},
   "outputs": [
    {
     "name": "stdout",
     "output_type": "stream",
     "text": [
      "['Anna,Barbara,35,nurse,63,129,,x,\\n', 'Catherine,Do,45,physicist,65,135,,,x\\n', 'Eric,Frederick,28,teacher,65,140,,x,\\n', 'Gabriel,Hernandez,55,surgeon,67,150,x,,\\n', 'Ivy,Joo,31,engineer,62,126,x,,\\n', 'Kelly,Marks,21,student,64,132,,,x\\n', 'Nancy,Owens,60,immunologist,68,170,x,,\\n', 'Patricia,Qin,36,dental assistant,59,110,x,,\\n', 'Roderick,Stevenson,51,bus driver,66,160,x,,\\n', 'Tracy,Umfreville,42,audiologist,67,156,x,,\\n', 'Victoria,Wolfeschlegelsteinhausenbergerdorff,38,data analyst,68,158,,x,\\n', 'Lucy,Xi,49,professor,69,161,,x,\\n', 'Yolanda,Zachary,58,secretary,70,164,x,,\\n', 'Spongbob, Squarepants, 33, fry cook, 53, 100, moderate\\n', 'Patrick, Star, 35, unemployed, 50, 100, active\\n']\n"
     ]
    }
   ],
   "source": [
    "#type(roster_content)\n",
    "print(roster_content)"
   ]
  },
  {
   "cell_type": "code",
   "execution_count": 8,
   "id": "ad5d852a",
   "metadata": {
    "scrolled": false
   },
   "outputs": [
    {
     "name": "stdout",
     "output_type": "stream",
     "text": [
      "[['Anna', 'Barbara', '35', 'nurse', '63', '129', '', 'x', ''], ['Catherine', 'Do', '45', 'physicist', '65', '135', '', '', 'x'], ['Eric', 'Frederick', '28', 'teacher', '65', '140', '', 'x', ''], ['Gabriel', 'Hernandez', '55', 'surgeon', '67', '150', 'x', '', ''], ['Ivy', 'Joo', '31', 'engineer', '62', '126', 'x', '', ''], ['Kelly', 'Marks', '21', 'student', '64', '132', '', '', 'x'], ['Nancy', 'Owens', '60', 'immunologist', '68', '170', 'x', '', ''], ['Patricia', 'Qin', '36', 'dental assistant', '59', '110', 'x', '', ''], ['Roderick', 'Stevenson', '51', 'bus driver', '66', '160', 'x', '', ''], ['Tracy', 'Umfreville', '42', 'audiologist', '67', '156', 'x', '', ''], ['Victoria', 'Wolfeschlegelsteinhausenbergerdorff', '38', 'data analyst', '68', '158', '', 'x', ''], ['Lucy', 'Xi', '49', 'professor', '69', '161', '', 'x', ''], ['Yolanda', 'Zachary', '58', 'secretary', '70', '164', 'x', '', ''], ['Spongbob', ' Squarepants', ' 33', ' fry cook', ' 53', ' 100', ' moderate'], ['Patrick', ' Star', ' 35', ' unemployed', ' 50', ' 100', ' active']]\n"
     ]
    }
   ],
   "source": [
    "# str.split(str=\"\", num = string.count(str))\n",
    "# x.split(“,”) \n",
    "# new_content = roster_content[0].split(',')\n",
    "# print(new_content)\n",
    "\n",
    "roster_content_split = []\n",
    "\n",
    "for name in roster_content:\n",
    "    current_row = name.replace('\\n', '')    \n",
    "    roster_content_split.append(current_row.split(',')) \n",
    "    \n",
    "#for person in roster:\n",
    "    #currentrow = person.replace('\\n', '')\n",
    "    #personinfo = currentrow.split(',')\n",
    "    \n",
    "print(roster_content_split)"
   ]
  },
  {
   "cell_type": "code",
   "execution_count": 9,
   "id": "6e42b153",
   "metadata": {},
   "outputs": [
    {
     "name": "stdout",
     "output_type": "stream",
     "text": [
      "[['Anna', 'Barbara', '35', 'nurse', '63', '129', '', 'x', ''],\n",
      " ['Catherine', 'Do', '45', 'physicist', '65', '135', '', '', 'x'],\n",
      " ['Eric', 'Frederick', '28', 'teacher', '65', '140', '', 'x', ''],\n",
      " ['Gabriel', 'Hernandez', '55', 'surgeon', '67', '150', 'x', '', ''],\n",
      " ['Ivy', 'Joo', '31', 'engineer', '62', '126', 'x', '', ''],\n",
      " ['Kelly', 'Marks', '21', 'student', '64', '132', '', '', 'x'],\n",
      " ['Nancy', 'Owens', '60', 'immunologist', '68', '170', 'x', '', ''],\n",
      " ['Patricia', 'Qin', '36', 'dental assistant', '59', '110', 'x', '', ''],\n",
      " ['Roderick', 'Stevenson', '51', 'bus driver', '66', '160', 'x', '', ''],\n",
      " ['Tracy', 'Umfreville', '42', 'audiologist', '67', '156', 'x', '', ''],\n",
      " ['Victoria',\n",
      "  'Wolfeschlegelsteinhausenbergerdorff',\n",
      "  '38',\n",
      "  'data analyst',\n",
      "  '68',\n",
      "  '158',\n",
      "  '',\n",
      "  'x',\n",
      "  ''],\n",
      " ['Lucy', 'Xi', '49', 'professor', '69', '161', '', 'x', ''],\n",
      " ['Yolanda', 'Zachary', '58', 'secretary', '70', '164', 'x', '', ''],\n",
      " ['Spongbob', ' Squarepants', ' 33', ' fry cook', ' 53', ' 100', ' moderate'],\n",
      " ['Patrick', ' Star', ' 35', ' unemployed', ' 50', ' 100', ' active']]\n"
     ]
    }
   ],
   "source": [
    "import pprint\n",
    "pprint.pprint(roster_content_split)"
   ]
  },
  {
   "cell_type": "code",
   "execution_count": 10,
   "id": "39005e0d",
   "metadata": {},
   "outputs": [],
   "source": [
    "# strs = str.replace('[','').split('],')"
   ]
  },
  {
   "cell_type": "code",
   "execution_count": 11,
   "id": "5cd4ee37",
   "metadata": {},
   "outputs": [
    {
     "name": "stdout",
     "output_type": "stream",
     "text": [
      "9 8 10\n",
      "9 35 16\n"
     ]
    },
    {
     "data": {
      "text/plain": [
       "int"
      ]
     },
     "execution_count": 11,
     "metadata": {},
     "output_type": "execute_result"
    }
   ],
   "source": [
    "#print(longestfirst, longestlast)\n",
    "\n",
    "# variable lengths\n",
    "longestfirst = 9\n",
    "longestlast = 8\n",
    "age_length = 3\n",
    "longestoccupation = 10\n",
    "height_length = 5\n",
    "weight_length = 3\n",
    "activity_length = 10\n",
    "\n",
    "print(longestfirst, longestlast, longestoccupation)\n",
    "\n",
    "for person in roster_content_split:\n",
    "\n",
    "    ## First Name: if name is longer than longestfirst, then I need to update longestfirst\n",
    "    if len(person[0]) > longestfirst:\n",
    "        longestfirst = len(person[0])\n",
    "\n",
    "    ## Last Name: if name is longer than longestlast, then I need to update longestlast\n",
    "    if len(person[1]) > longestlast:\n",
    "        longestlast = len(person[1])\n",
    "        \n",
    "    ## occupation: if name is longer than longestlast, then I need to update longestlast\n",
    "    if len(person[3]) > longestoccupation:\n",
    "        longestoccupation = len(person[3])    \n",
    "    \n",
    "    ## occupation: if name is longer than longestlast, then I need to update longestlast\n",
    "    if person[6] == 'x':\n",
    "        person[6] = 'n/a' \n",
    "    elif person[6] == '':\n",
    "        person[6] = '99'  # ie. missing data\n",
    "\n",
    "print(longestfirst, longestlast, longestoccupation)\n",
    "\n",
    "type(longestfirst)"
   ]
  },
  {
   "cell_type": "code",
   "execution_count": 12,
   "id": "7492d917",
   "metadata": {},
   "outputs": [
    {
     "name": "stdout",
     "output_type": "stream",
     "text": [
      "Save new roster file as:  test3.txt\n"
     ]
    },
    {
     "ename": "KeyError",
     "evalue": "'var1+1'",
     "output_type": "error",
     "traceback": [
      "\u001b[1;31m---------------------------------------------------------------------------\u001b[0m",
      "\u001b[1;31mKeyError\u001b[0m                                  Traceback (most recent call last)",
      "\u001b[1;32m<ipython-input-12-437afd38a744>\u001b[0m in \u001b[0;36m<module>\u001b[1;34m\u001b[0m\n\u001b[0;32m      3\u001b[0m \u001b[1;33m\u001b[0m\u001b[0m\n\u001b[0;32m      4\u001b[0m \u001b[1;31m# header\u001b[0m\u001b[1;33m\u001b[0m\u001b[1;33m\u001b[0m\u001b[1;33m\u001b[0m\u001b[0m\n\u001b[1;32m----> 5\u001b[1;33m \u001b[0mheader\u001b[0m \u001b[1;33m=\u001b[0m \u001b[1;34m'{:>{var1+1}} {:>{var2+1}} {:>3+1} {:>{var3+1}} {:>15+1} {:>15+1} {:>15+1} \\n'\u001b[0m\u001b[1;33m.\u001b[0m\u001b[0mformat\u001b[0m\u001b[1;33m(\u001b[0m\u001b[1;34m'First'\u001b[0m\u001b[1;33m,\u001b[0m \u001b[1;34m'Last'\u001b[0m\u001b[1;33m,\u001b[0m \u001b[1;34m'Age'\u001b[0m\u001b[1;33m,\u001b[0m \u001b[1;34m'Occupation'\u001b[0m\u001b[1;33m,\u001b[0m \u001b[1;34m'Ht'\u001b[0m\u001b[1;33m,\u001b[0m \u001b[1;34m'Wt'\u001b[0m\u001b[1;33m,\u001b[0m \u001b[1;34m'Lifestyle'\u001b[0m\u001b[1;33m,\u001b[0m \u001b[0mvar1\u001b[0m \u001b[1;33m=\u001b[0m \u001b[0mlongestfirst\u001b[0m\u001b[1;33m,\u001b[0m \u001b[0mvar2\u001b[0m \u001b[1;33m=\u001b[0m \u001b[0mlongestlast\u001b[0m\u001b[1;33m,\u001b[0m \u001b[0mvar3\u001b[0m \u001b[1;33m=\u001b[0m \u001b[0mlongestoccupation\u001b[0m\u001b[1;33m)\u001b[0m\u001b[1;33m\u001b[0m\u001b[1;33m\u001b[0m\u001b[0m\n\u001b[0m\u001b[0;32m      6\u001b[0m \u001b[0mroster_out\u001b[0m\u001b[1;33m.\u001b[0m\u001b[0mwrite\u001b[0m\u001b[1;33m(\u001b[0m\u001b[0mheader\u001b[0m\u001b[1;33m)\u001b[0m\u001b[1;33m\u001b[0m\u001b[1;33m\u001b[0m\u001b[0m\n\u001b[0;32m      7\u001b[0m \u001b[1;33m\u001b[0m\u001b[0m\n",
      "\u001b[1;31mKeyError\u001b[0m: 'var1+1'"
     ]
    }
   ],
   "source": [
    "# the output file\n",
    "roster_out = open(input(\"Save new roster file as:  \"), \"w\")\n",
    "\n",
    "# header\n",
    "header = '{:>{var1}} {:>{var2}} {:>3} {:>{var3}} {:>15} {:>15} {:>15} \\n'.format('First', 'Last', 'Age', 'Occupation', 'Ht', 'Wt', 'Lifestyle', var1 = longestfirst, var2 = longestlast, var3 = longestoccupation)\n",
    "roster_out.write(header)\n",
    "\n",
    "for person in roster_content_split:\n",
    "    # Anna', 'Barbara', '35', 'nurse', '63', '129', '', 'x', '']\n",
    "    personformat = '{:>{var1}} {:>{var2}} {:>3} {:>{var3}} {:>15} {:>15} {:>15} \\n'.format(person[0], person[1], person[2], person[3], inches2feet(int(person[4])), person[5], person[6], var1 = longestfirst, var2 = longestlast, var3 = longestoccupation)\n",
    "    #print(personformat)\n",
    "    #roster_strings = ''.join(roster_content_split)\n",
    "    roster_out.write(personformat)\n",
    "    \n",
    "roster_out.close()\n",
    "print(\"File saved!\")"
   ]
  },
  {
   "cell_type": "code",
   "execution_count": null,
   "id": "b5a5ecc7",
   "metadata": {},
   "outputs": [],
   "source": []
  },
  {
   "cell_type": "code",
   "execution_count": null,
   "id": "f4e939d7",
   "metadata": {},
   "outputs": [],
   "source": []
  }
 ],
 "metadata": {
  "kernelspec": {
   "display_name": "Python 3",
   "language": "python",
   "name": "python3"
  },
  "language_info": {
   "codemirror_mode": {
    "name": "ipython",
    "version": 3
   },
   "file_extension": ".py",
   "mimetype": "text/x-python",
   "name": "python",
   "nbconvert_exporter": "python",
   "pygments_lexer": "ipython3",
   "version": "3.8.8"
  }
 },
 "nbformat": 4,
 "nbformat_minor": 5
}

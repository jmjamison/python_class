{
 "cells": [
  {
   "cell_type": "code",
   "execution_count": 36,
   "id": "d0dc7d32",
   "metadata": {
    "scrolled": true
   },
   "outputs": [
    {
     "name": "stdout",
     "output_type": "stream",
     "text": [
      "0\n",
      "Person 0 Height: 56\n",
      "['56']\n",
      "1\n",
      "Person 1 Height: 73\n",
      "['56', '73']\n",
      "2\n",
      "56\n",
      "73\n"
     ]
    }
   ],
   "source": [
    "def intoft(inches):\n",
    "   'Convert inches to feet inches'\n",
    "   ft = inches // 12\n",
    "   inch = inches % 12\n",
    "   ftinch = str(ft) + \"'\" + str(inch) + '\"'\n",
    "   return ftinch\n",
    "\n",
    "\n",
    "# List of heights in inches\n",
    "Person=[]\n",
    "\n",
    "for x in range(2):\n",
    "    print(x)\n",
    "    Person.append(input(\"Person \" + str(x) + \" Height: \"))\n",
    "    print(Person)\n",
    "\n",
    "print(len(Person))\n",
    "\n",
    "# print the math statement subtracting first - second\n",
    "print(Person[0])\n",
    "print(Person[1])\n",
    "\n"
   ]
  },
  {
   "cell_type": "code",
   "execution_count": 37,
   "id": "ed973f51",
   "metadata": {},
   "outputs": [
    {
     "name": "stdout",
     "output_type": "stream",
     "text": [
      "56 - 73  =  -17\n",
      "Person 2 is taller than Person 1\n"
     ]
    }
   ],
   "source": [
    "# print the math statement subtracting first - second\n",
    "answer = (int(Person[0])-int(Person[1]))\n",
    "                                     \n",
    "print(Person[0], \"-\",Person[1], \" = \", answer)\n",
    "if answer > 0:\n",
    "    print(\"Person 1 is taller than Person 2\")\n",
    "elif answer == 0:\n",
    "    print(\"Persons 1 and 2 are the same height.\")\n",
    "elif answer < 0:\n",
    "    print(\"Person 2 is taller than Person 1\")\n"
   ]
  },
  {
   "cell_type": "code",
   "execution_count": 39,
   "id": "11ee6178",
   "metadata": {},
   "outputs": [
    {
     "name": "stdout",
     "output_type": "stream",
     "text": [
      "56 - 73  =  -17\n",
      " Person 1 is -17 inches taller than Person 2\n"
     ]
    }
   ],
   "source": [
    "# print the math statement subtracting first - second\n",
    "answer = (int(Person[0])-int(Person[1]))\n",
    "                                     \n",
    "print(Person[0], \"-\",Person[1], \" = \", answer)\n",
    "\n",
    "print(\" Person 1 is\", answer, \"inches taller than Person 2\")"
   ]
  },
  {
   "cell_type": "code",
   "execution_count": null,
   "id": "543d084b",
   "metadata": {},
   "outputs": [],
   "source": []
  },
  {
   "cell_type": "code",
   "execution_count": 1,
   "id": "7e4a3858",
   "metadata": {},
   "outputs": [
    {
     "ename": "NameError",
     "evalue": "name 'Person' is not defined",
     "output_type": "error",
     "traceback": [
      "\u001b[1;31m---------------------------------------------------------------------------\u001b[0m",
      "\u001b[1;31mNameError\u001b[0m                                 Traceback (most recent call last)",
      "\u001b[1;32m<ipython-input-1-3225ead31f4c>\u001b[0m in \u001b[0;36m<module>\u001b[1;34m\u001b[0m\n\u001b[1;32m----> 1\u001b[1;33m \u001b[1;32mfor\u001b[0m \u001b[0mx\u001b[0m \u001b[1;32min\u001b[0m \u001b[0mrange\u001b[0m\u001b[1;33m(\u001b[0m\u001b[1;36m0\u001b[0m\u001b[1;33m,\u001b[0m \u001b[0mlen\u001b[0m\u001b[1;33m(\u001b[0m\u001b[0mPerson\u001b[0m\u001b[1;33m)\u001b[0m\u001b[1;33m)\u001b[0m\u001b[1;33m:\u001b[0m\u001b[1;33m\u001b[0m\u001b[1;33m\u001b[0m\u001b[0m\n\u001b[0m\u001b[0;32m      2\u001b[0m     \u001b[0mprint\u001b[0m\u001b[1;33m(\u001b[0m\u001b[1;34m\"Person\"\u001b[0m\u001b[1;33m,\u001b[0m \u001b[0mx\u001b[0m\u001b[1;33m,\u001b[0m \u001b[1;34m\" Height: \"\u001b[0m\u001b[1;33m,\u001b[0m \u001b[0mPerson\u001b[0m\u001b[1;33m[\u001b[0m\u001b[0mx\u001b[0m\u001b[1;33m]\u001b[0m\u001b[1;33m,\u001b[0m \u001b[0mend\u001b[0m\u001b[1;33m=\u001b[0m\u001b[1;34m\"\\n\"\u001b[0m\u001b[1;33m)\u001b[0m\u001b[1;33m\u001b[0m\u001b[1;33m\u001b[0m\u001b[0m\n",
      "\u001b[1;31mNameError\u001b[0m: name 'Person' is not defined"
     ]
    }
   ],
   "source": [
    "for x in range(0, len(Person)):\n",
    "    print(\"Person\", x, \" Height: \", Person[x], end=\"\\n\")"
   ]
  },
  {
   "cell_type": "code",
   "execution_count": 40,
   "id": "cdc821cb",
   "metadata": {},
   "outputs": [
    {
     "name": "stdout",
     "output_type": "stream",
     "text": [
      "Let's create a list of 5 things. Think of a general category.\n",
      "What category of things should we store? (One word or name with no spaces): Vegetable\n",
      "Vegetable 1: peas\n",
      "Vegetable 2: cauliflower\n",
      "Vegetable 3: cabbage\n",
      "Vegetable 4: broccoli\n",
      "Vegetable 5: carrot\n",
      "['peas', 'cauliflower', 'cabbage', 'broccoli', 'carrot']\n",
      "\n",
      "Pick a number between 1 and 5: 3\n"
     ]
    },
    {
     "ename": "TypeError",
     "evalue": "list indices must be integers or slices, not str",
     "output_type": "error",
     "traceback": [
      "\u001b[1;31m---------------------------------------------------------------------------\u001b[0m",
      "\u001b[1;31mTypeError\u001b[0m                                 Traceback (most recent call last)",
      "\u001b[1;32m<ipython-input-40-6aa23568aefc>\u001b[0m in \u001b[0;36m<module>\u001b[1;34m\u001b[0m\n\u001b[0;32m     16\u001b[0m \u001b[1;31m# test that the number is really between 1 and 5\u001b[0m\u001b[1;33m\u001b[0m\u001b[1;33m\u001b[0m\u001b[1;33m\u001b[0m\u001b[0m\n\u001b[0;32m     17\u001b[0m \u001b[1;33m\u001b[0m\u001b[0m\n\u001b[1;32m---> 18\u001b[1;33m \u001b[0mprint\u001b[0m\u001b[1;33m(\u001b[0m\u001b[1;34m\"You picked \"\u001b[0m\u001b[1;33m,\u001b[0m \u001b[0mstr\u001b[0m\u001b[1;33m(\u001b[0m\u001b[0mcategory_list\u001b[0m\u001b[1;33m[\u001b[0m\u001b[0mpick_number\u001b[0m\u001b[1;33m]\u001b[0m\u001b[1;33m)\u001b[0m\u001b[1;33m,\u001b[0m \u001b[1;34m\"!Animals\"\u001b[0m\u001b[1;33m)\u001b[0m\u001b[1;33m\u001b[0m\u001b[1;33m\u001b[0m\u001b[0m\n\u001b[0m",
      "\u001b[1;31mTypeError\u001b[0m: list indices must be integers or slices, not str"
     ]
    }
   ],
   "source": [
    "print(\"Let's create a list of 5 things. Think of a general category.\")\n",
    "\n",
    "category = input(\"What category of things should we store? (One word or name with no spaces): \")\n",
    "#print(category)\n",
    "\n",
    "category_list=[]\n",
    "\n",
    "for x in range(5):\n",
    "    category_list.append(input(category + \" \" + str(x+1) + \": \"))\n",
    "    #print(Person)\n",
    "\n",
    "print(category_list)\n",
    "\n",
    "pick_number = input(\"\\nPick a number between 1 and 5: \")\n",
    "\n",
    "# test that the number is really between 1 and 5\n",
    "\n",
    "print(\"You picked \", str(category_list[pick_number]), \"!Animals\")"
   ]
  },
  {
   "cell_type": "code",
   "execution_count": 50,
   "id": "48210894",
   "metadata": {},
   "outputs": [
    {
     "name": "stdout",
     "output_type": "stream",
     "text": [
      "\n",
      "Pick a number between 1 and 5: 2\n",
      "You picked cabbage!\n"
     ]
    }
   ],
   "source": [
    "pick_number = eval(input(\"\\nPick a number between 1 and 5: \"))\n",
    "\n",
    "#print(category_list[pick_number])\n",
    "\n",
    "\n",
    "# test that the number is really between 1 and 5\n",
    "\n",
    "print(\"You picked\", str(category_list[pick_number])+\"!\")\n",
    "\n",
    "\n",
    "\n",
    "# test that the number is really between 1 and 5"
   ]
  },
  {
   "cell_type": "code",
   "execution_count": null,
   "id": "553ae436",
   "metadata": {},
   "outputs": [],
   "source": []
  }
 ],
 "metadata": {
  "kernelspec": {
   "display_name": "Python 3",
   "language": "python",
   "name": "python3"
  },
  "language_info": {
   "codemirror_mode": {
    "name": "ipython",
    "version": 3
   },
   "file_extension": ".py",
   "mimetype": "text/x-python",
   "name": "python",
   "nbconvert_exporter": "python",
   "pygments_lexer": "ipython3",
   "version": "3.8.8"
  }
 },
 "nbformat": 4,
 "nbformat_minor": 5
}

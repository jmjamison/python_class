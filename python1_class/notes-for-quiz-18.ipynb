{
 "cells": [
  {
   "cell_type": "code",
   "execution_count": 6,
   "id": "043637b9",
   "metadata": {},
   "outputs": [],
   "source": [
    "def print2D2(table):\n",
    "    # prints values in 2d list of numbers t as a 2D table\n",
    "    #     only values in row up to first 0 are prin\n",
    "    for row in table:\n",
    "        for num in row:\n",
    "            print(num, end='')\n",
    "        print()"
   ]
  },
  {
   "cell_type": "code",
   "execution_count": 7,
   "id": "5c23befe",
   "metadata": {},
   "outputs": [
    {
     "name": "stdout",
     "output_type": "stream",
     "text": [
      "2306\n",
      "0345\n",
      "4560\n"
     ]
    }
   ],
   "source": [
    "table = [[2, 3, 0, 6], [0, 3, 4, 5], [4, 5, 6, 0]]\n",
    "print2D2(table)"
   ]
  },
  {
   "cell_type": "code",
   "execution_count": 8,
   "id": "7445605b",
   "metadata": {},
   "outputs": [],
   "source": [
    "def before0(table):\n",
    "     # prints values in 2d list of numbers t as a 2D table\n",
    "    #     only values in row up to first 0 are print3d\n",
    "    for row in table:\n",
    "        for num in row:    # inner loop\n",
    "            if num == 0:   # if num is 0\n",
    "                break      # terminate inner for loop\n",
    "            print(num, end='')  # otherwise print num\n",
    "        print()"
   ]
  },
  {
   "cell_type": "code",
   "execution_count": 9,
   "id": "65f5e8e8",
   "metadata": {},
   "outputs": [
    {
     "name": "stdout",
     "output_type": "stream",
     "text": [
      "23\n",
      "\n",
      "456\n"
     ]
    }
   ],
   "source": [
    "table = [[2, 3, 0, 6], [0, 3, 4, 5], [4, 5, 6, 0]]\n",
    "before0(table)"
   ]
  },
  {
   "cell_type": "code",
   "execution_count": 10,
   "id": "c879f7ac",
   "metadata": {},
   "outputs": [],
   "source": [
    "def ignore0(table):\n",
    "    # prints values in 2d list of numbers t as a 2d table;\n",
    "    #     0 values are not printed\n",
    "    for row in table:\n",
    "        for num in row:    # inner loop\n",
    "            if num == 0:   # if num is 0\n",
    "                continue   # current loom iteration\n",
    "            print(num, end='')  # otherwise print num\n",
    "        print()"
   ]
  },
  {
   "cell_type": "code",
   "execution_count": 11,
   "id": "6653ee45",
   "metadata": {},
   "outputs": [
    {
     "name": "stdout",
     "output_type": "stream",
     "text": [
      "236\n",
      "345\n",
      "456\n"
     ]
    }
   ],
   "source": [
    "table = [[2, 3, 0, 6], [0, 3, 4, 5], [4, 5, 6, 0]]\n",
    "ignore0(table)"
   ]
  },
  {
   "cell_type": "code",
   "execution_count": null,
   "id": "7141eeee",
   "metadata": {},
   "outputs": [],
   "source": [
    "# pass statement\n",
    "if n % 2 == 0:\n",
    "    pass   # do nothing to an even number\n",
    "else:\n",
    "    print(n)   # print if an odd number"
   ]
  },
  {
   "cell_type": "code",
   "execution_count": 12,
   "id": "fb5cca43",
   "metadata": {},
   "outputs": [
    {
     "name": "stdout",
     "output_type": "stream",
     "text": [
      "problem1\n",
      "problem1\n",
      "problem1\n",
      "problem1\n"
     ]
    }
   ],
   "source": [
    "for j in range(101,1000,1):\n",
    "    if j == 105:\n",
    "        break\n",
    "    print(\"problem1\")"
   ]
  },
  {
   "cell_type": "code",
   "execution_count": 13,
   "id": "ca16014d",
   "metadata": {},
   "outputs": [
    {
     "name": "stdout",
     "output_type": "stream",
     "text": [
      "i is 0 and j is 100\n",
      "i is 1 and j is 100\n",
      "i is 2 and j is 100\n",
      "i is 0 and j is 101\n",
      "i is 1 and j is 101\n",
      "i is 2 and j is 101\n",
      "i is 0 and j is 102\n",
      "i is 1 and j is 102\n",
      "i is 2 and j is 102\n",
      "i is 0 and j is 103\n",
      "i is 1 and j is 103\n",
      "i is 2 and j is 103\n",
      "i is 0 and j is 104\n",
      "i is 1 and j is 104\n",
      "i is 2 and j is 104\n",
      "i is 0 and j is 105\n",
      "i is 1 and j is 105\n",
      "i is 2 and j is 105\n",
      "i is 0 and j is 106\n",
      "i is 1 and j is 106\n",
      "i is 2 and j is 106\n",
      "i is 0 and j is 107\n",
      "i is 1 and j is 107\n",
      "i is 2 and j is 107\n",
      "i is 0 and j is 108\n",
      "i is 1 and j is 108\n",
      "i is 2 and j is 108\n",
      "i is 0 and j is 109\n",
      "i is 1 and j is 109\n",
      "i is 2 and j is 109\n"
     ]
    }
   ],
   "source": [
    "for j in range(100,110,1):\n",
    "    for i in range(10):\n",
    "        if i % 4 == 3:\n",
    "            break\n",
    "        print(\"i is\", i, \"and j is\", j)"
   ]
  },
  {
   "cell_type": "code",
   "execution_count": 14,
   "id": "f989a2c1",
   "metadata": {},
   "outputs": [
    {
     "name": "stdout",
     "output_type": "stream",
     "text": [
      "i is 0 and j is 100\n",
      "i is 1 and j is 100\n",
      "i is 2 and j is 100\n",
      "i is 3 and j is 100\n",
      "i is 4 and j is 100\n",
      "i is 5 and j is 100\n",
      "i is 6 and j is 100\n",
      "i is 7 and j is 100\n",
      "i is 8 and j is 100\n",
      "i is 9 and j is 100\n",
      "i is 0 and j is 101\n",
      "i is 1 and j is 101\n",
      "i is 2 and j is 101\n",
      "i is 3 and j is 101\n",
      "i is 4 and j is 101\n",
      "i is 5 and j is 101\n",
      "i is 6 and j is 101\n",
      "i is 7 and j is 101\n",
      "i is 8 and j is 101\n",
      "i is 9 and j is 101\n",
      "i is 0 and j is 102\n",
      "i is 1 and j is 102\n",
      "i is 2 and j is 102\n",
      "i is 3 and j is 102\n",
      "i is 4 and j is 102\n",
      "i is 5 and j is 102\n",
      "i is 6 and j is 102\n",
      "i is 7 and j is 102\n",
      "i is 8 and j is 102\n",
      "i is 9 and j is 102\n",
      "i is 0 and j is 103\n",
      "i is 1 and j is 103\n",
      "i is 2 and j is 103\n",
      "i is 3 and j is 103\n",
      "i is 4 and j is 103\n",
      "i is 5 and j is 103\n",
      "i is 6 and j is 103\n",
      "i is 7 and j is 103\n",
      "i is 8 and j is 103\n",
      "i is 9 and j is 103\n",
      "i is 0 and j is 104\n",
      "i is 1 and j is 104\n",
      "i is 2 and j is 104\n",
      "i is 3 and j is 104\n",
      "i is 4 and j is 104\n",
      "i is 5 and j is 104\n",
      "i is 6 and j is 104\n",
      "i is 7 and j is 104\n",
      "i is 8 and j is 104\n",
      "i is 9 and j is 104\n",
      "i is 0 and j is 105\n",
      "i is 1 and j is 105\n",
      "i is 2 and j is 105\n",
      "i is 3 and j is 105\n",
      "i is 4 and j is 105\n",
      "i is 5 and j is 105\n",
      "i is 6 and j is 105\n",
      "i is 7 and j is 105\n",
      "i is 8 and j is 105\n",
      "i is 9 and j is 105\n",
      "i is 0 and j is 106\n",
      "i is 1 and j is 106\n",
      "i is 2 and j is 106\n",
      "i is 3 and j is 106\n",
      "i is 4 and j is 106\n",
      "i is 5 and j is 106\n",
      "i is 6 and j is 106\n",
      "i is 7 and j is 106\n",
      "i is 8 and j is 106\n",
      "i is 9 and j is 106\n",
      "i is 0 and j is 107\n",
      "i is 1 and j is 107\n",
      "i is 2 and j is 107\n",
      "i is 3 and j is 107\n",
      "i is 4 and j is 107\n",
      "i is 5 and j is 107\n",
      "i is 6 and j is 107\n",
      "i is 7 and j is 107\n",
      "i is 8 and j is 107\n",
      "i is 9 and j is 107\n",
      "i is 0 and j is 108\n",
      "i is 1 and j is 108\n",
      "i is 2 and j is 108\n",
      "i is 3 and j is 108\n",
      "i is 4 and j is 108\n",
      "i is 5 and j is 108\n",
      "i is 6 and j is 108\n",
      "i is 7 and j is 108\n",
      "i is 8 and j is 108\n",
      "i is 9 and j is 108\n",
      "i is 0 and j is 109\n",
      "i is 1 and j is 109\n",
      "i is 2 and j is 109\n",
      "i is 3 and j is 109\n",
      "i is 4 and j is 109\n",
      "i is 5 and j is 109\n",
      "i is 6 and j is 109\n",
      "i is 7 and j is 109\n",
      "i is 8 and j is 109\n",
      "i is 9 and j is 109\n"
     ]
    }
   ],
   "source": [
    "for j in range(100,110,1):\n",
    "    for i in range(10):\n",
    "        print(\"i is\", i, \"and j is\", j)\n",
    "    if i % 4 == 3:\n",
    "        break"
   ]
  },
  {
   "cell_type": "code",
   "execution_count": 15,
   "id": "d672af7c",
   "metadata": {},
   "outputs": [],
   "source": [
    "for j in range(5):\n",
    "    for i in range(10,15,1):\n",
    "        if i * j > 30:\n",
    "            break\n",
    "    if j > 2:\n",
    "        break"
   ]
  },
  {
   "cell_type": "code",
   "execution_count": 16,
   "id": "5c60efd7",
   "metadata": {},
   "outputs": [
    {
     "name": "stdout",
     "output_type": "stream",
     "text": [
      "0\n",
      "1\n",
      "2\n",
      "this is the if block\n",
      "4\n",
      "5\n",
      "6\n",
      "this is the if block\n",
      "8\n",
      "9\n"
     ]
    }
   ],
   "source": [
    "for i in range(10):\n",
    "    if i % 4 == 3:\n",
    "        print(\"this is the if block\")\n",
    "        continue\n",
    "    print(i)"
   ]
  },
  {
   "cell_type": "code",
   "execution_count": 18,
   "id": "a09769aa",
   "metadata": {},
   "outputs": [
    {
     "name": "stdout",
     "output_type": "stream",
     "text": [
      "problem3\n",
      "problem3\n",
      "problem3\n",
      "problem3\n",
      "105\n",
      "problem3\n",
      "problem3\n",
      "problem3\n",
      "problem3\n"
     ]
    }
   ],
   "source": [
    "for j in range(101,110,1):\n",
    "    if j == 105:\n",
    "        print(j)\n",
    "        continue\n",
    "    print(\"problem3\")"
   ]
  },
  {
   "cell_type": "code",
   "execution_count": 19,
   "id": "ec1bd5bd",
   "metadata": {},
   "outputs": [
    {
     "name": "stdout",
     "output_type": "stream",
     "text": [
      "i is 0 and j is 100\n",
      "i is 2 and j is 100\n",
      "i is 4 and j is 100\n",
      "i is 0 and j is 101\n",
      "i is 2 and j is 101\n",
      "i is 4 and j is 101\n",
      "i is 0 and j is 102\n",
      "i is 2 and j is 102\n",
      "i is 4 and j is 102\n",
      "i is 0 and j is 103\n",
      "i is 2 and j is 103\n",
      "i is 4 and j is 103\n",
      "i is 0 and j is 104\n",
      "i is 2 and j is 104\n",
      "i is 4 and j is 104\n"
     ]
    }
   ],
   "source": [
    "for j in range(100,105,1):\n",
    "    for i in range(5):\n",
    "        if i % 2 == 1:\n",
    "            continue\n",
    "        print(\"i is\", i, \"and j is\", j)"
   ]
  },
  {
   "cell_type": "code",
   "execution_count": 20,
   "id": "ccbc8011",
   "metadata": {},
   "outputs": [
    {
     "name": "stdout",
     "output_type": "stream",
     "text": [
      "i is 0 and j is 100\n",
      "i is 1 and j is 100\n",
      "i is 2 and j is 100\n",
      "i is 3 and j is 100\n",
      "i is 4 and j is 100\n",
      "i is 0 and j is 101\n",
      "i is 1 and j is 101\n",
      "i is 2 and j is 101\n",
      "i is 3 and j is 101\n",
      "i is 4 and j is 101\n",
      "i is 0 and j is 102\n",
      "i is 1 and j is 102\n",
      "i is 2 and j is 102\n",
      "i is 3 and j is 102\n",
      "i is 4 and j is 102\n",
      "i is 0 and j is 103\n",
      "i is 1 and j is 103\n",
      "i is 2 and j is 103\n",
      "i is 3 and j is 103\n",
      "i is 4 and j is 103\n",
      "i is 0 and j is 104\n",
      "i is 1 and j is 104\n",
      "i is 2 and j is 104\n",
      "i is 3 and j is 104\n",
      "i is 4 and j is 104\n"
     ]
    }
   ],
   "source": [
    "for j in range(100,105,1):\n",
    "    for i in range(5):\n",
    "        print(\"i is\", i, \"and j is\", j)\n",
    "    if j % 2 == 1:\n",
    "        continue"
   ]
  },
  {
   "cell_type": "code",
   "execution_count": 22,
   "id": "5de0edd1",
   "metadata": {},
   "outputs": [
    {
     "name": "stdout",
     "output_type": "stream",
     "text": [
      "0\n",
      "1\n",
      "2\n",
      "3\n",
      "4\n",
      "0\n",
      "1\n",
      "2\n",
      "3\n",
      "4\n",
      "0\n",
      "1\n",
      "2\n",
      "3\n",
      "4\n",
      "103\n",
      "0\n",
      "1\n",
      "2\n",
      "3\n",
      "4\n"
     ]
    }
   ],
   "source": [
    "for j in range(100,105,1):\n",
    "    if j == 103:\n",
    "        print(j)\n",
    "        continue\n",
    "    for i in range(5):\n",
    "        print(i)\n",
    "        if i == 3:\n",
    "            continue\n",
    "        ###### lines of code #####"
   ]
  },
  {
   "cell_type": "code",
   "execution_count": 23,
   "id": "ced802cf",
   "metadata": {},
   "outputs": [
    {
     "name": "stdout",
     "output_type": "stream",
     "text": [
      "1\n",
      "2\n",
      "4\n",
      "5\n",
      "7\n",
      "8\n"
     ]
    }
   ],
   "source": [
    "## prints numbers not divisible by 3\n",
    "for i in range(10):\n",
    "    if i % 3 == 0:\n",
    "        pass\n",
    "    else:\n",
    "        print(i)"
   ]
  },
  {
   "cell_type": "code",
   "execution_count": 30,
   "id": "954f28f7",
   "metadata": {},
   "outputs": [
    {
     "name": "stdout",
     "output_type": "stream",
     "text": [
      "21\n",
      "23\n",
      "25\n",
      "27\n",
      "29\n",
      "31\n",
      "33\n",
      "35\n",
      "37\n",
      "39\n"
     ]
    }
   ],
   "source": [
    "#  prints only odd numbers from 20 to 40:\n",
    "for i in range(41):\n",
    "    if i < 20:\n",
    "        pass\n",
    "    elif i % 2 == 1:\n",
    "        print(i)\n",
    "    else:\n",
    "        pass"
   ]
  },
  {
   "cell_type": "code",
   "execution_count": 24,
   "id": "7054b612",
   "metadata": {},
   "outputs": [
    {
     "data": {
      "text/plain": [
       "1"
      ]
     },
     "execution_count": 24,
     "metadata": {},
     "output_type": "execute_result"
    }
   ],
   "source": [
    "5 % 2"
   ]
  },
  {
   "cell_type": "code",
   "execution_count": null,
   "id": "95fb2fcd",
   "metadata": {},
   "outputs": [],
   "source": []
  }
 ],
 "metadata": {
  "kernelspec": {
   "display_name": "Python 3",
   "language": "python",
   "name": "python3"
  },
  "language_info": {
   "codemirror_mode": {
    "name": "ipython",
    "version": 3
   },
   "file_extension": ".py",
   "mimetype": "text/x-python",
   "name": "python",
   "nbconvert_exporter": "python",
   "pygments_lexer": "ipython3",
   "version": "3.8.8"
  }
 },
 "nbformat": 4,
 "nbformat_minor": 5
}

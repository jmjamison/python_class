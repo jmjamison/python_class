{
 "cells": [
  {
   "cell_type": "code",
   "execution_count": 1,
   "id": "22867ecb",
   "metadata": {},
   "outputs": [],
   "source": [
    "days = {'Mo':'Monday', 'Tu':'Tuesday', 'We':'Wednesday', 'Th':'Thursday', 'Fr':'Friday'}"
   ]
  },
  {
   "cell_type": "code",
   "execution_count": 3,
   "id": "9d8a5f71",
   "metadata": {},
   "outputs": [
    {
     "name": "stdout",
     "output_type": "stream",
     "text": [
      "Wednesday\n"
     ]
    }
   ],
   "source": [
    "print(days['We'])"
   ]
  },
  {
   "cell_type": "code",
   "execution_count": 6,
   "id": "8c6bafc6",
   "metadata": {},
   "outputs": [
    {
     "data": {
      "text/plain": [
       "'Wednesday'"
      ]
     },
     "execution_count": 6,
     "metadata": {},
     "output_type": "execute_result"
    }
   ],
   "source": [
    "days['We']"
   ]
  },
  {
   "cell_type": "code",
   "execution_count": 7,
   "id": "e60e4f61",
   "metadata": {},
   "outputs": [
    {
     "data": {
      "text/plain": [
       "{'Mo': 'Monday',\n",
       " 'Tu': 'Tuesday',\n",
       " 'We': 'Wednesday',\n",
       " 'Th': 'Thursday',\n",
       " 'Fr': 'Friday'}"
      ]
     },
     "execution_count": 7,
     "metadata": {},
     "output_type": "execute_result"
    }
   ],
   "source": [
    "days"
   ]
  },
  {
   "cell_type": "code",
   "execution_count": 8,
   "id": "0c53faee",
   "metadata": {},
   "outputs": [
    {
     "data": {
      "text/plain": [
       "5"
      ]
     },
     "execution_count": 8,
     "metadata": {},
     "output_type": "execute_result"
    }
   ],
   "source": [
    "len(days)"
   ]
  },
  {
   "cell_type": "code",
   "execution_count": 16,
   "id": "2946df0b",
   "metadata": {},
   "outputs": [
    {
     "data": {
      "text/plain": [
       "'Tuesday'"
      ]
     },
     "execution_count": 16,
     "metadata": {},
     "output_type": "execute_result"
    }
   ],
   "source": [
    "days.pop('Tu')  # remove Tu"
   ]
  },
  {
   "cell_type": "code",
   "execution_count": 17,
   "id": "3d13fb92",
   "metadata": {},
   "outputs": [
    {
     "data": {
      "text/plain": [
       "{'Mo': 'Monday',\n",
       " 'We': 'Wednesday',\n",
       " 'Th': 'Thursday',\n",
       " 'Fr': 'Friday',\n",
       " 'Sa': 'Saturday',\n",
       " 'Su': 'Sunday'}"
      ]
     },
     "execution_count": 17,
     "metadata": {},
     "output_type": "execute_result"
    }
   ],
   "source": [
    "days"
   ]
  },
  {
   "cell_type": "code",
   "execution_count": 18,
   "id": "497efac8",
   "metadata": {},
   "outputs": [],
   "source": [
    "favorites = {'Tu':'Tuesday', 'Sa':'Saturday', 'Su':'Sunday'}"
   ]
  },
  {
   "cell_type": "code",
   "execution_count": 19,
   "id": "d5b06228",
   "metadata": {},
   "outputs": [],
   "source": [
    "days.update(favorites)   # add favorites"
   ]
  },
  {
   "cell_type": "code",
   "execution_count": 20,
   "id": "41901441",
   "metadata": {},
   "outputs": [
    {
     "data": {
      "text/plain": [
       "{'Mo': 'Monday',\n",
       " 'We': 'Wednesday',\n",
       " 'Th': 'Thursday',\n",
       " 'Fr': 'Friday',\n",
       " 'Sa': 'Saturday',\n",
       " 'Su': 'Sunday',\n",
       " 'Tu': 'Tuesday'}"
      ]
     },
     "execution_count": 20,
     "metadata": {},
     "output_type": "execute_result"
    }
   ],
   "source": [
    "days"
   ]
  },
  {
   "cell_type": "code",
   "execution_count": 22,
   "id": "22475615",
   "metadata": {},
   "outputs": [
    {
     "data": {
      "text/plain": [
       "dict_keys(['Mo', 'We', 'Th', 'Fr', 'Sa', 'Su', 'Tu'])"
      ]
     },
     "execution_count": 22,
     "metadata": {},
     "output_type": "execute_result"
    }
   ],
   "source": [
    "keys = days.keys()\n",
    "keys"
   ]
  },
  {
   "cell_type": "code",
   "execution_count": 23,
   "id": "99308bbd",
   "metadata": {},
   "outputs": [
    {
     "name": "stdout",
     "output_type": "stream",
     "text": [
      "dict_keys(['Mo', 'We', 'Th', 'Fr', 'Sa', 'Su', 'Tu'])\n"
     ]
    }
   ],
   "source": [
    "print(days.keys())"
   ]
  },
  {
   "cell_type": "code",
   "execution_count": 24,
   "id": "ce941777",
   "metadata": {},
   "outputs": [
    {
     "data": {
      "text/plain": [
       "dict_keys"
      ]
     },
     "execution_count": 24,
     "metadata": {},
     "output_type": "execute_result"
    }
   ],
   "source": [
    "type(keys)"
   ]
  },
  {
   "cell_type": "code",
   "execution_count": 26,
   "id": "7964101b",
   "metadata": {},
   "outputs": [
    {
     "name": "stdout",
     "output_type": "stream",
     "text": [
      "Mo We Th Fr Sa Su Tu "
     ]
    }
   ],
   "source": [
    "for key in days:\n",
    "    print(key, end=' ')"
   ]
  },
  {
   "cell_type": "code",
   "execution_count": 28,
   "id": "9bd854ec",
   "metadata": {},
   "outputs": [
    {
     "data": {
      "text/plain": [
       "dict_values(['Monday', 'Wednesday', 'Thursday', 'Friday', 'Saturday', 'Sunday', 'Tuesday'])"
      ]
     },
     "execution_count": 28,
     "metadata": {},
     "output_type": "execute_result"
    }
   ],
   "source": [
    "days.values()"
   ]
  },
  {
   "cell_type": "code",
   "execution_count": 29,
   "id": "df465e22",
   "metadata": {},
   "outputs": [
    {
     "data": {
      "text/plain": [
       "dict_items([('Mo', 'Monday'), ('We', 'Wednesday'), ('Th', 'Thursday'), ('Fr', 'Friday'), ('Sa', 'Saturday'), ('Su', 'Sunday'), ('Tu', 'Tuesday')])"
      ]
     },
     "execution_count": 29,
     "metadata": {},
     "output_type": "execute_result"
    }
   ],
   "source": [
    "days.items()"
   ]
  },
  {
   "cell_type": "code",
   "execution_count": 32,
   "id": "d89553c2",
   "metadata": {},
   "outputs": [
    {
     "name": "stdout",
     "output_type": "stream",
     "text": [
      "Mo We Th Fr Sa Su Tu "
     ]
    }
   ],
   "source": [
    "for item in days.items():\n",
    "    print(item, end=' ')"
   ]
  },
  {
   "cell_type": "code",
   "execution_count": 40,
   "id": "1453f534",
   "metadata": {},
   "outputs": [
    {
     "name": "stdout",
     "output_type": "stream",
     "text": [
      "('Mo', 'Monday') ('We', 'Wednesday') ('Th', 'Thursday') ('Fr', 'Friday') ('Sa', 'Saturday') ('Su', 'Sunday') ('Tu', 'Tuesday') "
     ]
    }
   ],
   "source": [
    "for i in days.items():\n",
    "    print(i, end=' ')"
   ]
  },
  {
   "cell_type": "code",
   "execution_count": 46,
   "id": "200b36b9",
   "metadata": {},
   "outputs": [],
   "source": [
    "def frequency(itemList):\n",
    "    # returns frequency of times in itemList\n",
    "    counters = {}  # initialize a dictionary of counters\n",
    "    \n",
    "    for item in itemList:\n",
    "        \n",
    "        if item in counters:   # counter for item already exists\n",
    "            counters[item] += 1\n",
    "        else:\n",
    "            counters[item] = 1\n",
    "    \n",
    "    return counters"
   ]
  },
  {
   "cell_type": "code",
   "execution_count": 48,
   "id": "1ab3ea99",
   "metadata": {},
   "outputs": [
    {
     "data": {
      "text/plain": [
       "{'Cindy': 3, 'John': 1, 'Adam': 2, 'Jimmy': 1, 'Joan': 2}"
      ]
     },
     "execution_count": 48,
     "metadata": {},
     "output_type": "execute_result"
    }
   ],
   "source": [
    "students = ['Cindy', 'John', 'Cindy', 'Adam', 'Adam', 'Jimmy', 'Joan', 'Cindy', 'Joan']\n",
    "frequency(students)"
   ]
  },
  {
   "cell_type": "code",
   "execution_count": 49,
   "id": "2c9957a5",
   "metadata": {},
   "outputs": [],
   "source": [
    "text = 'all animals are equal but some animals are more equal than others'"
   ]
  },
  {
   "cell_type": "code",
   "execution_count": 51,
   "id": "35b02f99",
   "metadata": {},
   "outputs": [],
   "source": [
    "def wordCount(text):\n",
    "    # prints frequency of each word in text\n",
    "    wordList = text.split()  # split text into a list of words\n",
    "    counters = {}  # initialize a dictionary of counters\n",
    "    \n",
    "    for word in wordList:\n",
    "        if word in counters:\n",
    "            counters[word] += 1\n",
    "        else:   # counter for word doesn't exist\n",
    "            counters[word] = 1\n",
    "            \n",
    "    for word in counters:\n",
    "        if counters[word] == 1:\n",
    "            print('{:8} appears {} time.'.format(word, counters[word]))\n",
    "        else:\n",
    "            print('{:8} appears {} times'.format(word, counters[word]))"
   ]
  },
  {
   "cell_type": "code",
   "execution_count": 52,
   "id": "4b4b6ba5",
   "metadata": {},
   "outputs": [
    {
     "name": "stdout",
     "output_type": "stream",
     "text": [
      "all      appears 1 time.\n",
      "animals  appears 2 times\n",
      "are      appears 2 times\n",
      "equal    appears 2 times\n",
      "but      appears 1 time.\n",
      "some     appears 1 time.\n",
      "more     appears 1 time.\n",
      "than     appears 1 time.\n",
      "others   appears 1 time.\n"
     ]
    }
   ],
   "source": [
    "wordCount(text)"
   ]
  },
  {
   "cell_type": "code",
   "execution_count": 55,
   "id": "c42b596d",
   "metadata": {},
   "outputs": [
    {
     "data": {
      "text/plain": [
       "{('Anna', 'Karenina'): '(123)456-78-90',\n",
       " ('Yu', 'Tsun'): '(901)234-56-78',\n",
       " ('Hans', 'Castorp'): '(321)908-76-54'}"
      ]
     },
     "execution_count": 55,
     "metadata": {},
     "output_type": "execute_result"
    }
   ],
   "source": [
    "phonebook = {('Anna', 'Karenina'):'(123)456-78-90',\n",
    "            ('Yu', 'Tsun'): '(901)234-56-78',\n",
    "           ('Hans', 'Castorp'): '(321)908-76-54'}\n",
    "phonebook"
   ]
  },
  {
   "cell_type": "code",
   "execution_count": 56,
   "id": "b7feb38f",
   "metadata": {},
   "outputs": [],
   "source": [
    "def lookup(phonebook):\n",
    "    # implements interactive phone book service using the input phonebook directory\n",
    "    while True:\n",
    "        first = input(\"Enter first name: \")\n",
    "        print(first)\n",
    "        last = input(\"Enter last name: \")\n",
    "        print(last)\n",
    "        \n",
    "        person = (first, last)   # construct key\n",
    "        \n",
    "        if person in phonebook:   # is key in dictionary\n",
    "            print(phonebook[person])  # print the value\n",
    "        else:\n",
    "            print('The name you entered is not known')"
   ]
  },
  {
   "cell_type": "code",
   "execution_count": 57,
   "id": "ccc00403",
   "metadata": {},
   "outputs": [
    {
     "name": "stdout",
     "output_type": "stream",
     "text": [
      "Enter first name: Anna\n",
      "Anna\n",
      "Enter last name: Karenina\n",
      "Karenina\n",
      "(123)456-78-90\n",
      "Enter first name: Yue\n",
      "Yue\n",
      "Enter last name: Tsuan\n",
      "Tsuan\n",
      "The name you entered is not known\n"
     ]
    },
    {
     "ename": "KeyboardInterrupt",
     "evalue": "Interrupted by user",
     "output_type": "error",
     "traceback": [
      "\u001b[1;31m---------------------------------------------------------------------------\u001b[0m",
      "\u001b[1;31mKeyboardInterrupt\u001b[0m                         Traceback (most recent call last)",
      "\u001b[1;32m<ipython-input-57-afab5ac0b66a>\u001b[0m in \u001b[0;36m<module>\u001b[1;34m\u001b[0m\n\u001b[1;32m----> 1\u001b[1;33m \u001b[0mlookup\u001b[0m\u001b[1;33m(\u001b[0m\u001b[0mphonebook\u001b[0m\u001b[1;33m)\u001b[0m\u001b[1;33m\u001b[0m\u001b[1;33m\u001b[0m\u001b[0m\n\u001b[0m",
      "\u001b[1;32m<ipython-input-56-c8ab26379a11>\u001b[0m in \u001b[0;36mlookup\u001b[1;34m(phonebook)\u001b[0m\n\u001b[0;32m      2\u001b[0m     \u001b[1;31m# implements interactive phone book service using the input phonebook directory\u001b[0m\u001b[1;33m\u001b[0m\u001b[1;33m\u001b[0m\u001b[1;33m\u001b[0m\u001b[0m\n\u001b[0;32m      3\u001b[0m     \u001b[1;32mwhile\u001b[0m \u001b[1;32mTrue\u001b[0m\u001b[1;33m:\u001b[0m\u001b[1;33m\u001b[0m\u001b[1;33m\u001b[0m\u001b[0m\n\u001b[1;32m----> 4\u001b[1;33m         \u001b[0mfirst\u001b[0m \u001b[1;33m=\u001b[0m \u001b[0minput\u001b[0m\u001b[1;33m(\u001b[0m\u001b[1;34m\"Enter first name: \"\u001b[0m\u001b[1;33m)\u001b[0m\u001b[1;33m\u001b[0m\u001b[1;33m\u001b[0m\u001b[0m\n\u001b[0m\u001b[0;32m      5\u001b[0m         \u001b[0mprint\u001b[0m\u001b[1;33m(\u001b[0m\u001b[0mfirst\u001b[0m\u001b[1;33m)\u001b[0m\u001b[1;33m\u001b[0m\u001b[1;33m\u001b[0m\u001b[0m\n\u001b[0;32m      6\u001b[0m         \u001b[0mlast\u001b[0m \u001b[1;33m=\u001b[0m \u001b[0minput\u001b[0m\u001b[1;33m(\u001b[0m\u001b[1;34m\"Enter last name: \"\u001b[0m\u001b[1;33m)\u001b[0m\u001b[1;33m\u001b[0m\u001b[1;33m\u001b[0m\u001b[0m\n",
      "\u001b[1;32m~\\anaconda3\\lib\\site-packages\\ipykernel\\kernelbase.py\u001b[0m in \u001b[0;36mraw_input\u001b[1;34m(self, prompt)\u001b[0m\n\u001b[0;32m    858\u001b[0m                 \u001b[1;34m\"raw_input was called, but this frontend does not support input requests.\"\u001b[0m\u001b[1;33m\u001b[0m\u001b[1;33m\u001b[0m\u001b[0m\n\u001b[0;32m    859\u001b[0m             )\n\u001b[1;32m--> 860\u001b[1;33m         return self._input_request(str(prompt),\n\u001b[0m\u001b[0;32m    861\u001b[0m             \u001b[0mself\u001b[0m\u001b[1;33m.\u001b[0m\u001b[0m_parent_ident\u001b[0m\u001b[1;33m,\u001b[0m\u001b[1;33m\u001b[0m\u001b[1;33m\u001b[0m\u001b[0m\n\u001b[0;32m    862\u001b[0m             \u001b[0mself\u001b[0m\u001b[1;33m.\u001b[0m\u001b[0m_parent_header\u001b[0m\u001b[1;33m,\u001b[0m\u001b[1;33m\u001b[0m\u001b[1;33m\u001b[0m\u001b[0m\n",
      "\u001b[1;32m~\\anaconda3\\lib\\site-packages\\ipykernel\\kernelbase.py\u001b[0m in \u001b[0;36m_input_request\u001b[1;34m(self, prompt, ident, parent, password)\u001b[0m\n\u001b[0;32m    902\u001b[0m             \u001b[1;32mexcept\u001b[0m \u001b[0mKeyboardInterrupt\u001b[0m\u001b[1;33m:\u001b[0m\u001b[1;33m\u001b[0m\u001b[1;33m\u001b[0m\u001b[0m\n\u001b[0;32m    903\u001b[0m                 \u001b[1;31m# re-raise KeyboardInterrupt, to truncate traceback\u001b[0m\u001b[1;33m\u001b[0m\u001b[1;33m\u001b[0m\u001b[1;33m\u001b[0m\u001b[0m\n\u001b[1;32m--> 904\u001b[1;33m                 \u001b[1;32mraise\u001b[0m \u001b[0mKeyboardInterrupt\u001b[0m\u001b[1;33m(\u001b[0m\u001b[1;34m\"Interrupted by user\"\u001b[0m\u001b[1;33m)\u001b[0m \u001b[1;32mfrom\u001b[0m \u001b[1;32mNone\u001b[0m\u001b[1;33m\u001b[0m\u001b[1;33m\u001b[0m\u001b[0m\n\u001b[0m\u001b[0;32m    905\u001b[0m             \u001b[1;32mexcept\u001b[0m \u001b[0mException\u001b[0m \u001b[1;32mas\u001b[0m \u001b[0me\u001b[0m\u001b[1;33m:\u001b[0m\u001b[1;33m\u001b[0m\u001b[1;33m\u001b[0m\u001b[0m\n\u001b[0;32m    906\u001b[0m                 \u001b[0mself\u001b[0m\u001b[1;33m.\u001b[0m\u001b[0mlog\u001b[0m\u001b[1;33m.\u001b[0m\u001b[0mwarning\u001b[0m\u001b[1;33m(\u001b[0m\u001b[1;34m\"Invalid Message:\"\u001b[0m\u001b[1;33m,\u001b[0m \u001b[0mexc_info\u001b[0m\u001b[1;33m=\u001b[0m\u001b[1;32mTrue\u001b[0m\u001b[1;33m)\u001b[0m\u001b[1;33m\u001b[0m\u001b[1;33m\u001b[0m\u001b[0m\n",
      "\u001b[1;31mKeyboardInterrupt\u001b[0m: Interrupted by user"
     ]
    }
   ],
   "source": [
    "lookup(phonebook)"
   ]
  },
  {
   "cell_type": "code",
   "execution_count": 59,
   "id": "291afc74",
   "metadata": {},
   "outputs": [],
   "source": [
    "friends = {1111: 'Ross Geller', 2222: 'Monica Geller', 3333: 'Rachel Green', 4444: 'Phoebe Buffay', 5555: 'Chandler Bing', 6666: 'Joey Tribbiani'}"
   ]
  },
  {
   "cell_type": "code",
   "execution_count": 62,
   "id": "8a4b5bcd",
   "metadata": {},
   "outputs": [
    {
     "data": {
      "text/plain": [
       "'Rachel Green'"
      ]
     },
     "execution_count": 62,
     "metadata": {},
     "output_type": "execute_result"
    }
   ],
   "source": [
    "friends[3333]"
   ]
  },
  {
   "cell_type": "code",
   "execution_count": 64,
   "id": "1a335ec6",
   "metadata": {},
   "outputs": [],
   "source": [
    "engtospan = {'red':['rojo', 'roja'], 'blue':['azul', 'azula'], 'yellow':['amarillo', 'amarilla']}"
   ]
  },
  {
   "cell_type": "code",
   "execution_count": 65,
   "id": "bbbca51e",
   "metadata": {},
   "outputs": [
    {
     "data": {
      "text/plain": [
       "{'red': ['rojo', 'roja'],\n",
       " 'blue': ['azul', 'azula'],\n",
       " 'yellow': ['amarillo', 'amarilla']}"
      ]
     },
     "execution_count": 65,
     "metadata": {},
     "output_type": "execute_result"
    }
   ],
   "source": [
    "engtospan"
   ]
  },
  {
   "cell_type": "code",
   "execution_count": 67,
   "id": "94f28561",
   "metadata": {},
   "outputs": [],
   "source": [
    "student = {12345: ['Amy','Boe'], 23456: ['Carter','Doe'], 34567: ['Emily','Goe']}"
   ]
  },
  {
   "cell_type": "code",
   "execution_count": 70,
   "id": "73278656",
   "metadata": {},
   "outputs": [
    {
     "data": {
      "text/plain": [
       "dict_values([['Amy', 'Boe'], ['Carter', 'Doe'], ['Emily', 'Goe']])"
      ]
     },
     "execution_count": 70,
     "metadata": {},
     "output_type": "execute_result"
    }
   ],
   "source": [
    "student.values()"
   ]
  },
  {
   "cell_type": "code",
   "execution_count": 72,
   "id": "01cca4d1",
   "metadata": {},
   "outputs": [],
   "source": [
    "student = {12345: ['Amy','Boe'], 23456: ['Carter','Doe'], 12345: ['Emily','Goe'], 12345: ['Willy', 'Zoe']}"
   ]
  },
  {
   "cell_type": "code",
   "execution_count": 73,
   "id": "d7408f41",
   "metadata": {},
   "outputs": [
    {
     "data": {
      "text/plain": [
       "['Willy', 'Zoe']"
      ]
     },
     "execution_count": 73,
     "metadata": {},
     "output_type": "execute_result"
    }
   ],
   "source": [
    "student.pop(12345)"
   ]
  },
  {
   "cell_type": "code",
   "execution_count": 74,
   "id": "fcd48db7",
   "metadata": {},
   "outputs": [
    {
     "data": {
      "text/plain": [
       "{23456: ['Carter', 'Doe']}"
      ]
     },
     "execution_count": 74,
     "metadata": {},
     "output_type": "execute_result"
    }
   ],
   "source": [
    "student"
   ]
  },
  {
   "cell_type": "code",
   "execution_count": 78,
   "id": "39d565f2",
   "metadata": {},
   "outputs": [],
   "source": [
    "d1 = {12345: ['Amy','Boe'], 23456: ['Carter','Doe'], 34567: ['Emily','Goe'], 45678: ['Willy', 'Zoe']}"
   ]
  },
  {
   "cell_type": "code",
   "execution_count": 79,
   "id": "8fb6c8e0",
   "metadata": {},
   "outputs": [
    {
     "data": {
      "text/plain": [
       "{12345: ['Amy', 'Boe'],\n",
       " 23456: ['Carter', 'Doe'],\n",
       " 34567: ['Emily', 'Goe'],\n",
       " 45678: ['Willy', 'Zoe']}"
      ]
     },
     "execution_count": 79,
     "metadata": {},
     "output_type": "execute_result"
    }
   ],
   "source": [
    "d1"
   ]
  },
  {
   "cell_type": "code",
   "execution_count": 80,
   "id": "21379598",
   "metadata": {},
   "outputs": [],
   "source": [
    "d2 = {56789: ['Joe','Poe'], 67890: ['Manny','Roe'], 45678:['William','Zoe']}"
   ]
  },
  {
   "cell_type": "code",
   "execution_count": 81,
   "id": "92361234",
   "metadata": {},
   "outputs": [
    {
     "data": {
      "text/plain": [
       "{56789: ['Joe', 'Poe'], 67890: ['Manny', 'Roe'], 45678: ['William', 'Zoe']}"
      ]
     },
     "execution_count": 81,
     "metadata": {},
     "output_type": "execute_result"
    }
   ],
   "source": [
    "d2"
   ]
  },
  {
   "cell_type": "code",
   "execution_count": 82,
   "id": "f2a45218",
   "metadata": {},
   "outputs": [],
   "source": [
    "d1.update(d2)"
   ]
  },
  {
   "cell_type": "code",
   "execution_count": 83,
   "id": "524f2b9e",
   "metadata": {},
   "outputs": [
    {
     "data": {
      "text/plain": [
       "{12345: ['Amy', 'Boe'],\n",
       " 23456: ['Carter', 'Doe'],\n",
       " 34567: ['Emily', 'Goe'],\n",
       " 45678: ['William', 'Zoe'],\n",
       " 56789: ['Joe', 'Poe'],\n",
       " 67890: ['Manny', 'Roe']}"
      ]
     },
     "execution_count": 83,
     "metadata": {},
     "output_type": "execute_result"
    }
   ],
   "source": [
    "d1"
   ]
  },
  {
   "cell_type": "code",
   "execution_count": 84,
   "id": "eedf07a2",
   "metadata": {},
   "outputs": [
    {
     "data": {
      "text/plain": [
       "{56789: ['Joe', 'Poe'], 67890: ['Manny', 'Roe'], 45678: ['William', 'Zoe']}"
      ]
     },
     "execution_count": 84,
     "metadata": {},
     "output_type": "execute_result"
    }
   ],
   "source": [
    "d2"
   ]
  }
 ],
 "metadata": {
  "kernelspec": {
   "display_name": "Python 3",
   "language": "python",
   "name": "python3"
  },
  "language_info": {
   "codemirror_mode": {
    "name": "ipython",
    "version": 3
   },
   "file_extension": ".py",
   "mimetype": "text/x-python",
   "name": "python",
   "nbconvert_exporter": "python",
   "pygments_lexer": "ipython3",
   "version": "3.8.8"
  }
 },
 "nbformat": 4,
 "nbformat_minor": 5
}

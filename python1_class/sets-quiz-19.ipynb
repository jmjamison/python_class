{
 "cells": [
  {
   "cell_type": "code",
   "execution_count": 3,
   "id": "b984ccde",
   "metadata": {},
   "outputs": [],
   "source": [
    "# sets\n",
    "phonebook1 = {'123-45-67', '234-56-78', '345-67-89'}"
   ]
  },
  {
   "cell_type": "code",
   "execution_count": 5,
   "id": "31db3205",
   "metadata": {},
   "outputs": [
    {
     "data": {
      "text/plain": [
       "set"
      ]
     },
     "execution_count": 5,
     "metadata": {},
     "output_type": "execute_result"
    }
   ],
   "source": [
    "type(phonebook1)"
   ]
  },
  {
   "cell_type": "code",
   "execution_count": 7,
   "id": "d3c83668",
   "metadata": {},
   "outputs": [],
   "source": [
    "ages = [23, 19, 18, 21, 18, 20, 21, 23, 22, 23, 19, 20]"
   ]
  },
  {
   "cell_type": "code",
   "execution_count": 8,
   "id": "2f9c9b79",
   "metadata": {},
   "outputs": [
    {
     "data": {
      "text/plain": [
       "18"
      ]
     },
     "execution_count": 8,
     "metadata": {},
     "output_type": "execute_result"
    }
   ],
   "source": [
    "a"
   ]
  },
  {
   "cell_type": "code",
   "execution_count": 9,
   "id": "0ddfce26",
   "metadata": {},
   "outputs": [],
   "source": [
    "thisVar = {}"
   ]
  },
  {
   "cell_type": "code",
   "execution_count": 10,
   "id": "11c92b11",
   "metadata": {},
   "outputs": [
    {
     "data": {
      "text/plain": [
       "dict"
      ]
     },
     "execution_count": 10,
     "metadata": {},
     "output_type": "execute_result"
    }
   ],
   "source": [
    "type(thisVar)"
   ]
  },
  {
   "cell_type": "code",
   "execution_count": 11,
   "id": "691a301a",
   "metadata": {},
   "outputs": [],
   "source": [
    "myset = {'red', 'black', 'blue', 'white', 'purple', 'green', 'black', 'yellow'}"
   ]
  },
  {
   "cell_type": "code",
   "execution_count": 12,
   "id": "4965cca0",
   "metadata": {},
   "outputs": [
    {
     "data": {
      "text/plain": [
       "7"
      ]
     },
     "execution_count": 12,
     "metadata": {},
     "output_type": "execute_result"
    }
   ],
   "source": [
    "len(myset)"
   ]
  },
  {
   "cell_type": "code",
   "execution_count": 18,
   "id": "1f18c807",
   "metadata": {},
   "outputs": [],
   "source": [
    "friends = {'Simba', 'Pumbaa', 'Timone'}\n",
    "lions = {'Mufasa', 'Simba', 'Nala'}"
   ]
  },
  {
   "cell_type": "code",
   "execution_count": 22,
   "id": "26734b13",
   "metadata": {},
   "outputs": [
    {
     "data": {
      "text/plain": [
       "{'Mufasa', 'Nala', 'Pumbaa', 'Timone'}"
      ]
     },
     "execution_count": 22,
     "metadata": {},
     "output_type": "execute_result"
    }
   ],
   "source": [
    "lions ^ friends"
   ]
  },
  {
   "cell_type": "code",
   "execution_count": 23,
   "id": "e5f21853",
   "metadata": {},
   "outputs": [],
   "source": [
    "lions = {'Mufasa', 'Simba', 'Nala'}"
   ]
  },
  {
   "cell_type": "code",
   "execution_count": 24,
   "id": "fce948f6",
   "metadata": {},
   "outputs": [],
   "source": [
    "lions.remove('Mufasa')\n",
    "lions.add('Scar')\n",
    "lions.add('Simba')\n",
    "lions.remove('Simba')"
   ]
  },
  {
   "cell_type": "code",
   "execution_count": 25,
   "id": "9bc03eee",
   "metadata": {},
   "outputs": [
    {
     "data": {
      "text/plain": [
       "{'Nala', 'Scar'}"
      ]
     },
     "execution_count": 25,
     "metadata": {},
     "output_type": "execute_result"
    }
   ],
   "source": [
    "lions"
   ]
  }
 ],
 "metadata": {
  "kernelspec": {
   "display_name": "Python 3",
   "language": "python",
   "name": "python3"
  },
  "language_info": {
   "codemirror_mode": {
    "name": "ipython",
    "version": 3
   },
   "file_extension": ".py",
   "mimetype": "text/x-python",
   "name": "python",
   "nbconvert_exporter": "python",
   "pygments_lexer": "ipython3",
   "version": "3.8.8"
  }
 },
 "nbformat": 4,
 "nbformat_minor": 5
}

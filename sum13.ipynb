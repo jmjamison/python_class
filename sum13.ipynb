{
 "cells": [
  {
   "cell_type": "code",
   "execution_count": 1,
   "id": "d78db8a7",
   "metadata": {},
   "outputs": [],
   "source": [
    "# Return the sum of the numbers in the array, \n",
    "# returning 0 for an empty array. Except the number 13 is very unlucky, \n",
    "# so it does not count and numbers that come immediately after a 13 also do not count.\n",
    "\n",
    "# sum13([1, 2, 2, 1]) → 6\n",
    "# sum13([1, 1]) → 2\n",
    "# sum13([1, 2, 2, 1, 13]) → 6"
   ]
  },
  {
   "cell_type": "code",
   "execution_count": 118,
   "id": "ba954eba",
   "metadata": {},
   "outputs": [],
   "source": [
    "def sum13(nums):\n",
    "    diff_list = nums\n",
    "    \n",
    "    if diff_list == 0 or diff_list[0] == 13:\n",
    "        return 0    \n",
    "    elif 13 in diff_list:\n",
    "        lucky13 = diff_list.index(13)\n",
    "        first_half = diff_list[0:lucky13]\n",
    "        print(first_half)\n",
    "        return(sum(first_half))    \n",
    "    else:\n",
    "        return sum(diff_list)\n",
    "    \n",
    "    "
   ]
  },
  {
   "cell_type": "code",
   "execution_count": 126,
   "id": "6deb3232",
   "metadata": {},
   "outputs": [],
   "source": [
    "def sum13(nums):\n",
    "    diff_list = nums\n",
    "    \n",
    "    if diff_list == 0 or diff_list[0] == 13:\n",
    "        return 0    \n",
    "    elif 13 in diff_list:\n",
    "        lucky13 = diff_list.index(13)\n",
    "        first_half = diff_list[0:lucky13]\n",
    "        return(sum(first_half))  \n",
    "    else:\n",
    "        return sum(diff_list)"
   ]
  },
  {
   "cell_type": "code",
   "execution_count": 127,
   "id": "abb819b5",
   "metadata": {},
   "outputs": [
    {
     "data": {
      "text/plain": [
       "6"
      ]
     },
     "execution_count": 127,
     "metadata": {},
     "output_type": "execute_result"
    }
   ],
   "source": [
    "sum13([1, 2, 2, 1])"
   ]
  },
  {
   "cell_type": "code",
   "execution_count": 128,
   "id": "9900b5f1",
   "metadata": {},
   "outputs": [
    {
     "data": {
      "text/plain": [
       "2"
      ]
     },
     "execution_count": 128,
     "metadata": {},
     "output_type": "execute_result"
    }
   ],
   "source": [
    "sum13([1, 1])"
   ]
  },
  {
   "cell_type": "code",
   "execution_count": 129,
   "id": "bba4b363",
   "metadata": {},
   "outputs": [
    {
     "data": {
      "text/plain": [
       "6"
      ]
     },
     "execution_count": 129,
     "metadata": {},
     "output_type": "execute_result"
    }
   ],
   "source": [
    "sum13([1, 2, 2, 1, 13])"
   ]
  },
  {
   "cell_type": "code",
   "execution_count": 130,
   "id": "95e124d9",
   "metadata": {},
   "outputs": [
    {
     "data": {
      "text/plain": [
       "3"
      ]
     },
     "execution_count": 130,
     "metadata": {},
     "output_type": "execute_result"
    }
   ],
   "source": [
    "sum13([1, 2, 13, 2, 1, 13])"
   ]
  },
  {
   "cell_type": "code",
   "execution_count": 131,
   "id": "66a4b4a8",
   "metadata": {},
   "outputs": [
    {
     "data": {
      "text/plain": [
       "0"
      ]
     },
     "execution_count": 131,
     "metadata": {},
     "output_type": "execute_result"
    }
   ],
   "source": [
    "sum13([13, 1, 2, 13, 2, 1, 13]) "
   ]
  },
  {
   "cell_type": "code",
   "execution_count": 132,
   "id": "142d2d2d",
   "metadata": {},
   "outputs": [
    {
     "data": {
      "text/plain": [
       "6"
      ]
     },
     "execution_count": 132,
     "metadata": {},
     "output_type": "execute_result"
    }
   ],
   "source": [
    "sum([1,2,2,1])"
   ]
  },
  {
   "cell_type": "code",
   "execution_count": null,
   "id": "aac78a6c",
   "metadata": {},
   "outputs": [],
   "source": []
  },
  {
   "cell_type": "code",
   "execution_count": null,
   "id": "12ae1f78",
   "metadata": {},
   "outputs": [],
   "source": []
  }
 ],
 "metadata": {
  "kernelspec": {
   "display_name": "Python 3",
   "language": "python",
   "name": "python3"
  },
  "language_info": {
   "codemirror_mode": {
    "name": "ipython",
    "version": 3
   },
   "file_extension": ".py",
   "mimetype": "text/x-python",
   "name": "python",
   "nbconvert_exporter": "python",
   "pygments_lexer": "ipython3",
   "version": "3.8.8"
  }
 },
 "nbformat": 4,
 "nbformat_minor": 5
}

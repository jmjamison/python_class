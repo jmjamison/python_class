{
 "cells": [
  {
   "cell_type": "code",
   "execution_count": 2,
   "id": "f86f3428",
   "metadata": {},
   "outputs": [
    {
     "name": "stdout",
     "output_type": "stream",
     "text": [
      "Enter the temperature in degrees Fehrenheit: 50\n",
      "The temperature in degrees Celsius is  10.0\n"
     ]
    }
   ],
   "source": [
    "# practice problem 3.1; page 57\n",
    "# celsius = 5/9 (fahrenheit - 32)\n",
    "fahrenheit = eval(input(\"Enter the temperature in degrees Fehrenheit: \"))\n",
    "celsius = (fahrenheit-32)*5/9\n",
    "print(\"The temperature in degrees Celsius is \", celsius)"
   ]
  },
  {
   "cell_type": "code",
   "execution_count": 3,
   "id": "1741372e",
   "metadata": {},
   "outputs": [
    {
     "name": "stdout",
     "output_type": "stream",
     "text": [
      "Enter the current temperature: 90\n",
      "It sure is hot!\n",
      "Be sure to drink liquids\n",
      "goodby.\n"
     ]
    }
   ],
   "source": [
    "temp = eval(input('Enter the current temperature: '))\n",
    "\n",
    "if temp > 86:\n",
    "    print('It sure is hot!\\nBe sure to drink liquids')\n",
    "print(\"goodby.\")"
   ]
  },
  {
   "cell_type": "code",
   "execution_count": 5,
   "id": "ca94b8ee",
   "metadata": {},
   "outputs": [
    {
     "name": "stdout",
     "output_type": "stream",
     "text": [
      "Enter your age: 65\n",
      "You can get your pension benefits.\n"
     ]
    }
   ],
   "source": [
    "# practice problems, page 60\n",
    "# a)if age is greater than 62, print you get our pension benefits\n",
    "age = eval(input(\"Enter your age: \"))\n",
    "if age > 62:\n",
    "    print(\"You can get your pension benefits.\")"
   ]
  },
  {
   "cell_type": "code",
   "execution_count": 11,
   "id": "687faa22",
   "metadata": {},
   "outputs": [
    {
     "name": "stdout",
     "output_type": "stream",
     "text": [
      "Enter the name of a baseball player: Smith\n"
     ]
    }
   ],
   "source": [
    "# b) if name is in list print one of the top 5 baseball players, ever\n",
    "baseball_list =[\"Musial\", \"Aaraon\", \"Williams\", \"Gehrig\", \"Ruth\"]\n",
    "# print(baseball_list)\n",
    "name = input(\"Enter the name of a baseball player: \")\n",
    "if name in baseball_list:\n",
    "    print(\"One of the top 5 baseball players, ever!\")"
   ]
  },
  {
   "cell_type": "code",
   "execution_count": 13,
   "id": "eebe68f9",
   "metadata": {},
   "outputs": [
    {
     "name": "stdout",
     "output_type": "stream",
     "text": [
      "Enter a number for hits: 25\n",
      "Enter a number for shield: 5\n"
     ]
    }
   ],
   "source": [
    "# c) if hits is greater than 10 and shield is 0, print you are dead...\n",
    "hits = eval(input(\"Enter a number for hits: \"))\n",
    "shield = eval(input(\"Enter a number for shield: \"))\n",
    "if hits > 10 and shield == 0:\n",
    "    print(\"You are dead...\")"
   ]
  },
  {
   "cell_type": "code",
   "execution_count": 18,
   "id": "1946463f",
   "metadata": {},
   "outputs": [
    {
     "name": "stdout",
     "output_type": "stream",
     "text": [
      "I can escape!\n"
     ]
    }
   ],
   "source": [
    "# d) if one of the boolean variables north, south, east, and west is True print I can escape\n",
    "north = 1\n",
    "south = 0\n",
    "east = 0\n",
    "west = 1\n",
    "if north or south or east or west:\n",
    "    print(\"I can escape!\")"
   ]
  },
  {
   "cell_type": "code",
   "execution_count": 20,
   "id": "1f7596da",
   "metadata": {},
   "outputs": [
    {
     "name": "stdout",
     "output_type": "stream",
     "text": [
      "Enter the current temperature: 60\n",
      "It is not hot.\n",
      "Bring a jacket.\n",
      "goodby.\n"
     ]
    }
   ],
   "source": [
    "# p 61\n",
    "temp = eval(input('Enter the current temperature: '))\n",
    "\n",
    "if temp > 86:\n",
    "    print('It sure is hot!\\nBe sure to drink liquids')\n",
    "else:\n",
    "    print(\"It is not hot.\\nBring a jacket.\")\n",
    "print(\"goodby.\")"
   ]
  },
  {
   "cell_type": "code",
   "execution_count": 26,
   "id": "79fe33c5",
   "metadata": {},
   "outputs": [
    {
     "name": "stdout",
     "output_type": "stream",
     "text": [
      "Enter a year to check if a leap year: 1958\n",
      "Definately not a leap year.\n"
     ]
    }
   ],
   "source": [
    "# practice problem 3.3; leap year\n",
    "# if divisible by 4, print could be a leap year, otherwise definately not\n",
    "year = eval(input(\"Enter a year to check if a leap year: \"))\n",
    "if year%4 == 0:\n",
    "    print(\"Could be a leap year.\")\n",
    "else:\n",
    "    print(\"Definately not a leap year.\")"
   ]
  },
  {
   "cell_type": "code",
   "execution_count": 30,
   "id": "d6ac6250",
   "metadata": {},
   "outputs": [
    {
     "name": "stdout",
     "output_type": "stream",
     "text": [
      "Login: john\n",
      "User unknown.\n",
      "Done.\n"
     ]
    }
   ],
   "source": [
    "# practice program 3.4\n",
    "users = ['joe', 'sue', 'henri']\n",
    "user_name = input(\"Login: \")\n",
    "if user_name in users:\n",
    "    print(\"Your are in!\")\n",
    "else:\n",
    "    print(\"User unknown.\")\n",
    "    \n",
    "print(\"Done.\")"
   ]
  },
  {
   "cell_type": "code",
   "execution_count": 34,
   "id": "85e02f91",
   "metadata": {},
   "outputs": [
    {
     "name": "stdout",
     "output_type": "stream",
     "text": [
      "Enter a word: Lena\n",
      "The word spelled out: \n",
      "L\n",
      "e\n",
      "n\n",
      "a\n"
     ]
    }
   ],
   "source": [
    "# \n",
    "word = input(\"Enter a word: \")\n",
    "print(\"The word spelled out: \")\n",
    "\n",
    "for char in word:\n",
    "    print(char)\n",
    "    \n",
    "    "
   ]
  },
  {
   "cell_type": "code",
   "execution_count": 36,
   "id": "214d83a4",
   "metadata": {},
   "outputs": [
    {
     "name": "stdout",
     "output_type": "stream",
     "text": [
      "fish\n",
      "cat\n",
      "dog\n"
     ]
    }
   ],
   "source": [
    "animals=['fish', 'cat', 'dog']\n",
    "for animal in animals:\n",
    "    print(animal)\n",
    "    "
   ]
  },
  {
   "cell_type": "code",
   "execution_count": 37,
   "id": "36908e04",
   "metadata": {},
   "outputs": [
    {
     "name": "stdout",
     "output_type": "stream",
     "text": [
      "0\n",
      "1\n",
      "2\n",
      "3\n",
      "4\n"
     ]
    }
   ],
   "source": [
    "for i in range(5):\n",
    "    print(i)"
   ]
  },
  {
   "cell_type": "code",
   "execution_count": 38,
   "id": "61e2c5a6",
   "metadata": {},
   "outputs": [
    {
     "name": "stdout",
     "output_type": "stream",
     "text": [
      "2\n",
      "3\n",
      "4\n"
     ]
    }
   ],
   "source": [
    "for i in range(2,5):\n",
    "    print(i)"
   ]
  },
  {
   "cell_type": "code",
   "execution_count": 39,
   "id": "109051a2",
   "metadata": {},
   "outputs": [
    {
     "name": "stdout",
     "output_type": "stream",
     "text": [
      "1\n",
      "4\n",
      "7\n",
      "10\n",
      "13\n"
     ]
    }
   ],
   "source": [
    "# range(start, end, step)\n",
    "for i in range(1, 14, 3):\n",
    "    print(i)"
   ]
  },
  {
   "cell_type": "code",
   "execution_count": 40,
   "id": "05debe78",
   "metadata": {},
   "outputs": [
    {
     "name": "stdout",
     "output_type": "stream",
     "text": [
      "3\n",
      "4\n",
      "5\n",
      "6\n",
      "7\n",
      "8\n",
      "9\n",
      "10\n",
      "11\n",
      "12\n"
     ]
    }
   ],
   "source": [
    "# practice problem 3.7\n",
    "# a) ints 3 up to and including 12\n",
    "for i in range(3, 13):\n",
    "    print(i)"
   ]
  },
  {
   "cell_type": "code",
   "execution_count": 41,
   "id": "8386cd5f",
   "metadata": {},
   "outputs": [
    {
     "name": "stdout",
     "output_type": "stream",
     "text": [
      "0\n",
      "2\n",
      "4\n",
      "6\n",
      "8\n"
     ]
    }
   ],
   "source": [
    "# b)\n",
    "for i in range(0, 9, 2):\n",
    "    print(i)"
   ]
  },
  {
   "cell_type": "code",
   "execution_count": 42,
   "id": "e9737607",
   "metadata": {},
   "outputs": [
    {
     "name": "stdout",
     "output_type": "stream",
     "text": [
      "0\n",
      "3\n",
      "6\n",
      "9\n",
      "12\n",
      "15\n",
      "18\n",
      "21\n"
     ]
    }
   ],
   "source": [
    "# c)\n",
    "for i in range(0, 24, 3):\n",
    "    print(i)"
   ]
  },
  {
   "cell_type": "code",
   "execution_count": 43,
   "id": "8129d531",
   "metadata": {},
   "outputs": [
    {
     "name": "stdout",
     "output_type": "stream",
     "text": [
      "3\n",
      "8\n"
     ]
    }
   ],
   "source": [
    "# d)\n",
    "for i in range(3, 12, 5):\n",
    "    print(i)"
   ]
  },
  {
   "cell_type": "code",
   "execution_count": 44,
   "id": "c94b7fbe",
   "metadata": {},
   "outputs": [
    {
     "name": "stdout",
     "output_type": "stream",
     "text": [
      "Enter a number: 23\n",
      "23\n",
      "47\n"
     ]
    }
   ],
   "source": [
    "# functions\n",
    "def f(x):\n",
    "    res = x*2 + 1\n",
    "    return(res)\n",
    "\n",
    "x = eval(input(\"Enter a number: \"))\n",
    "print(x)\n",
    "print(f(x))"
   ]
  },
  {
   "cell_type": "code",
   "execution_count": 48,
   "id": "e416ba07",
   "metadata": {},
   "outputs": [
    {
     "name": "stdout",
     "output_type": "stream",
     "text": [
      "6.283185307179586\n",
      "12.566370614359172\n"
     ]
    }
   ],
   "source": [
    "# circumference = 2* pi * r\n",
    "import math as m\n",
    "\n",
    "def perimeter(radius):\n",
    "    circumference = 2*m.pi*radius\n",
    "    return(circumference)\n",
    "\n",
    "\n",
    "print(perimeter(1))\n",
    "\n",
    "print(perimeter(2))"
   ]
  },
  {
   "cell_type": "code",
   "execution_count": 55,
   "id": "a7645e04",
   "metadata": {},
   "outputs": [
    {
     "data": {
      "text/plain": [
       "'ll'"
      ]
     },
     "execution_count": 55,
     "metadata": {},
     "output_type": "execute_result"
    }
   ],
   "source": [
    "s='hello'\n",
    "#s[0]\n",
    "#s[0:2]\n",
    "#s[-3:]\n",
    "s[-3:-1]"
   ]
  },
  {
   "cell_type": "code",
   "execution_count": 58,
   "id": "50cca8f0",
   "metadata": {},
   "outputs": [],
   "source": [
    "infile=open('example.txt', 'r+')"
   ]
  },
  {
   "cell_type": "code",
   "execution_count": null,
   "id": "c7e07217",
   "metadata": {},
   "outputs": [],
   "source": [
    "infile.read(5)"
   ]
  }
 ],
 "metadata": {
  "kernelspec": {
   "display_name": "Python 3",
   "language": "python",
   "name": "python3"
  },
  "language_info": {
   "codemirror_mode": {
    "name": "ipython",
    "version": 3
   },
   "file_extension": ".py",
   "mimetype": "text/x-python",
   "name": "python",
   "nbconvert_exporter": "python",
   "pygments_lexer": "ipython3",
   "version": "3.8.8"
  }
 },
 "nbformat": 4,
 "nbformat_minor": 5
}

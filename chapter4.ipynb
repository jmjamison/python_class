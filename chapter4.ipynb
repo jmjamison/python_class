{
 "cells": [
  {
   "cell_type": "code",
   "execution_count": 45,
   "id": "4fd7a27c",
   "metadata": {},
   "outputs": [],
   "source": [
    "file1 = open('file1.txt', 'r')"
   ]
  },
  {
   "cell_type": "code",
   "execution_count": 40,
   "id": "372dcdab",
   "metadata": {},
   "outputs": [
    {
     "data": {
      "text/plain": [
       "'This '"
      ]
     },
     "execution_count": 40,
     "metadata": {},
     "output_type": "execute_result"
    }
   ],
   "source": [
    "file1.read(5)"
   ]
  },
  {
   "cell_type": "code",
   "execution_count": 50,
   "id": "633856ec",
   "metadata": {},
   "outputs": [
    {
     "data": {
      "text/plain": [
       "'file1.txt'"
      ]
     },
     "execution_count": 50,
     "metadata": {},
     "output_type": "execute_result"
    }
   ],
   "source": [
    "file1.name"
   ]
  },
  {
   "cell_type": "code",
   "execution_count": 41,
   "id": "cb4f7391",
   "metadata": {},
   "outputs": [],
   "source": [
    "a = file1.read(5)"
   ]
  },
  {
   "cell_type": "code",
   "execution_count": 42,
   "id": "c5ba3fb6",
   "metadata": {},
   "outputs": [
    {
     "data": {
      "text/plain": [
       "5"
      ]
     },
     "execution_count": 42,
     "metadata": {},
     "output_type": "execute_result"
    }
   ],
   "source": [
    "len(a)"
   ]
  },
  {
   "cell_type": "code",
   "execution_count": 43,
   "id": "ae32eaa6",
   "metadata": {},
   "outputs": [
    {
     "name": "stdout",
     "output_type": "stream",
     "text": [
      "is a \n"
     ]
    }
   ],
   "source": [
    "print(a)"
   ]
  },
  {
   "cell_type": "code",
   "execution_count": 44,
   "id": "0e0ad842",
   "metadata": {},
   "outputs": [],
   "source": [
    "b = file1.readline()"
   ]
  },
  {
   "cell_type": "code",
   "execution_count": 47,
   "id": "7f14bdee",
   "metadata": {},
   "outputs": [
    {
     "data": {
      "text/plain": [
       "6"
      ]
     },
     "execution_count": 47,
     "metadata": {},
     "output_type": "execute_result"
    }
   ],
   "source": [
    "len(b)"
   ]
  },
  {
   "cell_type": "code",
   "execution_count": 48,
   "id": "a972b857",
   "metadata": {},
   "outputs": [
    {
     "name": "stdout",
     "output_type": "stream",
     "text": [
      "line.\n",
      "\n"
     ]
    }
   ],
   "source": [
    "print(b)"
   ]
  },
  {
   "cell_type": "code",
   "execution_count": 49,
   "id": "fdb71aab",
   "metadata": {},
   "outputs": [],
   "source": [
    "c = file1.readlines()"
   ]
  },
  {
   "cell_type": "code",
   "execution_count": 10,
   "id": "8bc506bf",
   "metadata": {},
   "outputs": [
    {
     "name": "stdout",
     "output_type": "stream",
     "text": [
      "['This is a new line.\\n', \"This is another new line. Let's continue this line.\\n\", \"I'm done. Bye bye.\"]\n"
     ]
    }
   ],
   "source": [
    "print(c)"
   ]
  },
  {
   "cell_type": "code",
   "execution_count": 11,
   "id": "56545eb1",
   "metadata": {},
   "outputs": [
    {
     "data": {
      "text/plain": [
       "3"
      ]
     },
     "execution_count": 11,
     "metadata": {},
     "output_type": "execute_result"
    }
   ],
   "source": [
    "len(c)"
   ]
  },
  {
   "cell_type": "code",
   "execution_count": 19,
   "id": "739b4f8f",
   "metadata": {},
   "outputs": [],
   "source": [
    "file1 = open('file1.txt', 'r')\n"
   ]
  },
  {
   "cell_type": "code",
   "execution_count": 20,
   "id": "195c008c",
   "metadata": {},
   "outputs": [
    {
     "data": {
      "text/plain": [
       "'This '"
      ]
     },
     "execution_count": 20,
     "metadata": {},
     "output_type": "execute_result"
    }
   ],
   "source": [
    "file1.read(5)"
   ]
  },
  {
   "cell_type": "code",
   "execution_count": 21,
   "id": "2934dced",
   "metadata": {},
   "outputs": [
    {
     "name": "stdout",
     "output_type": "stream",
     "text": [
      "is a \n"
     ]
    }
   ],
   "source": [
    "a = file1.read(5)\n",
    "print(a)"
   ]
  },
  {
   "cell_type": "code",
   "execution_count": 22,
   "id": "a25309a6",
   "metadata": {},
   "outputs": [
    {
     "name": "stdout",
     "output_type": "stream",
     "text": [
      "line.\n",
      "\n"
     ]
    }
   ],
   "source": [
    "b = file1.readline()\n",
    "print(b)"
   ]
  },
  {
   "cell_type": "code",
   "execution_count": 23,
   "id": "6da14ce2",
   "metadata": {},
   "outputs": [
    {
     "name": "stdout",
     "output_type": "stream",
     "text": [
      "13\n"
     ]
    }
   ],
   "source": [
    "def sqSum(x,y):\n",
    "    'returns the sum of squares'\n",
    "    print(x**2 + y**2)\n",
    "\n",
    "z = sqSum(2,3)"
   ]
  },
  {
   "cell_type": "code",
   "execution_count": 32,
   "id": "2042c879",
   "metadata": {},
   "outputs": [
    {
     "name": "stdout",
     "output_type": "stream",
     "text": [
      "Please enter your age: -3\n"
     ]
    }
   ],
   "source": [
    "try:\n",
    "    userinput = eval(input('Please enter your age: '))\n",
    "except:\n",
    "    print('Invalid input!')"
   ]
  },
  {
   "cell_type": "code",
   "execution_count": null,
   "id": "40bee6f8",
   "metadata": {},
   "outputs": [],
   "source": []
  },
  {
   "cell_type": "code",
   "execution_count": 2,
   "id": "6b480292",
   "metadata": {},
   "outputs": [
    {
     "name": "stdout",
     "output_type": "stream",
     "text": [
      "zero -- one -- two\n"
     ]
    }
   ],
   "source": [
    "newtext = '{0} -- {1} -- {2}'.format('zero', 'one', 'two')\n",
    "print(newtext)"
   ]
  },
  {
   "cell_type": "code",
   "execution_count": 4,
   "id": "817428e5",
   "metadata": {},
   "outputs": [
    {
     "data": {
      "text/plain": [
       "'Joe  ---Bruin  '"
      ]
     },
     "execution_count": 4,
     "metadata": {},
     "output_type": "execute_result"
    }
   ],
   "source": [
    "'{0:5}---{1:7}'.format('Joe', 'Bruin')"
   ]
  },
  {
   "cell_type": "code",
   "execution_count": 5,
   "id": "1bea74f7",
   "metadata": {},
   "outputs": [
    {
     "data": {
      "text/plain": [
       "'left             center            right'"
      ]
     },
     "execution_count": 5,
     "metadata": {},
     "output_type": "execute_result"
    }
   ],
   "source": [
    "'{1:<15}{0:^10}{2:>15}'.format('center', 'left', 'right')"
   ]
  },
  {
   "cell_type": "code",
   "execution_count": 6,
   "id": "a5b9e6dd",
   "metadata": {},
   "outputs": [
    {
     "data": {
      "text/plain": [
       "'example--------'"
      ]
     },
     "execution_count": 6,
     "metadata": {},
     "output_type": "execute_result"
    }
   ],
   "source": [
    "'{:-<15}'.format('example')"
   ]
  },
  {
   "cell_type": "code",
   "execution_count": 7,
   "id": "a829b8d6",
   "metadata": {},
   "outputs": [
    {
     "data": {
      "text/plain": [
       "'<<<<<<test'"
      ]
     },
     "execution_count": 7,
     "metadata": {},
     "output_type": "execute_result"
    }
   ],
   "source": [
    "'{:<>10}'.format('test')"
   ]
  },
  {
   "cell_type": "code",
   "execution_count": 35,
   "id": "5147bfb9",
   "metadata": {},
   "outputs": [],
   "source": [
    "a='{2:-<8}--{3:->6}-{1:-<6}'.format('ace', 'jack', 'queen','king')"
   ]
  },
  {
   "cell_type": "code",
   "execution_count": 36,
   "id": "0d03189e",
   "metadata": {},
   "outputs": [
    {
     "name": "stdout",
     "output_type": "stream",
     "text": [
      "queen-------king-jack--\n"
     ]
    }
   ],
   "source": [
    "print(a)"
   ]
  },
  {
   "cell_type": "code",
   "execution_count": 37,
   "id": "c8fdadb9",
   "metadata": {},
   "outputs": [],
   "source": [
    "b='{0:->6}'.format('king')"
   ]
  },
  {
   "cell_type": "code",
   "execution_count": 38,
   "id": "3d43a7ea",
   "metadata": {},
   "outputs": [
    {
     "name": "stdout",
     "output_type": "stream",
     "text": [
      "--king\n"
     ]
    }
   ],
   "source": [
    "print(b)"
   ]
  },
  {
   "cell_type": "code",
   "execution_count": null,
   "id": "83ee5082",
   "metadata": {},
   "outputs": [],
   "source": []
  }
 ],
 "metadata": {
  "kernelspec": {
   "display_name": "Python 3",
   "language": "python",
   "name": "python3"
  },
  "language_info": {
   "codemirror_mode": {
    "name": "ipython",
    "version": 3
   },
   "file_extension": ".py",
   "mimetype": "text/x-python",
   "name": "python",
   "nbconvert_exporter": "python",
   "pygments_lexer": "ipython3",
   "version": "3.8.8"
  }
 },
 "nbformat": 4,
 "nbformat_minor": 5
}

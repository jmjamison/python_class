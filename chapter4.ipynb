{
 "cells": [
  {
   "cell_type": "code",
   "execution_count": 45,
   "id": "4fd7a27c",
   "metadata": {},
   "outputs": [],
   "source": [
    "file1 = open('file1.txt', 'r')"
   ]
  },
  {
   "cell_type": "code",
   "execution_count": 40,
   "id": "372dcdab",
   "metadata": {},
   "outputs": [
    {
     "data": {
      "text/plain": [
       "'This '"
      ]
     },
     "execution_count": 40,
     "metadata": {},
     "output_type": "execute_result"
    }
   ],
   "source": [
    "file1.read(5)"
   ]
  },
  {
   "cell_type": "code",
   "execution_count": 50,
   "id": "633856ec",
   "metadata": {},
   "outputs": [
    {
     "data": {
      "text/plain": [
       "'file1.txt'"
      ]
     },
     "execution_count": 50,
     "metadata": {},
     "output_type": "execute_result"
    }
   ],
   "source": [
    "file1.name"
   ]
  },
  {
   "cell_type": "code",
   "execution_count": 41,
   "id": "cb4f7391",
   "metadata": {},
   "outputs": [],
   "source": [
    "a = file1.read(5)"
   ]
  },
  {
   "cell_type": "code",
   "execution_count": 42,
   "id": "c5ba3fb6",
   "metadata": {},
   "outputs": [
    {
     "data": {
      "text/plain": [
       "5"
      ]
     },
     "execution_count": 42,
     "metadata": {},
     "output_type": "execute_result"
    }
   ],
   "source": [
    "len(a)"
   ]
  },
  {
   "cell_type": "code",
   "execution_count": 43,
   "id": "ae32eaa6",
   "metadata": {},
   "outputs": [
    {
     "name": "stdout",
     "output_type": "stream",
     "text": [
      "is a \n"
     ]
    }
   ],
   "source": [
    "print(a)"
   ]
  },
  {
   "cell_type": "code",
   "execution_count": 44,
   "id": "0e0ad842",
   "metadata": {},
   "outputs": [],
   "source": [
    "b = file1.readline()"
   ]
  },
  {
   "cell_type": "code",
   "execution_count": 47,
   "id": "7f14bdee",
   "metadata": {},
   "outputs": [
    {
     "data": {
      "text/plain": [
       "6"
      ]
     },
     "execution_count": 47,
     "metadata": {},
     "output_type": "execute_result"
    }
   ],
   "source": [
    "len(b)"
   ]
  },
  {
   "cell_type": "code",
   "execution_count": 48,
   "id": "a972b857",
   "metadata": {},
   "outputs": [
    {
     "name": "stdout",
     "output_type": "stream",
     "text": [
      "line.\n",
      "\n"
     ]
    }
   ],
   "source": [
    "print(b)"
   ]
  },
  {
   "cell_type": "code",
   "execution_count": 49,
   "id": "fdb71aab",
   "metadata": {},
   "outputs": [],
   "source": [
    "c = file1.readlines()"
   ]
  },
  {
   "cell_type": "code",
   "execution_count": 10,
   "id": "8bc506bf",
   "metadata": {},
   "outputs": [
    {
     "name": "stdout",
     "output_type": "stream",
     "text": [
      "['This is a new line.\\n', \"This is another new line. Let's continue this line.\\n\", \"I'm done. Bye bye.\"]\n"
     ]
    }
   ],
   "source": [
    "print(c)"
   ]
  },
  {
   "cell_type": "code",
   "execution_count": 11,
   "id": "56545eb1",
   "metadata": {},
   "outputs": [
    {
     "data": {
      "text/plain": [
       "3"
      ]
     },
     "execution_count": 11,
     "metadata": {},
     "output_type": "execute_result"
    }
   ],
   "source": [
    "len(c)"
   ]
  },
  {
   "cell_type": "code",
   "execution_count": 19,
   "id": "739b4f8f",
   "metadata": {},
   "outputs": [],
   "source": [
    "file1 = open('file1.txt', 'r')\n"
   ]
  },
  {
   "cell_type": "code",
   "execution_count": 20,
   "id": "195c008c",
   "metadata": {},
   "outputs": [
    {
     "data": {
      "text/plain": [
       "'This '"
      ]
     },
     "execution_count": 20,
     "metadata": {},
     "output_type": "execute_result"
    }
   ],
   "source": [
    "file1.read(5)"
   ]
  },
  {
   "cell_type": "code",
   "execution_count": 21,
   "id": "2934dced",
   "metadata": {},
   "outputs": [
    {
     "name": "stdout",
     "output_type": "stream",
     "text": [
      "is a \n"
     ]
    }
   ],
   "source": [
    "a = file1.read(5)\n",
    "print(a)"
   ]
  },
  {
   "cell_type": "code",
   "execution_count": 22,
   "id": "a25309a6",
   "metadata": {},
   "outputs": [
    {
     "name": "stdout",
     "output_type": "stream",
     "text": [
      "line.\n",
      "\n"
     ]
    }
   ],
   "source": [
    "b = file1.readline()\n",
    "print(b)"
   ]
  },
  {
   "cell_type": "code",
   "execution_count": 23,
   "id": "6da14ce2",
   "metadata": {},
   "outputs": [
    {
     "name": "stdout",
     "output_type": "stream",
     "text": [
      "13\n"
     ]
    }
   ],
   "source": [
    "def sqSum(x,y):\n",
    "    'returns the sum of squares'\n",
    "    print(x**2 + y**2)\n",
    "\n",
    "z = sqSum(2,3)"
   ]
  },
  {
   "cell_type": "code",
   "execution_count": 32,
   "id": "2042c879",
   "metadata": {},
   "outputs": [
    {
     "name": "stdout",
     "output_type": "stream",
     "text": [
      "Please enter your age: -3\n"
     ]
    }
   ],
   "source": [
    "try:\n",
    "    userinput = eval(input('Please enter your age: '))\n",
    "except:\n",
    "    print('Invalid input!')"
   ]
  },
  {
   "cell_type": "code",
   "execution_count": null,
   "id": "40bee6f8",
   "metadata": {},
   "outputs": [],
   "source": []
  },
  {
   "cell_type": "code",
   "execution_count": 2,
   "id": "6b480292",
   "metadata": {},
   "outputs": [
    {
     "name": "stdout",
     "output_type": "stream",
     "text": [
      "zero -- one -- two\n"
     ]
    }
   ],
   "source": [
    "newtext = '{0} -- {1} -- {2}'.format('zero', 'one', 'two')\n",
    "print(newtext)"
   ]
  },
  {
   "cell_type": "code",
   "execution_count": 4,
   "id": "817428e5",
   "metadata": {},
   "outputs": [
    {
     "data": {
      "text/plain": [
       "'Joe  ---Bruin  '"
      ]
     },
     "execution_count": 4,
     "metadata": {},
     "output_type": "execute_result"
    }
   ],
   "source": [
    "'{0:5}---{1:7}'.format('Joe', 'Bruin')"
   ]
  },
  {
   "cell_type": "code",
   "execution_count": 5,
   "id": "1bea74f7",
   "metadata": {},
   "outputs": [
    {
     "data": {
      "text/plain": [
       "'left             center            right'"
      ]
     },
     "execution_count": 5,
     "metadata": {},
     "output_type": "execute_result"
    }
   ],
   "source": [
    "'{1:<15}{0:^10}{2:>15}'.format('center', 'left', 'right')"
   ]
  },
  {
   "cell_type": "code",
   "execution_count": 6,
   "id": "a5b9e6dd",
   "metadata": {},
   "outputs": [
    {
     "data": {
      "text/plain": [
       "'example--------'"
      ]
     },
     "execution_count": 6,
     "metadata": {},
     "output_type": "execute_result"
    }
   ],
   "source": [
    "'{:-<15}'.format('example')"
   ]
  },
  {
   "cell_type": "code",
   "execution_count": 7,
   "id": "a829b8d6",
   "metadata": {},
   "outputs": [
    {
     "data": {
      "text/plain": [
       "'<<<<<<test'"
      ]
     },
     "execution_count": 7,
     "metadata": {},
     "output_type": "execute_result"
    }
   ],
   "source": [
    "'{:<>10}'.format('test')"
   ]
  },
  {
   "cell_type": "code",
   "execution_count": 35,
   "id": "5147bfb9",
   "metadata": {},
   "outputs": [],
   "source": [
    "a='{2:-<8}--{3:->6}-{1:-<6}'.format('ace', 'jack', 'queen','king')"
   ]
  },
  {
   "cell_type": "code",
   "execution_count": 36,
   "id": "0d03189e",
   "metadata": {},
   "outputs": [
    {
     "name": "stdout",
     "output_type": "stream",
     "text": [
      "queen-------king-jack--\n"
     ]
    }
   ],
   "source": [
    "print(a)"
   ]
  },
  {
   "cell_type": "code",
   "execution_count": 37,
   "id": "c8fdadb9",
   "metadata": {},
   "outputs": [],
   "source": [
    "b='{0:->6}'.format('king')"
   ]
  },
  {
   "cell_type": "code",
   "execution_count": 38,
   "id": "3d43a7ea",
   "metadata": {},
   "outputs": [
    {
     "name": "stdout",
     "output_type": "stream",
     "text": [
      "--king\n"
     ]
    }
   ],
   "source": [
    "print(b)"
   ]
  },
  {
   "cell_type": "code",
   "execution_count": 25,
   "id": "83ee5082",
   "metadata": {},
   "outputs": [],
   "source": [
    "'''\n",
    "Given a day of the week encoded as 0=Sun, 1=Mon, 2=Tue, ...6=Sat, \n",
    "and a boolean indicating if we are on vacation, return a string of the form \"7:00\" \n",
    "indicating when the alarm clock should ring. Weekdays, the alarm should be \"7:00\" and \n",
    "on the weekend it should be \"10:00\". Unless we are on vacation -- then on weekdays \n",
    "it should be \"10:00\" and weekends it should be \"off\".\n",
    "\n",
    "alarm_clock(1, False) → '7:00'\n",
    "alarm_clock(5, False) → '7:00'\n",
    "alarm_clock(0, False) → '10:00'\n",
    "\n",
    "dayoftheweek == \"0\" or dayoftheweek == \"6\" or dayoftheweek == \"7\":\n",
    "\n",
    "'''\n",
    "def alarm_clock(x, y):\n",
    "    dayoftheweek = str(x)\n",
    "    vacation = y\n",
    "    if dayoftheweek == \"1\" or dayoftheweek == \"2\" or dayoftheweek == \"3\" or dayoftheweek == \"4\" or dayoftheweek == \"5\":\n",
    "        if vacation == False:\n",
    "            alarm = \"7:00\"\n",
    "            return(alarm)\n",
    "        elif vacation == True:\n",
    "            alarm = \"10:00\"\n",
    "            return(alarm)\n",
    "    elif dayoftheweek == \"0\" or dayoftheweek == \"6\" or dayoftheweek == \"7\":\n",
    "        if vacation == False:\n",
    "            alarm = \"10:00\"\n",
    "            return(alarm)\n",
    "        elif vacation == True:\n",
    "            alarm = \"off\"\n",
    "            return(alarm)"
   ]
  },
  {
   "cell_type": "code",
   "execution_count": 26,
   "id": "d5fa6c5f",
   "metadata": {},
   "outputs": [
    {
     "data": {
      "text/plain": [
       "'7:00'"
      ]
     },
     "execution_count": 26,
     "metadata": {},
     "output_type": "execute_result"
    }
   ],
   "source": [
    "alarm_clock(1, False)"
   ]
  },
  {
   "cell_type": "code",
   "execution_count": 24,
   "id": "c8a272e2",
   "metadata": {},
   "outputs": [],
   "source": [
    "def alarm_clock(vacation, day):\n",
    "    vacation = vacation\n",
    "    dayoftheweek = day\n",
    "    if vacation == False:\n",
    "        if dayoftheweek == \"1\" or dayoftheweek == \"2\" or dayoftheweek == \"3\" or dayoftheweek == \"4\" or dayoftheweek == \"5\":\n",
    "            alarm = \"7:00\"\n",
    "            print(alarm)\n",
    "            return(alarm)\n",
    "        elif dayoftheweek == \"0\" or dayoftheweek == \"6\" or dayoftheweek == \"7\":\n",
    "            alarm = \"10:00\"\n",
    "            return(alarm)\n",
    "    elif vacation == \"True\":\n",
    "        if dayoftheweek == \"1\" or dayoftheweek == \"2\" or dayoftheweek == \"3\" or dayoftheweek == \"4\" or dayoftheweek == \"5\":\n",
    "            alarm = \"10:00\"\n",
    "            return(alarm)\n",
    "        elif dayoftheweek == \"0\" or dayoftheweek == \"6\" or dayoftheweek == \"7\":\n",
    "            alarm = \"off\"            \n",
    "            return(alarm)    "
   ]
  },
  {
   "cell_type": "code",
   "execution_count": 17,
   "id": "2742ee7c",
   "metadata": {},
   "outputs": [],
   "source": [
    "'''\n",
    "Given a string of even length, return the first half. So the string \"WooHoo\" yields \"Woo\".\n",
    "\n",
    "\n",
    "first_half('WooHoo') → 'Woo'\n",
    "first_half('HelloThere') → 'Hello'\n",
    "first_half('abcdef') → 'abc\n",
    "\n",
    "string[start: end: step]\n",
    "\n",
    "'''\n",
    "def first_half(str):\n",
    "    str_len = int(len(str))\n",
    "    first_half = str[0:int(str_len/2)]\n",
    "    return first_half\n",
    "    "
   ]
  },
  {
   "cell_type": "code",
   "execution_count": 37,
   "id": "ff7ae6ad",
   "metadata": {},
   "outputs": [
    {
     "name": "stdout",
     "output_type": "stream",
     "text": [
      "6\n",
      "abc\n"
     ]
    }
   ],
   "source": [
    "str = \"abcdef\"\n",
    "str_len = int(len(str))\n",
    "first_half = str[0:int(str_len/2)]"
   ]
  },
  {
   "cell_type": "code",
   "execution_count": 55,
   "id": "2587d6af",
   "metadata": {},
   "outputs": [
    {
     "ename": "SyntaxError",
     "evalue": "invalid syntax (<ipython-input-55-81b5883e9126>, line 27)",
     "output_type": "error",
     "traceback": [
      "\u001b[1;36m  File \u001b[1;32m\"<ipython-input-55-81b5883e9126>\"\u001b[1;36m, line \u001b[1;32m27\u001b[0m\n\u001b[1;33m    elif birthday == False:\u001b[0m\n\u001b[1;37m    ^\u001b[0m\n\u001b[1;31mSyntaxError\u001b[0m\u001b[1;31m:\u001b[0m invalid syntax\n"
     ]
    }
   ],
   "source": [
    "'''\n",
    "\n",
    "You are driving a little too fast, \n",
    "and a police officer stops you. Write code to compute \n",
    "the result, encoded as an int value: \n",
    "    0=no ticket, 1=small ticket, 2=big ticket. If speed is 60 or less, the result is 0. \n",
    "    If speed is between 61 and 80 inclusive, the result is 1. \n",
    "    If speed is 81 or more, the result is 2. \n",
    "    Unless it is your birthday -- on that day, your speed can be 5 higher in all cases.\n",
    "\n",
    "\n",
    "caught_speeding(60, False) → 0\n",
    "caught_speeding(65, False) → 1\n",
    "caught_speeding(65, True) → 0\n",
    "'''\n",
    "def caught_speeding(speed, is_birthday):\n",
    "    x_speed = speed\n",
    "    print(x_speed)\n",
    "    birthday = is_birthday\n",
    "    print(birthday)\n",
    "    \n",
    "      x_speed = speed\n",
    "    birthday = is_birthday\n",
    "    \n",
    "    if x_speed >= 61 and x_speed <= 81:   \n",
    "        if birthday == True and (x_speed+5) <= 81: \n",
    "            return 1\n",
    "        elif birthday == False and x_speed <=81:\n",
    "            return 1\n",
    "        elif birthday == True and (x_speed+5) >= 81:\n",
    "            return 2\n",
    "            \n",
    "    elif x_speed > 81:\n",
    "        return 2\n",
    "    \n",
    "    elif x_speed <= 60:\n",
    "        return 0\n",
    "\n",
    "    "
   ]
  },
  {
   "cell_type": "code",
   "execution_count": 56,
   "id": "79d1ca41",
   "metadata": {},
   "outputs": [
    {
     "name": "stdout",
     "output_type": "stream",
     "text": [
      "85\n",
      "True\n"
     ]
    },
    {
     "data": {
      "text/plain": [
       "2"
      ]
     },
     "execution_count": 56,
     "metadata": {},
     "output_type": "execute_result"
    }
   ],
   "source": [
    "caught_speeding(85, True)"
   ]
  },
  {
   "cell_type": "code",
   "execution_count": null,
   "id": "a1214d9e",
   "metadata": {},
   "outputs": [],
   "source": [
    "def caught_speeding(speed, is_birthday):\n",
    "    x_speed = speed\n",
    "    birthday = is_birthday\n",
    "    \n",
    "    if birthday == True:   \n",
    "        if speed+5 <= 81:\n",
    "            return 1\n",
    "        elif speed+5 > 81:\n",
    "            return 2\n",
    "        elif speed < 60\n",
    "            return 0\n",
    "    elif birthday == False:\n",
    "        if x_speed <=81:\n",
    "            return 1\n",
    "        elif speed > 81:\n",
    "            return 2\n",
    "        "
   ]
  },
  {
   "cell_type": "code",
   "execution_count": null,
   "id": "b04a4cc3",
   "metadata": {},
   "outputs": [],
   "source": [
    "def caught_speeding(speed, is_birthday):\n",
    "    x_speed = speed\n",
    "    birthday = is_birthday\n",
    "    \n",
    "    if x_speed >= 61 and x_speed <= 81:   # add 5 on birthday\n",
    "        if birthday == True and x_speed <= 81+5: \n",
    "            return 1\n",
    "        elif birthday == False and x_speed <=81+5:\n",
    "            return 1\n",
    "        elif birthday == True and (x_speed+5) >= 81+5:\n",
    "            return 2\n",
    "            \n",
    "    elif x_speed > 81:\n",
    "        return 2\n",
    "    \n",
    "    elif x_speed <= 60:\n",
    "        return 0"
   ]
  },
  {
   "cell_type": "code",
   "execution_count": null,
   "id": "0d4eed86",
   "metadata": {},
   "outputs": [],
   "source": []
  }
 ],
 "metadata": {
  "kernelspec": {
   "display_name": "Python 3",
   "language": "python",
   "name": "python3"
  },
  "language_info": {
   "codemirror_mode": {
    "name": "ipython",
    "version": 3
   },
   "file_extension": ".py",
   "mimetype": "text/x-python",
   "name": "python",
   "nbconvert_exporter": "python",
   "pygments_lexer": "ipython3",
   "version": "3.8.8"
  }
 },
 "nbformat": 4,
 "nbformat_minor": 5
}
